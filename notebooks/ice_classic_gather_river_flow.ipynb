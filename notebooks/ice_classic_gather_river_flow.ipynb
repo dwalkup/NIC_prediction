{
 "cells": [
  {
   "cell_type": "markdown",
   "metadata": {},
   "source": [
    "# Nenana Ice Classic Data Gathering - River Flow\n",
    "This notebook was used for gathering the river flow data used for this project.\n",
    "## Data Source\n",
    "* USGS Water Services website (https://waterservices.usgs.gov/)."
   ]
  },
  {
   "cell_type": "code",
   "execution_count": 1,
   "metadata": {},
   "outputs": [],
   "source": [
    "# imports\n",
    "import numpy as np\n",
    "import pandas as pd\n",
    "import requests\n",
    "import json\n",
    "import datetime as dt\n",
    "from bs4 import BeautifulSoup\n",
    "from selenium import webdriver\n",
    "from selenium.webdriver.chrome.options import Options\n",
    "import gc"
   ]
  },
  {
   "cell_type": "markdown",
   "metadata": {},
   "source": [
    "## Getting info from USGS Water Services website"
   ]
  },
  {
   "cell_type": "markdown",
   "metadata": {},
   "source": [
    "USGS water resources data; Tanana River at Nenana; discharge, cubic ft/sec\n",
    "https://waterdata.usgs.gov/nwis/dvstat/?referred_module=sw&amp;site_no=15515500&amp;por_15515500_1106=624121,00060,1106,1962-05-01,2019-10-12&amp;start_dt=1989-01-01&amp;end_dt=1989-12-31&amp;stat_cds=p50_va&amp;format=rdb&amp;date_format=YYYY-MM-DD&amp;rdb_compression=value&amp;submitted_form=parameter_selection_list"
   ]
  },
  {
   "cell_type": "markdown",
   "metadata": {},
   "source": [
    "https://waterservices.usgs.gov/nwis/dv/?site=15515500&startDT=1989-03-01&endDT=1989-03-31&format=json&parameterCd=00060"
   ]
  },
  {
   "cell_type": "code",
   "execution_count": 2,
   "metadata": {},
   "outputs": [],
   "source": [
    "# date formats: YYYY-MM-DD; this cell is example format for the url\n",
    "# url_string = f'http://waterservices.usgs.gov/nwis/dv/?site=15515500&startDT={start_date}&endDT={end_date}&format=json&parameterCd=00060'"
   ]
  },
  {
   "cell_type": "markdown",
   "metadata": {},
   "source": [
    "### DataFrame Creation\n",
    "Create a DataFrame to hold the results of all the web queries."
   ]
  },
  {
   "cell_type": "code",
   "execution_count": 3,
   "metadata": {},
   "outputs": [],
   "source": [
    "df = pd.DataFrame(data = None, columns = ['value', 'qualifiers', 'dateTime'])"
   ]
  },
  {
   "cell_type": "markdown",
   "metadata": {},
   "source": [
    "### Initialize Variables"
   ]
  },
  {
   "cell_type": "markdown",
   "metadata": {},
   "source": [
    "Create a list of years data will be retrieved for."
   ]
  },
  {
   "cell_type": "code",
   "execution_count": 2,
   "metadata": {},
   "outputs": [
    {
     "data": {
      "text/plain": [
       "['1989',\n",
       " '1990',\n",
       " '1991',\n",
       " '1992',\n",
       " '1993',\n",
       " '1994',\n",
       " '1995',\n",
       " '1996',\n",
       " '1997',\n",
       " '1998',\n",
       " '1999',\n",
       " '2000',\n",
       " '2001',\n",
       " '2002',\n",
       " '2003',\n",
       " '2004',\n",
       " '2005',\n",
       " '2006',\n",
       " '2007',\n",
       " '2008',\n",
       " '2009',\n",
       " '2010',\n",
       " '2011',\n",
       " '2012',\n",
       " '2013',\n",
       " '2014',\n",
       " '2015',\n",
       " '2016',\n",
       " '2017',\n",
       " '2018',\n",
       " '2019']"
      ]
     },
     "execution_count": 2,
     "metadata": {},
     "output_type": "execute_result"
    }
   ],
   "source": [
    "retrieval_years = [str(x) for x in range(1989, 2020)]\n",
    "retrieval_years"
   ]
  },
  {
   "cell_type": "markdown",
   "metadata": {},
   "source": [
    "Create a list of tuples for the monthly start and end dates. I chose to ignore leap years for this data because I felt that one day every four years will not significantly impact any trends in this data."
   ]
  },
  {
   "cell_type": "code",
   "execution_count": 3,
   "metadata": {},
   "outputs": [],
   "source": [
    "retrieval_dates = [('01-01', '01-31'), ('02-01', '02-28'), ('03-01', '03-31'), ('04-01', '04-30'), ('05-01', '05-31')]"
   ]
  },
  {
   "cell_type": "markdown",
   "metadata": {},
   "source": [
    "Create a list of URLs to be scraped."
   ]
  },
  {
   "cell_type": "code",
   "execution_count": 6,
   "metadata": {},
   "outputs": [],
   "source": [
    "url_list = []\n",
    "for i in range(len(retrieval_years)):\n",
    "    year = retrieval_years[i]\n",
    "    for j in retrieval_dates:\n",
    "        start = j[0]\n",
    "        end = j[1]\n",
    "        start_date = year + '-' + start\n",
    "        end_date = year + '-' + end\n",
    "        new_url = f'http://waterservices.usgs.gov/nwis/dv/?site=15515500&startDT={start_date}&endDT={end_date}&format=json&parameterCd=00060'\n",
    "        url_list.append(new_url)"
   ]
  },
  {
   "cell_type": "markdown",
   "metadata": {},
   "source": [
    "Set up Selenium options."
   ]
  },
  {
   "cell_type": "code",
   "execution_count": 4,
   "metadata": {},
   "outputs": [],
   "source": [
    "chrome_path = '/Users/davidwalkup/Downloads/chromedriver-2'\n",
    "options = Options()"
   ]
  },
  {
   "cell_type": "markdown",
   "metadata": {},
   "source": [
    "Perform test call and examine returned data."
   ]
  },
  {
   "cell_type": "code",
   "execution_count": 18,
   "metadata": {},
   "outputs": [
    {
     "name": "stdout",
     "output_type": "stream",
     "text": [
      "<html>\n",
      " <head>\n",
      " </head>\n",
      " <body>\n",
      "  <pre style=\"word-wrap: break-word; white-space: pre-wrap;\">{\"name\":\"ns1:timeSeriesResponseType\",\"declaredType\":\"org.cuahsi.waterml.TimeSeriesResponseType\",\"scope\":\"javax.xml.bind.JAXBElement$GlobalScope\",\"value\":{\"queryInfo\":{\"queryURL\":\"http://waterservices.usgs.gov/nwis/dv/site=15515500&amp;startDT=1989-01-01&amp;endDT=1989-01-31&amp;format=json&amp;parameterCd=00060\",\"criteria\":{\"locationParam\":\"[ALL:15515500]\",\"variableParam\":\"[00060]\",\"timeParam\":{\"beginDateTime\":\"1989-01-01T00:00:00.000\",\"endDateTime\":\"1989-01-31T00:00:00.000\"},\"parameter\":[]},\"note\":[{\"value\":\"[ALL:15515500]\",\"title\":\"filter:sites\"},{\"value\":\"[mode=RANGE, modifiedSince=null] interval={INTERVAL[1989-01-01T00:00:00.000-05:00/1989-01-31T00:00:00.000-05:00]}\",\"title\":\"filter:timeRange\"},{\"value\":\"methodIds=[ALL]\",\"title\":\"filter:methodId\"},{\"value\":\"2020-03-22T16:23:00.278Z\",\"title\":\"requestDT\"},{\"value\":\"65b96740-6c59-11ea-95a2-6cae8b6642f6\",\"title\":\"requestId\"},{\"value\":\"Provisional data are subject to revision. Go to http://waterdata.usgs.gov/nwis/help/?provisional for more information.\",\"title\":\"disclaimer\"},{\"value\":\"caas01\",\"title\":\"server\"}]},\"timeSeries\":[{\"sourceInfo\":{\"siteName\":\"TANANA R AT NENANA AK\",\"siteCode\":[{\"value\":\"15515500\",\"network\":\"NWIS\",\"agencyCode\":\"USGS\"}],\"timeZoneInfo\":{\"defaultTimeZone\":{\"zoneOffset\":\"-09:00\",\"zoneAbbreviation\":\"AKST\"},\"daylightSavingsTimeZone\":{\"zoneOffset\":\"-08:00\",\"zoneAbbreviation\":\"AKDT\"},\"siteUsesDaylightSavingsTime\":true},\"geoLocation\":{\"geogLocation\":{\"srs\":\"EPSG:4326\",\"latitude\":64.5649444,\"longitude\":-149.094},\"localSiteXY\":[]},\"note\":[],\"siteType\":[],\"siteProperty\":[{\"value\":\"ST\",\"name\":\"siteTypeCd\"},{\"value\":\"19080307\",\"name\":\"hucCd\"},{\"value\":\"02\",\"name\":\"stateCd\"},{\"value\":\"02290\",\"name\":\"countyCd\"}]},\"variable\":{\"variableCode\":[{\"value\":\"00060\",\"network\":\"NWIS\",\"vocabulary\":\"NWIS:UnitValues\",\"variableID\":45807197,\"default\":true}],\"variableName\":\"Streamflow, ft&amp;#179;/s\",\"variableDescription\":\"Discharge, cubic feet per second\",\"valueType\":\"Derived Value\",\"unit\":{\"unitCode\":\"ft3/s\"},\"options\":{\"option\":[{\"value\":\"Mean\",\"name\":\"Statistic\",\"optionCode\":\"00003\"}]},\"note\":[],\"noDataValue\":-999999.0,\"variableProperty\":[],\"oid\":\"45807197\"},\"values\":[{\"value\":[{\"value\":\"7600\",\"qualifiers\":[\"A\"],\"dateTime\":\"1989-01-01T00:00:00.000\"},{\"value\":\"7600\",\"qualifiers\":[\"A\"],\"dateTime\":\"1989-01-02T00:00:00.000\"},{\"value\":\"7600\",\"qualifiers\":[\"A\"],\"dateTime\":\"1989-01-03T00:00:00.000\"},{\"value\":\"7600\",\"qualifiers\":[\"A\"],\"dateTime\":\"1989-01-04T00:00:00.000\"},{\"value\":\"7600\",\"qualifiers\":[\"A\"],\"dateTime\":\"1989-01-05T00:00:00.000\"},{\"value\":\"7600\",\"qualifiers\":[\"A\"],\"dateTime\":\"1989-01-06T00:00:00.000\"},{\"value\":\"7600\",\"qualifiers\":[\"A\"],\"dateTime\":\"1989-01-07T00:00:00.000\"},{\"value\":\"7600\",\"qualifiers\":[\"A\"],\"dateTime\":\"1989-01-08T00:00:00.000\"},{\"value\":\"7600\",\"qualifiers\":[\"A\"],\"dateTime\":\"1989-01-09T00:00:00.000\"},{\"value\":\"7600\",\"qualifiers\":[\"A\"],\"dateTime\":\"1989-01-10T00:00:00.000\"},{\"value\":\"7600\",\"qualifiers\":[\"A\"],\"dateTime\":\"1989-01-11T00:00:00.000\"},{\"value\":\"7600\",\"qualifiers\":[\"A\"],\"dateTime\":\"1989-01-12T00:00:00.000\"},{\"value\":\"7600\",\"qualifiers\":[\"A\"],\"dateTime\":\"1989-01-13T00:00:00.000\"},{\"value\":\"7600\",\"qualifiers\":[\"A\"],\"dateTime\":\"1989-01-14T00:00:00.000\"},{\"value\":\"7600\",\"qualifiers\":[\"A\"],\"dateTime\":\"1989-01-15T00:00:00.000\"},{\"value\":\"7600\",\"qualifiers\":[\"A\"],\"dateTime\":\"1989-01-16T00:00:00.000\"},{\"value\":\"7600\",\"qualifiers\":[\"A\"],\"dateTime\":\"1989-01-17T00:00:00.000\"},{\"value\":\"7600\",\"qualifiers\":[\"A\"],\"dateTime\":\"1989-01-18T00:00:00.000\"},{\"value\":\"7600\",\"qualifiers\":[\"A\"],\"dateTime\":\"1989-01-19T00:00:00.000\"},{\"value\":\"7000\",\"qualifiers\":[\"A\"],\"dateTime\":\"1989-01-20T00:00:00.000\"},{\"value\":\"7000\",\"qualifiers\":[\"A\"],\"dateTime\":\"1989-01-21T00:00:00.000\"},{\"value\":\"7000\",\"qualifiers\":[\"A\"],\"dateTime\":\"1989-01-22T00:00:00.000\"},{\"value\":\"7000\",\"qualifiers\":[\"A\"],\"dateTime\":\"1989-01-23T00:00:00.000\"},{\"value\":\"7000\",\"qualifiers\":[\"A\"],\"dateTime\":\"1989-01-24T00:00:00.000\"},{\"value\":\"7000\",\"qualifiers\":[\"A\"],\"dateTime\":\"1989-01-25T00:00:00.000\"},{\"value\":\"7000\",\"qualifiers\":[\"A\"],\"dateTime\":\"1989-01-26T00:00:00.000\"},{\"value\":\"6600\",\"qualifiers\":[\"A\"],\"dateTime\":\"1989-01-27T00:00:00.000\"},{\"value\":\"6600\",\"qualifiers\":[\"A\"],\"dateTime\":\"1989-01-28T00:00:00.000\"},{\"value\":\"6600\",\"qualifiers\":[\"A\"],\"dateTime\":\"1989-01-29T00:00:00.000\"},{\"value\":\"6600\",\"qualifiers\":[\"A\"],\"dateTime\":\"1989-01-30T00:00:00.000\"},{\"value\":\"6600\",\"qualifiers\":[\"A\"],\"dateTime\":\"1989-01-31T00:00:00.000\"}],\"qualifier\":[{\"qualifierCode\":\"A\",\"qualifierDescription\":\"Approved for publication -- Processing and review completed.\",\"qualifierID\":0,\"network\":\"NWIS\",\"vocabulary\":\"uv_rmk_cd\"}],\"qualityControlLevel\":[],\"method\":[{\"methodDescription\":\"\",\"methodID\":1106}],\"source\":[],\"offset\":[],\"sample\":[],\"censorCode\":[]}],\"name\":\"USGS:15515500:00060:00003\"}]},\"nil\":false,\"globalScope\":true,\"typeSubstituted\":false}</pre>\n",
      " </body>\n",
      "</html>\n"
     ]
    }
   ],
   "source": [
    "target_url = url_list[0]\n",
    "driver = webdriver.Chrome(chrome_path, \n",
    "                          options=options)\n",
    "driver.set_window_size(1400,1000)\n",
    "driver.get(target_url)\n",
    "page_source = driver.page_source\n",
    "soup = BeautifulSoup(page_source)\n",
    "print(soup.prettify())"
   ]
  },
  {
   "cell_type": "code",
   "execution_count": 19,
   "metadata": {},
   "outputs": [],
   "source": [
    "driver.quit()"
   ]
  },
  {
   "cell_type": "markdown",
   "metadata": {},
   "source": [
    "Parse out where the data I need is located in the returned JSON."
   ]
  },
  {
   "cell_type": "code",
   "execution_count": 20,
   "metadata": {},
   "outputs": [
    {
     "data": {
      "text/plain": [
       "[{'value': '7600', 'qualifiers': ['A'], 'dateTime': '1989-01-01T00:00:00.000'},\n",
       " {'value': '7600', 'qualifiers': ['A'], 'dateTime': '1989-01-02T00:00:00.000'},\n",
       " {'value': '7600', 'qualifiers': ['A'], 'dateTime': '1989-01-03T00:00:00.000'},\n",
       " {'value': '7600', 'qualifiers': ['A'], 'dateTime': '1989-01-04T00:00:00.000'},\n",
       " {'value': '7600', 'qualifiers': ['A'], 'dateTime': '1989-01-05T00:00:00.000'},\n",
       " {'value': '7600', 'qualifiers': ['A'], 'dateTime': '1989-01-06T00:00:00.000'},\n",
       " {'value': '7600', 'qualifiers': ['A'], 'dateTime': '1989-01-07T00:00:00.000'},\n",
       " {'value': '7600', 'qualifiers': ['A'], 'dateTime': '1989-01-08T00:00:00.000'},\n",
       " {'value': '7600', 'qualifiers': ['A'], 'dateTime': '1989-01-09T00:00:00.000'},\n",
       " {'value': '7600', 'qualifiers': ['A'], 'dateTime': '1989-01-10T00:00:00.000'},\n",
       " {'value': '7600', 'qualifiers': ['A'], 'dateTime': '1989-01-11T00:00:00.000'},\n",
       " {'value': '7600', 'qualifiers': ['A'], 'dateTime': '1989-01-12T00:00:00.000'},\n",
       " {'value': '7600', 'qualifiers': ['A'], 'dateTime': '1989-01-13T00:00:00.000'},\n",
       " {'value': '7600', 'qualifiers': ['A'], 'dateTime': '1989-01-14T00:00:00.000'},\n",
       " {'value': '7600', 'qualifiers': ['A'], 'dateTime': '1989-01-15T00:00:00.000'},\n",
       " {'value': '7600', 'qualifiers': ['A'], 'dateTime': '1989-01-16T00:00:00.000'},\n",
       " {'value': '7600', 'qualifiers': ['A'], 'dateTime': '1989-01-17T00:00:00.000'},\n",
       " {'value': '7600', 'qualifiers': ['A'], 'dateTime': '1989-01-18T00:00:00.000'},\n",
       " {'value': '7600', 'qualifiers': ['A'], 'dateTime': '1989-01-19T00:00:00.000'},\n",
       " {'value': '7000', 'qualifiers': ['A'], 'dateTime': '1989-01-20T00:00:00.000'},\n",
       " {'value': '7000', 'qualifiers': ['A'], 'dateTime': '1989-01-21T00:00:00.000'},\n",
       " {'value': '7000', 'qualifiers': ['A'], 'dateTime': '1989-01-22T00:00:00.000'},\n",
       " {'value': '7000', 'qualifiers': ['A'], 'dateTime': '1989-01-23T00:00:00.000'},\n",
       " {'value': '7000', 'qualifiers': ['A'], 'dateTime': '1989-01-24T00:00:00.000'},\n",
       " {'value': '7000', 'qualifiers': ['A'], 'dateTime': '1989-01-25T00:00:00.000'},\n",
       " {'value': '7000', 'qualifiers': ['A'], 'dateTime': '1989-01-26T00:00:00.000'},\n",
       " {'value': '6600', 'qualifiers': ['A'], 'dateTime': '1989-01-27T00:00:00.000'},\n",
       " {'value': '6600', 'qualifiers': ['A'], 'dateTime': '1989-01-28T00:00:00.000'},\n",
       " {'value': '6600', 'qualifiers': ['A'], 'dateTime': '1989-01-29T00:00:00.000'},\n",
       " {'value': '6600', 'qualifiers': ['A'], 'dateTime': '1989-01-30T00:00:00.000'},\n",
       " {'value': '6600', 'qualifiers': ['A'], 'dateTime': '1989-01-31T00:00:00.000'}]"
      ]
     },
     "execution_count": 20,
     "metadata": {},
     "output_type": "execute_result"
    }
   ],
   "source": [
    "data = json.loads(soup.body.text)['value']['timeSeries'][0]['values'][0]['value']\n",
    "data"
   ]
  },
  {
   "cell_type": "markdown",
   "metadata": {},
   "source": [
    "The data I need is in the form of a list of dicts. Loop through the list, making a temporary DataFrame from each dict, and append that to the main DataFrame. Once complete, convert value and dateTime fields to correct data types."
   ]
  },
  {
   "cell_type": "code",
   "execution_count": 11,
   "metadata": {},
   "outputs": [],
   "source": [
    "for entry in data:\n",
    "    temp_df = pd.DataFrame.from_dict(entry)\n",
    "    df = df.append(temp_df, ignore_index = True)\n",
    "df['value'] = pd.to_numeric(df['value'], downcast = 'integer')\n",
    "df['dateTime'] = pd.to_datetime(df['dateTime'], yearfirst = True, infer_datetime_format = True)"
   ]
  },
  {
   "cell_type": "code",
   "execution_count": 12,
   "metadata": {},
   "outputs": [
    {
     "name": "stdout",
     "output_type": "stream",
     "text": [
      "<class 'pandas.core.frame.DataFrame'>\n",
      "RangeIndex: 31 entries, 0 to 30\n",
      "Data columns (total 3 columns):\n",
      " #   Column      Non-Null Count  Dtype         \n",
      "---  ------      --------------  -----         \n",
      " 0   value       31 non-null     int16         \n",
      " 1   qualifiers  31 non-null     object        \n",
      " 2   dateTime    31 non-null     datetime64[ns]\n",
      "dtypes: datetime64[ns](1), int16(1), object(1)\n",
      "memory usage: 686.0+ bytes\n"
     ]
    }
   ],
   "source": [
    "df.info()"
   ]
  },
  {
   "cell_type": "code",
   "execution_count": 13,
   "metadata": {},
   "outputs": [
    {
     "data": {
      "text/html": [
       "<div>\n",
       "<style scoped>\n",
       "    .dataframe tbody tr th:only-of-type {\n",
       "        vertical-align: middle;\n",
       "    }\n",
       "\n",
       "    .dataframe tbody tr th {\n",
       "        vertical-align: top;\n",
       "    }\n",
       "\n",
       "    .dataframe thead th {\n",
       "        text-align: right;\n",
       "    }\n",
       "</style>\n",
       "<table border=\"1\" class=\"dataframe\">\n",
       "  <thead>\n",
       "    <tr style=\"text-align: right;\">\n",
       "      <th></th>\n",
       "      <th>value</th>\n",
       "      <th>qualifiers</th>\n",
       "      <th>dateTime</th>\n",
       "    </tr>\n",
       "  </thead>\n",
       "  <tbody>\n",
       "    <tr>\n",
       "      <th>0</th>\n",
       "      <td>7600</td>\n",
       "      <td>A</td>\n",
       "      <td>1989-01-01</td>\n",
       "    </tr>\n",
       "    <tr>\n",
       "      <th>1</th>\n",
       "      <td>7600</td>\n",
       "      <td>A</td>\n",
       "      <td>1989-01-02</td>\n",
       "    </tr>\n",
       "    <tr>\n",
       "      <th>2</th>\n",
       "      <td>7600</td>\n",
       "      <td>A</td>\n",
       "      <td>1989-01-03</td>\n",
       "    </tr>\n",
       "    <tr>\n",
       "      <th>3</th>\n",
       "      <td>7600</td>\n",
       "      <td>A</td>\n",
       "      <td>1989-01-04</td>\n",
       "    </tr>\n",
       "    <tr>\n",
       "      <th>4</th>\n",
       "      <td>7600</td>\n",
       "      <td>A</td>\n",
       "      <td>1989-01-05</td>\n",
       "    </tr>\n",
       "  </tbody>\n",
       "</table>\n",
       "</div>"
      ],
      "text/plain": [
       "   value qualifiers   dateTime\n",
       "0   7600          A 1989-01-01\n",
       "1   7600          A 1989-01-02\n",
       "2   7600          A 1989-01-03\n",
       "3   7600          A 1989-01-04\n",
       "4   7600          A 1989-01-05"
      ]
     },
     "execution_count": 13,
     "metadata": {},
     "output_type": "execute_result"
    }
   ],
   "source": [
    "df.head()"
   ]
  },
  {
   "cell_type": "markdown",
   "metadata": {},
   "source": [
    "Now that I've worked out how to get the information from the webpage and into a DataFrame, perform the actual data retrieval for all years needed."
   ]
  },
  {
   "cell_type": "code",
   "execution_count": 5,
   "metadata": {},
   "outputs": [],
   "source": [
    "df = pd.DataFrame(data = None, columns = ['value', 'qualifiers', 'dateTime'])\n",
    "target = f'http://waterservices.usgs.gov/nwis/dv/?site=15515500&startDT=1989-01-01&endDT=2019-05-31&format=json&parameterCd=00060'\n",
    "driver = webdriver.Chrome(chrome_path, \n",
    "                          options=options)\n",
    "driver.set_window_size(1400,1000)\n",
    "driver.get(target)\n",
    "page_source = driver.page_source\n",
    "soup = BeautifulSoup(page_source)\n",
    "data = json.loads(soup.body.text)['value']['timeSeries'][0]['values'][0]['value']\n",
    "for entry in data:\n",
    "    temp_df = pd.DataFrame.from_dict(entry)\n",
    "    df = df.append(temp_df, ignore_index = True)\n",
    "driver.quit()\n",
    "df['value'] = pd.to_numeric(df['value'], downcast = 'integer')\n",
    "df['dateTime'] = pd.to_datetime(df['dateTime'], yearfirst = True, infer_datetime_format = True)"
   ]
  },
  {
   "cell_type": "code",
   "execution_count": 6,
   "metadata": {},
   "outputs": [
    {
     "name": "stdout",
     "output_type": "stream",
     "text": [
      "<class 'pandas.core.frame.DataFrame'>\n",
      "RangeIndex: 17276 entries, 0 to 17275\n",
      "Data columns (total 3 columns):\n",
      " #   Column      Non-Null Count  Dtype         \n",
      "---  ------      --------------  -----         \n",
      " 0   value       17276 non-null  int32         \n",
      " 1   qualifiers  17276 non-null  object        \n",
      " 2   dateTime    17276 non-null  datetime64[ns]\n",
      "dtypes: datetime64[ns](1), int32(1), object(1)\n",
      "memory usage: 337.5+ KB\n"
     ]
    }
   ],
   "source": [
    "df.info()"
   ]
  },
  {
   "cell_type": "code",
   "execution_count": 7,
   "metadata": {},
   "outputs": [
    {
     "data": {
      "text/html": [
       "<div>\n",
       "<style scoped>\n",
       "    .dataframe tbody tr th:only-of-type {\n",
       "        vertical-align: middle;\n",
       "    }\n",
       "\n",
       "    .dataframe tbody tr th {\n",
       "        vertical-align: top;\n",
       "    }\n",
       "\n",
       "    .dataframe thead th {\n",
       "        text-align: right;\n",
       "    }\n",
       "</style>\n",
       "<table border=\"1\" class=\"dataframe\">\n",
       "  <thead>\n",
       "    <tr style=\"text-align: right;\">\n",
       "      <th></th>\n",
       "      <th>value</th>\n",
       "      <th>qualifiers</th>\n",
       "      <th>dateTime</th>\n",
       "    </tr>\n",
       "  </thead>\n",
       "  <tbody>\n",
       "    <tr>\n",
       "      <th>13737</th>\n",
       "      <td>7000</td>\n",
       "      <td>A</td>\n",
       "      <td>2013-02-21</td>\n",
       "    </tr>\n",
       "    <tr>\n",
       "      <th>10020</th>\n",
       "      <td>52400</td>\n",
       "      <td>A</td>\n",
       "      <td>2006-08-27</td>\n",
       "    </tr>\n",
       "    <tr>\n",
       "      <th>9769</th>\n",
       "      <td>7200</td>\n",
       "      <td>A</td>\n",
       "      <td>2006-03-03</td>\n",
       "    </tr>\n",
       "    <tr>\n",
       "      <th>2401</th>\n",
       "      <td>9400</td>\n",
       "      <td>A</td>\n",
       "      <td>1993-04-15</td>\n",
       "    </tr>\n",
       "    <tr>\n",
       "      <th>13489</th>\n",
       "      <td>17000</td>\n",
       "      <td>A</td>\n",
       "      <td>2012-10-20</td>\n",
       "    </tr>\n",
       "    <tr>\n",
       "      <th>11583</th>\n",
       "      <td>6800</td>\n",
       "      <td>A</td>\n",
       "      <td>2009-04-19</td>\n",
       "    </tr>\n",
       "    <tr>\n",
       "      <th>12705</th>\n",
       "      <td>7100</td>\n",
       "      <td>A</td>\n",
       "      <td>2011-04-14</td>\n",
       "    </tr>\n",
       "    <tr>\n",
       "      <th>15309</th>\n",
       "      <td>8400</td>\n",
       "      <td>A</td>\n",
       "      <td>2015-12-27</td>\n",
       "    </tr>\n",
       "    <tr>\n",
       "      <th>12506</th>\n",
       "      <td>7300</td>\n",
       "      <td>e</td>\n",
       "      <td>2011-01-04</td>\n",
       "    </tr>\n",
       "    <tr>\n",
       "      <th>6767</th>\n",
       "      <td>8200</td>\n",
       "      <td>e</td>\n",
       "      <td>2000-12-13</td>\n",
       "    </tr>\n",
       "  </tbody>\n",
       "</table>\n",
       "</div>"
      ],
      "text/plain": [
       "       value qualifiers   dateTime\n",
       "13737   7000          A 2013-02-21\n",
       "10020  52400          A 2006-08-27\n",
       "9769    7200          A 2006-03-03\n",
       "2401    9400          A 1993-04-15\n",
       "13489  17000          A 2012-10-20\n",
       "11583   6800          A 2009-04-19\n",
       "12705   7100          A 2011-04-14\n",
       "15309   8400          A 2015-12-27\n",
       "12506   7300          e 2011-01-04\n",
       "6767    8200          e 2000-12-13"
      ]
     },
     "execution_count": 7,
     "metadata": {},
     "output_type": "execute_result"
    }
   ],
   "source": [
    "df.sample(10)"
   ]
  },
  {
   "cell_type": "markdown",
   "metadata": {},
   "source": [
    "Originally, I looped through the URLs in the url_list to get river flow data per month, but that resulted in \"connection refused\" errors from the USGS website. In order to get the data from the USGS, I ended up doing one large query, starting with Jan 1, 1989 and ending at May 31, 2019.\n",
    "\n",
    "As a result, I needed to remove all the data for each year outside the window of Jan 1 - May 31."
   ]
  },
  {
   "cell_type": "code",
   "execution_count": 8,
   "metadata": {},
   "outputs": [
    {
     "data": {
      "text/html": [
       "<div>\n",
       "<style scoped>\n",
       "    .dataframe tbody tr th:only-of-type {\n",
       "        vertical-align: middle;\n",
       "    }\n",
       "\n",
       "    .dataframe tbody tr th {\n",
       "        vertical-align: top;\n",
       "    }\n",
       "\n",
       "    .dataframe thead th {\n",
       "        text-align: right;\n",
       "    }\n",
       "</style>\n",
       "<table border=\"1\" class=\"dataframe\">\n",
       "  <thead>\n",
       "    <tr style=\"text-align: right;\">\n",
       "      <th></th>\n",
       "      <th>value</th>\n",
       "      <th>qualifiers</th>\n",
       "      <th>dateTime</th>\n",
       "    </tr>\n",
       "  </thead>\n",
       "  <tbody>\n",
       "    <tr>\n",
       "      <th>0</th>\n",
       "      <td>7600</td>\n",
       "      <td>A</td>\n",
       "      <td>1989-01-01</td>\n",
       "    </tr>\n",
       "    <tr>\n",
       "      <th>1</th>\n",
       "      <td>7600</td>\n",
       "      <td>A</td>\n",
       "      <td>1989-01-02</td>\n",
       "    </tr>\n",
       "    <tr>\n",
       "      <th>2</th>\n",
       "      <td>7600</td>\n",
       "      <td>A</td>\n",
       "      <td>1989-01-03</td>\n",
       "    </tr>\n",
       "    <tr>\n",
       "      <th>3</th>\n",
       "      <td>7600</td>\n",
       "      <td>A</td>\n",
       "      <td>1989-01-04</td>\n",
       "    </tr>\n",
       "    <tr>\n",
       "      <th>4</th>\n",
       "      <td>7600</td>\n",
       "      <td>A</td>\n",
       "      <td>1989-01-05</td>\n",
       "    </tr>\n",
       "    <tr>\n",
       "      <th>17271</th>\n",
       "      <td>28200</td>\n",
       "      <td>A</td>\n",
       "      <td>2019-05-27</td>\n",
       "    </tr>\n",
       "    <tr>\n",
       "      <th>17272</th>\n",
       "      <td>30100</td>\n",
       "      <td>A</td>\n",
       "      <td>2019-05-28</td>\n",
       "    </tr>\n",
       "    <tr>\n",
       "      <th>17273</th>\n",
       "      <td>30100</td>\n",
       "      <td>A</td>\n",
       "      <td>2019-05-29</td>\n",
       "    </tr>\n",
       "    <tr>\n",
       "      <th>17274</th>\n",
       "      <td>29200</td>\n",
       "      <td>A</td>\n",
       "      <td>2019-05-30</td>\n",
       "    </tr>\n",
       "    <tr>\n",
       "      <th>17275</th>\n",
       "      <td>28400</td>\n",
       "      <td>A</td>\n",
       "      <td>2019-05-31</td>\n",
       "    </tr>\n",
       "  </tbody>\n",
       "</table>\n",
       "</div>"
      ],
      "text/plain": [
       "       value qualifiers   dateTime\n",
       "0       7600          A 1989-01-01\n",
       "1       7600          A 1989-01-02\n",
       "2       7600          A 1989-01-03\n",
       "3       7600          A 1989-01-04\n",
       "4       7600          A 1989-01-05\n",
       "17271  28200          A 2019-05-27\n",
       "17272  30100          A 2019-05-28\n",
       "17273  30100          A 2019-05-29\n",
       "17274  29200          A 2019-05-30\n",
       "17275  28400          A 2019-05-31"
      ]
     },
     "execution_count": 8,
     "metadata": {},
     "output_type": "execute_result"
    }
   ],
   "source": [
    "df.head().append(df.tail())"
   ]
  },
  {
   "cell_type": "code",
   "execution_count": 9,
   "metadata": {},
   "outputs": [
    {
     "data": {
      "text/plain": [
       "0        1\n",
       "1        1\n",
       "2        1\n",
       "3        1\n",
       "4        1\n",
       "        ..\n",
       "17271    5\n",
       "17272    5\n",
       "17273    5\n",
       "17274    5\n",
       "17275    5\n",
       "Name: dateTime, Length: 17276, dtype: int64"
      ]
     },
     "execution_count": 9,
     "metadata": {},
     "output_type": "execute_result"
    }
   ],
   "source": [
    "df['dateTime'].dt.month"
   ]
  },
  {
   "cell_type": "code",
   "execution_count": 10,
   "metadata": {},
   "outputs": [
    {
     "data": {
      "text/plain": [
       "[151, 152, 153, 154, 155]"
      ]
     },
     "execution_count": 10,
     "metadata": {},
     "output_type": "execute_result"
    }
   ],
   "source": [
    "drop_list = [idx for idx in df.index if df['dateTime'].dt.month.loc[idx] > 5]\n",
    "drop_list[:5]"
   ]
  },
  {
   "cell_type": "code",
   "execution_count": 11,
   "metadata": {},
   "outputs": [],
   "source": [
    "df.drop(index = drop_list, inplace = True)"
   ]
  },
  {
   "cell_type": "code",
   "execution_count": 12,
   "metadata": {},
   "outputs": [
    {
     "data": {
      "text/html": [
       "<div>\n",
       "<style scoped>\n",
       "    .dataframe tbody tr th:only-of-type {\n",
       "        vertical-align: middle;\n",
       "    }\n",
       "\n",
       "    .dataframe tbody tr th {\n",
       "        vertical-align: top;\n",
       "    }\n",
       "\n",
       "    .dataframe thead th {\n",
       "        text-align: right;\n",
       "    }\n",
       "</style>\n",
       "<table border=\"1\" class=\"dataframe\">\n",
       "  <thead>\n",
       "    <tr style=\"text-align: right;\">\n",
       "      <th></th>\n",
       "      <th>value</th>\n",
       "      <th>qualifiers</th>\n",
       "      <th>dateTime</th>\n",
       "    </tr>\n",
       "  </thead>\n",
       "  <tbody>\n",
       "    <tr>\n",
       "      <th>7988</th>\n",
       "      <td>7800</td>\n",
       "      <td>e</td>\n",
       "      <td>2003-01-21</td>\n",
       "    </tr>\n",
       "    <tr>\n",
       "      <th>9660</th>\n",
       "      <td>7800</td>\n",
       "      <td>e</td>\n",
       "      <td>2006-01-07</td>\n",
       "    </tr>\n",
       "    <tr>\n",
       "      <th>14916</th>\n",
       "      <td>7400</td>\n",
       "      <td>A</td>\n",
       "      <td>2015-03-15</td>\n",
       "    </tr>\n",
       "    <tr>\n",
       "      <th>4545</th>\n",
       "      <td>6000</td>\n",
       "      <td>e</td>\n",
       "      <td>1997-01-23</td>\n",
       "    </tr>\n",
       "    <tr>\n",
       "      <th>6850</th>\n",
       "      <td>7700</td>\n",
       "      <td>A</td>\n",
       "      <td>2001-01-24</td>\n",
       "    </tr>\n",
       "    <tr>\n",
       "      <th>9171</th>\n",
       "      <td>6000</td>\n",
       "      <td>A</td>\n",
       "      <td>2005-02-19</td>\n",
       "    </tr>\n",
       "    <tr>\n",
       "      <th>7008</th>\n",
       "      <td>7800</td>\n",
       "      <td>A</td>\n",
       "      <td>2001-04-13</td>\n",
       "    </tr>\n",
       "    <tr>\n",
       "      <th>652</th>\n",
       "      <td>9300</td>\n",
       "      <td>A</td>\n",
       "      <td>1990-04-20</td>\n",
       "    </tr>\n",
       "    <tr>\n",
       "      <th>14437</th>\n",
       "      <td>28500</td>\n",
       "      <td>e</td>\n",
       "      <td>2014-04-26</td>\n",
       "    </tr>\n",
       "    <tr>\n",
       "      <th>5827</th>\n",
       "      <td>5600</td>\n",
       "      <td>e</td>\n",
       "      <td>1999-03-26</td>\n",
       "    </tr>\n",
       "  </tbody>\n",
       "</table>\n",
       "</div>"
      ],
      "text/plain": [
       "       value qualifiers   dateTime\n",
       "7988    7800          e 2003-01-21\n",
       "9660    7800          e 2006-01-07\n",
       "14916   7400          A 2015-03-15\n",
       "4545    6000          e 1997-01-23\n",
       "6850    7700          A 2001-01-24\n",
       "9171    6000          A 2005-02-19\n",
       "7008    7800          A 2001-04-13\n",
       "652     9300          A 1990-04-20\n",
       "14437  28500          e 2014-04-26\n",
       "5827    5600          e 1999-03-26"
      ]
     },
     "execution_count": 12,
     "metadata": {},
     "output_type": "execute_result"
    }
   ],
   "source": [
    "df.sample(10)"
   ]
  },
  {
   "cell_type": "code",
   "execution_count": 13,
   "metadata": {},
   "outputs": [
    {
     "data": {
      "text/plain": [
       "(8476, 3)"
      ]
     },
     "execution_count": 13,
     "metadata": {},
     "output_type": "execute_result"
    }
   ],
   "source": [
    "df.shape"
   ]
  },
  {
   "cell_type": "code",
   "execution_count": 14,
   "metadata": {},
   "outputs": [],
   "source": [
    "df.drop_duplicates(subset = 'dateTime', inplace = True)"
   ]
  },
  {
   "cell_type": "code",
   "execution_count": 15,
   "metadata": {},
   "outputs": [
    {
     "data": {
      "text/plain": [
       "(4688, 3)"
      ]
     },
     "execution_count": 15,
     "metadata": {},
     "output_type": "execute_result"
    }
   ],
   "source": [
    "df.shape"
   ]
  },
  {
   "cell_type": "markdown",
   "metadata": {},
   "source": [
    "### Save Data To File"
   ]
  },
  {
   "cell_type": "code",
   "execution_count": 16,
   "metadata": {},
   "outputs": [],
   "source": [
    "df.to_csv('../data/river_flow_data.csv', index_label = 'dateTime')"
   ]
  },
  {
   "cell_type": "code",
   "execution_count": null,
   "metadata": {},
   "outputs": [],
   "source": []
  }
 ],
 "metadata": {
  "kernelspec": {
   "display_name": "Python 3",
   "language": "python",
   "name": "python3"
  },
  "language_info": {
   "codemirror_mode": {
    "name": "ipython",
    "version": 3
   },
   "file_extension": ".py",
   "mimetype": "text/x-python",
   "name": "python",
   "nbconvert_exporter": "python",
   "pygments_lexer": "ipython3",
   "version": "3.6.9"
  }
 },
 "nbformat": 4,
 "nbformat_minor": 4
}
