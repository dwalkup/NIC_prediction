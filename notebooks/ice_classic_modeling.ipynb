{
 "cells": [
  {
   "cell_type": "markdown",
   "metadata": {},
   "source": [
    "# Nenana Ice Classic Modeling\n",
    "This notebook was used for modeling the NIC data."
   ]
  },
  {
   "cell_type": "code",
   "execution_count": 1,
   "metadata": {},
   "outputs": [],
   "source": [
    "# imports\n",
    "\n",
    "import numpy as np\n",
    "import pandas as pd\n",
    "\n",
    "# plotting\n",
    "%matplotlib inline\n",
    "import matplotlib.pyplot as plt\n",
    "import seaborn as sns\n",
    "\n",
    "# import datetime\n",
    "\n",
    "import warnings\n",
    "warnings.filterwarnings(\"ignore\")\n",
    "import gc # garbage collection"
   ]
  },
  {
   "cell_type": "code",
   "execution_count": 2,
   "metadata": {},
   "outputs": [],
   "source": [
    "from sklearn.preprocessing import RobustScaler, QuantileTransformer, Normalizer\n",
    "from sklearn.preprocessing import PowerTransformer, KBinsDiscretizer, FunctionTransformer\n",
    "from sklearn.pipeline import Pipeline, make_pipeline\n",
    "from category_encoders import WOEEncoder, OrdinalEncoder #TargetEncoder\n",
    "from sklearn.linear_model import LogisticRegressionCV, LogisticRegression\n",
    "from sklearn.model_selection import cross_val_score, TimeSeriesSplit, cross_validate, cross_val_predict\n",
    "from sklearn.svm import SVC\n",
    "\n",
    "# metrics\n",
    "from sklearn import metrics # explained_variance_score, mean_absolute_error, mean_squared_error, r2_score\n",
    "#from sklearn.utils import check_arrays # converts list-like objects to array (if needed)"
   ]
  },
  {
   "cell_type": "code",
   "execution_count": 3,
   "metadata": {},
   "outputs": [],
   "source": [
    "def stringify(data):\n",
    "    data = pd.DataFrame(data)\n",
    "    for c in data.columns.tolist():\n",
    "        data[c] = data[c].astype(str)\n",
    "    return data"
   ]
  },
  {
   "cell_type": "code",
   "execution_count": 4,
   "metadata": {},
   "outputs": [],
   "source": [
    "# read data\n",
    "df = pd.read_csv('../data/cleaned_data.csv')"
   ]
  },
  {
   "cell_type": "code",
   "execution_count": 5,
   "metadata": {},
   "outputs": [
    {
     "data": {
      "text/html": [
       "<div>\n",
       "<style scoped>\n",
       "    .dataframe tbody tr th:only-of-type {\n",
       "        vertical-align: middle;\n",
       "    }\n",
       "\n",
       "    .dataframe tbody tr th {\n",
       "        vertical-align: top;\n",
       "    }\n",
       "\n",
       "    .dataframe thead th {\n",
       "        text-align: right;\n",
       "    }\n",
       "</style>\n",
       "<table border=\"1\" class=\"dataframe\">\n",
       "  <thead>\n",
       "    <tr style=\"text-align: right;\">\n",
       "      <th></th>\n",
       "      <th>Unnamed: 0</th>\n",
       "      <th>Date</th>\n",
       "      <th>readingTime</th>\n",
       "      <th>weatherSummary</th>\n",
       "      <th>icon</th>\n",
       "      <th>sunriseTime</th>\n",
       "      <th>sunsetTime</th>\n",
       "      <th>moonPhase</th>\n",
       "      <th>precipIntensity</th>\n",
       "      <th>precipIntensityMax</th>\n",
       "      <th>...</th>\n",
       "      <th>temperatureMaxTime</th>\n",
       "      <th>apparentTemperatureMin</th>\n",
       "      <th>apparentTemperatureMinTime</th>\n",
       "      <th>apparentTemperatureMax</th>\n",
       "      <th>apparentTemperatureMaxTime</th>\n",
       "      <th>precipType</th>\n",
       "      <th>precipAccumulation</th>\n",
       "      <th>winningTime</th>\n",
       "      <th>daylightHours</th>\n",
       "      <th>iceThickness</th>\n",
       "    </tr>\n",
       "  </thead>\n",
       "  <tbody>\n",
       "    <tr>\n",
       "      <th>0</th>\n",
       "      <td>0</td>\n",
       "      <td>2009-04-01</td>\n",
       "      <td>1238572800</td>\n",
       "      <td>Partly cloudy throughout the day.</td>\n",
       "      <td>partly-cloudy-day</td>\n",
       "      <td>1238598720</td>\n",
       "      <td>1238647800</td>\n",
       "      <td>0.24</td>\n",
       "      <td>0.0</td>\n",
       "      <td>0.0</td>\n",
       "      <td>...</td>\n",
       "      <td>1238623320</td>\n",
       "      <td>-0.27</td>\n",
       "      <td>1238579940</td>\n",
       "      <td>17.69</td>\n",
       "      <td>1238608560</td>\n",
       "      <td>none</td>\n",
       "      <td>0.0</td>\n",
       "      <td>0</td>\n",
       "      <td>0.568056</td>\n",
       "      <td>45.0</td>\n",
       "    </tr>\n",
       "    <tr>\n",
       "      <th>1</th>\n",
       "      <td>1</td>\n",
       "      <td>2009-04-02</td>\n",
       "      <td>1238659200</td>\n",
       "      <td>Partly cloudy throughout the day.</td>\n",
       "      <td>partly-cloudy-day</td>\n",
       "      <td>1238684940</td>\n",
       "      <td>1238734380</td>\n",
       "      <td>0.27</td>\n",
       "      <td>0.0</td>\n",
       "      <td>0.0</td>\n",
       "      <td>...</td>\n",
       "      <td>1238726100</td>\n",
       "      <td>-19.98</td>\n",
       "      <td>1238684760</td>\n",
       "      <td>20.02</td>\n",
       "      <td>1238735040</td>\n",
       "      <td>none</td>\n",
       "      <td>0.0</td>\n",
       "      <td>0</td>\n",
       "      <td>0.572222</td>\n",
       "      <td>45.0</td>\n",
       "    </tr>\n",
       "    <tr>\n",
       "      <th>2</th>\n",
       "      <td>2</td>\n",
       "      <td>2009-04-03</td>\n",
       "      <td>1238745600</td>\n",
       "      <td>Clear throughout the day.</td>\n",
       "      <td>clear-day</td>\n",
       "      <td>1238771100</td>\n",
       "      <td>1238820960</td>\n",
       "      <td>0.31</td>\n",
       "      <td>0.0</td>\n",
       "      <td>0.0</td>\n",
       "      <td>...</td>\n",
       "      <td>1238804700</td>\n",
       "      <td>-5.11</td>\n",
       "      <td>1238773740</td>\n",
       "      <td>29.20</td>\n",
       "      <td>1238798700</td>\n",
       "      <td>none</td>\n",
       "      <td>0.0</td>\n",
       "      <td>0</td>\n",
       "      <td>0.577083</td>\n",
       "      <td>45.0</td>\n",
       "    </tr>\n",
       "    <tr>\n",
       "      <th>3</th>\n",
       "      <td>3</td>\n",
       "      <td>2009-04-04</td>\n",
       "      <td>1238832000</td>\n",
       "      <td>Clear throughout the day.</td>\n",
       "      <td>clear-day</td>\n",
       "      <td>1238857260</td>\n",
       "      <td>1238907540</td>\n",
       "      <td>0.34</td>\n",
       "      <td>0.0</td>\n",
       "      <td>0.0</td>\n",
       "      <td>...</td>\n",
       "      <td>1238896800</td>\n",
       "      <td>-7.95</td>\n",
       "      <td>1238859660</td>\n",
       "      <td>20.35</td>\n",
       "      <td>1238896920</td>\n",
       "      <td>none</td>\n",
       "      <td>0.0</td>\n",
       "      <td>0</td>\n",
       "      <td>0.581944</td>\n",
       "      <td>45.0</td>\n",
       "    </tr>\n",
       "    <tr>\n",
       "      <th>4</th>\n",
       "      <td>4</td>\n",
       "      <td>2009-04-05</td>\n",
       "      <td>1238918400</td>\n",
       "      <td>Clear throughout the day.</td>\n",
       "      <td>clear-day</td>\n",
       "      <td>1238943480</td>\n",
       "      <td>1238994120</td>\n",
       "      <td>0.38</td>\n",
       "      <td>0.0</td>\n",
       "      <td>0.0</td>\n",
       "      <td>...</td>\n",
       "      <td>1238985180</td>\n",
       "      <td>-7.83</td>\n",
       "      <td>1238929200</td>\n",
       "      <td>28.09</td>\n",
       "      <td>1238989980</td>\n",
       "      <td>none</td>\n",
       "      <td>0.0</td>\n",
       "      <td>0</td>\n",
       "      <td>0.586111</td>\n",
       "      <td>45.0</td>\n",
       "    </tr>\n",
       "  </tbody>\n",
       "</table>\n",
       "<p>5 rows × 42 columns</p>\n",
       "</div>"
      ],
      "text/plain": [
       "   Unnamed: 0        Date  readingTime                     weatherSummary  \\\n",
       "0           0  2009-04-01   1238572800  Partly cloudy throughout the day.   \n",
       "1           1  2009-04-02   1238659200  Partly cloudy throughout the day.   \n",
       "2           2  2009-04-03   1238745600          Clear throughout the day.   \n",
       "3           3  2009-04-04   1238832000          Clear throughout the day.   \n",
       "4           4  2009-04-05   1238918400          Clear throughout the day.   \n",
       "\n",
       "                icon  sunriseTime  sunsetTime  moonPhase  precipIntensity  \\\n",
       "0  partly-cloudy-day   1238598720  1238647800       0.24              0.0   \n",
       "1  partly-cloudy-day   1238684940  1238734380       0.27              0.0   \n",
       "2          clear-day   1238771100  1238820960       0.31              0.0   \n",
       "3          clear-day   1238857260  1238907540       0.34              0.0   \n",
       "4          clear-day   1238943480  1238994120       0.38              0.0   \n",
       "\n",
       "   precipIntensityMax  ...  temperatureMaxTime  apparentTemperatureMin  \\\n",
       "0                 0.0  ...          1238623320                   -0.27   \n",
       "1                 0.0  ...          1238726100                  -19.98   \n",
       "2                 0.0  ...          1238804700                   -5.11   \n",
       "3                 0.0  ...          1238896800                   -7.95   \n",
       "4                 0.0  ...          1238985180                   -7.83   \n",
       "\n",
       "   apparentTemperatureMinTime  apparentTemperatureMax  \\\n",
       "0                  1238579940                   17.69   \n",
       "1                  1238684760                   20.02   \n",
       "2                  1238773740                   29.20   \n",
       "3                  1238859660                   20.35   \n",
       "4                  1238929200                   28.09   \n",
       "\n",
       "   apparentTemperatureMaxTime  precipType  precipAccumulation  winningTime  \\\n",
       "0                  1238608560        none                 0.0            0   \n",
       "1                  1238735040        none                 0.0            0   \n",
       "2                  1238798700        none                 0.0            0   \n",
       "3                  1238896920        none                 0.0            0   \n",
       "4                  1238989980        none                 0.0            0   \n",
       "\n",
       "   daylightHours  iceThickness  \n",
       "0       0.568056          45.0  \n",
       "1       0.572222          45.0  \n",
       "2       0.577083          45.0  \n",
       "3       0.581944          45.0  \n",
       "4       0.586111          45.0  \n",
       "\n",
       "[5 rows x 42 columns]"
      ]
     },
     "execution_count": 5,
     "metadata": {},
     "output_type": "execute_result"
    }
   ],
   "source": [
    "df.head()"
   ]
  },
  {
   "cell_type": "code",
   "execution_count": 6,
   "metadata": {},
   "outputs": [],
   "source": [
    "df.drop(columns = 'Unnamed: 0', inplace = True)"
   ]
  },
  {
   "cell_type": "markdown",
   "metadata": {},
   "source": [
    "## Feature Engineering"
   ]
  },
  {
   "cell_type": "code",
   "execution_count": 7,
   "metadata": {},
   "outputs": [
    {
     "name": "stdout",
     "output_type": "stream",
     "text": [
      "<class 'pandas.core.frame.DataFrame'>\n",
      "RangeIndex: 669 entries, 0 to 668\n",
      "Data columns (total 41 columns):\n",
      " #   Column                       Non-Null Count  Dtype  \n",
      "---  ------                       --------------  -----  \n",
      " 0   Date                         669 non-null    object \n",
      " 1   readingTime                  669 non-null    int64  \n",
      " 2   weatherSummary               669 non-null    object \n",
      " 3   icon                         669 non-null    object \n",
      " 4   sunriseTime                  669 non-null    int64  \n",
      " 5   sunsetTime                   669 non-null    int64  \n",
      " 6   moonPhase                    669 non-null    float64\n",
      " 7   precipIntensity              669 non-null    float64\n",
      " 8   precipIntensityMax           669 non-null    float64\n",
      " 9   precipProbability            669 non-null    float64\n",
      " 10  temperatureHigh              669 non-null    float64\n",
      " 11  temperatureHighTime          669 non-null    int64  \n",
      " 12  temperatureLow               669 non-null    float64\n",
      " 13  temperatureLowTime           669 non-null    int64  \n",
      " 14  apparentTemperatureHigh      669 non-null    float64\n",
      " 15  apparentTemperatureHighTime  669 non-null    int64  \n",
      " 16  apparentTemperatureLow       669 non-null    float64\n",
      " 17  apparentTemperatureLowTime   669 non-null    int64  \n",
      " 18  dewPoint                     669 non-null    float64\n",
      " 19  humidity                     669 non-null    float64\n",
      " 20  atmoPressure                 669 non-null    float64\n",
      " 21  windSpeed                    669 non-null    float64\n",
      " 22  windGust                     669 non-null    float64\n",
      " 23  windBearing                  669 non-null    int64  \n",
      " 24  cloudCover                   669 non-null    float64\n",
      " 25  uvIndex                      669 non-null    float64\n",
      " 26  uvIndexTime                  669 non-null    float64\n",
      " 27  visibility                   669 non-null    float64\n",
      " 28  temperatureMin               669 non-null    float64\n",
      " 29  temperatureMinTime           669 non-null    int64  \n",
      " 30  temperatureMax               669 non-null    float64\n",
      " 31  temperatureMaxTime           669 non-null    int64  \n",
      " 32  apparentTemperatureMin       669 non-null    float64\n",
      " 33  apparentTemperatureMinTime   669 non-null    int64  \n",
      " 34  apparentTemperatureMax       669 non-null    float64\n",
      " 35  apparentTemperatureMaxTime   669 non-null    int64  \n",
      " 36  precipType                   669 non-null    object \n",
      " 37  precipAccumulation           669 non-null    float64\n",
      " 38  winningTime                  669 non-null    object \n",
      " 39  daylightHours                669 non-null    float64\n",
      " 40  iceThickness                 669 non-null    float64\n",
      "dtypes: float64(24), int64(12), object(5)\n",
      "memory usage: 214.4+ KB\n"
     ]
    }
   ],
   "source": [
    "df.info()"
   ]
  },
  {
   "cell_type": "code",
   "execution_count": 8,
   "metadata": {},
   "outputs": [],
   "source": [
    "df['Date'] = pd.to_datetime(df['Date'])"
   ]
  },
  {
   "cell_type": "code",
   "execution_count": 9,
   "metadata": {},
   "outputs": [],
   "source": [
    "df['winningTime'] = pd.to_datetime(df['winningTime'], errors = 'ignore')"
   ]
  },
  {
   "cell_type": "code",
   "execution_count": 10,
   "metadata": {},
   "outputs": [],
   "source": [
    "# create column for ordinal day of year\n",
    "df['dayOfYear'] = df['Date'].dt.dayofyear"
   ]
  },
  {
   "cell_type": "code",
   "execution_count": 11,
   "metadata": {},
   "outputs": [],
   "source": [
    "# create binary 'winningDate' column\n",
    "df['winningDate'] = 0\n",
    "idx = df.loc[df['winningTime'] != '0'].index\n",
    "df['winningDate'].loc[idx] = 1"
   ]
  },
  {
   "cell_type": "code",
   "execution_count": 12,
   "metadata": {},
   "outputs": [],
   "source": [
    "# df.plot(x = 'Date', y = 'iceThickness', kind = 'scatter', figsize = (10, 6))\n",
    "# df.plot(x = 'Date', y = 'temperatureMin', kind = 'scatter', figsize = (10, 6))\n",
    "# plt.show();"
   ]
  },
  {
   "cell_type": "markdown",
   "metadata": {},
   "source": [
    "Let's continue by dropping the columns that I don't think will help with this prediction task.\n",
    "\n",
    "Reasoning behind dropping these columns:\n",
    "* Most time features dropped were because they only captured a single, specific event (the time the daytime high temperature was recorded, for example) _thinking about this, I may go back and get hourly data; something like length of time that the temperature was high or low for a day might have an impact?_\n",
    "* \"apparentTemperature\" features were dropped because they're a representation of what conditions feel like, not what they actually are.\n",
    "* Sunrise and sunset times were dropped because that information was captured in 'daylightHours'\n",
    "* \"weatherSummary\" and \"icon\" features were dropped because they're text summaries of information captured by other features.\n",
    "* \"precipProbability\" was dropped because this is past data and the presence/amount of precipitation is known.\n",
    "* \"precipIntensityMax\" was dropped because the precipitation rate is already captured by \"precipIntensity\" and I don't think knowing the maximum precipitation rate adds anything.\n",
    "* \"visibility\" was dropped because atmospheric conditions are already captured by other features (\"cloudCover,\" \"uvIndex,\" \"precipIntensity\" to name some)\n",
    "* \"temperatureHigh\" and \"temperatureLow\" were dropped because the first is the daytime high and the second is the nighttime low; the 24 hour maximum and minimum are captured by \"temperatureMax\" and \"temperatureMin\" respectively"
   ]
  },
  {
   "cell_type": "code",
   "execution_count": 13,
   "metadata": {},
   "outputs": [],
   "source": [
    "df.drop(columns = ['readingTime', 'weatherSummary', 'icon', 'sunriseTime', 'sunsetTime', 'precipProbability',\n",
    "                   'apparentTemperatureHigh', 'apparentTemperatureHighTime', 'apparentTemperatureLow',\n",
    "                   'apparentTemperatureLowTime', 'uvIndexTime', 'apparentTemperatureMin',\n",
    "                   'apparentTemperatureMinTime', 'apparentTemperatureMax', 'apparentTemperatureMaxTime',\n",
    "                   'visibility', 'precipIntensityMax', 'dewPoint',\n",
    "                   'temperatureHigh', 'temperatureHighTime', 'temperatureLow', 'temperatureLowTime',\n",
    "                   'temperatureMinTime', 'temperatureMaxTime'],\n",
    "        inplace = True)"
   ]
  },
  {
   "cell_type": "markdown",
   "metadata": {},
   "source": [
    "---\n",
    "These features worked the best (so far) with logreg; drop all but these? experiment further first?\n",
    "\n",
    "used_cols = ['numColdDays', 'iceThickness', 'dayOfYear', 'uvIndex', 'precipIntensity', 'humidity']"
   ]
  },
  {
   "cell_type": "code",
   "execution_count": 14,
   "metadata": {},
   "outputs": [
    {
     "name": "stdout",
     "output_type": "stream",
     "text": [
      "<class 'pandas.core.frame.DataFrame'>\n",
      "RangeIndex: 669 entries, 0 to 668\n",
      "Data columns (total 19 columns):\n",
      " #   Column              Non-Null Count  Dtype         \n",
      "---  ------              --------------  -----         \n",
      " 0   Date                669 non-null    datetime64[ns]\n",
      " 1   moonPhase           669 non-null    float64       \n",
      " 2   precipIntensity     669 non-null    float64       \n",
      " 3   humidity            669 non-null    float64       \n",
      " 4   atmoPressure        669 non-null    float64       \n",
      " 5   windSpeed           669 non-null    float64       \n",
      " 6   windGust            669 non-null    float64       \n",
      " 7   windBearing         669 non-null    int64         \n",
      " 8   cloudCover          669 non-null    float64       \n",
      " 9   uvIndex             669 non-null    float64       \n",
      " 10  temperatureMin      669 non-null    float64       \n",
      " 11  temperatureMax      669 non-null    float64       \n",
      " 12  precipType          669 non-null    object        \n",
      " 13  precipAccumulation  669 non-null    float64       \n",
      " 14  winningTime         669 non-null    object        \n",
      " 15  daylightHours       669 non-null    float64       \n",
      " 16  iceThickness        669 non-null    float64       \n",
      " 17  dayOfYear           669 non-null    int64         \n",
      " 18  winningDate         669 non-null    int64         \n",
      "dtypes: datetime64[ns](1), float64(13), int64(3), object(2)\n",
      "memory usage: 99.4+ KB\n"
     ]
    }
   ],
   "source": [
    "df.info()"
   ]
  },
  {
   "cell_type": "code",
   "execution_count": 15,
   "metadata": {},
   "outputs": [],
   "source": [
    "df['past'] = (df['Date'] < '2017-01-01').astype(np.int)"
   ]
  },
  {
   "cell_type": "code",
   "execution_count": 16,
   "metadata": {},
   "outputs": [],
   "source": [
    "df['future'] = 1 - df['past']"
   ]
  },
  {
   "cell_type": "code",
   "execution_count": 17,
   "metadata": {},
   "outputs": [
    {
     "data": {
      "text/html": [
       "<div>\n",
       "<style scoped>\n",
       "    .dataframe tbody tr th:only-of-type {\n",
       "        vertical-align: middle;\n",
       "    }\n",
       "\n",
       "    .dataframe tbody tr th {\n",
       "        vertical-align: top;\n",
       "    }\n",
       "\n",
       "    .dataframe thead th {\n",
       "        text-align: right;\n",
       "    }\n",
       "</style>\n",
       "<table border=\"1\" class=\"dataframe\">\n",
       "  <thead>\n",
       "    <tr style=\"text-align: right;\">\n",
       "      <th></th>\n",
       "      <th>Date</th>\n",
       "      <th>moonPhase</th>\n",
       "      <th>precipIntensity</th>\n",
       "      <th>humidity</th>\n",
       "      <th>atmoPressure</th>\n",
       "      <th>windSpeed</th>\n",
       "      <th>windGust</th>\n",
       "      <th>windBearing</th>\n",
       "      <th>cloudCover</th>\n",
       "      <th>uvIndex</th>\n",
       "      <th>...</th>\n",
       "      <th>temperatureMax</th>\n",
       "      <th>precipType</th>\n",
       "      <th>precipAccumulation</th>\n",
       "      <th>winningTime</th>\n",
       "      <th>daylightHours</th>\n",
       "      <th>iceThickness</th>\n",
       "      <th>dayOfYear</th>\n",
       "      <th>winningDate</th>\n",
       "      <th>past</th>\n",
       "      <th>future</th>\n",
       "    </tr>\n",
       "  </thead>\n",
       "  <tbody>\n",
       "    <tr>\n",
       "      <th>0</th>\n",
       "      <td>2009-04-01</td>\n",
       "      <td>0.24</td>\n",
       "      <td>0.0000</td>\n",
       "      <td>0.64</td>\n",
       "      <td>1014.8</td>\n",
       "      <td>4.44</td>\n",
       "      <td>24.30</td>\n",
       "      <td>252</td>\n",
       "      <td>0.62</td>\n",
       "      <td>2.0</td>\n",
       "      <td>...</td>\n",
       "      <td>22.56</td>\n",
       "      <td>none</td>\n",
       "      <td>0.0</td>\n",
       "      <td>0</td>\n",
       "      <td>0.568056</td>\n",
       "      <td>45.0</td>\n",
       "      <td>91</td>\n",
       "      <td>0</td>\n",
       "      <td>1</td>\n",
       "      <td>0</td>\n",
       "    </tr>\n",
       "    <tr>\n",
       "      <th>1</th>\n",
       "      <td>2009-04-02</td>\n",
       "      <td>0.27</td>\n",
       "      <td>0.0000</td>\n",
       "      <td>0.57</td>\n",
       "      <td>1019.5</td>\n",
       "      <td>2.97</td>\n",
       "      <td>11.84</td>\n",
       "      <td>90</td>\n",
       "      <td>0.39</td>\n",
       "      <td>2.0</td>\n",
       "      <td>...</td>\n",
       "      <td>24.72</td>\n",
       "      <td>none</td>\n",
       "      <td>0.0</td>\n",
       "      <td>0</td>\n",
       "      <td>0.572222</td>\n",
       "      <td>45.0</td>\n",
       "      <td>92</td>\n",
       "      <td>0</td>\n",
       "      <td>1</td>\n",
       "      <td>0</td>\n",
       "    </tr>\n",
       "    <tr>\n",
       "      <th>2</th>\n",
       "      <td>2009-04-03</td>\n",
       "      <td>0.31</td>\n",
       "      <td>0.0000</td>\n",
       "      <td>0.51</td>\n",
       "      <td>1015.2</td>\n",
       "      <td>2.58</td>\n",
       "      <td>13.08</td>\n",
       "      <td>324</td>\n",
       "      <td>0.21</td>\n",
       "      <td>3.0</td>\n",
       "      <td>...</td>\n",
       "      <td>31.73</td>\n",
       "      <td>none</td>\n",
       "      <td>0.0</td>\n",
       "      <td>0</td>\n",
       "      <td>0.577083</td>\n",
       "      <td>45.0</td>\n",
       "      <td>93</td>\n",
       "      <td>0</td>\n",
       "      <td>1</td>\n",
       "      <td>0</td>\n",
       "    </tr>\n",
       "    <tr>\n",
       "      <th>3</th>\n",
       "      <td>2009-04-04</td>\n",
       "      <td>0.34</td>\n",
       "      <td>0.0000</td>\n",
       "      <td>0.58</td>\n",
       "      <td>1022.7</td>\n",
       "      <td>4.13</td>\n",
       "      <td>16.16</td>\n",
       "      <td>314</td>\n",
       "      <td>0.30</td>\n",
       "      <td>3.0</td>\n",
       "      <td>...</td>\n",
       "      <td>25.51</td>\n",
       "      <td>none</td>\n",
       "      <td>0.0</td>\n",
       "      <td>0</td>\n",
       "      <td>0.581944</td>\n",
       "      <td>45.0</td>\n",
       "      <td>94</td>\n",
       "      <td>0</td>\n",
       "      <td>1</td>\n",
       "      <td>0</td>\n",
       "    </tr>\n",
       "    <tr>\n",
       "      <th>4</th>\n",
       "      <td>2009-04-05</td>\n",
       "      <td>0.38</td>\n",
       "      <td>0.0000</td>\n",
       "      <td>0.58</td>\n",
       "      <td>1018.9</td>\n",
       "      <td>2.51</td>\n",
       "      <td>13.69</td>\n",
       "      <td>66</td>\n",
       "      <td>0.00</td>\n",
       "      <td>3.0</td>\n",
       "      <td>...</td>\n",
       "      <td>31.85</td>\n",
       "      <td>none</td>\n",
       "      <td>0.0</td>\n",
       "      <td>0</td>\n",
       "      <td>0.586111</td>\n",
       "      <td>45.0</td>\n",
       "      <td>95</td>\n",
       "      <td>0</td>\n",
       "      <td>1</td>\n",
       "      <td>0</td>\n",
       "    </tr>\n",
       "    <tr>\n",
       "      <th>664</th>\n",
       "      <td>2019-05-27</td>\n",
       "      <td>0.80</td>\n",
       "      <td>0.0003</td>\n",
       "      <td>0.42</td>\n",
       "      <td>1006.8</td>\n",
       "      <td>3.90</td>\n",
       "      <td>33.37</td>\n",
       "      <td>226</td>\n",
       "      <td>0.29</td>\n",
       "      <td>4.0</td>\n",
       "      <td>...</td>\n",
       "      <td>67.58</td>\n",
       "      <td>rain</td>\n",
       "      <td>0.0</td>\n",
       "      <td>0</td>\n",
       "      <td>0.827778</td>\n",
       "      <td>25.0</td>\n",
       "      <td>147</td>\n",
       "      <td>0</td>\n",
       "      <td>0</td>\n",
       "      <td>1</td>\n",
       "    </tr>\n",
       "    <tr>\n",
       "      <th>665</th>\n",
       "      <td>2019-05-28</td>\n",
       "      <td>0.83</td>\n",
       "      <td>0.0008</td>\n",
       "      <td>0.55</td>\n",
       "      <td>1013.8</td>\n",
       "      <td>2.27</td>\n",
       "      <td>6.06</td>\n",
       "      <td>352</td>\n",
       "      <td>0.62</td>\n",
       "      <td>4.0</td>\n",
       "      <td>...</td>\n",
       "      <td>66.95</td>\n",
       "      <td>rain</td>\n",
       "      <td>0.0</td>\n",
       "      <td>0</td>\n",
       "      <td>0.832639</td>\n",
       "      <td>25.0</td>\n",
       "      <td>148</td>\n",
       "      <td>0</td>\n",
       "      <td>0</td>\n",
       "      <td>1</td>\n",
       "    </tr>\n",
       "    <tr>\n",
       "      <th>666</th>\n",
       "      <td>2019-05-29</td>\n",
       "      <td>0.86</td>\n",
       "      <td>0.0001</td>\n",
       "      <td>0.51</td>\n",
       "      <td>1014.4</td>\n",
       "      <td>2.54</td>\n",
       "      <td>9.64</td>\n",
       "      <td>108</td>\n",
       "      <td>0.44</td>\n",
       "      <td>4.0</td>\n",
       "      <td>...</td>\n",
       "      <td>70.30</td>\n",
       "      <td>rain</td>\n",
       "      <td>0.0</td>\n",
       "      <td>0</td>\n",
       "      <td>0.836806</td>\n",
       "      <td>25.0</td>\n",
       "      <td>149</td>\n",
       "      <td>0</td>\n",
       "      <td>0</td>\n",
       "      <td>1</td>\n",
       "    </tr>\n",
       "    <tr>\n",
       "      <th>667</th>\n",
       "      <td>2019-05-30</td>\n",
       "      <td>0.89</td>\n",
       "      <td>0.0001</td>\n",
       "      <td>0.40</td>\n",
       "      <td>1011.0</td>\n",
       "      <td>2.75</td>\n",
       "      <td>11.37</td>\n",
       "      <td>99</td>\n",
       "      <td>0.41</td>\n",
       "      <td>5.0</td>\n",
       "      <td>...</td>\n",
       "      <td>74.71</td>\n",
       "      <td>rain</td>\n",
       "      <td>0.0</td>\n",
       "      <td>0</td>\n",
       "      <td>0.840972</td>\n",
       "      <td>25.0</td>\n",
       "      <td>150</td>\n",
       "      <td>0</td>\n",
       "      <td>0</td>\n",
       "      <td>1</td>\n",
       "    </tr>\n",
       "    <tr>\n",
       "      <th>668</th>\n",
       "      <td>2019-05-31</td>\n",
       "      <td>0.92</td>\n",
       "      <td>0.0067</td>\n",
       "      <td>0.68</td>\n",
       "      <td>1005.3</td>\n",
       "      <td>2.29</td>\n",
       "      <td>8.64</td>\n",
       "      <td>343</td>\n",
       "      <td>0.91</td>\n",
       "      <td>3.0</td>\n",
       "      <td>...</td>\n",
       "      <td>65.79</td>\n",
       "      <td>rain</td>\n",
       "      <td>0.0</td>\n",
       "      <td>0</td>\n",
       "      <td>0.845139</td>\n",
       "      <td>25.0</td>\n",
       "      <td>151</td>\n",
       "      <td>0</td>\n",
       "      <td>0</td>\n",
       "      <td>1</td>\n",
       "    </tr>\n",
       "  </tbody>\n",
       "</table>\n",
       "<p>10 rows × 21 columns</p>\n",
       "</div>"
      ],
      "text/plain": [
       "          Date  moonPhase  precipIntensity  humidity  atmoPressure  windSpeed  \\\n",
       "0   2009-04-01       0.24           0.0000      0.64        1014.8       4.44   \n",
       "1   2009-04-02       0.27           0.0000      0.57        1019.5       2.97   \n",
       "2   2009-04-03       0.31           0.0000      0.51        1015.2       2.58   \n",
       "3   2009-04-04       0.34           0.0000      0.58        1022.7       4.13   \n",
       "4   2009-04-05       0.38           0.0000      0.58        1018.9       2.51   \n",
       "664 2019-05-27       0.80           0.0003      0.42        1006.8       3.90   \n",
       "665 2019-05-28       0.83           0.0008      0.55        1013.8       2.27   \n",
       "666 2019-05-29       0.86           0.0001      0.51        1014.4       2.54   \n",
       "667 2019-05-30       0.89           0.0001      0.40        1011.0       2.75   \n",
       "668 2019-05-31       0.92           0.0067      0.68        1005.3       2.29   \n",
       "\n",
       "     windGust  windBearing  cloudCover  uvIndex  ...  temperatureMax  \\\n",
       "0       24.30          252        0.62      2.0  ...           22.56   \n",
       "1       11.84           90        0.39      2.0  ...           24.72   \n",
       "2       13.08          324        0.21      3.0  ...           31.73   \n",
       "3       16.16          314        0.30      3.0  ...           25.51   \n",
       "4       13.69           66        0.00      3.0  ...           31.85   \n",
       "664     33.37          226        0.29      4.0  ...           67.58   \n",
       "665      6.06          352        0.62      4.0  ...           66.95   \n",
       "666      9.64          108        0.44      4.0  ...           70.30   \n",
       "667     11.37           99        0.41      5.0  ...           74.71   \n",
       "668      8.64          343        0.91      3.0  ...           65.79   \n",
       "\n",
       "     precipType precipAccumulation  winningTime daylightHours  iceThickness  \\\n",
       "0          none                0.0            0      0.568056          45.0   \n",
       "1          none                0.0            0      0.572222          45.0   \n",
       "2          none                0.0            0      0.577083          45.0   \n",
       "3          none                0.0            0      0.581944          45.0   \n",
       "4          none                0.0            0      0.586111          45.0   \n",
       "664        rain                0.0            0      0.827778          25.0   \n",
       "665        rain                0.0            0      0.832639          25.0   \n",
       "666        rain                0.0            0      0.836806          25.0   \n",
       "667        rain                0.0            0      0.840972          25.0   \n",
       "668        rain                0.0            0      0.845139          25.0   \n",
       "\n",
       "     dayOfYear  winningDate  past  future  \n",
       "0           91            0     1       0  \n",
       "1           92            0     1       0  \n",
       "2           93            0     1       0  \n",
       "3           94            0     1       0  \n",
       "4           95            0     1       0  \n",
       "664        147            0     0       1  \n",
       "665        148            0     0       1  \n",
       "666        149            0     0       1  \n",
       "667        150            0     0       1  \n",
       "668        151            0     0       1  \n",
       "\n",
       "[10 rows x 21 columns]"
      ]
     },
     "execution_count": 17,
     "metadata": {},
     "output_type": "execute_result"
    }
   ],
   "source": [
    "df.head().append(df.tail())"
   ]
  },
  {
   "cell_type": "code",
   "execution_count": 18,
   "metadata": {},
   "outputs": [
    {
     "data": {
      "text/html": [
       "<div>\n",
       "<style scoped>\n",
       "    .dataframe tbody tr th:only-of-type {\n",
       "        vertical-align: middle;\n",
       "    }\n",
       "\n",
       "    .dataframe tbody tr th {\n",
       "        vertical-align: top;\n",
       "    }\n",
       "\n",
       "    .dataframe thead th {\n",
       "        text-align: right;\n",
       "    }\n",
       "</style>\n",
       "<table border=\"1\" class=\"dataframe\">\n",
       "  <thead>\n",
       "    <tr style=\"text-align: right;\">\n",
       "      <th></th>\n",
       "      <th>Date</th>\n",
       "      <th>moonPhase</th>\n",
       "      <th>precipIntensity</th>\n",
       "      <th>humidity</th>\n",
       "      <th>atmoPressure</th>\n",
       "      <th>windSpeed</th>\n",
       "      <th>windGust</th>\n",
       "      <th>windBearing</th>\n",
       "      <th>cloudCover</th>\n",
       "      <th>uvIndex</th>\n",
       "      <th>...</th>\n",
       "      <th>temperatureMax</th>\n",
       "      <th>precipType</th>\n",
       "      <th>precipAccumulation</th>\n",
       "      <th>winningTime</th>\n",
       "      <th>daylightHours</th>\n",
       "      <th>iceThickness</th>\n",
       "      <th>dayOfYear</th>\n",
       "      <th>winningDate</th>\n",
       "      <th>past</th>\n",
       "      <th>future</th>\n",
       "    </tr>\n",
       "  </thead>\n",
       "  <tbody>\n",
       "    <tr>\n",
       "      <th>30</th>\n",
       "      <td>2009-05-01</td>\n",
       "      <td>0.26</td>\n",
       "      <td>0.0000</td>\n",
       "      <td>0.30</td>\n",
       "      <td>1019.5</td>\n",
       "      <td>1.94</td>\n",
       "      <td>9.18</td>\n",
       "      <td>305</td>\n",
       "      <td>0.00</td>\n",
       "      <td>4.0</td>\n",
       "      <td>...</td>\n",
       "      <td>74.64</td>\n",
       "      <td>none</td>\n",
       "      <td>0.0</td>\n",
       "      <td>8:41 PM</td>\n",
       "      <td>0.709028</td>\n",
       "      <td>42.7</td>\n",
       "      <td>121</td>\n",
       "      <td>1</td>\n",
       "      <td>1</td>\n",
       "      <td>0</td>\n",
       "    </tr>\n",
       "    <tr>\n",
       "      <th>89</th>\n",
       "      <td>2010-04-29</td>\n",
       "      <td>0.56</td>\n",
       "      <td>0.0000</td>\n",
       "      <td>0.42</td>\n",
       "      <td>1004.0</td>\n",
       "      <td>2.36</td>\n",
       "      <td>23.01</td>\n",
       "      <td>176</td>\n",
       "      <td>0.58</td>\n",
       "      <td>4.0</td>\n",
       "      <td>...</td>\n",
       "      <td>63.59</td>\n",
       "      <td>none</td>\n",
       "      <td>0.0</td>\n",
       "      <td>9:06 AM</td>\n",
       "      <td>0.698611</td>\n",
       "      <td>40.9</td>\n",
       "      <td>119</td>\n",
       "      <td>1</td>\n",
       "      <td>1</td>\n",
       "      <td>0</td>\n",
       "    </tr>\n",
       "    <tr>\n",
       "      <th>155</th>\n",
       "      <td>2011-05-04</td>\n",
       "      <td>0.06</td>\n",
       "      <td>0.0000</td>\n",
       "      <td>0.45</td>\n",
       "      <td>1009.9</td>\n",
       "      <td>2.70</td>\n",
       "      <td>0.00</td>\n",
       "      <td>284</td>\n",
       "      <td>0.40</td>\n",
       "      <td>4.0</td>\n",
       "      <td>...</td>\n",
       "      <td>51.60</td>\n",
       "      <td>none</td>\n",
       "      <td>0.0</td>\n",
       "      <td>4:24 PM</td>\n",
       "      <td>0.720833</td>\n",
       "      <td>39.0</td>\n",
       "      <td>124</td>\n",
       "      <td>1</td>\n",
       "      <td>1</td>\n",
       "      <td>0</td>\n",
       "    </tr>\n",
       "    <tr>\n",
       "      <th>205</th>\n",
       "      <td>2012-04-23</td>\n",
       "      <td>0.09</td>\n",
       "      <td>0.0000</td>\n",
       "      <td>0.56</td>\n",
       "      <td>1010.7</td>\n",
       "      <td>3.82</td>\n",
       "      <td>17.21</td>\n",
       "      <td>76</td>\n",
       "      <td>0.13</td>\n",
       "      <td>4.0</td>\n",
       "      <td>...</td>\n",
       "      <td>57.97</td>\n",
       "      <td>none</td>\n",
       "      <td>0.0</td>\n",
       "      <td>7:39 PM</td>\n",
       "      <td>0.672222</td>\n",
       "      <td>28.7</td>\n",
       "      <td>114</td>\n",
       "      <td>1</td>\n",
       "      <td>1</td>\n",
       "      <td>0</td>\n",
       "    </tr>\n",
       "    <tr>\n",
       "      <th>293</th>\n",
       "      <td>2013-05-20</td>\n",
       "      <td>0.35</td>\n",
       "      <td>0.0000</td>\n",
       "      <td>0.33</td>\n",
       "      <td>1034.6</td>\n",
       "      <td>2.74</td>\n",
       "      <td>12.43</td>\n",
       "      <td>144</td>\n",
       "      <td>0.00</td>\n",
       "      <td>5.0</td>\n",
       "      <td>...</td>\n",
       "      <td>54.55</td>\n",
       "      <td>none</td>\n",
       "      <td>0.0</td>\n",
       "      <td>2:41 PM</td>\n",
       "      <td>0.799306</td>\n",
       "      <td>40.0</td>\n",
       "      <td>140</td>\n",
       "      <td>1</td>\n",
       "      <td>1</td>\n",
       "      <td>0</td>\n",
       "    </tr>\n",
       "    <tr>\n",
       "      <th>329</th>\n",
       "      <td>2014-04-25</td>\n",
       "      <td>0.89</td>\n",
       "      <td>0.0000</td>\n",
       "      <td>0.47</td>\n",
       "      <td>999.1</td>\n",
       "      <td>4.51</td>\n",
       "      <td>22.92</td>\n",
       "      <td>142</td>\n",
       "      <td>0.33</td>\n",
       "      <td>4.0</td>\n",
       "      <td>...</td>\n",
       "      <td>54.33</td>\n",
       "      <td>none</td>\n",
       "      <td>0.0</td>\n",
       "      <td>3:48 PM</td>\n",
       "      <td>0.679861</td>\n",
       "      <td>36.5</td>\n",
       "      <td>115</td>\n",
       "      <td>1</td>\n",
       "      <td>1</td>\n",
       "      <td>0</td>\n",
       "    </tr>\n",
       "    <tr>\n",
       "      <th>389</th>\n",
       "      <td>2015-04-24</td>\n",
       "      <td>0.23</td>\n",
       "      <td>0.0000</td>\n",
       "      <td>0.27</td>\n",
       "      <td>1006.1</td>\n",
       "      <td>3.12</td>\n",
       "      <td>11.17</td>\n",
       "      <td>109</td>\n",
       "      <td>0.00</td>\n",
       "      <td>4.0</td>\n",
       "      <td>...</td>\n",
       "      <td>56.60</td>\n",
       "      <td>none</td>\n",
       "      <td>0.0</td>\n",
       "      <td>2:25 PM</td>\n",
       "      <td>0.673611</td>\n",
       "      <td>36.5</td>\n",
       "      <td>114</td>\n",
       "      <td>1</td>\n",
       "      <td>1</td>\n",
       "      <td>0</td>\n",
       "    </tr>\n",
       "    <tr>\n",
       "      <th>449</th>\n",
       "      <td>2016-04-23</td>\n",
       "      <td>0.56</td>\n",
       "      <td>0.0000</td>\n",
       "      <td>0.47</td>\n",
       "      <td>1004.0</td>\n",
       "      <td>3.44</td>\n",
       "      <td>9.71</td>\n",
       "      <td>321</td>\n",
       "      <td>0.41</td>\n",
       "      <td>4.0</td>\n",
       "      <td>...</td>\n",
       "      <td>59.60</td>\n",
       "      <td>none</td>\n",
       "      <td>0.0</td>\n",
       "      <td>3:39 PM</td>\n",
       "      <td>0.672222</td>\n",
       "      <td>32.3</td>\n",
       "      <td>114</td>\n",
       "      <td>1</td>\n",
       "      <td>1</td>\n",
       "      <td>0</td>\n",
       "    </tr>\n",
       "    <tr>\n",
       "      <th>518</th>\n",
       "      <td>2017-05-01</td>\n",
       "      <td>0.22</td>\n",
       "      <td>0.0000</td>\n",
       "      <td>0.44</td>\n",
       "      <td>1005.8</td>\n",
       "      <td>3.88</td>\n",
       "      <td>11.00</td>\n",
       "      <td>107</td>\n",
       "      <td>0.12</td>\n",
       "      <td>4.0</td>\n",
       "      <td>...</td>\n",
       "      <td>56.54</td>\n",
       "      <td>none</td>\n",
       "      <td>0.0</td>\n",
       "      <td>12:00 PM</td>\n",
       "      <td>0.709028</td>\n",
       "      <td>29.7</td>\n",
       "      <td>121</td>\n",
       "      <td>1</td>\n",
       "      <td>0</td>\n",
       "      <td>1</td>\n",
       "    </tr>\n",
       "    <tr>\n",
       "      <th>579</th>\n",
       "      <td>2018-05-01</td>\n",
       "      <td>0.57</td>\n",
       "      <td>0.0005</td>\n",
       "      <td>0.70</td>\n",
       "      <td>1007.4</td>\n",
       "      <td>5.14</td>\n",
       "      <td>11.89</td>\n",
       "      <td>226</td>\n",
       "      <td>0.91</td>\n",
       "      <td>3.0</td>\n",
       "      <td>...</td>\n",
       "      <td>43.57</td>\n",
       "      <td>rain</td>\n",
       "      <td>0.0</td>\n",
       "      <td>1:18 PM</td>\n",
       "      <td>0.707639</td>\n",
       "      <td>25.0</td>\n",
       "      <td>121</td>\n",
       "      <td>1</td>\n",
       "      <td>0</td>\n",
       "      <td>1</td>\n",
       "    </tr>\n",
       "    <tr>\n",
       "      <th>621</th>\n",
       "      <td>2019-04-14</td>\n",
       "      <td>0.34</td>\n",
       "      <td>0.0003</td>\n",
       "      <td>0.70</td>\n",
       "      <td>1004.0</td>\n",
       "      <td>4.74</td>\n",
       "      <td>9.31</td>\n",
       "      <td>345</td>\n",
       "      <td>0.54</td>\n",
       "      <td>2.0</td>\n",
       "      <td>...</td>\n",
       "      <td>47.79</td>\n",
       "      <td>rain</td>\n",
       "      <td>0.0</td>\n",
       "      <td>12:21 AM</td>\n",
       "      <td>0.626389</td>\n",
       "      <td>25.0</td>\n",
       "      <td>104</td>\n",
       "      <td>1</td>\n",
       "      <td>0</td>\n",
       "      <td>1</td>\n",
       "    </tr>\n",
       "  </tbody>\n",
       "</table>\n",
       "<p>11 rows × 21 columns</p>\n",
       "</div>"
      ],
      "text/plain": [
       "          Date  moonPhase  precipIntensity  humidity  atmoPressure  windSpeed  \\\n",
       "30  2009-05-01       0.26           0.0000      0.30        1019.5       1.94   \n",
       "89  2010-04-29       0.56           0.0000      0.42        1004.0       2.36   \n",
       "155 2011-05-04       0.06           0.0000      0.45        1009.9       2.70   \n",
       "205 2012-04-23       0.09           0.0000      0.56        1010.7       3.82   \n",
       "293 2013-05-20       0.35           0.0000      0.33        1034.6       2.74   \n",
       "329 2014-04-25       0.89           0.0000      0.47         999.1       4.51   \n",
       "389 2015-04-24       0.23           0.0000      0.27        1006.1       3.12   \n",
       "449 2016-04-23       0.56           0.0000      0.47        1004.0       3.44   \n",
       "518 2017-05-01       0.22           0.0000      0.44        1005.8       3.88   \n",
       "579 2018-05-01       0.57           0.0005      0.70        1007.4       5.14   \n",
       "621 2019-04-14       0.34           0.0003      0.70        1004.0       4.74   \n",
       "\n",
       "     windGust  windBearing  cloudCover  uvIndex  ...  temperatureMax  \\\n",
       "30       9.18          305        0.00      4.0  ...           74.64   \n",
       "89      23.01          176        0.58      4.0  ...           63.59   \n",
       "155      0.00          284        0.40      4.0  ...           51.60   \n",
       "205     17.21           76        0.13      4.0  ...           57.97   \n",
       "293     12.43          144        0.00      5.0  ...           54.55   \n",
       "329     22.92          142        0.33      4.0  ...           54.33   \n",
       "389     11.17          109        0.00      4.0  ...           56.60   \n",
       "449      9.71          321        0.41      4.0  ...           59.60   \n",
       "518     11.00          107        0.12      4.0  ...           56.54   \n",
       "579     11.89          226        0.91      3.0  ...           43.57   \n",
       "621      9.31          345        0.54      2.0  ...           47.79   \n",
       "\n",
       "     precipType precipAccumulation  winningTime daylightHours  iceThickness  \\\n",
       "30         none                0.0      8:41 PM      0.709028          42.7   \n",
       "89         none                0.0      9:06 AM      0.698611          40.9   \n",
       "155        none                0.0      4:24 PM      0.720833          39.0   \n",
       "205        none                0.0      7:39 PM      0.672222          28.7   \n",
       "293        none                0.0      2:41 PM      0.799306          40.0   \n",
       "329        none                0.0      3:48 PM      0.679861          36.5   \n",
       "389        none                0.0      2:25 PM      0.673611          36.5   \n",
       "449        none                0.0      3:39 PM      0.672222          32.3   \n",
       "518        none                0.0     12:00 PM      0.709028          29.7   \n",
       "579        rain                0.0      1:18 PM      0.707639          25.0   \n",
       "621        rain                0.0     12:21 AM      0.626389          25.0   \n",
       "\n",
       "     dayOfYear  winningDate  past  future  \n",
       "30         121            1     1       0  \n",
       "89         119            1     1       0  \n",
       "155        124            1     1       0  \n",
       "205        114            1     1       0  \n",
       "293        140            1     1       0  \n",
       "329        115            1     1       0  \n",
       "389        114            1     1       0  \n",
       "449        114            1     1       0  \n",
       "518        121            1     0       1  \n",
       "579        121            1     0       1  \n",
       "621        104            1     0       1  \n",
       "\n",
       "[11 rows x 21 columns]"
      ]
     },
     "execution_count": 18,
     "metadata": {},
     "output_type": "execute_result"
    }
   ],
   "source": [
    "df.loc[df['winningDate'] == 1]"
   ]
  },
  {
   "cell_type": "code",
   "execution_count": 19,
   "metadata": {},
   "outputs": [
    {
     "data": {
      "text/plain": [
       "none    541\n",
       "rain     89\n",
       "snow     39\n",
       "Name: precipType, dtype: int64"
      ]
     },
     "execution_count": 19,
     "metadata": {},
     "output_type": "execute_result"
    }
   ],
   "source": [
    "df['precipType'].value_counts()"
   ]
  },
  {
   "cell_type": "code",
   "execution_count": 20,
   "metadata": {},
   "outputs": [],
   "source": [
    "# encode precipType\n",
    "df = df.merge(pd.get_dummies(df['precipType'], prefix = 'precip', drop_first = True, sparse = True),\n",
    "         how = 'left', left_index = True, right_index = True)"
   ]
  },
  {
   "cell_type": "markdown",
   "metadata": {},
   "source": [
    "Create column for daily average temperature"
   ]
  },
  {
   "cell_type": "code",
   "execution_count": 21,
   "metadata": {},
   "outputs": [],
   "source": [
    "df['temperatureAvg'] = (df['temperatureMin'] + df['temperatureMax']) / 2"
   ]
  },
  {
   "cell_type": "markdown",
   "metadata": {},
   "source": [
    "Create columns for number of \"hot days,\" \"cold days,\" and snow accumulated since Apr 1 in a given year.\n",
    "\n",
    "I defined a \"hot day\" as a day where: day_average_temp > median(year_avg_temp) + std_dev(year_avg_temp)\n",
    "\n",
    "A \"cold day\" is a day where: day_average_temp < median(year_avg_temp) - std_dev(year_avg_temp)"
   ]
  },
  {
   "cell_type": "code",
   "execution_count": 22,
   "metadata": {},
   "outputs": [],
   "source": [
    "year_list = sorted(list(set(df['Date'].dt.year)))"
   ]
  },
  {
   "cell_type": "code",
   "execution_count": 23,
   "metadata": {},
   "outputs": [
    {
     "data": {
      "text/plain": [
       "[2009, 2010, 2011, 2012, 2013, 2014, 2015, 2016, 2017, 2018, 2019]"
      ]
     },
     "execution_count": 23,
     "metadata": {},
     "output_type": "execute_result"
    }
   ],
   "source": [
    "year_list"
   ]
  },
  {
   "cell_type": "code",
   "execution_count": 24,
   "metadata": {},
   "outputs": [],
   "source": [
    "hot_count = []\n",
    "cold_count = []\n",
    "daily_accumulation = []\n",
    "for year in year_list:\n",
    "    hot_temp_count = 0\n",
    "    cold_temp_count = 0\n",
    "    daily_accum = 0\n",
    "    temp_df = df.loc[df['Date'].dt.year == year]\n",
    "    hot_threshold = temp_df['temperatureAvg'].median() + temp_df['temperatureAvg'].std()\n",
    "    cold_threshold = temp_df['temperatureAvg'].median() - temp_df['temperatureAvg'].std()\n",
    "    for idx in temp_df.index:\n",
    "        current_temp = temp_df['temperatureAvg'].loc[idx]\n",
    "        if temp_df['precip_snow'].loc[idx] == 1:\n",
    "            daily_accum += temp_df['precipAccumulation'].loc[idx]\n",
    "        else:\n",
    "            pass\n",
    "        if current_temp >= hot_threshold:\n",
    "            hot_temp_count += 1\n",
    "        elif current_temp <= cold_threshold:\n",
    "            cold_temp_count += 1\n",
    "        else:\n",
    "            pass\n",
    "        hot_count.append(hot_temp_count)\n",
    "        cold_count.append(cold_temp_count)\n",
    "        daily_accumulation.append(daily_accum)"
   ]
  },
  {
   "cell_type": "code",
   "execution_count": 25,
   "metadata": {},
   "outputs": [],
   "source": [
    "df['numHotDays'] = hot_count\n",
    "df['numColdDays'] = cold_count\n",
    "df['accumulatedSnow'] = daily_accumulation"
   ]
  },
  {
   "cell_type": "code",
   "execution_count": 26,
   "metadata": {},
   "outputs": [
    {
     "data": {
      "text/plain": [
       "(669, 27)"
      ]
     },
     "execution_count": 26,
     "metadata": {},
     "output_type": "execute_result"
    }
   ],
   "source": [
    "df.shape"
   ]
  },
  {
   "cell_type": "code",
   "execution_count": 27,
   "metadata": {},
   "outputs": [],
   "source": [
    "df['noise_test'] = np.random.random_sample(669)"
   ]
  },
  {
   "cell_type": "markdown",
   "metadata": {},
   "source": [
    "## Modeling"
   ]
  },
  {
   "cell_type": "code",
   "execution_count": 128,
   "metadata": {},
   "outputs": [
    {
     "data": {
      "text/plain": [
       "0.9835575485799701"
      ]
     },
     "execution_count": 128,
     "metadata": {},
     "output_type": "execute_result"
    }
   ],
   "source": [
    "# the thing to beat: 0.9835575485799701\n",
    "1 - (df['winningDate'].sum()/df['winningDate'].count())"
   ]
  },
  {
   "cell_type": "code",
   "execution_count": 28,
   "metadata": {},
   "outputs": [],
   "source": [
    "df_past = df.loc[df['past'] == 1]\n",
    "df_past.drop(columns = ['past', 'future'], inplace = True)"
   ]
  },
  {
   "cell_type": "code",
   "execution_count": 29,
   "metadata": {},
   "outputs": [
    {
     "name": "stdout",
     "output_type": "stream",
     "text": [
      "<class 'pandas.core.frame.DataFrame'>\n",
      "Int64Index: 488 entries, 0 to 487\n",
      "Data columns (total 26 columns):\n",
      " #   Column              Non-Null Count  Dtype           \n",
      "---  ------              --------------  -----           \n",
      " 0   Date                488 non-null    datetime64[ns]  \n",
      " 1   moonPhase           488 non-null    float64         \n",
      " 2   precipIntensity     488 non-null    float64         \n",
      " 3   humidity            488 non-null    float64         \n",
      " 4   atmoPressure        488 non-null    float64         \n",
      " 5   windSpeed           488 non-null    float64         \n",
      " 6   windGust            488 non-null    float64         \n",
      " 7   windBearing         488 non-null    int64           \n",
      " 8   cloudCover          488 non-null    float64         \n",
      " 9   uvIndex             488 non-null    float64         \n",
      " 10  temperatureMin      488 non-null    float64         \n",
      " 11  temperatureMax      488 non-null    float64         \n",
      " 12  precipType          488 non-null    object          \n",
      " 13  precipAccumulation  488 non-null    float64         \n",
      " 14  winningTime         488 non-null    object          \n",
      " 15  daylightHours       488 non-null    float64         \n",
      " 16  iceThickness        488 non-null    float64         \n",
      " 17  dayOfYear           488 non-null    int64           \n",
      " 18  winningDate         488 non-null    int64           \n",
      " 19  precip_rain         488 non-null    Sparse[int64, 0]\n",
      " 20  precip_snow         488 non-null    Sparse[int64, 0]\n",
      " 21  temperatureAvg      488 non-null    float64         \n",
      " 22  numHotDays          488 non-null    int64           \n",
      " 23  numColdDays         488 non-null    int64           \n",
      " 24  accumulatedSnow     488 non-null    float64         \n",
      " 25  noise_test          488 non-null    float64         \n",
      "dtypes: Sparse[int64, 0](2), datetime64[ns](1), float64(16), int64(5), object(2)\n",
      "memory usage: 96.1+ KB\n"
     ]
    }
   ],
   "source": [
    "df_past.info()"
   ]
  },
  {
   "cell_type": "code",
   "execution_count": 30,
   "metadata": {},
   "outputs": [],
   "source": [
    "df_future = df.loc[df['future'] == 1]\n",
    "df_future.drop(columns = ['past', 'future'], inplace = True)"
   ]
  },
  {
   "cell_type": "code",
   "execution_count": 31,
   "metadata": {},
   "outputs": [
    {
     "name": "stdout",
     "output_type": "stream",
     "text": [
      "<class 'pandas.core.frame.DataFrame'>\n",
      "Int64Index: 181 entries, 488 to 668\n",
      "Data columns (total 26 columns):\n",
      " #   Column              Non-Null Count  Dtype           \n",
      "---  ------              --------------  -----           \n",
      " 0   Date                181 non-null    datetime64[ns]  \n",
      " 1   moonPhase           181 non-null    float64         \n",
      " 2   precipIntensity     181 non-null    float64         \n",
      " 3   humidity            181 non-null    float64         \n",
      " 4   atmoPressure        181 non-null    float64         \n",
      " 5   windSpeed           181 non-null    float64         \n",
      " 6   windGust            181 non-null    float64         \n",
      " 7   windBearing         181 non-null    int64           \n",
      " 8   cloudCover          181 non-null    float64         \n",
      " 9   uvIndex             181 non-null    float64         \n",
      " 10  temperatureMin      181 non-null    float64         \n",
      " 11  temperatureMax      181 non-null    float64         \n",
      " 12  precipType          181 non-null    object          \n",
      " 13  precipAccumulation  181 non-null    float64         \n",
      " 14  winningTime         181 non-null    object          \n",
      " 15  daylightHours       181 non-null    float64         \n",
      " 16  iceThickness        181 non-null    float64         \n",
      " 17  dayOfYear           181 non-null    int64           \n",
      " 18  winningDate         181 non-null    int64           \n",
      " 19  precip_rain         181 non-null    Sparse[int64, 0]\n",
      " 20  precip_snow         181 non-null    Sparse[int64, 0]\n",
      " 21  temperatureAvg      181 non-null    float64         \n",
      " 22  numHotDays          181 non-null    int64           \n",
      " 23  numColdDays         181 non-null    int64           \n",
      " 24  accumulatedSnow     181 non-null    float64         \n",
      " 25  noise_test          181 non-null    float64         \n",
      "dtypes: Sparse[int64, 0](2), datetime64[ns](1), float64(16), int64(5), object(2)\n",
      "memory usage: 36.1+ KB\n"
     ]
    }
   ],
   "source": [
    "df_future.info()"
   ]
  },
  {
   "cell_type": "code",
   "execution_count": 32,
   "metadata": {},
   "outputs": [
    {
     "data": {
      "text/plain": [
       "11"
      ]
     },
     "execution_count": 32,
     "metadata": {},
     "output_type": "execute_result"
    }
   ],
   "source": [
    "df.drop(columns = ['past', 'future'], inplace = True)\n",
    "gc.collect()"
   ]
  },
  {
   "cell_type": "code",
   "execution_count": 33,
   "metadata": {},
   "outputs": [],
   "source": [
    "exclude = ['winningTime', 'winningDate', 'precipType', 'Date', 'moonPhase']\n",
    "# exclude = ['winningTime', 'winningDate', 'precipType', 'Date', 'moonPhase', 'atmoPressure', 'windSpeed',\n",
    "#            'windGust', 'windBearing', 'cloudCover', 'temperatureMin', 'temperatureMax', 'precipAccumulation',\n",
    "#            'precip_rain', 'precip_snow']"
   ]
  },
  {
   "cell_type": "code",
   "execution_count": 34,
   "metadata": {},
   "outputs": [
    {
     "name": "stdout",
     "output_type": "stream",
     "text": [
      "f1_weighted: 0.8915670081204933 +/- 0.06123258543477035\n",
      "precision_weighted: 0.9733500280804396 +/- 0.014326405171511956\n",
      "recall_weighted: 0.8356196086682095 +/- 0.10597665011938112\n",
      "roc_auc: 0.8473958333333333 +/- 0.07621982554136132\n"
     ]
    }
   ],
   "source": [
    "# used_cols = [c for c in df_past.columns if c not in exclude]\n",
    "used_cols = ['numHotDays', 'iceThickness', 'dayOfYear', 'uvIndex', 'humidity', 'accumulatedSnow']\n",
    "target = 'winningDate'\n",
    "\n",
    "scaler = RobustScaler()\n",
    "encoder = WOEEncoder()\n",
    "binner = KBinsDiscretizer(n_bins=7, encode='ordinal')\n",
    "objectify = FunctionTransformer(func=stringify, check_inverse=False, validate=False)\n",
    "clf_lr = LogisticRegressionCV(class_weight='balanced',\n",
    "                              cv = TimeSeriesSplit(),\n",
    "                              solver = 'liblinear',\n",
    "                              n_jobs=-1,\n",
    "                              random_state=42)\n",
    "pipe = make_pipeline(scaler, binner, objectify, encoder, clf_lr)\n",
    "\n",
    "X, y = df_past[used_cols].values, df_past[target].values\n",
    "scores = cross_validate(pipe, X, y, cv = 5, scoring=['f1_weighted',\n",
    "                                                     'precision_weighted',\n",
    "                                                     'recall_weighted',\n",
    "                                                     'roc_auc'])\n",
    "# scores.mean(), scores.std()\n",
    "print('f1_weighted:', scores['test_f1_weighted'].mean(), '+/-', scores['test_f1_weighted'].std())\n",
    "print('precision_weighted:', scores['test_precision_weighted'].mean(),\n",
    "      '+/-', scores['test_precision_weighted'].std())\n",
    "print('recall_weighted:', scores['test_recall_weighted'].mean(), '+/-', scores['test_recall_weighted'].std())\n",
    "print('roc_auc:', scores['test_roc_auc'].mean(), '+/-', scores['test_roc_auc'].std())\n",
    "\n",
    "# ['numHotDays', 'iceThickness', 'dayOfYear', 'uvIndex', 'humidity', 'accumulatedSnow']\n",
    "# f1_weighted: 0.8915670081204933 +/- 0.06123258543477035\n",
    "# precision_weighted: 0.9733500280804396 +/- 0.014326405171511956\n",
    "# recall_weighted: 0.8356196086682095 +/- 0.10597665011938112\n",
    "# roc_auc: 0.8473958333333333 +/- 0.07621982554136132"
   ]
  },
  {
   "cell_type": "code",
   "execution_count": 35,
   "metadata": {},
   "outputs": [
    {
     "data": {
      "text/plain": [
       "Pipeline(memory=None,\n",
       "         steps=[('robustscaler',\n",
       "                 RobustScaler(copy=True, quantile_range=(25.0, 75.0),\n",
       "                              with_centering=True, with_scaling=True)),\n",
       "                ('kbinsdiscretizer',\n",
       "                 KBinsDiscretizer(encode='ordinal', n_bins=7,\n",
       "                                  strategy='quantile')),\n",
       "                ('functiontransformer',\n",
       "                 FunctionTransformer(accept_sparse=False, check_inverse=False,\n",
       "                                     func=<function stringify at 0x1a1d651c80>,\n",
       "                                     inv_kw_ar...\n",
       "                            verbose=0)),\n",
       "                ('logisticregressioncv',\n",
       "                 LogisticRegressionCV(Cs=10, class_weight='balanced',\n",
       "                                      cv=TimeSeriesSplit(max_train_size=None, n_splits=5),\n",
       "                                      dual=False, fit_intercept=True,\n",
       "                                      intercept_scaling=1.0, l1_ratios=None,\n",
       "                                      max_iter=100, multi_class='auto',\n",
       "                                      n_jobs=-1, penalty='l2', random_state=42,\n",
       "                                      refit=True, scoring=None,\n",
       "                                      solver='liblinear', tol=0.0001,\n",
       "                                      verbose=0))],\n",
       "         verbose=False)"
      ]
     },
     "execution_count": 35,
     "metadata": {},
     "output_type": "execute_result"
    }
   ],
   "source": [
    "pipe.fit(X, y)"
   ]
  },
  {
   "cell_type": "code",
   "execution_count": 36,
   "metadata": {},
   "outputs": [
    {
     "name": "stdout",
     "output_type": "stream",
     "text": [
      "0 5.194063092631059\n",
      "1 5.722118482355292\n",
      "2 3.6811568295544888\n",
      "3 2.161227473291987\n",
      "4 5.342840106202216\n",
      "5 2.366261294754751\n"
     ]
    }
   ],
   "source": [
    "for n, v in enumerate(clf_lr.coef_[0]):\n",
    "    print(n, v)"
   ]
  },
  {
   "cell_type": "code",
   "execution_count": 37,
   "metadata": {},
   "outputs": [
    {
     "name": "stdout",
     "output_type": "stream",
     "text": [
      "0 numHotDays\n",
      "1 iceThickness\n",
      "2 dayOfYear\n",
      "3 uvIndex\n",
      "4 humidity\n",
      "5 accumulatedSnow\n"
     ]
    }
   ],
   "source": [
    "for n, v in enumerate(used_cols):\n",
    "    print(n, v)"
   ]
  },
  {
   "cell_type": "markdown",
   "metadata": {},
   "source": [
    "#### Metrics defined\n",
    "* F1 = harmonic mean of precision and recall (2 * (precision * recall / precision + recall))\n",
    "* precision = correct_pos_preds / total_pos_preds (percent correct of all positive predictions; positive predictive power)\n",
    "* recall = correct_pos_preds / total_actual_positives (True Positive Rate)\n",
    "* roc_auc = https://en.wikipedia.org/wiki/Receiver_operating_characteristic (TPR vs TNR at a threshold)"
   ]
  },
  {
   "cell_type": "code",
   "execution_count": 38,
   "metadata": {},
   "outputs": [
    {
     "data": {
      "text/plain": [
       "['numHotDays',\n",
       " 'iceThickness',\n",
       " 'dayOfYear',\n",
       " 'uvIndex',\n",
       " 'humidity',\n",
       " 'accumulatedSnow']"
      ]
     },
     "execution_count": 38,
     "metadata": {},
     "output_type": "execute_result"
    }
   ],
   "source": [
    "used_cols"
   ]
  },
  {
   "cell_type": "code",
   "execution_count": 39,
   "metadata": {},
   "outputs": [],
   "source": [
    "pipe.fit(X, y)\n",
    "X_test = df_future[used_cols]\n",
    "y_test = df_future[target]\n",
    "y_pred = pipe.predict(X_test)"
   ]
  },
  {
   "cell_type": "code",
   "execution_count": 40,
   "metadata": {},
   "outputs": [
    {
     "data": {
      "image/png": "[encoded data removed]",
      "text/plain": [
       "<Figure size 432x288 with 2 Axes>"
      ]
     },
     "metadata": {
      "needs_background": "light"
     },
     "output_type": "display_data"
    }
   ],
   "source": [
    "metrics.plot_confusion_matrix(pipe, X, y);"
   ]
  },
  {
   "cell_type": "code",
   "execution_count": 41,
   "metadata": {},
   "outputs": [
    {
     "data": {
      "image/png": "[encoded data removed]",
      "text/plain": [
       "<Figure size 432x288 with 2 Axes>"
      ]
     },
     "metadata": {
      "needs_background": "light"
     },
     "output_type": "display_data"
    }
   ],
   "source": [
    "metrics.plot_confusion_matrix(pipe, X_test, y_test);"
   ]
  },
  {
   "cell_type": "code",
   "execution_count": 42,
   "metadata": {},
   "outputs": [
    {
     "data": {
      "text/plain": [
       "array([3.08957684e-04, 3.08957684e-04, 4.06116280e-07, 5.19387188e-04,\n",
       "       8.12051207e-05])"
      ]
     },
     "execution_count": 42,
     "metadata": {},
     "output_type": "execute_result"
    }
   ],
   "source": [
    "y_pred = pipe.predict_proba(X_test)[:,1]\n",
    "y_pred[:5]"
   ]
  },
  {
   "cell_type": "code",
   "execution_count": 43,
   "metadata": {},
   "outputs": [
    {
     "data": {
      "image/png": "[encoded data removed]",
      "text/plain": [
       "<Figure size 432x288 with 1 Axes>"
      ]
     },
     "metadata": {},
     "output_type": "display_data"
    }
   ],
   "source": [
    "sns.set_style(\"whitegrid\", {'axes.grid' : False})\n",
    "\n",
    "sns.kdeplot(y_pred);"
   ]
  },
  {
   "cell_type": "code",
   "execution_count": 44,
   "metadata": {},
   "outputs": [
    {
     "data": {
      "text/plain": [
       "array([[105,  73],\n",
       "       [  2,   1]])"
      ]
     },
     "execution_count": 44,
     "metadata": {},
     "output_type": "execute_result"
    }
   ],
   "source": [
    "metrics.confusion_matrix(y_test, y_pred > 0.01)"
   ]
  },
  {
   "cell_type": "code",
   "execution_count": 45,
   "metadata": {},
   "outputs": [
    {
     "data": {
      "image/png": "[encoded data removed]",
      "text/plain": [
       "<Figure size 1440x576 with 1 Axes>"
      ]
     },
     "metadata": {},
     "output_type": "display_data"
    }
   ],
   "source": [
    "plt.figure(figsize=(20,8))\n",
    "plt.plot(y_test.values)\n",
    "plt.plot(y_pred)\n",
    "plt.tight_layout()\n",
    "plt.show()"
   ]
  },
  {
   "cell_type": "code",
   "execution_count": 46,
   "metadata": {},
   "outputs": [
    {
     "name": "stdout",
     "output_type": "stream",
     "text": [
      "f1_weighted: 0.8554557229821034 +/- 0.0819622236416445\n",
      "precision_weighted: 0.9724738320541684 +/- 0.014663679036231368\n",
      "recall_weighted: 0.782716049382716 +/- 0.13492420831915308\n",
      "roc_auc: 0.7738924050632912 +/- 0.18539915560631698\n"
     ]
    }
   ],
   "source": [
    "exclude = ['winningTime', 'winningDate', 'precipType', 'Date', 'moonPhase', 'windSpeed',\n",
    "           'windGust', 'windBearing', 'temperatureMin', 'temperatureMax', 'precipAccumulation',\n",
    "           'precip_rain', 'precip_snow', 'noise_test']\n",
    "used_cols = [c for c in df_past.columns if c not in exclude]\n",
    "# used_cols = ['numColdDays', 'iceThickness', 'dayOfYear', 'uvIndex', 'precipIntensity', 'humidity']\n",
    "target = 'winningDate'\n",
    "\n",
    "scaler = RobustScaler()\n",
    "encoder = WOEEncoder()\n",
    "binner = KBinsDiscretizer(n_bins=7, encode='ordinal')\n",
    "objectify = FunctionTransformer(func=stringify, check_inverse=False, validate=False)\n",
    "clf_svc = SVC(C = 1000,\n",
    "              kernel = 'linear',\n",
    "              gamma = 'auto',\n",
    "              class_weight='balanced',\n",
    "              random_state=42, probability=True)\n",
    "# pipe = make_pipeline(scaler, binner, objectify, encoder, clf_svc)\n",
    "pipe = make_pipeline(scaler, clf_svc)\n",
    "\n",
    "X, y = df_past[used_cols].values, df_past[target].values\n",
    "scores = cross_validate(pipe, X, y, cv = TimeSeriesSplit(), scoring=['f1_weighted',\n",
    "                                                                     'precision_weighted',\n",
    "                                                                     'recall_weighted',\n",
    "                                                                     'roc_auc'])\n",
    "\n",
    "print('f1_weighted:', scores['test_f1_weighted'].mean(), '+/-', scores['test_f1_weighted'].std())\n",
    "print('precision_weighted:', scores['test_precision_weighted'].mean(),\n",
    "      '+/-', scores['test_precision_weighted'].std())\n",
    "print('recall_weighted:', scores['test_recall_weighted'].mean(), '+/-', scores['test_recall_weighted'].std())\n",
    "print('roc_auc:', scores['test_roc_auc'].mean(), '+/-', scores['test_roc_auc'].std())"
   ]
  },
  {
   "cell_type": "code",
   "execution_count": 47,
   "metadata": {},
   "outputs": [
    {
     "data": {
      "text/plain": [
       "['precipIntensity',\n",
       " 'humidity',\n",
       " 'atmoPressure',\n",
       " 'cloudCover',\n",
       " 'uvIndex',\n",
       " 'daylightHours',\n",
       " 'iceThickness',\n",
       " 'dayOfYear',\n",
       " 'temperatureAvg',\n",
       " 'numHotDays',\n",
       " 'numColdDays',\n",
       " 'accumulatedSnow']"
      ]
     },
     "execution_count": 47,
     "metadata": {},
     "output_type": "execute_result"
    }
   ],
   "source": [
    "used_cols"
   ]
  },
  {
   "cell_type": "code",
   "execution_count": 48,
   "metadata": {},
   "outputs": [
    {
     "data": {
      "image/png": "[encoded data removed]",
      "text/plain": [
       "<Figure size 432x288 with 2 Axes>"
      ]
     },
     "metadata": {},
     "output_type": "display_data"
    }
   ],
   "source": [
    "pipe.fit(X, y)\n",
    "metrics.plot_confusion_matrix(pipe, X, y);"
   ]
  },
  {
   "cell_type": "code",
   "execution_count": 49,
   "metadata": {},
   "outputs": [
    {
     "data": {
      "text/plain": [
       "<matplotlib.axes._subplots.AxesSubplot at 0x1a1da37518>"
      ]
     },
     "execution_count": 49,
     "metadata": {},
     "output_type": "execute_result"
    },
    {
     "data": {
      "image/png": "[encoded data removed]",
      "text/plain": [
       "<Figure size 432x288 with 1 Axes>"
      ]
     },
     "metadata": {},
     "output_type": "display_data"
    }
   ],
   "source": [
    "pd.Series(abs(clf_svc.coef_[0]), index=df_past[used_cols].columns).nlargest(10).plot(kind='barh')"
   ]
  },
  {
   "cell_type": "code",
   "execution_count": 50,
   "metadata": {},
   "outputs": [],
   "source": [
    "X_test = df_future[used_cols]\n",
    "y_test = df_future[target]\n",
    "y_pred = pipe.predict(X_test)"
   ]
  },
  {
   "cell_type": "code",
   "execution_count": 51,
   "metadata": {},
   "outputs": [
    {
     "data": {
      "text/plain": [
       "<sklearn.metrics._plot.confusion_matrix.ConfusionMatrixDisplay at 0x1a1da8be48>"
      ]
     },
     "execution_count": 51,
     "metadata": {},
     "output_type": "execute_result"
    },
    {
     "data": {
      "image/png": "[encoded data removed]",
      "text/plain": [
       "<Figure size 432x288 with 2 Axes>"
      ]
     },
     "metadata": {},
     "output_type": "display_data"
    }
   ],
   "source": [
    "metrics.plot_confusion_matrix(pipe, X_test, y_test)"
   ]
  },
  {
   "cell_type": "code",
   "execution_count": 52,
   "metadata": {},
   "outputs": [
    {
     "data": {
      "text/plain": [
       "array([0.026163  , 0.02749843, 0.02455515, 0.02927944, 0.02604433])"
      ]
     },
     "execution_count": 52,
     "metadata": {},
     "output_type": "execute_result"
    }
   ],
   "source": [
    "y_pred = pipe.predict_proba(X_test)[:,1]\n",
    "y_pred[:5]"
   ]
  },
  {
   "cell_type": "code",
   "execution_count": 53,
   "metadata": {},
   "outputs": [
    {
     "data": {
      "text/plain": [
       "array([[79, 99],\n",
       "       [ 0,  3]])"
      ]
     },
     "execution_count": 53,
     "metadata": {},
     "output_type": "execute_result"
    }
   ],
   "source": [
    "metrics.confusion_matrix(y_test, y_pred > 0.021)"
   ]
  },
  {
   "cell_type": "code",
   "execution_count": 54,
   "metadata": {},
   "outputs": [
    {
     "data": {
      "image/png": "[encoded data removed]",
      "text/plain": [
       "<Figure size 432x288 with 1 Axes>"
      ]
     },
     "metadata": {},
     "output_type": "display_data"
    }
   ],
   "source": [
    "import seaborn as sns; sns.set()\n",
    "sns.set_style(\"whitegrid\", {'axes.grid' : False})\n",
    "\n",
    "sns.kdeplot(y_pred);"
   ]
  },
  {
   "cell_type": "code",
   "execution_count": 55,
   "metadata": {},
   "outputs": [
    {
     "data": {
      "image/png": "[encoded data removed]",
      "text/plain": [
       "<Figure size 1440x576 with 1 Axes>"
      ]
     },
     "metadata": {},
     "output_type": "display_data"
    }
   ],
   "source": [
    "# plot of target vs predicted probability (multiplied by 10 so it was easier to see)\n",
    "plt.figure(figsize=(20,8))\n",
    "plt.plot(y_test.values)\n",
    "plt.plot(10*y_pred)\n",
    "plt.tight_layout()\n",
    "plt.show()"
   ]
  },
  {
   "cell_type": "markdown",
   "metadata": {},
   "source": [
    "_Notes_\n",
    "* add feature for day-of-year (to make the models time-aware) [x];\n",
    "* try hidden Markov model;\n",
    "* look at survival analysis/time-to-event analysis [x];\n",
    "* look for outliers in training data, if removed, does model performance improve?;\n",
    "* is there any way to identify mechanical failure of ice vs mush-out?;\n",
    "* more time-series-like features, for instance number of \"hot\" days vs number of \"cold\" days [x];\n",
    "* consider under- or over-sampling\n",
    "\n",
    "survival analysis: https://lifelines.readthedocs.io/en/latest/\n",
    "\n",
    "Kaggle competition modeling time-to-event: https://www.kaggle.com/c/LANL-Earthquake-Prediction/discussion/94484"
   ]
  },
  {
   "cell_type": "markdown",
   "metadata": {},
   "source": [
    "### Survival Analysis Application\n",
    "Looked at from survival analysis point-of-view:\n",
    "\n",
    "Each daily observation could be viewed like this:\n",
    "* \"birth\": start of day with ice intact\n",
    "* \"death\": end of day with ice intact\n",
    "* Censored: ice breaks before end of day\n",
    "  * there will be 11 censored observations here\n",
    "  \n",
    "  If I do it this way, max lifespan will be 1 day; there will be 11 censored observations and I will need to calculate the duration for those; I think I will need to truncate the annual data after the censored observation since the ice will no longer be intact.\n",
    "\n",
    "Another way to look at it:\n",
    "* \"birth\": start of day with ice intact\n",
    "* \"death\": ice breaks\n",
    "* Censored: end of day with ice intact\n",
    "  * there will be ~660 censored observations here\n",
    "  \n",
    "  Done this way, max lifespan is still 1 day; there will be 660-ish censored observations; I still need to calculate actual duration for the \"deaths\"; still need to truncate the annual data after the \"death\"\n",
    "\n",
    "look at it on a yearly basis instead of daily basis:\n",
    "* \"birth\": start of observed period with ice intact\n",
    "* \"death\": end of observed period with ice intact\n",
    "* Censored: ice breaks before end of observed period\n",
    "  * there will be 0 observations here, so I don't think this one is valid\n",
    "\n",
    "OR\n",
    "* \"birth\": start of observed period\n",
    "* \"death\": ice breaks\n",
    "* Censored: observed period ends with ice intact\n",
    "  * there will be 0 censored observations here\n",
    "  * I think this is the most promising\n",
    "    * Y is % survival\n",
    "    * X is day of year"
   ]
  },
  {
   "cell_type": "code",
   "execution_count": 56,
   "metadata": {},
   "outputs": [],
   "source": [
    "df_survival = pd.read_csv('../data/ice_classic_winning_times.csv')"
   ]
  },
  {
   "cell_type": "code",
   "execution_count": 57,
   "metadata": {},
   "outputs": [
    {
     "data": {
      "text/html": [
       "<div>\n",
       "<style scoped>\n",
       "    .dataframe tbody tr th:only-of-type {\n",
       "        vertical-align: middle;\n",
       "    }\n",
       "\n",
       "    .dataframe tbody tr th {\n",
       "        vertical-align: top;\n",
       "    }\n",
       "\n",
       "    .dataframe thead th {\n",
       "        text-align: right;\n",
       "    }\n",
       "</style>\n",
       "<table border=\"1\" class=\"dataframe\">\n",
       "  <thead>\n",
       "    <tr style=\"text-align: right;\">\n",
       "      <th></th>\n",
       "      <th>Date</th>\n",
       "      <th>Time</th>\n",
       "    </tr>\n",
       "  </thead>\n",
       "  <tbody>\n",
       "    <tr>\n",
       "      <th>0</th>\n",
       "      <td>1917-04-30</td>\n",
       "      <td>11:30 AM</td>\n",
       "    </tr>\n",
       "    <tr>\n",
       "      <th>1</th>\n",
       "      <td>1918-05-11</td>\n",
       "      <td>9:33 AM</td>\n",
       "    </tr>\n",
       "    <tr>\n",
       "      <th>2</th>\n",
       "      <td>1919-05-03</td>\n",
       "      <td>2:33 PM</td>\n",
       "    </tr>\n",
       "    <tr>\n",
       "      <th>3</th>\n",
       "      <td>1920-05-11</td>\n",
       "      <td>10:46 AM</td>\n",
       "    </tr>\n",
       "    <tr>\n",
       "      <th>4</th>\n",
       "      <td>1921-05-11</td>\n",
       "      <td>6:42 AM</td>\n",
       "    </tr>\n",
       "  </tbody>\n",
       "</table>\n",
       "</div>"
      ],
      "text/plain": [
       "         Date      Time\n",
       "0  1917-04-30  11:30 AM\n",
       "1  1918-05-11   9:33 AM\n",
       "2  1919-05-03   2:33 PM\n",
       "3  1920-05-11  10:46 AM\n",
       "4  1921-05-11   6:42 AM"
      ]
     },
     "execution_count": 57,
     "metadata": {},
     "output_type": "execute_result"
    }
   ],
   "source": [
    "df_survival.head()"
   ]
  },
  {
   "cell_type": "code",
   "execution_count": 58,
   "metadata": {},
   "outputs": [
    {
     "name": "stdout",
     "output_type": "stream",
     "text": [
      "<class 'pandas.core.frame.DataFrame'>\n",
      "RangeIndex: 103 entries, 0 to 102\n",
      "Data columns (total 2 columns):\n",
      " #   Column  Non-Null Count  Dtype \n",
      "---  ------  --------------  ----- \n",
      " 0   Date    103 non-null    object\n",
      " 1   Time    103 non-null    object\n",
      "dtypes: object(2)\n",
      "memory usage: 1.7+ KB\n"
     ]
    }
   ],
   "source": [
    "df_survival.info()"
   ]
  },
  {
   "cell_type": "code",
   "execution_count": 59,
   "metadata": {},
   "outputs": [],
   "source": [
    "df_survival['Time'] = df_survival['Date'] + ' ' + df_survival['Time']\n",
    "df_survival['Date'] = pd.to_datetime(df_survival['Date'])\n",
    "df_survival['Time'] = pd.to_datetime(df_survival['Time'])"
   ]
  },
  {
   "cell_type": "code",
   "execution_count": 60,
   "metadata": {},
   "outputs": [],
   "source": [
    "df_survival['day_of_year'] = df_survival['Date'].dt.dayofyear"
   ]
  },
  {
   "cell_type": "code",
   "execution_count": 61,
   "metadata": {},
   "outputs": [],
   "source": [
    "df_survival['observed'] = 1"
   ]
  },
  {
   "cell_type": "code",
   "execution_count": 62,
   "metadata": {},
   "outputs": [],
   "source": [
    "df_survival['observation_entry'] = 91"
   ]
  },
  {
   "cell_type": "code",
   "execution_count": 63,
   "metadata": {},
   "outputs": [
    {
     "data": {
      "text/html": [
       "<div>\n",
       "<style scoped>\n",
       "    .dataframe tbody tr th:only-of-type {\n",
       "        vertical-align: middle;\n",
       "    }\n",
       "\n",
       "    .dataframe tbody tr th {\n",
       "        vertical-align: top;\n",
       "    }\n",
       "\n",
       "    .dataframe thead th {\n",
       "        text-align: right;\n",
       "    }\n",
       "</style>\n",
       "<table border=\"1\" class=\"dataframe\">\n",
       "  <thead>\n",
       "    <tr style=\"text-align: right;\">\n",
       "      <th></th>\n",
       "      <th>Date</th>\n",
       "      <th>Time</th>\n",
       "      <th>day_of_year</th>\n",
       "      <th>observed</th>\n",
       "      <th>observation_entry</th>\n",
       "    </tr>\n",
       "  </thead>\n",
       "  <tbody>\n",
       "    <tr>\n",
       "      <th>0</th>\n",
       "      <td>1917-04-30</td>\n",
       "      <td>1917-04-30 11:30:00</td>\n",
       "      <td>120</td>\n",
       "      <td>1</td>\n",
       "      <td>91</td>\n",
       "    </tr>\n",
       "    <tr>\n",
       "      <th>1</th>\n",
       "      <td>1918-05-11</td>\n",
       "      <td>1918-05-11 09:33:00</td>\n",
       "      <td>131</td>\n",
       "      <td>1</td>\n",
       "      <td>91</td>\n",
       "    </tr>\n",
       "    <tr>\n",
       "      <th>2</th>\n",
       "      <td>1919-05-03</td>\n",
       "      <td>1919-05-03 14:33:00</td>\n",
       "      <td>123</td>\n",
       "      <td>1</td>\n",
       "      <td>91</td>\n",
       "    </tr>\n",
       "    <tr>\n",
       "      <th>3</th>\n",
       "      <td>1920-05-11</td>\n",
       "      <td>1920-05-11 10:46:00</td>\n",
       "      <td>132</td>\n",
       "      <td>1</td>\n",
       "      <td>91</td>\n",
       "    </tr>\n",
       "    <tr>\n",
       "      <th>4</th>\n",
       "      <td>1921-05-11</td>\n",
       "      <td>1921-05-11 06:42:00</td>\n",
       "      <td>131</td>\n",
       "      <td>1</td>\n",
       "      <td>91</td>\n",
       "    </tr>\n",
       "  </tbody>\n",
       "</table>\n",
       "</div>"
      ],
      "text/plain": [
       "        Date                Time  day_of_year  observed  observation_entry\n",
       "0 1917-04-30 1917-04-30 11:30:00          120         1                 91\n",
       "1 1918-05-11 1918-05-11 09:33:00          131         1                 91\n",
       "2 1919-05-03 1919-05-03 14:33:00          123         1                 91\n",
       "3 1920-05-11 1920-05-11 10:46:00          132         1                 91\n",
       "4 1921-05-11 1921-05-11 06:42:00          131         1                 91"
      ]
     },
     "execution_count": 63,
     "metadata": {},
     "output_type": "execute_result"
    }
   ],
   "source": [
    "df_survival.head()"
   ]
  },
  {
   "cell_type": "code",
   "execution_count": 64,
   "metadata": {},
   "outputs": [],
   "source": [
    "from lifelines import ( KaplanMeierFitter, WeibullFitter, ExponentialFitter,\n",
    "LogNormalFitter, LogLogisticFitter, NelsonAalenFitter,\n",
    "PiecewiseExponentialFitter, GeneralizedGammaFitter, SplineFitter, CoxPHFitter)\n",
    "\n",
    "from lifelines.plotting import plot_lifetimes\n",
    "from lifelines.utils import datetimes_to_durations"
   ]
  },
  {
   "cell_type": "code",
   "execution_count": 65,
   "metadata": {},
   "outputs": [],
   "source": [
    "# create knots for lifelines spline fitter\n",
    "surv_min = df_survival['day_of_year'].min()\n",
    "surv_1q = df_survival['day_of_year'].quantile(0.25)\n",
    "surv_med = df_survival['day_of_year'].median()\n",
    "surv_3q = df_survival['day_of_year'].quantile(0.75)\n",
    "surv_max = df_survival['day_of_year'].max()"
   ]
  },
  {
   "cell_type": "code",
   "execution_count": 66,
   "metadata": {},
   "outputs": [],
   "source": [
    "mod_kmf = KaplanMeierFitter()\n",
    "mod_wbf = WeibullFitter()\n",
    "mod_exf = ExponentialFitter()\n",
    "mod_lnf = LogNormalFitter()\n",
    "mod_naf = NelsonAalenFitter()\n",
    "mod_llf = LogLogisticFitter()\n",
    "mod_pwf = PiecewiseExponentialFitter([120, 135])\n",
    "mod_gg = GeneralizedGammaFitter()\n",
    "mod_spf = SplineFitter([surv_min, surv_1q, surv_med, surv_3q, surv_max])"
   ]
  },
  {
   "cell_type": "code",
   "execution_count": 67,
   "metadata": {},
   "outputs": [
    {
     "data": {
      "text/plain": [
       "<lifelines.KaplanMeierFitter:\"KM_estimate\", fitted with 103 total observations, 0 right-censored observations>"
      ]
     },
     "execution_count": 67,
     "metadata": {},
     "output_type": "execute_result"
    }
   ],
   "source": [
    "T = df_survival['day_of_year']\n",
    "E = df_survival['observed']\n",
    "\n",
    "mod_kmf.fit(T, event_observed=E)"
   ]
  },
  {
   "cell_type": "code",
   "execution_count": 68,
   "metadata": {},
   "outputs": [
    {
     "data": {
      "image/png": "[encoded data removed]",
      "text/plain": [
       "<Figure size 720x432 with 1 Axes>"
      ]
     },
     "metadata": {},
     "output_type": "display_data"
    }
   ],
   "source": [
    "mod_kmf.survival_function_.plot(figsize = (10,6))\n",
    "plt.title('Survival function of Tanana River ice at Nenana, AK');"
   ]
  },
  {
   "cell_type": "code",
   "execution_count": 69,
   "metadata": {},
   "outputs": [
    {
     "data": {
      "image/png": "[encoded data removed]",
      "text/plain": [
       "<Figure size 720x432 with 1 Axes>"
      ]
     },
     "metadata": {},
     "output_type": "display_data"
    }
   ],
   "source": [
    "mod_kmf.plot(figsize = (10,6));\n",
    "plt.title('KM Estimate of Tanana River ice at Nenana, AK w/confidence interval');"
   ]
  },
  {
   "cell_type": "code",
   "execution_count": 70,
   "metadata": {},
   "outputs": [
    {
     "data": {
      "text/plain": [
       "124.0"
      ]
     },
     "execution_count": 70,
     "metadata": {},
     "output_type": "execute_result"
    }
   ],
   "source": [
    "mod_kmf.median_survival_time_"
   ]
  },
  {
   "cell_type": "code",
   "execution_count": 71,
   "metadata": {},
   "outputs": [
    {
     "data": {
      "image/png": "[encoded data removed]",
      "text/plain": [
       "<Figure size 720x432 with 1 Axes>"
      ]
     },
     "metadata": {},
     "output_type": "display_data"
    }
   ],
   "source": [
    "plt.figure(figsize = (10, 6))\n",
    "plot_lifetimes(durations = df_survival['day_of_year'],\n",
    "               event_observed = df_survival['observed'])\n",
    "plt.xlabel('Timeline (days since Jan 1)')\n",
    "plt.ylabel('Sample Number')\n",
    "plt.title('Lifetime of Tanana River ice at Nenana, AK');"
   ]
  },
  {
   "cell_type": "code",
   "execution_count": 72,
   "metadata": {},
   "outputs": [
    {
     "data": {
      "text/html": [
       "<div>\n",
       "<style scoped>\n",
       "    .dataframe tbody tr th:only-of-type {\n",
       "        vertical-align: middle;\n",
       "    }\n",
       "\n",
       "    .dataframe tbody tr th {\n",
       "        vertical-align: top;\n",
       "    }\n",
       "\n",
       "    .dataframe thead th {\n",
       "        text-align: right;\n",
       "    }\n",
       "</style>\n",
       "<table border=\"1\" class=\"dataframe\">\n",
       "  <tbody>\n",
       "    <tr>\n",
       "      <th>model</th>\n",
       "      <td>lifelines.WeibullFitter</td>\n",
       "    </tr>\n",
       "    <tr>\n",
       "      <th>number of observations</th>\n",
       "      <td>103</td>\n",
       "    </tr>\n",
       "    <tr>\n",
       "      <th>number of events observed</th>\n",
       "      <td>103</td>\n",
       "    </tr>\n",
       "    <tr>\n",
       "      <th>log-likelihood</th>\n",
       "      <td>-344.81</td>\n",
       "    </tr>\n",
       "    <tr>\n",
       "      <th>hypothesis</th>\n",
       "      <td>lambda_ != 1, rho_ != 1</td>\n",
       "    </tr>\n",
       "  </tbody>\n",
       "</table>\n",
       "</div><table border=\"1\" class=\"dataframe\">\n",
       "  <thead>\n",
       "    <tr style=\"text-align: right;\">\n",
       "      <th></th>\n",
       "      <th>coef</th>\n",
       "      <th>se(coef)</th>\n",
       "      <th>coef lower 95%</th>\n",
       "      <th>coef upper 95%</th>\n",
       "      <th>z</th>\n",
       "      <th>p</th>\n",
       "      <th>-log2(p)</th>\n",
       "    </tr>\n",
       "  </thead>\n",
       "  <tbody>\n",
       "    <tr>\n",
       "      <th>lambda_</th>\n",
       "      <td>127.13</td>\n",
       "      <td>0.67</td>\n",
       "      <td>125.82</td>\n",
       "      <td>128.44</td>\n",
       "      <td>188.68</td>\n",
       "      <td>&lt;0.005</td>\n",
       "      <td>inf</td>\n",
       "    </tr>\n",
       "    <tr>\n",
       "      <th>rho_</th>\n",
       "      <td>19.86</td>\n",
       "      <td>1.42</td>\n",
       "      <td>17.07</td>\n",
       "      <td>22.64</td>\n",
       "      <td>13.27</td>\n",
       "      <td>&lt;0.005</td>\n",
       "      <td>131.05</td>\n",
       "    </tr>\n",
       "  </tbody>\n",
       "</table>"
      ],
      "text/plain": [
       "<IPython.core.display.HTML object>"
      ]
     },
     "metadata": {},
     "output_type": "display_data"
    }
   ],
   "source": [
    "wf = mod_wbf.fit(T, E)\n",
    "\n",
    "wf.print_summary()"
   ]
  },
  {
   "cell_type": "code",
   "execution_count": 73,
   "metadata": {},
   "outputs": [
    {
     "data": {
      "image/png": "[encoded data removed]",
      "text/plain": [
       "<Figure size 1080x864 with 9 Axes>"
      ]
     },
     "metadata": {},
     "output_type": "display_data"
    }
   ],
   "source": [
    "fig, axes = plt.subplots(3, 3, figsize=(15, 12))\n",
    "\n",
    "wbf = mod_wbf.fit(T, E, label='WeibullFitter')\n",
    "exf = mod_exf.fit(T, E, label='ExponentalFitter')\n",
    "lnf = mod_lnf.fit(T, E, label='LogNormalFitter')\n",
    "kmf = mod_kmf.fit(T, E, label ='KaplanMeierFitter')\n",
    "naf = mod_naf.fit(T, E, label='NelsonAalenFitter')\n",
    "llf = mod_llf.fit(T, E, label='LogLogisticFitter')\n",
    "pwf = mod_pwf.fit(T, E, label='PiecewiseExponentialFitter')\n",
    "gg = mod_gg.fit(T, E, label='GeneralizedGammaFitter')\n",
    "spf = mod_spf.fit(T, E, label='SplineFitter')\n",
    "\n",
    "wbf.plot_cumulative_hazard(ax=axes[0][0])\n",
    "exf.plot_cumulative_hazard(ax=axes[0][1])\n",
    "lnf.plot_cumulative_hazard(ax=axes[0][2])\n",
    "naf.plot_cumulative_hazard(ax=axes[1][0])\n",
    "llf.plot_cumulative_hazard(ax=axes[1][1])\n",
    "pwf.plot_cumulative_hazard(ax=axes[1][2])\n",
    "gg.plot_cumulative_hazard(ax=axes[2][0])\n",
    "spf.plot_cumulative_hazard(ax=axes[2][1]);"
   ]
  },
  {
   "cell_type": "code",
   "execution_count": 74,
   "metadata": {},
   "outputs": [
    {
     "data": {
      "image/png": "[encoded data removed]",
      "text/plain": [
       "<Figure size 1080x864 with 9 Axes>"
      ]
     },
     "metadata": {},
     "output_type": "display_data"
    }
   ],
   "source": [
    "fig, axes = plt.subplots(3, 3, figsize=(15, 12))\n",
    "\n",
    "wbf.plot_survival_function(ax=axes[0][0])\n",
    "exf.plot_survival_function(ax=axes[0][1])\n",
    "lnf.plot_survival_function(ax=axes[0][2])\n",
    "kmf.plot_survival_function(ax=axes[1][0])\n",
    "llf.plot_survival_function(ax=axes[1][1])\n",
    "pwf.plot_survival_function(ax=axes[1][2])\n",
    "gg.plot_survival_function(ax=axes[2][0])\n",
    "spf.plot_survival_function(ax=axes[2][1]);"
   ]
  },
  {
   "cell_type": "code",
   "execution_count": 75,
   "metadata": {},
   "outputs": [
    {
     "data": {
      "text/html": [
       "<div>\n",
       "<style scoped>\n",
       "    .dataframe tbody tr th:only-of-type {\n",
       "        vertical-align: middle;\n",
       "    }\n",
       "\n",
       "    .dataframe tbody tr th {\n",
       "        vertical-align: top;\n",
       "    }\n",
       "\n",
       "    .dataframe thead th {\n",
       "        text-align: right;\n",
       "    }\n",
       "</style>\n",
       "<table border=\"1\" class=\"dataframe\">\n",
       "  <thead>\n",
       "    <tr style=\"text-align: right;\">\n",
       "      <th></th>\n",
       "      <th>Date</th>\n",
       "      <th>Time</th>\n",
       "      <th>day_of_year</th>\n",
       "      <th>observed</th>\n",
       "      <th>observation_entry</th>\n",
       "    </tr>\n",
       "  </thead>\n",
       "  <tbody>\n",
       "    <tr>\n",
       "      <th>0</th>\n",
       "      <td>1917-04-30</td>\n",
       "      <td>1917-04-30 11:30:00</td>\n",
       "      <td>120</td>\n",
       "      <td>1</td>\n",
       "      <td>91</td>\n",
       "    </tr>\n",
       "    <tr>\n",
       "      <th>1</th>\n",
       "      <td>1918-05-11</td>\n",
       "      <td>1918-05-11 09:33:00</td>\n",
       "      <td>131</td>\n",
       "      <td>1</td>\n",
       "      <td>91</td>\n",
       "    </tr>\n",
       "    <tr>\n",
       "      <th>2</th>\n",
       "      <td>1919-05-03</td>\n",
       "      <td>1919-05-03 14:33:00</td>\n",
       "      <td>123</td>\n",
       "      <td>1</td>\n",
       "      <td>91</td>\n",
       "    </tr>\n",
       "    <tr>\n",
       "      <th>3</th>\n",
       "      <td>1920-05-11</td>\n",
       "      <td>1920-05-11 10:46:00</td>\n",
       "      <td>132</td>\n",
       "      <td>1</td>\n",
       "      <td>91</td>\n",
       "    </tr>\n",
       "    <tr>\n",
       "      <th>4</th>\n",
       "      <td>1921-05-11</td>\n",
       "      <td>1921-05-11 06:42:00</td>\n",
       "      <td>131</td>\n",
       "      <td>1</td>\n",
       "      <td>91</td>\n",
       "    </tr>\n",
       "    <tr>\n",
       "      <th>...</th>\n",
       "      <td>...</td>\n",
       "      <td>...</td>\n",
       "      <td>...</td>\n",
       "      <td>...</td>\n",
       "      <td>...</td>\n",
       "    </tr>\n",
       "    <tr>\n",
       "      <th>98</th>\n",
       "      <td>2015-04-24</td>\n",
       "      <td>2015-04-24 14:25:00</td>\n",
       "      <td>114</td>\n",
       "      <td>1</td>\n",
       "      <td>91</td>\n",
       "    </tr>\n",
       "    <tr>\n",
       "      <th>99</th>\n",
       "      <td>2016-04-23</td>\n",
       "      <td>2016-04-23 15:39:00</td>\n",
       "      <td>114</td>\n",
       "      <td>1</td>\n",
       "      <td>91</td>\n",
       "    </tr>\n",
       "    <tr>\n",
       "      <th>100</th>\n",
       "      <td>2017-05-01</td>\n",
       "      <td>2017-05-01 12:00:00</td>\n",
       "      <td>121</td>\n",
       "      <td>1</td>\n",
       "      <td>91</td>\n",
       "    </tr>\n",
       "    <tr>\n",
       "      <th>101</th>\n",
       "      <td>2018-05-01</td>\n",
       "      <td>2018-05-01 13:18:00</td>\n",
       "      <td>121</td>\n",
       "      <td>1</td>\n",
       "      <td>91</td>\n",
       "    </tr>\n",
       "    <tr>\n",
       "      <th>102</th>\n",
       "      <td>2019-04-14</td>\n",
       "      <td>2019-04-14 00:21:00</td>\n",
       "      <td>104</td>\n",
       "      <td>1</td>\n",
       "      <td>91</td>\n",
       "    </tr>\n",
       "  </tbody>\n",
       "</table>\n",
       "<p>103 rows × 5 columns</p>\n",
       "</div>"
      ],
      "text/plain": [
       "          Date                Time  day_of_year  observed  observation_entry\n",
       "0   1917-04-30 1917-04-30 11:30:00          120         1                 91\n",
       "1   1918-05-11 1918-05-11 09:33:00          131         1                 91\n",
       "2   1919-05-03 1919-05-03 14:33:00          123         1                 91\n",
       "3   1920-05-11 1920-05-11 10:46:00          132         1                 91\n",
       "4   1921-05-11 1921-05-11 06:42:00          131         1                 91\n",
       "..         ...                 ...          ...       ...                ...\n",
       "98  2015-04-24 2015-04-24 14:25:00          114         1                 91\n",
       "99  2016-04-23 2016-04-23 15:39:00          114         1                 91\n",
       "100 2017-05-01 2017-05-01 12:00:00          121         1                 91\n",
       "101 2018-05-01 2018-05-01 13:18:00          121         1                 91\n",
       "102 2019-04-14 2019-04-14 00:21:00          104         1                 91\n",
       "\n",
       "[103 rows x 5 columns]"
      ]
     },
     "execution_count": 75,
     "metadata": {},
     "output_type": "execute_result"
    }
   ],
   "source": [
    "df_survival"
   ]
  },
  {
   "cell_type": "markdown",
   "metadata": {},
   "source": [
    "_Example:_\n",
    "\"\"\"\n",
    "     week  arrest  fin  age  race  wexp  mar  paro  prio\n",
    "0      20       1    0   27     1     0    0     1     3\n",
    "1      17       1    0   18     1     0    0     1     8\n",
    "2      25       1    0   19     0     1    0     1    13\n",
    "3      52       0    1   23     1     1    1     1     1\n",
    "\"\"\"\n",
    "The week column is the duration, the arrest column is the event occurred, and the other columns represent variables we wish to regress against.\n",
    "\n",
    "['numColdDays', 'iceThickness', 'dayOfYear', 'uvIndex', 'precipIntensity', 'humidity']\n",
    "\n",
    "\n",
    "Use past & future sets for splits\n",
    "\n",
    "_(before doing all these experiments manually, might want to consider using RFE or similar)_\n",
    "\n",
    "Experiment 1:\n",
    "| date | day_of_year | duration | break_observed | cold_days | ice_thickness | uv_index | precip_intensity | precip_accumulation |\n",
    "|---|---|---|---|---|---|---|---|---|\n",
    "\n",
    "Experiment 2:\n",
    "| date | day_of_year | duration | break_observed | hot_days | ice_thickness | uv_index | precip_intensity | precip_accumulation |\n",
    "|---|---|---|---|---|---|---|---|---|\n",
    "\n",
    "Experiment 3:\n",
    "| date | day_of_year | duration | break_observed | cold_days | avg_temp | ice_thickness | uv_index | precip_intensity | precip_accumulation |\n",
    "|---|---|---|---|---|---|---|---|---|---|\n",
    "\n",
    "Experiment 4:\n",
    "| date | day_of_year | duration | break_observed | hot_days | avg_temp | ice_thickness | uv_index | precip_intensity | precip_accumulation |\n",
    "|---|---|---|---|---|---|---|---|---|---|\n",
    "\n",
    "\n",
    "| date | day_of_year | duration | break_observed | hot_days | cold_days | avg_temp? | min_temp? | max_temp? | ice_thickness | uv_index | precip_intensity | precip_accumulation? | humidity? |\n",
    "|---|---|---|---|---|---|---|---|---|---|---|---|---|---|\n",
    "\n",
    "\n",
    "| date | day_of_year | duration | break_observed | hot_days | cold_days | avg_temp? | min_temp? | max_temp? | ice_thickness | uv_index | precip_intensity | precip_accumulation? | humidity? |\n",
    "|---|---|---|---|---|---|---|---|---|---|---|---|---|---|\n",
    "\n",
    "\n",
    "| date | day_of_year | duration | break_observed | hot_days | cold_days | avg_temp? | min_temp? | max_temp? | ice_thickness | uv_index | precip_intensity | precip_accumulation? | humidity? |\n",
    "|---|---|---|---|---|---|---|---|---|---|---|---|---|---|"
   ]
  },
  {
   "cell_type": "code",
   "execution_count": 76,
   "metadata": {},
   "outputs": [
    {
     "data": {
      "text/plain": [
       "Index(['Date', 'moonPhase', 'precipIntensity', 'humidity', 'atmoPressure',\n",
       "       'windSpeed', 'windGust', 'windBearing', 'cloudCover', 'uvIndex',\n",
       "       'temperatureMin', 'temperatureMax', 'precipType', 'precipAccumulation',\n",
       "       'winningTime', 'daylightHours', 'iceThickness', 'dayOfYear',\n",
       "       'winningDate', 'precip_rain', 'precip_snow', 'temperatureAvg',\n",
       "       'numHotDays', 'numColdDays', 'accumulatedSnow', 'noise_test'],\n",
       "      dtype='object')"
      ]
     },
     "execution_count": 76,
     "metadata": {},
     "output_type": "execute_result"
    }
   ],
   "source": [
    "df_past.columns"
   ]
  },
  {
   "cell_type": "code",
   "execution_count": 77,
   "metadata": {},
   "outputs": [],
   "source": [
    "# df_past_surv = df_past.copy()"
   ]
  },
  {
   "cell_type": "code",
   "execution_count": 78,
   "metadata": {},
   "outputs": [],
   "source": [
    "# df_past_surv.drop(columns = ['moonPhase', 'atmoPressure', 'windSpeed', 'windGust', 'windBearing', 'cloudCover',\n",
    "#                   'precipType', 'precipAccumulation', 'precip_rain', 'precip_snow', 'noise_test'],\n",
    "#                   inplace = True)"
   ]
  },
  {
   "cell_type": "code",
   "execution_count": 79,
   "metadata": {},
   "outputs": [],
   "source": [
    "# df_past_surv['duration'] = 1"
   ]
  },
  {
   "cell_type": "code",
   "execution_count": 80,
   "metadata": {},
   "outputs": [],
   "source": [
    "# df_past_surv['winningTime'].value_counts()"
   ]
  },
  {
   "cell_type": "code",
   "execution_count": 81,
   "metadata": {},
   "outputs": [],
   "source": [
    "# idx_w = df_past_surv.loc[df_past_surv['winningDate'] == 1].index\n",
    "# idx_w"
   ]
  },
  {
   "cell_type": "code",
   "execution_count": 82,
   "metadata": {},
   "outputs": [],
   "source": [
    "# df_past_surv.loc[idx_w]['winningTime']"
   ]
  },
  {
   "cell_type": "code",
   "execution_count": 83,
   "metadata": {},
   "outputs": [],
   "source": [
    "# for row in idx_w:\n",
    "#     win_time = df_past_surv.loc[row]['winningTime']\n",
    "#     win_time = pd.to_datetime(win_time)\n",
    "#     dur = win_time.minute + win_time.hour * 60\n",
    "#     dur_pcnt = dur / 1440\n",
    "#     df_past_surv['duration'].loc[row] = dur_pcnt"
   ]
  },
  {
   "cell_type": "markdown",
   "metadata": {},
   "source": [
    "Experiment 1:\n",
    "| date | day_of_year | duration | break_observed | cold_days | ice_thickness | uv_index | precip_intensity | precip_accumulation |\n",
    "|---|---|---|---|---|---|---|---|---|\n",
    "\n",
    "Experiment 2:\n",
    "| date | day_of_year | duration | break_observed | hot_days | ice_thickness | uv_index | precip_intensity | precip_accumulation |\n",
    "|---|---|---|---|---|---|---|---|---|"
   ]
  },
  {
   "cell_type": "code",
   "execution_count": 84,
   "metadata": {},
   "outputs": [],
   "source": [
    "# df_past_surv.columns"
   ]
  },
  {
   "cell_type": "code",
   "execution_count": 85,
   "metadata": {},
   "outputs": [],
   "source": [
    "# years = [year for year in range(2009, 2017)]\n",
    "# drop_index = []\n",
    "# for i, year in enumerate(years):\n",
    "#     idx_y = df_past_surv.loc[df_past_surv['Date'].dt.year == year].index\n",
    "#     for idx in idx_y:\n",
    "#         if idx > idx_w[i]:\n",
    "#             drop_index.append(idx)\n",
    "#         else:\n",
    "#             pass"
   ]
  },
  {
   "cell_type": "code",
   "execution_count": 86,
   "metadata": {},
   "outputs": [],
   "source": [
    "# for idx in drop_index:\n",
    "#     df_past_surv.drop(index = idx, inplace = True)"
   ]
  },
  {
   "cell_type": "code",
   "execution_count": 87,
   "metadata": {},
   "outputs": [],
   "source": [
    "# df_past_surv['numHotDays'].value_counts()"
   ]
  },
  {
   "cell_type": "markdown",
   "metadata": {},
   "source": [
    "I drop the 'numHotDays' columns from df_past_surv since all values are 0."
   ]
  },
  {
   "cell_type": "code",
   "execution_count": 88,
   "metadata": {},
   "outputs": [],
   "source": [
    "# df_past_surv.drop(columns = 'numHotDays', inplace = True)"
   ]
  },
  {
   "cell_type": "code",
   "execution_count": 89,
   "metadata": {},
   "outputs": [],
   "source": [
    "# df_past_surv.corr()"
   ]
  },
  {
   "cell_type": "code",
   "execution_count": 90,
   "metadata": {},
   "outputs": [],
   "source": [
    "# # drop_cols = ['Date', 'humidity', 'temperatureMin', 'temperatureMax', 'winningTime', 'daylightHours', 'precipIntensity']\n",
    "# drop_cols = ['Date', 'winningTime', 'temperatureMin', 'temperatureMax', 'precipIntensity']\n",
    "# X = df_past_surv.drop(columns = drop_cols)\n",
    "# dur = df_past_surv['duration']\n",
    "# obs = df_past_surv['winningDate']\n",
    "\n",
    "# cph = CoxPHFitter()\n",
    "# cph.fit(X, duration_col='duration', event_col='winningDate')\n",
    "\n",
    "# cph.print_summary()  # access the results using cph.summary\n",
    "# cph.plot();"
   ]
  },
  {
   "cell_type": "code",
   "execution_count": 91,
   "metadata": {},
   "outputs": [],
   "source": [
    "# prediction examples, X is the dataset\n",
    "# cph.predict_partial_hazard(X)\n",
    "# cph.predict_survival_function(X)\n",
    "# cph.predict_median(X)\n",
    "\n",
    "# filter down to censored observations to predict further survival\n",
    "# censored_subjects = X.loc[~obs.astype(bool)]\n",
    "# censored_subjects_last_obs = censored_subjects['duration']\n",
    "\n",
    "# cph.predict_survival_function(censored_subjects,\n",
    "#                               times=[5., 25., 50.],\n",
    "#                               conditional_after=censored_subjects_last_obs)\n",
    "# cph.predict_median(censored_subjects,\n",
    "#                    conditional_after=censored_subjects_last_obs)"
   ]
  },
  {
   "cell_type": "code",
   "execution_count": 92,
   "metadata": {},
   "outputs": [],
   "source": [
    "# T = df_past_surv['duration']\n",
    "# E = df_past_surv['winningDate']"
   ]
  },
  {
   "cell_type": "code",
   "execution_count": 93,
   "metadata": {},
   "outputs": [],
   "source": [
    "# fig, axes = plt.subplots(3, 3, figsize=(15, 12))\n",
    "\n",
    "# wbf = mod_wbf.fit(T, E, label='WeibullFitter')\n",
    "# exf = mod_exf.fit(T, E, label='ExponentalFitter')\n",
    "# lnf = mod_lnf.fit(T, E, label='LogNormalFitter')\n",
    "# kmf = mod_kmf.fit(T, E, label ='KaplanMeierFitter')\n",
    "# naf = mod_naf.fit(T, E, label='NelsonAalenFitter')\n",
    "# llf = mod_llf.fit(T, E, label='LogLogisticFitter')\n",
    "# pwf = mod_pwf.fit(T, E, label='PiecewiseExponentialFitter')\n",
    "# gg = mod_gg.fit(T, E, label='GeneralizedGammaFitter')\n",
    "# spf = mod_spf.fit(T, E, label='SplineFitter')\n",
    "\n",
    "# wbf.plot_cumulative_hazard(ax=axes[0][0])\n",
    "# exf.plot_cumulative_hazard(ax=axes[0][1])\n",
    "# lnf.plot_cumulative_hazard(ax=axes[0][2])\n",
    "# naf.plot_cumulative_hazard(ax=axes[1][0])\n",
    "# llf.plot_cumulative_hazard(ax=axes[1][1])\n",
    "# pwf.plot_cumulative_hazard(ax=axes[1][2])\n",
    "# gg.plot_cumulative_hazard(ax=axes[2][0])\n",
    "# spf.plot_cumulative_hazard(ax=axes[2][1]);"
   ]
  },
  {
   "cell_type": "code",
   "execution_count": 94,
   "metadata": {},
   "outputs": [],
   "source": [
    "# fig, axes = plt.subplots(3, 3, figsize=(15, 12))\n",
    "\n",
    "# wbf.plot_survival_function(ax=axes[0][0])\n",
    "# exf.plot_survival_function(ax=axes[0][1])\n",
    "# lnf.plot_survival_function(ax=axes[0][2])\n",
    "# kmf.plot_survival_function(ax=axes[1][0])\n",
    "# llf.plot_survival_function(ax=axes[1][1])\n",
    "# pwf.plot_survival_function(ax=axes[1][2])\n",
    "# gg.plot_survival_function(ax=axes[2][0])\n",
    "# spf.plot_survival_function(ax=axes[2][1]);"
   ]
  },
  {
   "cell_type": "code",
   "execution_count": 95,
   "metadata": {},
   "outputs": [],
   "source": [
    "df_survival['past'] = (df_survival['Date'] < '2015-01-01').astype(np.int)\n",
    "df_survival['future'] = 1 - df_survival['past']"
   ]
  },
  {
   "cell_type": "code",
   "execution_count": 96,
   "metadata": {},
   "outputs": [
    {
     "data": {
      "text/html": [
       "<div>\n",
       "<style scoped>\n",
       "    .dataframe tbody tr th:only-of-type {\n",
       "        vertical-align: middle;\n",
       "    }\n",
       "\n",
       "    .dataframe tbody tr th {\n",
       "        vertical-align: top;\n",
       "    }\n",
       "\n",
       "    .dataframe thead th {\n",
       "        text-align: right;\n",
       "    }\n",
       "</style>\n",
       "<table border=\"1\" class=\"dataframe\">\n",
       "  <thead>\n",
       "    <tr style=\"text-align: right;\">\n",
       "      <th></th>\n",
       "      <th>Date</th>\n",
       "      <th>Time</th>\n",
       "      <th>day_of_year</th>\n",
       "      <th>observed</th>\n",
       "      <th>observation_entry</th>\n",
       "      <th>past</th>\n",
       "      <th>future</th>\n",
       "    </tr>\n",
       "  </thead>\n",
       "  <tbody>\n",
       "    <tr>\n",
       "      <th>0</th>\n",
       "      <td>1917-04-30</td>\n",
       "      <td>1917-04-30 11:30:00</td>\n",
       "      <td>120</td>\n",
       "      <td>1</td>\n",
       "      <td>91</td>\n",
       "      <td>1</td>\n",
       "      <td>0</td>\n",
       "    </tr>\n",
       "    <tr>\n",
       "      <th>1</th>\n",
       "      <td>1918-05-11</td>\n",
       "      <td>1918-05-11 09:33:00</td>\n",
       "      <td>131</td>\n",
       "      <td>1</td>\n",
       "      <td>91</td>\n",
       "      <td>1</td>\n",
       "      <td>0</td>\n",
       "    </tr>\n",
       "    <tr>\n",
       "      <th>2</th>\n",
       "      <td>1919-05-03</td>\n",
       "      <td>1919-05-03 14:33:00</td>\n",
       "      <td>123</td>\n",
       "      <td>1</td>\n",
       "      <td>91</td>\n",
       "      <td>1</td>\n",
       "      <td>0</td>\n",
       "    </tr>\n",
       "    <tr>\n",
       "      <th>3</th>\n",
       "      <td>1920-05-11</td>\n",
       "      <td>1920-05-11 10:46:00</td>\n",
       "      <td>132</td>\n",
       "      <td>1</td>\n",
       "      <td>91</td>\n",
       "      <td>1</td>\n",
       "      <td>0</td>\n",
       "    </tr>\n",
       "    <tr>\n",
       "      <th>4</th>\n",
       "      <td>1921-05-11</td>\n",
       "      <td>1921-05-11 06:42:00</td>\n",
       "      <td>131</td>\n",
       "      <td>1</td>\n",
       "      <td>91</td>\n",
       "      <td>1</td>\n",
       "      <td>0</td>\n",
       "    </tr>\n",
       "  </tbody>\n",
       "</table>\n",
       "</div>"
      ],
      "text/plain": [
       "        Date                Time  day_of_year  observed  observation_entry  \\\n",
       "0 1917-04-30 1917-04-30 11:30:00          120         1                 91   \n",
       "1 1918-05-11 1918-05-11 09:33:00          131         1                 91   \n",
       "2 1919-05-03 1919-05-03 14:33:00          123         1                 91   \n",
       "3 1920-05-11 1920-05-11 10:46:00          132         1                 91   \n",
       "4 1921-05-11 1921-05-11 06:42:00          131         1                 91   \n",
       "\n",
       "   past  future  \n",
       "0     1       0  \n",
       "1     1       0  \n",
       "2     1       0  \n",
       "3     1       0  \n",
       "4     1       0  "
      ]
     },
     "execution_count": 96,
     "metadata": {},
     "output_type": "execute_result"
    }
   ],
   "source": [
    "df_survival.head()"
   ]
  },
  {
   "cell_type": "code",
   "execution_count": 97,
   "metadata": {},
   "outputs": [],
   "source": [
    "drop_cols = ['Date', 'Time', 'past', 'future']\n",
    "X_past = df_survival.loc[df_survival['past'] == 1].drop(columns = drop_cols)"
   ]
  },
  {
   "cell_type": "code",
   "execution_count": 98,
   "metadata": {},
   "outputs": [],
   "source": [
    "T_p = X_past['day_of_year']\n",
    "E_p = X_past['observed']"
   ]
  },
  {
   "cell_type": "code",
   "execution_count": 99,
   "metadata": {},
   "outputs": [],
   "source": [
    "cph = CoxPHFitter()"
   ]
  },
  {
   "cell_type": "code",
   "execution_count": 100,
   "metadata": {},
   "outputs": [],
   "source": [
    "X_future = df_survival.loc[df_survival['future'] == 1].drop(columns = drop_cols)\n",
    "T_f = X_future['day_of_year']\n",
    "E_f = X_future['observed']"
   ]
  },
  {
   "cell_type": "code",
   "execution_count": 152,
   "metadata": {},
   "outputs": [],
   "source": [
    "exclude = ['Date', 'moonPhase', 'atmoPressure', 'windSpeed', 'windGust', 'windBearing', 'precip_rain',\n",
    "           'precip_snow', 'noise_test', 'precipType', 'winningTime', 'numHotDays', 'temperatureMin',\n",
    "           'temperatureMax', 'precipAccumulation']\n",
    "X_train = df_past.drop(columns = exclude)\n",
    "X_test = df_future.drop(columns = exclude)"
   ]
  },
  {
   "cell_type": "code",
   "execution_count": 122,
   "metadata": {},
   "outputs": [],
   "source": [
    "test = cph.fit(X_train, 'dayOfYear', 'winningDate')"
   ]
  },
  {
   "cell_type": "code",
   "execution_count": 123,
   "metadata": {},
   "outputs": [
    {
     "data": {
      "text/plain": [
       "0.9970617042115573"
      ]
     },
     "execution_count": 123,
     "metadata": {},
     "output_type": "execute_result"
    }
   ],
   "source": [
    "test.score_"
   ]
  },
  {
   "cell_type": "code",
   "execution_count": 104,
   "metadata": {},
   "outputs": [
    {
     "data": {
      "text/html": [
       "<div>\n",
       "<style scoped>\n",
       "    .dataframe tbody tr th:only-of-type {\n",
       "        vertical-align: middle;\n",
       "    }\n",
       "\n",
       "    .dataframe tbody tr th {\n",
       "        vertical-align: top;\n",
       "    }\n",
       "\n",
       "    .dataframe thead th {\n",
       "        text-align: right;\n",
       "    }\n",
       "</style>\n",
       "<table border=\"1\" class=\"dataframe\">\n",
       "  <tbody>\n",
       "    <tr>\n",
       "      <th>model</th>\n",
       "      <td>lifelines.CoxPHFitter</td>\n",
       "    </tr>\n",
       "    <tr>\n",
       "      <th>duration col</th>\n",
       "      <td>'dayOfYear'</td>\n",
       "    </tr>\n",
       "    <tr>\n",
       "      <th>event col</th>\n",
       "      <td>'winningDate'</td>\n",
       "    </tr>\n",
       "    <tr>\n",
       "      <th>number of observations</th>\n",
       "      <td>488</td>\n",
       "    </tr>\n",
       "    <tr>\n",
       "      <th>number of events observed</th>\n",
       "      <td>8</td>\n",
       "    </tr>\n",
       "    <tr>\n",
       "      <th>partial log-likelihood</th>\n",
       "      <td>-11.87</td>\n",
       "    </tr>\n",
       "    <tr>\n",
       "      <th>time fit was run</th>\n",
       "      <td>2020-02-24 23:52:45 UTC</td>\n",
       "    </tr>\n",
       "  </tbody>\n",
       "</table>\n",
       "</div><table border=\"1\" class=\"dataframe\">\n",
       "  <thead>\n",
       "    <tr style=\"text-align: right;\">\n",
       "      <th></th>\n",
       "      <th>coef</th>\n",
       "      <th>exp(coef)</th>\n",
       "      <th>se(coef)</th>\n",
       "      <th>coef lower 95%</th>\n",
       "      <th>coef upper 95%</th>\n",
       "      <th>exp(coef) lower 95%</th>\n",
       "      <th>exp(coef) upper 95%</th>\n",
       "      <th>z</th>\n",
       "      <th>p</th>\n",
       "      <th>-log2(p)</th>\n",
       "    </tr>\n",
       "  </thead>\n",
       "  <tbody>\n",
       "    <tr>\n",
       "      <th>precipIntensity</th>\n",
       "      <td>-28024.42</td>\n",
       "      <td>0.00</td>\n",
       "      <td>908564.34</td>\n",
       "      <td>-1808777.80</td>\n",
       "      <td>1752728.96</td>\n",
       "      <td>0.00</td>\n",
       "      <td>nan</td>\n",
       "      <td>-0.03</td>\n",
       "      <td>0.98</td>\n",
       "      <td>0.04</td>\n",
       "    </tr>\n",
       "    <tr>\n",
       "      <th>humidity</th>\n",
       "      <td>-10.78</td>\n",
       "      <td>0.00</td>\n",
       "      <td>5.45</td>\n",
       "      <td>-21.46</td>\n",
       "      <td>-0.11</td>\n",
       "      <td>0.00</td>\n",
       "      <td>0.90</td>\n",
       "      <td>-1.98</td>\n",
       "      <td>0.05</td>\n",
       "      <td>4.39</td>\n",
       "    </tr>\n",
       "    <tr>\n",
       "      <th>cloudCover</th>\n",
       "      <td>2.27</td>\n",
       "      <td>9.69</td>\n",
       "      <td>2.31</td>\n",
       "      <td>-2.27</td>\n",
       "      <td>6.81</td>\n",
       "      <td>0.10</td>\n",
       "      <td>904.97</td>\n",
       "      <td>0.98</td>\n",
       "      <td>0.33</td>\n",
       "      <td>1.61</td>\n",
       "    </tr>\n",
       "    <tr>\n",
       "      <th>uvIndex</th>\n",
       "      <td>1.88</td>\n",
       "      <td>6.52</td>\n",
       "      <td>1.58</td>\n",
       "      <td>-1.22</td>\n",
       "      <td>4.97</td>\n",
       "      <td>0.29</td>\n",
       "      <td>144.42</td>\n",
       "      <td>1.19</td>\n",
       "      <td>0.24</td>\n",
       "      <td>2.09</td>\n",
       "    </tr>\n",
       "    <tr>\n",
       "      <th>precipAccumulation</th>\n",
       "      <td>-19.64</td>\n",
       "      <td>0.00</td>\n",
       "      <td>13815.91</td>\n",
       "      <td>-27098.31</td>\n",
       "      <td>27059.04</td>\n",
       "      <td>0.00</td>\n",
       "      <td>inf</td>\n",
       "      <td>-0.00</td>\n",
       "      <td>1.00</td>\n",
       "      <td>0.00</td>\n",
       "    </tr>\n",
       "    <tr>\n",
       "      <th>daylightHours</th>\n",
       "      <td>-629.90</td>\n",
       "      <td>0.00</td>\n",
       "      <td>243.53</td>\n",
       "      <td>-1107.20</td>\n",
       "      <td>-152.59</td>\n",
       "      <td>0.00</td>\n",
       "      <td>0.00</td>\n",
       "      <td>-2.59</td>\n",
       "      <td>0.01</td>\n",
       "      <td>6.69</td>\n",
       "    </tr>\n",
       "    <tr>\n",
       "      <th>iceThickness</th>\n",
       "      <td>-0.02</td>\n",
       "      <td>0.98</td>\n",
       "      <td>0.11</td>\n",
       "      <td>-0.23</td>\n",
       "      <td>0.19</td>\n",
       "      <td>0.79</td>\n",
       "      <td>1.21</td>\n",
       "      <td>-0.19</td>\n",
       "      <td>0.85</td>\n",
       "      <td>0.24</td>\n",
       "    </tr>\n",
       "    <tr>\n",
       "      <th>temperatureAvg</th>\n",
       "      <td>0.21</td>\n",
       "      <td>1.23</td>\n",
       "      <td>0.14</td>\n",
       "      <td>-0.06</td>\n",
       "      <td>0.48</td>\n",
       "      <td>0.94</td>\n",
       "      <td>1.62</td>\n",
       "      <td>1.50</td>\n",
       "      <td>0.13</td>\n",
       "      <td>2.91</td>\n",
       "    </tr>\n",
       "    <tr>\n",
       "      <th>numColdDays</th>\n",
       "      <td>-0.19</td>\n",
       "      <td>0.83</td>\n",
       "      <td>0.21</td>\n",
       "      <td>-0.60</td>\n",
       "      <td>0.22</td>\n",
       "      <td>0.55</td>\n",
       "      <td>1.25</td>\n",
       "      <td>-0.90</td>\n",
       "      <td>0.37</td>\n",
       "      <td>1.45</td>\n",
       "    </tr>\n",
       "    <tr>\n",
       "      <th>accumulatedSnow</th>\n",
       "      <td>0.73</td>\n",
       "      <td>2.08</td>\n",
       "      <td>0.38</td>\n",
       "      <td>-0.01</td>\n",
       "      <td>1.48</td>\n",
       "      <td>0.99</td>\n",
       "      <td>4.38</td>\n",
       "      <td>1.93</td>\n",
       "      <td>0.05</td>\n",
       "      <td>4.21</td>\n",
       "    </tr>\n",
       "  </tbody>\n",
       "</table><div>\n",
       "<style scoped>\n",
       "    .dataframe tbody tr th:only-of-type {\n",
       "        vertical-align: middle;\n",
       "    }\n",
       "\n",
       "    .dataframe tbody tr th {\n",
       "        vertical-align: top;\n",
       "    }\n",
       "\n",
       "    .dataframe thead th {\n",
       "        text-align: right;\n",
       "    }\n",
       "</style>\n",
       "<table border=\"1\" class=\"dataframe\">\n",
       "  <tbody>\n",
       "    <tr>\n",
       "      <th>Concordance</th>\n",
       "      <td>1.00</td>\n",
       "    </tr>\n",
       "    <tr>\n",
       "      <th>Log-likelihood ratio test</th>\n",
       "      <td>64.20 on 10 df, -log2(p)=30.69</td>\n",
       "    </tr>\n",
       "  </tbody>\n",
       "</table>\n",
       "</div>"
      ],
      "text/plain": [
       "<IPython.core.display.HTML object>"
      ]
     },
     "metadata": {},
     "output_type": "display_data"
    }
   ],
   "source": [
    "test.print_summary()"
   ]
  },
  {
   "cell_type": "code",
   "execution_count": 143,
   "metadata": {},
   "outputs": [],
   "source": [
    "np.random.seed(seed = 42)"
   ]
  },
  {
   "cell_type": "code",
   "execution_count": 172,
   "metadata": {},
   "outputs": [
    {
     "name": "stdout",
     "output_type": "stream",
     "text": [
      "0.9930176077717061 +/- 0.008578012392203693\n"
     ]
    }
   ],
   "source": [
    "from lifelines.utils import k_fold_cross_validation\n",
    "\n",
    "cph = CoxPHFitter()\n",
    "scores = k_fold_cross_validation(cph, X_train, 'dayOfYear', event_col='winningDate', k=5)\n",
    "print(np.mean(scores), '+/-', np.std(scores))"
   ]
  },
  {
   "cell_type": "code",
   "execution_count": 186,
   "metadata": {},
   "outputs": [
    {
     "data": {
      "text/plain": [
       "(30.04389811421404, 17.538520247866234)"
      ]
     },
     "execution_count": 186,
     "metadata": {},
     "output_type": "execute_result"
    }
   ],
   "source": [
    "models = []\n",
    "for i in range(10):\n",
    "    cph = CoxPHFitter()\n",
    "    models.append(cph)\n",
    "    \n",
    "predictions = []\n",
    "for model in models:\n",
    "    model.fit(X_train, 'dayOfYear')\n",
    "    pred = model.predict_expectation(X_test)\n",
    "    predictions.append(pred.values)\n",
    "    \n",
    "np.mean(predictions), np.std(predictions)"
   ]
  },
  {
   "cell_type": "code",
   "execution_count": 193,
   "metadata": {},
   "outputs": [
    {
     "data": {
      "text/plain": [
       "array([[7.86560696e-01, 9.48003908e-01, 9.78992699e-01, ...,\n",
       "        1.00000000e+00, 1.00000000e+00, 1.00000000e+00],\n",
       "       [2.96873581e-01, 7.63301746e-01, 8.98170421e-01, ...,\n",
       "        1.00000000e+00, 1.00000000e+00, 1.00000000e+00],\n",
       "       [6.30969498e-03, 3.24120579e-01, 6.38927522e-01, ...,\n",
       "        1.00000000e+00, 1.00000000e+00, 1.00000000e+00],\n",
       "       ...,\n",
       "       [0.00000000e+00, 0.00000000e+00, 0.00000000e+00, ...,\n",
       "        1.26810301e-01, 5.73691731e-01, 8.55879580e-01],\n",
       "       [0.00000000e+00, 0.00000000e+00, 0.00000000e+00, ...,\n",
       "        1.54011387e-04, 9.42224160e-02, 5.16047254e-01],\n",
       "       [0.00000000e+00, 0.00000000e+00, 0.00000000e+00, ...,\n",
       "        8.45823335e-15, 1.63433157e-04, 8.69887618e-02]])"
      ]
     },
     "execution_count": 193,
     "metadata": {},
     "output_type": "execute_result"
    }
   ],
   "source": [
    "predictions = []\n",
    "for model in models:\n",
    "    model.fit(X_train, 'dayOfYear')\n",
    "    pred = model.predict_survival_function(X_test)\n",
    "    predictions.append(pred.values)\n",
    "    \n",
    "predictions[0]"
   ]
  },
  {
   "cell_type": "code",
   "execution_count": 199,
   "metadata": {},
   "outputs": [
    {
     "data": {
      "text/plain": [
       "(181,)"
      ]
     },
     "execution_count": 199,
     "metadata": {},
     "output_type": "execute_result"
    }
   ],
   "source": [
    "predictions[0][0,:].shape"
   ]
  },
  {
   "cell_type": "code",
   "execution_count": 207,
   "metadata": {},
   "outputs": [
    {
     "data": {
      "text/plain": [
       "<matplotlib.collections.PathCollection at 0x1a20be6cc0>"
      ]
     },
     "execution_count": 207,
     "metadata": {},
     "output_type": "execute_result"
    },
    {
     "data": {
      "image/png": "[encoded data removed]",
      "text/plain": [
       "<Figure size 432x288 with 1 Axes>"
      ]
     },
     "metadata": {},
     "output_type": "display_data"
    }
   ],
   "source": [
    "plt.scatter(range(181), predictions[0][31,:])"
   ]
  },
  {
   "cell_type": "code",
   "execution_count": null,
   "metadata": {},
   "outputs": [],
   "source": []
  }
 ],
 "metadata": {
  "kernelspec": {
   "display_name": "Python 3",
   "language": "python",
   "name": "python3"
  },
  "language_info": {
   "codemirror_mode": {
    "name": "ipython",
    "version": 3
   },
   "file_extension": ".py",
   "mimetype": "text/x-python",
   "name": "python",
   "nbconvert_exporter": "python",
   "pygments_lexer": "ipython3",
   "version": "3.6.9"
  }
 },
 "nbformat": 4,
 "nbformat_minor": 4
}
