{
 "cells": [
  {
   "cell_type": "markdown",
   "metadata": {},
   "source": [
    "# Nenana Ice Classic Modeling\n",
    "This notebook was used for modeling the NIC data."
   ]
  },
  {
   "cell_type": "code",
   "execution_count": 1,
   "metadata": {},
   "outputs": [],
   "source": [
    "# imports\n",
    "\n",
    "import numpy as np\n",
    "import pandas as pd\n",
    "\n",
    "# plotting\n",
    "%matplotlib inline\n",
    "import matplotlib.pyplot as plt\n",
    "import seaborn as sns\n",
    "\n",
    "# modeling\n",
    "from sklearn.preprocessing import RobustScaler, QuantileTransformer, Normalizer\n",
    "from sklearn.preprocessing import PowerTransformer, KBinsDiscretizer, FunctionTransformer\n",
    "from sklearn.pipeline import Pipeline, make_pipeline\n",
    "from category_encoders import WOEEncoder, OrdinalEncoder #TargetEncoder\n",
    "from sklearn.linear_model import LogisticRegressionCV, LogisticRegression\n",
    "from sklearn.model_selection import cross_val_score, TimeSeriesSplit, cross_validate, cross_val_predict\n",
    "from sklearn.svm import SVC\n",
    "\n",
    "# metrics\n",
    "from sklearn import metrics # explained_variance_score, mean_absolute_error, mean_squared_error, r2_score\n",
    "#from sklearn.utils import check_arrays # converts list-like objects to array (if needed)\n",
    "\n",
    "# import datetime\n",
    "\n",
    "import warnings\n",
    "warnings.filterwarnings(\"ignore\")\n",
    "import gc # garbage collection"
   ]
  },
  {
   "cell_type": "code",
   "execution_count": 2,
   "metadata": {},
   "outputs": [],
   "source": [
    "def stringify(data):\n",
    "    data = pd.DataFrame(data)\n",
    "    for c in data.columns.tolist():\n",
    "        data[c] = data[c].astype(str)\n",
    "    return data"
   ]
  },
  {
   "cell_type": "code",
   "execution_count": 3,
   "metadata": {},
   "outputs": [],
   "source": [
    "# read data\n",
    "df = pd.read_csv('../data/cleaned_data.csv')"
   ]
  },
  {
   "cell_type": "code",
   "execution_count": 4,
   "metadata": {},
   "outputs": [
    {
     "data": {
      "text/html": [
       "<div>\n",
       "<style scoped>\n",
       "    .dataframe tbody tr th:only-of-type {\n",
       "        vertical-align: middle;\n",
       "    }\n",
       "\n",
       "    .dataframe tbody tr th {\n",
       "        vertical-align: top;\n",
       "    }\n",
       "\n",
       "    .dataframe thead th {\n",
       "        text-align: right;\n",
       "    }\n",
       "</style>\n",
       "<table border=\"1\" class=\"dataframe\">\n",
       "  <thead>\n",
       "    <tr style=\"text-align: right;\">\n",
       "      <th></th>\n",
       "      <th>Unnamed: 0</th>\n",
       "      <th>Date</th>\n",
       "      <th>moonPhase</th>\n",
       "      <th>humidity</th>\n",
       "      <th>windSpeed</th>\n",
       "      <th>windBearing</th>\n",
       "      <th>uvIndex</th>\n",
       "      <th>temperatureMin</th>\n",
       "      <th>temperatureMax</th>\n",
       "      <th>precipType</th>\n",
       "      <th>precipIntensity</th>\n",
       "      <th>precipAccumulation</th>\n",
       "      <th>winningTime</th>\n",
       "      <th>daylightHours</th>\n",
       "      <th>iceThickness</th>\n",
       "    </tr>\n",
       "  </thead>\n",
       "  <tbody>\n",
       "    <tr>\n",
       "      <th>0</th>\n",
       "      <td>0</td>\n",
       "      <td>1989-03-01</td>\n",
       "      <td>0.80</td>\n",
       "      <td>0.70</td>\n",
       "      <td>8.42</td>\n",
       "      <td>236.0</td>\n",
       "      <td>1.0</td>\n",
       "      <td>20.58</td>\n",
       "      <td>29.65</td>\n",
       "      <td>None</td>\n",
       "      <td>0.0</td>\n",
       "      <td>0.0</td>\n",
       "      <td>0</td>\n",
       "      <td>0.423611</td>\n",
       "      <td>37.5</td>\n",
       "    </tr>\n",
       "    <tr>\n",
       "      <th>1</th>\n",
       "      <td>1</td>\n",
       "      <td>1989-03-02</td>\n",
       "      <td>0.83</td>\n",
       "      <td>0.68</td>\n",
       "      <td>8.59</td>\n",
       "      <td>266.0</td>\n",
       "      <td>1.0</td>\n",
       "      <td>-7.38</td>\n",
       "      <td>29.07</td>\n",
       "      <td>None</td>\n",
       "      <td>0.0</td>\n",
       "      <td>0.0</td>\n",
       "      <td>0</td>\n",
       "      <td>0.428472</td>\n",
       "      <td>37.5</td>\n",
       "    </tr>\n",
       "    <tr>\n",
       "      <th>2</th>\n",
       "      <td>2</td>\n",
       "      <td>1989-03-03</td>\n",
       "      <td>0.87</td>\n",
       "      <td>0.50</td>\n",
       "      <td>5.84</td>\n",
       "      <td>344.0</td>\n",
       "      <td>1.0</td>\n",
       "      <td>-19.23</td>\n",
       "      <td>1.84</td>\n",
       "      <td>None</td>\n",
       "      <td>0.0</td>\n",
       "      <td>0.0</td>\n",
       "      <td>0</td>\n",
       "      <td>0.433333</td>\n",
       "      <td>37.5</td>\n",
       "    </tr>\n",
       "    <tr>\n",
       "      <th>3</th>\n",
       "      <td>3</td>\n",
       "      <td>1989-03-04</td>\n",
       "      <td>0.90</td>\n",
       "      <td>0.51</td>\n",
       "      <td>2.52</td>\n",
       "      <td>6.0</td>\n",
       "      <td>1.0</td>\n",
       "      <td>-30.34</td>\n",
       "      <td>4.69</td>\n",
       "      <td>None</td>\n",
       "      <td>0.0</td>\n",
       "      <td>0.0</td>\n",
       "      <td>0</td>\n",
       "      <td>0.438194</td>\n",
       "      <td>37.5</td>\n",
       "    </tr>\n",
       "    <tr>\n",
       "      <th>4</th>\n",
       "      <td>4</td>\n",
       "      <td>1989-03-05</td>\n",
       "      <td>0.94</td>\n",
       "      <td>0.56</td>\n",
       "      <td>1.76</td>\n",
       "      <td>216.0</td>\n",
       "      <td>1.0</td>\n",
       "      <td>-38.53</td>\n",
       "      <td>0.74</td>\n",
       "      <td>None</td>\n",
       "      <td>0.0</td>\n",
       "      <td>0.0</td>\n",
       "      <td>0</td>\n",
       "      <td>0.442361</td>\n",
       "      <td>37.5</td>\n",
       "    </tr>\n",
       "  </tbody>\n",
       "</table>\n",
       "</div>"
      ],
      "text/plain": [
       "   Unnamed: 0        Date  moonPhase  humidity  windSpeed  windBearing  \\\n",
       "0           0  1989-03-01       0.80      0.70       8.42        236.0   \n",
       "1           1  1989-03-02       0.83      0.68       8.59        266.0   \n",
       "2           2  1989-03-03       0.87      0.50       5.84        344.0   \n",
       "3           3  1989-03-04       0.90      0.51       2.52          6.0   \n",
       "4           4  1989-03-05       0.94      0.56       1.76        216.0   \n",
       "\n",
       "   uvIndex  temperatureMin  temperatureMax precipType  precipIntensity  \\\n",
       "0      1.0           20.58           29.65       None              0.0   \n",
       "1      1.0           -7.38           29.07       None              0.0   \n",
       "2      1.0          -19.23            1.84       None              0.0   \n",
       "3      1.0          -30.34            4.69       None              0.0   \n",
       "4      1.0          -38.53            0.74       None              0.0   \n",
       "\n",
       "   precipAccumulation winningTime  daylightHours  iceThickness  \n",
       "0                 0.0           0       0.423611          37.5  \n",
       "1                 0.0           0       0.428472          37.5  \n",
       "2                 0.0           0       0.433333          37.5  \n",
       "3                 0.0           0       0.438194          37.5  \n",
       "4                 0.0           0       0.442361          37.5  "
      ]
     },
     "execution_count": 4,
     "metadata": {},
     "output_type": "execute_result"
    }
   ],
   "source": [
    "df.head()"
   ]
  },
  {
   "cell_type": "code",
   "execution_count": 5,
   "metadata": {},
   "outputs": [],
   "source": [
    "df.drop(columns = 'Unnamed: 0', inplace = True)"
   ]
  },
  {
   "cell_type": "code",
   "execution_count": 6,
   "metadata": {},
   "outputs": [
    {
     "data": {
      "text/plain": [
       "(2679, 14)"
      ]
     },
     "execution_count": 6,
     "metadata": {},
     "output_type": "execute_result"
    }
   ],
   "source": [
    "df.shape"
   ]
  },
  {
   "cell_type": "markdown",
   "metadata": {},
   "source": [
    "## Feature Engineering"
   ]
  },
  {
   "cell_type": "code",
   "execution_count": 7,
   "metadata": {},
   "outputs": [
    {
     "name": "stdout",
     "output_type": "stream",
     "text": [
      "<class 'pandas.core.frame.DataFrame'>\n",
      "RangeIndex: 2679 entries, 0 to 2678\n",
      "Data columns (total 14 columns):\n",
      " #   Column              Non-Null Count  Dtype  \n",
      "---  ------              --------------  -----  \n",
      " 0   Date                2679 non-null   object \n",
      " 1   moonPhase           2679 non-null   float64\n",
      " 2   humidity            2679 non-null   float64\n",
      " 3   windSpeed           2679 non-null   float64\n",
      " 4   windBearing         2679 non-null   float64\n",
      " 5   uvIndex             2679 non-null   float64\n",
      " 6   temperatureMin      2679 non-null   float64\n",
      " 7   temperatureMax      2679 non-null   float64\n",
      " 8   precipType          2679 non-null   object \n",
      " 9   precipIntensity     2679 non-null   float64\n",
      " 10  precipAccumulation  2679 non-null   float64\n",
      " 11  winningTime         2679 non-null   object \n",
      " 12  daylightHours       2679 non-null   float64\n",
      " 13  iceThickness        2679 non-null   float64\n",
      "dtypes: float64(11), object(3)\n",
      "memory usage: 293.1+ KB\n"
     ]
    }
   ],
   "source": [
    "df.info()"
   ]
  },
  {
   "cell_type": "code",
   "execution_count": 8,
   "metadata": {},
   "outputs": [],
   "source": [
    "df['Date'] = pd.to_datetime(df['Date'])"
   ]
  },
  {
   "cell_type": "code",
   "execution_count": 9,
   "metadata": {},
   "outputs": [],
   "source": [
    "df['winningTime'] = pd.to_datetime(df['winningTime'], errors = 'ignore')"
   ]
  },
  {
   "cell_type": "code",
   "execution_count": 10,
   "metadata": {},
   "outputs": [],
   "source": [
    "# create column for ordinal day of year\n",
    "df['dayOfYear'] = df['Date'].dt.dayofyear"
   ]
  },
  {
   "cell_type": "code",
   "execution_count": 11,
   "metadata": {},
   "outputs": [],
   "source": [
    "# create binary 'winningDate' column\n",
    "df['winningDate'] = 0\n",
    "idx = df.loc[df['winningTime'] != '0'].index\n",
    "df['winningDate'].loc[idx] = 1"
   ]
  },
  {
   "cell_type": "code",
   "execution_count": 12,
   "metadata": {},
   "outputs": [
    {
     "name": "stdout",
     "output_type": "stream",
     "text": [
      "<class 'pandas.core.frame.DataFrame'>\n",
      "RangeIndex: 2679 entries, 0 to 2678\n",
      "Data columns (total 16 columns):\n",
      " #   Column              Non-Null Count  Dtype         \n",
      "---  ------              --------------  -----         \n",
      " 0   Date                2679 non-null   datetime64[ns]\n",
      " 1   moonPhase           2679 non-null   float64       \n",
      " 2   humidity            2679 non-null   float64       \n",
      " 3   windSpeed           2679 non-null   float64       \n",
      " 4   windBearing         2679 non-null   float64       \n",
      " 5   uvIndex             2679 non-null   float64       \n",
      " 6   temperatureMin      2679 non-null   float64       \n",
      " 7   temperatureMax      2679 non-null   float64       \n",
      " 8   precipType          2679 non-null   object        \n",
      " 9   precipIntensity     2679 non-null   float64       \n",
      " 10  precipAccumulation  2679 non-null   float64       \n",
      " 11  winningTime         2679 non-null   object        \n",
      " 12  daylightHours       2679 non-null   float64       \n",
      " 13  iceThickness        2679 non-null   float64       \n",
      " 14  dayOfYear           2679 non-null   int64         \n",
      " 15  winningDate         2679 non-null   int64         \n",
      "dtypes: datetime64[ns](1), float64(11), int64(2), object(2)\n",
      "memory usage: 335.0+ KB\n"
     ]
    }
   ],
   "source": [
    "df.info()"
   ]
  },
  {
   "cell_type": "code",
   "execution_count": 13,
   "metadata": {},
   "outputs": [],
   "source": [
    "df['past'] = (df['Date'] < '2015-01-01').astype(np.int)"
   ]
  },
  {
   "cell_type": "code",
   "execution_count": 14,
   "metadata": {},
   "outputs": [],
   "source": [
    "df['future'] = 1 - df['past']"
   ]
  },
  {
   "cell_type": "code",
   "execution_count": 15,
   "metadata": {},
   "outputs": [
    {
     "data": {
      "text/html": [
       "<div>\n",
       "<style scoped>\n",
       "    .dataframe tbody tr th:only-of-type {\n",
       "        vertical-align: middle;\n",
       "    }\n",
       "\n",
       "    .dataframe tbody tr th {\n",
       "        vertical-align: top;\n",
       "    }\n",
       "\n",
       "    .dataframe thead th {\n",
       "        text-align: right;\n",
       "    }\n",
       "</style>\n",
       "<table border=\"1\" class=\"dataframe\">\n",
       "  <thead>\n",
       "    <tr style=\"text-align: right;\">\n",
       "      <th></th>\n",
       "      <th>Date</th>\n",
       "      <th>moonPhase</th>\n",
       "      <th>humidity</th>\n",
       "      <th>windSpeed</th>\n",
       "      <th>windBearing</th>\n",
       "      <th>uvIndex</th>\n",
       "      <th>temperatureMin</th>\n",
       "      <th>temperatureMax</th>\n",
       "      <th>precipType</th>\n",
       "      <th>precipIntensity</th>\n",
       "      <th>precipAccumulation</th>\n",
       "      <th>winningTime</th>\n",
       "      <th>daylightHours</th>\n",
       "      <th>iceThickness</th>\n",
       "      <th>dayOfYear</th>\n",
       "      <th>winningDate</th>\n",
       "      <th>past</th>\n",
       "      <th>future</th>\n",
       "    </tr>\n",
       "  </thead>\n",
       "  <tbody>\n",
       "    <tr>\n",
       "      <th>0</th>\n",
       "      <td>1989-03-01</td>\n",
       "      <td>0.80</td>\n",
       "      <td>0.70</td>\n",
       "      <td>8.42</td>\n",
       "      <td>236.0</td>\n",
       "      <td>1.0</td>\n",
       "      <td>20.58</td>\n",
       "      <td>29.65</td>\n",
       "      <td>None</td>\n",
       "      <td>0.0000</td>\n",
       "      <td>0.0</td>\n",
       "      <td>0</td>\n",
       "      <td>0.423611</td>\n",
       "      <td>37.5</td>\n",
       "      <td>60</td>\n",
       "      <td>0</td>\n",
       "      <td>1</td>\n",
       "      <td>0</td>\n",
       "    </tr>\n",
       "    <tr>\n",
       "      <th>1</th>\n",
       "      <td>1989-03-02</td>\n",
       "      <td>0.83</td>\n",
       "      <td>0.68</td>\n",
       "      <td>8.59</td>\n",
       "      <td>266.0</td>\n",
       "      <td>1.0</td>\n",
       "      <td>-7.38</td>\n",
       "      <td>29.07</td>\n",
       "      <td>None</td>\n",
       "      <td>0.0000</td>\n",
       "      <td>0.0</td>\n",
       "      <td>0</td>\n",
       "      <td>0.428472</td>\n",
       "      <td>37.5</td>\n",
       "      <td>61</td>\n",
       "      <td>0</td>\n",
       "      <td>1</td>\n",
       "      <td>0</td>\n",
       "    </tr>\n",
       "    <tr>\n",
       "      <th>2</th>\n",
       "      <td>1989-03-03</td>\n",
       "      <td>0.87</td>\n",
       "      <td>0.50</td>\n",
       "      <td>5.84</td>\n",
       "      <td>344.0</td>\n",
       "      <td>1.0</td>\n",
       "      <td>-19.23</td>\n",
       "      <td>1.84</td>\n",
       "      <td>None</td>\n",
       "      <td>0.0000</td>\n",
       "      <td>0.0</td>\n",
       "      <td>0</td>\n",
       "      <td>0.433333</td>\n",
       "      <td>37.5</td>\n",
       "      <td>62</td>\n",
       "      <td>0</td>\n",
       "      <td>1</td>\n",
       "      <td>0</td>\n",
       "    </tr>\n",
       "    <tr>\n",
       "      <th>3</th>\n",
       "      <td>1989-03-04</td>\n",
       "      <td>0.90</td>\n",
       "      <td>0.51</td>\n",
       "      <td>2.52</td>\n",
       "      <td>6.0</td>\n",
       "      <td>1.0</td>\n",
       "      <td>-30.34</td>\n",
       "      <td>4.69</td>\n",
       "      <td>None</td>\n",
       "      <td>0.0000</td>\n",
       "      <td>0.0</td>\n",
       "      <td>0</td>\n",
       "      <td>0.438194</td>\n",
       "      <td>37.5</td>\n",
       "      <td>63</td>\n",
       "      <td>0</td>\n",
       "      <td>1</td>\n",
       "      <td>0</td>\n",
       "    </tr>\n",
       "    <tr>\n",
       "      <th>4</th>\n",
       "      <td>1989-03-05</td>\n",
       "      <td>0.94</td>\n",
       "      <td>0.56</td>\n",
       "      <td>1.76</td>\n",
       "      <td>216.0</td>\n",
       "      <td>1.0</td>\n",
       "      <td>-38.53</td>\n",
       "      <td>0.74</td>\n",
       "      <td>None</td>\n",
       "      <td>0.0000</td>\n",
       "      <td>0.0</td>\n",
       "      <td>0</td>\n",
       "      <td>0.442361</td>\n",
       "      <td>37.5</td>\n",
       "      <td>64</td>\n",
       "      <td>0</td>\n",
       "      <td>1</td>\n",
       "      <td>0</td>\n",
       "    </tr>\n",
       "    <tr>\n",
       "      <th>2674</th>\n",
       "      <td>2019-05-27</td>\n",
       "      <td>0.80</td>\n",
       "      <td>0.43</td>\n",
       "      <td>3.90</td>\n",
       "      <td>226.0</td>\n",
       "      <td>4.0</td>\n",
       "      <td>52.65</td>\n",
       "      <td>68.04</td>\n",
       "      <td>rain</td>\n",
       "      <td>0.0003</td>\n",
       "      <td>0.0</td>\n",
       "      <td>0</td>\n",
       "      <td>0.827778</td>\n",
       "      <td>25.3</td>\n",
       "      <td>147</td>\n",
       "      <td>0</td>\n",
       "      <td>0</td>\n",
       "      <td>1</td>\n",
       "    </tr>\n",
       "    <tr>\n",
       "      <th>2675</th>\n",
       "      <td>2019-05-28</td>\n",
       "      <td>0.83</td>\n",
       "      <td>0.55</td>\n",
       "      <td>2.27</td>\n",
       "      <td>352.0</td>\n",
       "      <td>4.0</td>\n",
       "      <td>49.06</td>\n",
       "      <td>67.04</td>\n",
       "      <td>rain</td>\n",
       "      <td>0.0008</td>\n",
       "      <td>0.0</td>\n",
       "      <td>0</td>\n",
       "      <td>0.832639</td>\n",
       "      <td>25.3</td>\n",
       "      <td>148</td>\n",
       "      <td>0</td>\n",
       "      <td>0</td>\n",
       "      <td>1</td>\n",
       "    </tr>\n",
       "    <tr>\n",
       "      <th>2676</th>\n",
       "      <td>2019-05-29</td>\n",
       "      <td>0.86</td>\n",
       "      <td>0.51</td>\n",
       "      <td>2.54</td>\n",
       "      <td>108.0</td>\n",
       "      <td>4.0</td>\n",
       "      <td>46.89</td>\n",
       "      <td>70.52</td>\n",
       "      <td>rain</td>\n",
       "      <td>0.0001</td>\n",
       "      <td>0.0</td>\n",
       "      <td>0</td>\n",
       "      <td>0.836806</td>\n",
       "      <td>25.3</td>\n",
       "      <td>149</td>\n",
       "      <td>0</td>\n",
       "      <td>0</td>\n",
       "      <td>1</td>\n",
       "    </tr>\n",
       "    <tr>\n",
       "      <th>2677</th>\n",
       "      <td>2019-05-30</td>\n",
       "      <td>0.89</td>\n",
       "      <td>0.40</td>\n",
       "      <td>2.75</td>\n",
       "      <td>99.0</td>\n",
       "      <td>5.0</td>\n",
       "      <td>52.30</td>\n",
       "      <td>75.52</td>\n",
       "      <td>rain</td>\n",
       "      <td>0.0001</td>\n",
       "      <td>0.0</td>\n",
       "      <td>0</td>\n",
       "      <td>0.840972</td>\n",
       "      <td>25.3</td>\n",
       "      <td>150</td>\n",
       "      <td>0</td>\n",
       "      <td>0</td>\n",
       "      <td>1</td>\n",
       "    </tr>\n",
       "    <tr>\n",
       "      <th>2678</th>\n",
       "      <td>2019-05-31</td>\n",
       "      <td>0.92</td>\n",
       "      <td>0.69</td>\n",
       "      <td>2.29</td>\n",
       "      <td>343.0</td>\n",
       "      <td>3.0</td>\n",
       "      <td>53.73</td>\n",
       "      <td>65.86</td>\n",
       "      <td>rain</td>\n",
       "      <td>0.0067</td>\n",
       "      <td>0.0</td>\n",
       "      <td>0</td>\n",
       "      <td>0.845139</td>\n",
       "      <td>25.3</td>\n",
       "      <td>151</td>\n",
       "      <td>0</td>\n",
       "      <td>0</td>\n",
       "      <td>1</td>\n",
       "    </tr>\n",
       "  </tbody>\n",
       "</table>\n",
       "</div>"
      ],
      "text/plain": [
       "           Date  moonPhase  humidity  windSpeed  windBearing  uvIndex  \\\n",
       "0    1989-03-01       0.80      0.70       8.42        236.0      1.0   \n",
       "1    1989-03-02       0.83      0.68       8.59        266.0      1.0   \n",
       "2    1989-03-03       0.87      0.50       5.84        344.0      1.0   \n",
       "3    1989-03-04       0.90      0.51       2.52          6.0      1.0   \n",
       "4    1989-03-05       0.94      0.56       1.76        216.0      1.0   \n",
       "2674 2019-05-27       0.80      0.43       3.90        226.0      4.0   \n",
       "2675 2019-05-28       0.83      0.55       2.27        352.0      4.0   \n",
       "2676 2019-05-29       0.86      0.51       2.54        108.0      4.0   \n",
       "2677 2019-05-30       0.89      0.40       2.75         99.0      5.0   \n",
       "2678 2019-05-31       0.92      0.69       2.29        343.0      3.0   \n",
       "\n",
       "      temperatureMin  temperatureMax precipType  precipIntensity  \\\n",
       "0              20.58           29.65       None           0.0000   \n",
       "1              -7.38           29.07       None           0.0000   \n",
       "2             -19.23            1.84       None           0.0000   \n",
       "3             -30.34            4.69       None           0.0000   \n",
       "4             -38.53            0.74       None           0.0000   \n",
       "2674           52.65           68.04       rain           0.0003   \n",
       "2675           49.06           67.04       rain           0.0008   \n",
       "2676           46.89           70.52       rain           0.0001   \n",
       "2677           52.30           75.52       rain           0.0001   \n",
       "2678           53.73           65.86       rain           0.0067   \n",
       "\n",
       "      precipAccumulation winningTime  daylightHours  iceThickness  dayOfYear  \\\n",
       "0                    0.0           0       0.423611          37.5         60   \n",
       "1                    0.0           0       0.428472          37.5         61   \n",
       "2                    0.0           0       0.433333          37.5         62   \n",
       "3                    0.0           0       0.438194          37.5         63   \n",
       "4                    0.0           0       0.442361          37.5         64   \n",
       "2674                 0.0           0       0.827778          25.3        147   \n",
       "2675                 0.0           0       0.832639          25.3        148   \n",
       "2676                 0.0           0       0.836806          25.3        149   \n",
       "2677                 0.0           0       0.840972          25.3        150   \n",
       "2678                 0.0           0       0.845139          25.3        151   \n",
       "\n",
       "      winningDate  past  future  \n",
       "0               0     1       0  \n",
       "1               0     1       0  \n",
       "2               0     1       0  \n",
       "3               0     1       0  \n",
       "4               0     1       0  \n",
       "2674            0     0       1  \n",
       "2675            0     0       1  \n",
       "2676            0     0       1  \n",
       "2677            0     0       1  \n",
       "2678            0     0       1  "
      ]
     },
     "execution_count": 15,
     "metadata": {},
     "output_type": "execute_result"
    }
   ],
   "source": [
    "df.head().append(df.tail())"
   ]
  },
  {
   "cell_type": "code",
   "execution_count": 16,
   "metadata": {},
   "outputs": [
    {
     "data": {
      "text/html": [
       "<div>\n",
       "<style scoped>\n",
       "    .dataframe tbody tr th:only-of-type {\n",
       "        vertical-align: middle;\n",
       "    }\n",
       "\n",
       "    .dataframe tbody tr th {\n",
       "        vertical-align: top;\n",
       "    }\n",
       "\n",
       "    .dataframe thead th {\n",
       "        text-align: right;\n",
       "    }\n",
       "</style>\n",
       "<table border=\"1\" class=\"dataframe\">\n",
       "  <thead>\n",
       "    <tr style=\"text-align: right;\">\n",
       "      <th></th>\n",
       "      <th>Date</th>\n",
       "      <th>moonPhase</th>\n",
       "      <th>humidity</th>\n",
       "      <th>windSpeed</th>\n",
       "      <th>windBearing</th>\n",
       "      <th>uvIndex</th>\n",
       "      <th>temperatureMin</th>\n",
       "      <th>temperatureMax</th>\n",
       "      <th>precipType</th>\n",
       "      <th>precipIntensity</th>\n",
       "      <th>precipAccumulation</th>\n",
       "      <th>winningTime</th>\n",
       "      <th>daylightHours</th>\n",
       "      <th>iceThickness</th>\n",
       "      <th>dayOfYear</th>\n",
       "      <th>winningDate</th>\n",
       "      <th>past</th>\n",
       "      <th>future</th>\n",
       "    </tr>\n",
       "  </thead>\n",
       "  <tbody>\n",
       "    <tr>\n",
       "      <th>49</th>\n",
       "      <td>1989-05-01</td>\n",
       "      <td>0.87</td>\n",
       "      <td>0.47</td>\n",
       "      <td>3.72</td>\n",
       "      <td>277.0</td>\n",
       "      <td>4.0</td>\n",
       "      <td>36.22</td>\n",
       "      <td>61.53</td>\n",
       "      <td>None</td>\n",
       "      <td>0.0000</td>\n",
       "      <td>0.0</td>\n",
       "      <td>8:14 PM</td>\n",
       "      <td>0.707639</td>\n",
       "      <td>40.0</td>\n",
       "      <td>121</td>\n",
       "      <td>1</td>\n",
       "      <td>1</td>\n",
       "      <td>0</td>\n",
       "    </tr>\n",
       "    <tr>\n",
       "      <th>134</th>\n",
       "      <td>1990-04-24</td>\n",
       "      <td>0.00</td>\n",
       "      <td>0.61</td>\n",
       "      <td>0.00</td>\n",
       "      <td>0.0</td>\n",
       "      <td>4.0</td>\n",
       "      <td>28.66</td>\n",
       "      <td>44.74</td>\n",
       "      <td>None</td>\n",
       "      <td>0.0000</td>\n",
       "      <td>0.0</td>\n",
       "      <td>5:19 PM</td>\n",
       "      <td>0.674306</td>\n",
       "      <td>36.0</td>\n",
       "      <td>114</td>\n",
       "      <td>1</td>\n",
       "      <td>1</td>\n",
       "      <td>0</td>\n",
       "    </tr>\n",
       "    <tr>\n",
       "      <th>228</th>\n",
       "      <td>1991-05-01</td>\n",
       "      <td>0.60</td>\n",
       "      <td>0.49</td>\n",
       "      <td>4.13</td>\n",
       "      <td>139.0</td>\n",
       "      <td>4.0</td>\n",
       "      <td>31.43</td>\n",
       "      <td>57.62</td>\n",
       "      <td>None</td>\n",
       "      <td>0.0000</td>\n",
       "      <td>0.0</td>\n",
       "      <td>12:04 AM</td>\n",
       "      <td>0.706250</td>\n",
       "      <td>38.0</td>\n",
       "      <td>121</td>\n",
       "      <td>1</td>\n",
       "      <td>1</td>\n",
       "      <td>0</td>\n",
       "    </tr>\n",
       "    <tr>\n",
       "      <th>332</th>\n",
       "      <td>1992-05-14</td>\n",
       "      <td>0.45</td>\n",
       "      <td>0.49</td>\n",
       "      <td>5.83</td>\n",
       "      <td>239.0</td>\n",
       "      <td>5.0</td>\n",
       "      <td>30.52</td>\n",
       "      <td>51.11</td>\n",
       "      <td>None</td>\n",
       "      <td>0.0000</td>\n",
       "      <td>0.0</td>\n",
       "      <td>6:26 AM</td>\n",
       "      <td>0.770833</td>\n",
       "      <td>47.0</td>\n",
       "      <td>135</td>\n",
       "      <td>1</td>\n",
       "      <td>1</td>\n",
       "      <td>0</td>\n",
       "    </tr>\n",
       "    <tr>\n",
       "      <th>401</th>\n",
       "      <td>1993-04-23</td>\n",
       "      <td>0.07</td>\n",
       "      <td>0.52</td>\n",
       "      <td>7.72</td>\n",
       "      <td>330.0</td>\n",
       "      <td>4.0</td>\n",
       "      <td>31.28</td>\n",
       "      <td>45.50</td>\n",
       "      <td>None</td>\n",
       "      <td>0.0000</td>\n",
       "      <td>0.0</td>\n",
       "      <td>1:01 PM</td>\n",
       "      <td>0.670139</td>\n",
       "      <td>25.0</td>\n",
       "      <td>113</td>\n",
       "      <td>1</td>\n",
       "      <td>1</td>\n",
       "      <td>0</td>\n",
       "    </tr>\n",
       "    <tr>\n",
       "      <th>499</th>\n",
       "      <td>1994-04-29</td>\n",
       "      <td>0.67</td>\n",
       "      <td>0.31</td>\n",
       "      <td>4.39</td>\n",
       "      <td>22.0</td>\n",
       "      <td>4.0</td>\n",
       "      <td>26.51</td>\n",
       "      <td>59.54</td>\n",
       "      <td>None</td>\n",
       "      <td>0.0000</td>\n",
       "      <td>0.0</td>\n",
       "      <td>11:01 PM</td>\n",
       "      <td>0.697222</td>\n",
       "      <td>51.0</td>\n",
       "      <td>119</td>\n",
       "      <td>1</td>\n",
       "      <td>1</td>\n",
       "      <td>0</td>\n",
       "    </tr>\n",
       "    <tr>\n",
       "      <th>585</th>\n",
       "      <td>1996-05-05</td>\n",
       "      <td>0.60</td>\n",
       "      <td>0.44</td>\n",
       "      <td>4.42</td>\n",
       "      <td>64.0</td>\n",
       "      <td>4.0</td>\n",
       "      <td>32.47</td>\n",
       "      <td>53.42</td>\n",
       "      <td>None</td>\n",
       "      <td>0.0000</td>\n",
       "      <td>0.0</td>\n",
       "      <td>12:32 PM</td>\n",
       "      <td>0.728472</td>\n",
       "      <td>45.0</td>\n",
       "      <td>126</td>\n",
       "      <td>1</td>\n",
       "      <td>1</td>\n",
       "      <td>0</td>\n",
       "    </tr>\n",
       "    <tr>\n",
       "      <th>672</th>\n",
       "      <td>1997-04-30</td>\n",
       "      <td>0.79</td>\n",
       "      <td>0.48</td>\n",
       "      <td>4.05</td>\n",
       "      <td>252.0</td>\n",
       "      <td>3.0</td>\n",
       "      <td>25.75</td>\n",
       "      <td>61.35</td>\n",
       "      <td>None</td>\n",
       "      <td>0.0000</td>\n",
       "      <td>0.0</td>\n",
       "      <td>10:28 AM</td>\n",
       "      <td>0.703472</td>\n",
       "      <td>36.0</td>\n",
       "      <td>120</td>\n",
       "      <td>1</td>\n",
       "      <td>1</td>\n",
       "      <td>0</td>\n",
       "    </tr>\n",
       "    <tr>\n",
       "      <th>754</th>\n",
       "      <td>1998-04-20</td>\n",
       "      <td>0.80</td>\n",
       "      <td>0.60</td>\n",
       "      <td>4.06</td>\n",
       "      <td>287.0</td>\n",
       "      <td>3.0</td>\n",
       "      <td>25.97</td>\n",
       "      <td>52.56</td>\n",
       "      <td>rain</td>\n",
       "      <td>0.0000</td>\n",
       "      <td>0.0</td>\n",
       "      <td>4:54 PM</td>\n",
       "      <td>0.654861</td>\n",
       "      <td>38.0</td>\n",
       "      <td>110</td>\n",
       "      <td>1</td>\n",
       "      <td>1</td>\n",
       "      <td>0</td>\n",
       "    </tr>\n",
       "    <tr>\n",
       "      <th>921</th>\n",
       "      <td>2000-05-01</td>\n",
       "      <td>0.93</td>\n",
       "      <td>0.46</td>\n",
       "      <td>4.97</td>\n",
       "      <td>211.0</td>\n",
       "      <td>4.0</td>\n",
       "      <td>34.92</td>\n",
       "      <td>55.95</td>\n",
       "      <td>None</td>\n",
       "      <td>0.0000</td>\n",
       "      <td>0.0</td>\n",
       "      <td>10:47 AM</td>\n",
       "      <td>0.709722</td>\n",
       "      <td>36.0</td>\n",
       "      <td>122</td>\n",
       "      <td>1</td>\n",
       "      <td>1</td>\n",
       "      <td>0</td>\n",
       "    </tr>\n",
       "    <tr>\n",
       "      <th>1020</th>\n",
       "      <td>2001-05-08</td>\n",
       "      <td>0.56</td>\n",
       "      <td>0.53</td>\n",
       "      <td>5.77</td>\n",
       "      <td>263.0</td>\n",
       "      <td>4.0</td>\n",
       "      <td>27.85</td>\n",
       "      <td>48.88</td>\n",
       "      <td>None</td>\n",
       "      <td>0.0000</td>\n",
       "      <td>0.0</td>\n",
       "      <td>1:00 PM</td>\n",
       "      <td>0.741667</td>\n",
       "      <td>33.5</td>\n",
       "      <td>128</td>\n",
       "      <td>1</td>\n",
       "      <td>1</td>\n",
       "      <td>0</td>\n",
       "    </tr>\n",
       "    <tr>\n",
       "      <th>1105</th>\n",
       "      <td>2002-05-07</td>\n",
       "      <td>0.87</td>\n",
       "      <td>0.71</td>\n",
       "      <td>3.66</td>\n",
       "      <td>169.0</td>\n",
       "      <td>3.0</td>\n",
       "      <td>29.46</td>\n",
       "      <td>48.75</td>\n",
       "      <td>None</td>\n",
       "      <td>0.0000</td>\n",
       "      <td>0.0</td>\n",
       "      <td>9:27 PM</td>\n",
       "      <td>0.736111</td>\n",
       "      <td>42.0</td>\n",
       "      <td>127</td>\n",
       "      <td>1</td>\n",
       "      <td>1</td>\n",
       "      <td>0</td>\n",
       "    </tr>\n",
       "    <tr>\n",
       "      <th>1174</th>\n",
       "      <td>2003-04-29</td>\n",
       "      <td>0.96</td>\n",
       "      <td>0.60</td>\n",
       "      <td>5.62</td>\n",
       "      <td>293.0</td>\n",
       "      <td>4.0</td>\n",
       "      <td>29.69</td>\n",
       "      <td>50.88</td>\n",
       "      <td>None</td>\n",
       "      <td>0.0000</td>\n",
       "      <td>0.0</td>\n",
       "      <td>6:22 PM</td>\n",
       "      <td>0.697222</td>\n",
       "      <td>38.3</td>\n",
       "      <td>119</td>\n",
       "      <td>1</td>\n",
       "      <td>1</td>\n",
       "      <td>0</td>\n",
       "    </tr>\n",
       "    <tr>\n",
       "      <th>1261</th>\n",
       "      <td>2004-04-24</td>\n",
       "      <td>0.17</td>\n",
       "      <td>0.58</td>\n",
       "      <td>6.57</td>\n",
       "      <td>74.0</td>\n",
       "      <td>4.0</td>\n",
       "      <td>27.74</td>\n",
       "      <td>54.41</td>\n",
       "      <td>None</td>\n",
       "      <td>0.0000</td>\n",
       "      <td>0.0</td>\n",
       "      <td>2:16 PM</td>\n",
       "      <td>0.677083</td>\n",
       "      <td>35.5</td>\n",
       "      <td>115</td>\n",
       "      <td>1</td>\n",
       "      <td>1</td>\n",
       "      <td>0</td>\n",
       "    </tr>\n",
       "    <tr>\n",
       "      <th>1357</th>\n",
       "      <td>2005-04-28</td>\n",
       "      <td>0.67</td>\n",
       "      <td>0.43</td>\n",
       "      <td>8.07</td>\n",
       "      <td>19.0</td>\n",
       "      <td>4.0</td>\n",
       "      <td>29.69</td>\n",
       "      <td>66.98</td>\n",
       "      <td>None</td>\n",
       "      <td>0.0000</td>\n",
       "      <td>0.0</td>\n",
       "      <td>12:01 PM</td>\n",
       "      <td>0.694444</td>\n",
       "      <td>35.5</td>\n",
       "      <td>118</td>\n",
       "      <td>1</td>\n",
       "      <td>1</td>\n",
       "      <td>0</td>\n",
       "    </tr>\n",
       "    <tr>\n",
       "      <th>1453</th>\n",
       "      <td>2006-05-02</td>\n",
       "      <td>0.19</td>\n",
       "      <td>0.41</td>\n",
       "      <td>6.15</td>\n",
       "      <td>107.0</td>\n",
       "      <td>4.0</td>\n",
       "      <td>25.96</td>\n",
       "      <td>56.10</td>\n",
       "      <td>None</td>\n",
       "      <td>0.0000</td>\n",
       "      <td>0.0</td>\n",
       "      <td>5:29 PM</td>\n",
       "      <td>0.711806</td>\n",
       "      <td>32.7</td>\n",
       "      <td>122</td>\n",
       "      <td>1</td>\n",
       "      <td>1</td>\n",
       "      <td>0</td>\n",
       "    </tr>\n",
       "    <tr>\n",
       "      <th>1540</th>\n",
       "      <td>2007-04-27</td>\n",
       "      <td>0.37</td>\n",
       "      <td>0.40</td>\n",
       "      <td>4.81</td>\n",
       "      <td>300.0</td>\n",
       "      <td>4.0</td>\n",
       "      <td>29.63</td>\n",
       "      <td>45.60</td>\n",
       "      <td>None</td>\n",
       "      <td>0.0000</td>\n",
       "      <td>0.0</td>\n",
       "      <td>3:47 PM</td>\n",
       "      <td>0.687500</td>\n",
       "      <td>46.5</td>\n",
       "      <td>117</td>\n",
       "      <td>1</td>\n",
       "      <td>1</td>\n",
       "      <td>0</td>\n",
       "    </tr>\n",
       "    <tr>\n",
       "      <th>1641</th>\n",
       "      <td>2008-05-06</td>\n",
       "      <td>0.07</td>\n",
       "      <td>0.65</td>\n",
       "      <td>3.08</td>\n",
       "      <td>350.0</td>\n",
       "      <td>4.0</td>\n",
       "      <td>30.81</td>\n",
       "      <td>58.78</td>\n",
       "      <td>None</td>\n",
       "      <td>0.0000</td>\n",
       "      <td>0.0</td>\n",
       "      <td>10:53 PM</td>\n",
       "      <td>0.734028</td>\n",
       "      <td>40.5</td>\n",
       "      <td>127</td>\n",
       "      <td>1</td>\n",
       "      <td>1</td>\n",
       "      <td>0</td>\n",
       "    </tr>\n",
       "    <tr>\n",
       "      <th>1728</th>\n",
       "      <td>2009-05-01</td>\n",
       "      <td>0.26</td>\n",
       "      <td>0.30</td>\n",
       "      <td>1.94</td>\n",
       "      <td>305.0</td>\n",
       "      <td>4.0</td>\n",
       "      <td>34.52</td>\n",
       "      <td>74.64</td>\n",
       "      <td>None</td>\n",
       "      <td>0.0000</td>\n",
       "      <td>0.0</td>\n",
       "      <td>8:41 PM</td>\n",
       "      <td>0.709028</td>\n",
       "      <td>42.7</td>\n",
       "      <td>121</td>\n",
       "      <td>1</td>\n",
       "      <td>1</td>\n",
       "      <td>0</td>\n",
       "    </tr>\n",
       "    <tr>\n",
       "      <th>1818</th>\n",
       "      <td>2010-04-29</td>\n",
       "      <td>0.56</td>\n",
       "      <td>0.42</td>\n",
       "      <td>2.36</td>\n",
       "      <td>176.0</td>\n",
       "      <td>4.0</td>\n",
       "      <td>42.55</td>\n",
       "      <td>63.59</td>\n",
       "      <td>None</td>\n",
       "      <td>0.0000</td>\n",
       "      <td>0.0</td>\n",
       "      <td>9:06 AM</td>\n",
       "      <td>0.698611</td>\n",
       "      <td>40.9</td>\n",
       "      <td>119</td>\n",
       "      <td>1</td>\n",
       "      <td>1</td>\n",
       "      <td>0</td>\n",
       "    </tr>\n",
       "    <tr>\n",
       "      <th>1915</th>\n",
       "      <td>2011-05-04</td>\n",
       "      <td>0.06</td>\n",
       "      <td>0.45</td>\n",
       "      <td>2.70</td>\n",
       "      <td>284.0</td>\n",
       "      <td>4.0</td>\n",
       "      <td>29.29</td>\n",
       "      <td>51.60</td>\n",
       "      <td>None</td>\n",
       "      <td>0.0000</td>\n",
       "      <td>0.0</td>\n",
       "      <td>4:24 PM</td>\n",
       "      <td>0.720833</td>\n",
       "      <td>39.0</td>\n",
       "      <td>124</td>\n",
       "      <td>1</td>\n",
       "      <td>1</td>\n",
       "      <td>0</td>\n",
       "    </tr>\n",
       "    <tr>\n",
       "      <th>1996</th>\n",
       "      <td>2012-04-23</td>\n",
       "      <td>0.09</td>\n",
       "      <td>0.56</td>\n",
       "      <td>3.82</td>\n",
       "      <td>76.0</td>\n",
       "      <td>4.0</td>\n",
       "      <td>28.25</td>\n",
       "      <td>57.97</td>\n",
       "      <td>None</td>\n",
       "      <td>0.0000</td>\n",
       "      <td>0.0</td>\n",
       "      <td>7:39 PM</td>\n",
       "      <td>0.672222</td>\n",
       "      <td>28.7</td>\n",
       "      <td>114</td>\n",
       "      <td>1</td>\n",
       "      <td>1</td>\n",
       "      <td>0</td>\n",
       "    </tr>\n",
       "    <tr>\n",
       "      <th>2115</th>\n",
       "      <td>2013-05-20</td>\n",
       "      <td>0.35</td>\n",
       "      <td>0.33</td>\n",
       "      <td>2.74</td>\n",
       "      <td>144.0</td>\n",
       "      <td>5.0</td>\n",
       "      <td>28.37</td>\n",
       "      <td>54.55</td>\n",
       "      <td>None</td>\n",
       "      <td>0.0000</td>\n",
       "      <td>0.0</td>\n",
       "      <td>2:41 PM</td>\n",
       "      <td>0.799306</td>\n",
       "      <td>40.0</td>\n",
       "      <td>140</td>\n",
       "      <td>1</td>\n",
       "      <td>1</td>\n",
       "      <td>0</td>\n",
       "    </tr>\n",
       "    <tr>\n",
       "      <th>2182</th>\n",
       "      <td>2014-04-25</td>\n",
       "      <td>0.89</td>\n",
       "      <td>0.47</td>\n",
       "      <td>4.51</td>\n",
       "      <td>142.0</td>\n",
       "      <td>4.0</td>\n",
       "      <td>31.56</td>\n",
       "      <td>54.33</td>\n",
       "      <td>None</td>\n",
       "      <td>0.0000</td>\n",
       "      <td>0.0</td>\n",
       "      <td>3:48 PM</td>\n",
       "      <td>0.679861</td>\n",
       "      <td>36.5</td>\n",
       "      <td>115</td>\n",
       "      <td>1</td>\n",
       "      <td>1</td>\n",
       "      <td>0</td>\n",
       "    </tr>\n",
       "    <tr>\n",
       "      <th>2273</th>\n",
       "      <td>2015-04-24</td>\n",
       "      <td>0.23</td>\n",
       "      <td>0.27</td>\n",
       "      <td>3.12</td>\n",
       "      <td>109.0</td>\n",
       "      <td>4.0</td>\n",
       "      <td>32.52</td>\n",
       "      <td>56.60</td>\n",
       "      <td>None</td>\n",
       "      <td>0.0000</td>\n",
       "      <td>0.0</td>\n",
       "      <td>2:25 PM</td>\n",
       "      <td>0.673611</td>\n",
       "      <td>33.5</td>\n",
       "      <td>114</td>\n",
       "      <td>1</td>\n",
       "      <td>0</td>\n",
       "      <td>1</td>\n",
       "    </tr>\n",
       "    <tr>\n",
       "      <th>2364</th>\n",
       "      <td>2016-04-23</td>\n",
       "      <td>0.56</td>\n",
       "      <td>0.47</td>\n",
       "      <td>3.44</td>\n",
       "      <td>321.0</td>\n",
       "      <td>4.0</td>\n",
       "      <td>32.47</td>\n",
       "      <td>59.60</td>\n",
       "      <td>None</td>\n",
       "      <td>0.0000</td>\n",
       "      <td>0.0</td>\n",
       "      <td>3:39 PM</td>\n",
       "      <td>0.672222</td>\n",
       "      <td>32.3</td>\n",
       "      <td>114</td>\n",
       "      <td>1</td>\n",
       "      <td>0</td>\n",
       "      <td>1</td>\n",
       "    </tr>\n",
       "    <tr>\n",
       "      <th>2464</th>\n",
       "      <td>2017-05-01</td>\n",
       "      <td>0.22</td>\n",
       "      <td>0.44</td>\n",
       "      <td>3.88</td>\n",
       "      <td>107.0</td>\n",
       "      <td>4.0</td>\n",
       "      <td>36.57</td>\n",
       "      <td>56.54</td>\n",
       "      <td>None</td>\n",
       "      <td>0.0000</td>\n",
       "      <td>0.0</td>\n",
       "      <td>12:00 PM</td>\n",
       "      <td>0.709028</td>\n",
       "      <td>29.7</td>\n",
       "      <td>121</td>\n",
       "      <td>1</td>\n",
       "      <td>0</td>\n",
       "      <td>1</td>\n",
       "    </tr>\n",
       "    <tr>\n",
       "      <th>2556</th>\n",
       "      <td>2018-05-01</td>\n",
       "      <td>0.57</td>\n",
       "      <td>0.70</td>\n",
       "      <td>5.14</td>\n",
       "      <td>226.0</td>\n",
       "      <td>3.0</td>\n",
       "      <td>31.57</td>\n",
       "      <td>43.57</td>\n",
       "      <td>rain</td>\n",
       "      <td>0.0005</td>\n",
       "      <td>0.0</td>\n",
       "      <td>1:18 PM</td>\n",
       "      <td>0.707639</td>\n",
       "      <td>25.0</td>\n",
       "      <td>121</td>\n",
       "      <td>1</td>\n",
       "      <td>0</td>\n",
       "      <td>1</td>\n",
       "    </tr>\n",
       "    <tr>\n",
       "      <th>2631</th>\n",
       "      <td>2019-04-14</td>\n",
       "      <td>0.34</td>\n",
       "      <td>0.68</td>\n",
       "      <td>4.74</td>\n",
       "      <td>345.0</td>\n",
       "      <td>2.0</td>\n",
       "      <td>30.46</td>\n",
       "      <td>47.89</td>\n",
       "      <td>rain</td>\n",
       "      <td>0.0003</td>\n",
       "      <td>0.0</td>\n",
       "      <td>12:21 AM</td>\n",
       "      <td>0.626389</td>\n",
       "      <td>25.3</td>\n",
       "      <td>104</td>\n",
       "      <td>1</td>\n",
       "      <td>0</td>\n",
       "      <td>1</td>\n",
       "    </tr>\n",
       "  </tbody>\n",
       "</table>\n",
       "</div>"
      ],
      "text/plain": [
       "           Date  moonPhase  humidity  windSpeed  windBearing  uvIndex  \\\n",
       "49   1989-05-01       0.87      0.47       3.72        277.0      4.0   \n",
       "134  1990-04-24       0.00      0.61       0.00          0.0      4.0   \n",
       "228  1991-05-01       0.60      0.49       4.13        139.0      4.0   \n",
       "332  1992-05-14       0.45      0.49       5.83        239.0      5.0   \n",
       "401  1993-04-23       0.07      0.52       7.72        330.0      4.0   \n",
       "499  1994-04-29       0.67      0.31       4.39         22.0      4.0   \n",
       "585  1996-05-05       0.60      0.44       4.42         64.0      4.0   \n",
       "672  1997-04-30       0.79      0.48       4.05        252.0      3.0   \n",
       "754  1998-04-20       0.80      0.60       4.06        287.0      3.0   \n",
       "921  2000-05-01       0.93      0.46       4.97        211.0      4.0   \n",
       "1020 2001-05-08       0.56      0.53       5.77        263.0      4.0   \n",
       "1105 2002-05-07       0.87      0.71       3.66        169.0      3.0   \n",
       "1174 2003-04-29       0.96      0.60       5.62        293.0      4.0   \n",
       "1261 2004-04-24       0.17      0.58       6.57         74.0      4.0   \n",
       "1357 2005-04-28       0.67      0.43       8.07         19.0      4.0   \n",
       "1453 2006-05-02       0.19      0.41       6.15        107.0      4.0   \n",
       "1540 2007-04-27       0.37      0.40       4.81        300.0      4.0   \n",
       "1641 2008-05-06       0.07      0.65       3.08        350.0      4.0   \n",
       "1728 2009-05-01       0.26      0.30       1.94        305.0      4.0   \n",
       "1818 2010-04-29       0.56      0.42       2.36        176.0      4.0   \n",
       "1915 2011-05-04       0.06      0.45       2.70        284.0      4.0   \n",
       "1996 2012-04-23       0.09      0.56       3.82         76.0      4.0   \n",
       "2115 2013-05-20       0.35      0.33       2.74        144.0      5.0   \n",
       "2182 2014-04-25       0.89      0.47       4.51        142.0      4.0   \n",
       "2273 2015-04-24       0.23      0.27       3.12        109.0      4.0   \n",
       "2364 2016-04-23       0.56      0.47       3.44        321.0      4.0   \n",
       "2464 2017-05-01       0.22      0.44       3.88        107.0      4.0   \n",
       "2556 2018-05-01       0.57      0.70       5.14        226.0      3.0   \n",
       "2631 2019-04-14       0.34      0.68       4.74        345.0      2.0   \n",
       "\n",
       "      temperatureMin  temperatureMax precipType  precipIntensity  \\\n",
       "49             36.22           61.53       None           0.0000   \n",
       "134            28.66           44.74       None           0.0000   \n",
       "228            31.43           57.62       None           0.0000   \n",
       "332            30.52           51.11       None           0.0000   \n",
       "401            31.28           45.50       None           0.0000   \n",
       "499            26.51           59.54       None           0.0000   \n",
       "585            32.47           53.42       None           0.0000   \n",
       "672            25.75           61.35       None           0.0000   \n",
       "754            25.97           52.56       rain           0.0000   \n",
       "921            34.92           55.95       None           0.0000   \n",
       "1020           27.85           48.88       None           0.0000   \n",
       "1105           29.46           48.75       None           0.0000   \n",
       "1174           29.69           50.88       None           0.0000   \n",
       "1261           27.74           54.41       None           0.0000   \n",
       "1357           29.69           66.98       None           0.0000   \n",
       "1453           25.96           56.10       None           0.0000   \n",
       "1540           29.63           45.60       None           0.0000   \n",
       "1641           30.81           58.78       None           0.0000   \n",
       "1728           34.52           74.64       None           0.0000   \n",
       "1818           42.55           63.59       None           0.0000   \n",
       "1915           29.29           51.60       None           0.0000   \n",
       "1996           28.25           57.97       None           0.0000   \n",
       "2115           28.37           54.55       None           0.0000   \n",
       "2182           31.56           54.33       None           0.0000   \n",
       "2273           32.52           56.60       None           0.0000   \n",
       "2364           32.47           59.60       None           0.0000   \n",
       "2464           36.57           56.54       None           0.0000   \n",
       "2556           31.57           43.57       rain           0.0005   \n",
       "2631           30.46           47.89       rain           0.0003   \n",
       "\n",
       "      precipAccumulation winningTime  daylightHours  iceThickness  dayOfYear  \\\n",
       "49                   0.0     8:14 PM       0.707639          40.0        121   \n",
       "134                  0.0     5:19 PM       0.674306          36.0        114   \n",
       "228                  0.0    12:04 AM       0.706250          38.0        121   \n",
       "332                  0.0     6:26 AM       0.770833          47.0        135   \n",
       "401                  0.0     1:01 PM       0.670139          25.0        113   \n",
       "499                  0.0    11:01 PM       0.697222          51.0        119   \n",
       "585                  0.0    12:32 PM       0.728472          45.0        126   \n",
       "672                  0.0    10:28 AM       0.703472          36.0        120   \n",
       "754                  0.0     4:54 PM       0.654861          38.0        110   \n",
       "921                  0.0    10:47 AM       0.709722          36.0        122   \n",
       "1020                 0.0     1:00 PM       0.741667          33.5        128   \n",
       "1105                 0.0     9:27 PM       0.736111          42.0        127   \n",
       "1174                 0.0     6:22 PM       0.697222          38.3        119   \n",
       "1261                 0.0     2:16 PM       0.677083          35.5        115   \n",
       "1357                 0.0    12:01 PM       0.694444          35.5        118   \n",
       "1453                 0.0     5:29 PM       0.711806          32.7        122   \n",
       "1540                 0.0     3:47 PM       0.687500          46.5        117   \n",
       "1641                 0.0    10:53 PM       0.734028          40.5        127   \n",
       "1728                 0.0     8:41 PM       0.709028          42.7        121   \n",
       "1818                 0.0     9:06 AM       0.698611          40.9        119   \n",
       "1915                 0.0     4:24 PM       0.720833          39.0        124   \n",
       "1996                 0.0     7:39 PM       0.672222          28.7        114   \n",
       "2115                 0.0     2:41 PM       0.799306          40.0        140   \n",
       "2182                 0.0     3:48 PM       0.679861          36.5        115   \n",
       "2273                 0.0     2:25 PM       0.673611          33.5        114   \n",
       "2364                 0.0     3:39 PM       0.672222          32.3        114   \n",
       "2464                 0.0    12:00 PM       0.709028          29.7        121   \n",
       "2556                 0.0     1:18 PM       0.707639          25.0        121   \n",
       "2631                 0.0    12:21 AM       0.626389          25.3        104   \n",
       "\n",
       "      winningDate  past  future  \n",
       "49              1     1       0  \n",
       "134             1     1       0  \n",
       "228             1     1       0  \n",
       "332             1     1       0  \n",
       "401             1     1       0  \n",
       "499             1     1       0  \n",
       "585             1     1       0  \n",
       "672             1     1       0  \n",
       "754             1     1       0  \n",
       "921             1     1       0  \n",
       "1020            1     1       0  \n",
       "1105            1     1       0  \n",
       "1174            1     1       0  \n",
       "1261            1     1       0  \n",
       "1357            1     1       0  \n",
       "1453            1     1       0  \n",
       "1540            1     1       0  \n",
       "1641            1     1       0  \n",
       "1728            1     1       0  \n",
       "1818            1     1       0  \n",
       "1915            1     1       0  \n",
       "1996            1     1       0  \n",
       "2115            1     1       0  \n",
       "2182            1     1       0  \n",
       "2273            1     0       1  \n",
       "2364            1     0       1  \n",
       "2464            1     0       1  \n",
       "2556            1     0       1  \n",
       "2631            1     0       1  "
      ]
     },
     "execution_count": 16,
     "metadata": {},
     "output_type": "execute_result"
    }
   ],
   "source": [
    "df.loc[df['winningDate'] == 1]"
   ]
  },
  {
   "cell_type": "markdown",
   "metadata": {},
   "source": [
    "The information for 1995 and 1999 are missing some dates, including the winning date. I decided to drop the data for those years, since survival analysis would falsely treat them as censored."
   ]
  },
  {
   "cell_type": "code",
   "execution_count": 17,
   "metadata": {},
   "outputs": [],
   "source": [
    "drop_1995_1999 = df.loc[(df['Date'].dt.year == 1995)|(df['Date'].dt.year == 1999)].index"
   ]
  },
  {
   "cell_type": "code",
   "execution_count": 18,
   "metadata": {},
   "outputs": [],
   "source": [
    "df.drop(index = drop_1995_1999, inplace = True)"
   ]
  },
  {
   "cell_type": "code",
   "execution_count": 19,
   "metadata": {},
   "outputs": [
    {
     "data": {
      "text/plain": [
       "None    2154\n",
       "snow     231\n",
       "rain     194\n",
       "Name: precipType, dtype: int64"
      ]
     },
     "execution_count": 19,
     "metadata": {},
     "output_type": "execute_result"
    }
   ],
   "source": [
    "df['precipType'].value_counts()"
   ]
  },
  {
   "cell_type": "code",
   "execution_count": 20,
   "metadata": {},
   "outputs": [],
   "source": [
    "# encode precipType\n",
    "df = df.merge(pd.get_dummies(df['precipType'], prefix = 'precip', drop_first = True, sparse = True),\n",
    "         how = 'left', left_index = True, right_index = True)"
   ]
  },
  {
   "cell_type": "markdown",
   "metadata": {},
   "source": [
    "Create column for daily average temperature"
   ]
  },
  {
   "cell_type": "code",
   "execution_count": 21,
   "metadata": {},
   "outputs": [],
   "source": [
    "df['temperatureAvg'] = (df['temperatureMin'] + df['temperatureMax']) / 2"
   ]
  },
  {
   "cell_type": "markdown",
   "metadata": {},
   "source": [
    "Create columns for number of \"hot days,\" \"cold days,\" and snow accumulated since Apr 1 in a given year.\n",
    "\n",
    "I defined a \"hot day\" as a day where: day_average_temp > median(year_avg_temp) + std_dev(year_avg_temp)\n",
    "\n",
    "A \"cold day\" is a day where: day_average_temp < median(year_avg_temp) - std_dev(year_avg_temp)"
   ]
  },
  {
   "cell_type": "code",
   "execution_count": 22,
   "metadata": {},
   "outputs": [],
   "source": [
    "year_list = sorted(list(set(df['Date'].dt.year)))"
   ]
  },
  {
   "cell_type": "code",
   "execution_count": 23,
   "metadata": {},
   "outputs": [
    {
     "data": {
      "text/plain": [
       "[1989,\n",
       " 1990,\n",
       " 1991,\n",
       " 1992,\n",
       " 1993,\n",
       " 1994,\n",
       " 1996,\n",
       " 1997,\n",
       " 1998,\n",
       " 2000,\n",
       " 2001,\n",
       " 2002,\n",
       " 2003,\n",
       " 2004,\n",
       " 2005,\n",
       " 2006,\n",
       " 2007,\n",
       " 2008,\n",
       " 2009,\n",
       " 2010,\n",
       " 2011,\n",
       " 2012,\n",
       " 2013,\n",
       " 2014,\n",
       " 2015,\n",
       " 2016,\n",
       " 2017,\n",
       " 2018,\n",
       " 2019]"
      ]
     },
     "execution_count": 23,
     "metadata": {},
     "output_type": "execute_result"
    }
   ],
   "source": [
    "year_list"
   ]
  },
  {
   "cell_type": "code",
   "execution_count": 24,
   "metadata": {},
   "outputs": [],
   "source": [
    "hot_count = []\n",
    "cold_count = []\n",
    "daily_accumulation = []\n",
    "for year in year_list:\n",
    "    hot_temp_count = 0\n",
    "    cold_temp_count = 0\n",
    "    daily_accum = 0\n",
    "    temp_df = df.loc[df['Date'].dt.year == year]\n",
    "    hot_threshold = temp_df['temperatureAvg'].median() + temp_df['temperatureAvg'].std()\n",
    "    cold_threshold = temp_df['temperatureAvg'].median() - temp_df['temperatureAvg'].std()\n",
    "    for idx in temp_df.index:\n",
    "        current_temp = temp_df['temperatureAvg'].loc[idx]\n",
    "        if temp_df['precip_snow'].loc[idx] == 1:\n",
    "            daily_accum += temp_df['precipAccumulation'].loc[idx]\n",
    "        else:\n",
    "            pass\n",
    "        if current_temp >= hot_threshold:\n",
    "            hot_temp_count += 1\n",
    "        elif current_temp <= cold_threshold:\n",
    "            cold_temp_count += 1\n",
    "        else:\n",
    "            pass\n",
    "        hot_count.append(hot_temp_count)\n",
    "        cold_count.append(cold_temp_count)\n",
    "        daily_accumulation.append(daily_accum)"
   ]
  },
  {
   "cell_type": "code",
   "execution_count": 25,
   "metadata": {},
   "outputs": [],
   "source": [
    "df['numHotDays'] = hot_count\n",
    "df['numColdDays'] = cold_count\n",
    "df['accumulatedSnow'] = daily_accumulation"
   ]
  },
  {
   "cell_type": "code",
   "execution_count": 26,
   "metadata": {},
   "outputs": [
    {
     "data": {
      "text/plain": [
       "(2579, 24)"
      ]
     },
     "execution_count": 26,
     "metadata": {},
     "output_type": "execute_result"
    }
   ],
   "source": [
    "df.shape"
   ]
  },
  {
   "cell_type": "markdown",
   "metadata": {},
   "source": [
    "Add a column of random noise to help judge feature importance"
   ]
  },
  {
   "cell_type": "code",
   "execution_count": 27,
   "metadata": {},
   "outputs": [],
   "source": [
    "df['noise_test'] = np.random.random_sample(df.shape[0])"
   ]
  },
  {
   "cell_type": "markdown",
   "metadata": {},
   "source": [
    "Drop all records for a year that are after the ice broke."
   ]
  },
  {
   "cell_type": "code",
   "execution_count": 28,
   "metadata": {},
   "outputs": [
    {
     "data": {
      "text/plain": [
       "Int64Index([  49,  134,  228,  332,  401,  499,  585,  672,  754,  921, 1020,\n",
       "            1105, 1174, 1261, 1357, 1453, 1540, 1641, 1728, 1818, 1915, 1996,\n",
       "            2115, 2182, 2273, 2364, 2464, 2556, 2631],\n",
       "           dtype='int64')"
      ]
     },
     "execution_count": 28,
     "metadata": {},
     "output_type": "execute_result"
    }
   ],
   "source": [
    "idx_w = df.loc[df['winningDate'] == 1].index\n",
    "idx_w"
   ]
  },
  {
   "cell_type": "code",
   "execution_count": 29,
   "metadata": {},
   "outputs": [],
   "source": [
    "drop_index = []\n",
    "for i, year in enumerate(year_list):\n",
    "#     print('***', year, '***')\n",
    "    idx_y = df.loc[df['Date'].dt.year == year].index\n",
    "#     print(idx_y)\n",
    "    for idx in idx_y:\n",
    "#         print(idx, idx_w[i])\n",
    "        if idx > idx_w[i]:\n",
    "#             print('appended', idx)\n",
    "            drop_index.append(idx)\n",
    "        else:\n",
    "            pass"
   ]
  },
  {
   "cell_type": "code",
   "execution_count": 30,
   "metadata": {},
   "outputs": [],
   "source": [
    "for idx in drop_index:\n",
    "    df.drop(index = idx, inplace = True)"
   ]
  },
  {
   "cell_type": "code",
   "execution_count": null,
   "metadata": {},
   "outputs": [],
   "source": [
    "# Bryan suggested rolling avg, rolling slope, rolling acceleration, and rolling std dev features might help\n",
    "# improve model performance\n",
    "\n",
    "def slope(y):\n",
    "    x = range(len(y))\n",
    "    # y = mx + b\n",
    "    m, b = np.polyfit(x, y, 1)\n",
    "    return m\n",
    "\n",
    "def acc(y):\n",
    "    t = range(len(y))\n",
    "    # y = 1/2 g t^2 + v t + y0\n",
    "    a, v, y0 = np.polyfit(t, y, 2)\n",
    "    return 5*a"
   ]
  },
  {
   "cell_type": "code",
   "execution_count": null,
   "metadata": {},
   "outputs": [],
   "source": [
    "temp = df['temperatureAvg'].head(90).copy()\n",
    "\n",
    "temp.plot()\n",
    "temp.rolling(5).mean().plot()\n",
    "plt.show()\n",
    "\n",
    "temp.rolling(5).apply(lambda x: slope(x)).plot()\n",
    "temp.rolling(10).apply(lambda x: acc(x)).plot()\n",
    "temp.rolling(10).std().plot()\n",
    "plt.show()"
   ]
  },
  {
   "cell_type": "code",
   "execution_count": 31,
   "metadata": {},
   "outputs": [
    {
     "data": {
      "text/plain": [
       "(1677, 25)"
      ]
     },
     "execution_count": 31,
     "metadata": {},
     "output_type": "execute_result"
    }
   ],
   "source": [
    "df.shape"
   ]
  },
  {
   "cell_type": "code",
   "execution_count": 32,
   "metadata": {},
   "outputs": [
    {
     "data": {
      "text/html": [
       "<div>\n",
       "<style scoped>\n",
       "    .dataframe tbody tr th:only-of-type {\n",
       "        vertical-align: middle;\n",
       "    }\n",
       "\n",
       "    .dataframe tbody tr th {\n",
       "        vertical-align: top;\n",
       "    }\n",
       "\n",
       "    .dataframe thead th {\n",
       "        text-align: right;\n",
       "    }\n",
       "</style>\n",
       "<table border=\"1\" class=\"dataframe\">\n",
       "  <thead>\n",
       "    <tr style=\"text-align: right;\">\n",
       "      <th></th>\n",
       "      <th>moonPhase</th>\n",
       "      <th>humidity</th>\n",
       "      <th>windSpeed</th>\n",
       "      <th>windBearing</th>\n",
       "      <th>uvIndex</th>\n",
       "      <th>temperatureMin</th>\n",
       "      <th>temperatureMax</th>\n",
       "      <th>precipIntensity</th>\n",
       "      <th>precipAccumulation</th>\n",
       "      <th>daylightHours</th>\n",
       "      <th>...</th>\n",
       "      <th>winningDate</th>\n",
       "      <th>past</th>\n",
       "      <th>future</th>\n",
       "      <th>precip_rain</th>\n",
       "      <th>precip_snow</th>\n",
       "      <th>temperatureAvg</th>\n",
       "      <th>numHotDays</th>\n",
       "      <th>numColdDays</th>\n",
       "      <th>accumulatedSnow</th>\n",
       "      <th>noise_test</th>\n",
       "    </tr>\n",
       "  </thead>\n",
       "  <tbody>\n",
       "    <tr>\n",
       "      <th>moonPhase</th>\n",
       "      <td>1.000000</td>\n",
       "      <td>0.024329</td>\n",
       "      <td>-0.031091</td>\n",
       "      <td>-0.002363</td>\n",
       "      <td>0.013080</td>\n",
       "      <td>0.031055</td>\n",
       "      <td>0.036248</td>\n",
       "      <td>-0.001314</td>\n",
       "      <td>-0.021090</td>\n",
       "      <td>0.010845</td>\n",
       "      <td>...</td>\n",
       "      <td>-0.011866</td>\n",
       "      <td>0.003584</td>\n",
       "      <td>-0.003584</td>\n",
       "      <td>0.018164</td>\n",
       "      <td>-0.037871</td>\n",
       "      <td>0.034877</td>\n",
       "      <td>-0.031033</td>\n",
       "      <td>0.018594</td>\n",
       "      <td>-0.001387</td>\n",
       "      <td>0.001298</td>\n",
       "    </tr>\n",
       "    <tr>\n",
       "      <th>humidity</th>\n",
       "      <td>0.024329</td>\n",
       "      <td>1.000000</td>\n",
       "      <td>-0.247583</td>\n",
       "      <td>0.196933</td>\n",
       "      <td>-0.225285</td>\n",
       "      <td>-0.058183</td>\n",
       "      <td>-0.164067</td>\n",
       "      <td>0.245333</td>\n",
       "      <td>0.236958</td>\n",
       "      <td>-0.211678</td>\n",
       "      <td>...</td>\n",
       "      <td>-0.070601</td>\n",
       "      <td>-0.077463</td>\n",
       "      <td>0.077463</td>\n",
       "      <td>0.156959</td>\n",
       "      <td>0.358666</td>\n",
       "      <td>-0.112565</td>\n",
       "      <td>-0.057557</td>\n",
       "      <td>-0.243049</td>\n",
       "      <td>-0.098414</td>\n",
       "      <td>0.006292</td>\n",
       "    </tr>\n",
       "    <tr>\n",
       "      <th>windSpeed</th>\n",
       "      <td>-0.031091</td>\n",
       "      <td>-0.247583</td>\n",
       "      <td>1.000000</td>\n",
       "      <td>-0.071403</td>\n",
       "      <td>0.035623</td>\n",
       "      <td>0.149088</td>\n",
       "      <td>0.028817</td>\n",
       "      <td>0.046091</td>\n",
       "      <td>0.001813</td>\n",
       "      <td>0.043485</td>\n",
       "      <td>...</td>\n",
       "      <td>-0.011078</td>\n",
       "      <td>0.191588</td>\n",
       "      <td>-0.191588</td>\n",
       "      <td>0.010928</td>\n",
       "      <td>0.016230</td>\n",
       "      <td>0.096126</td>\n",
       "      <td>0.049809</td>\n",
       "      <td>-0.060356</td>\n",
       "      <td>-0.067078</td>\n",
       "      <td>0.016173</td>\n",
       "    </tr>\n",
       "    <tr>\n",
       "      <th>windBearing</th>\n",
       "      <td>-0.002363</td>\n",
       "      <td>0.196933</td>\n",
       "      <td>-0.071403</td>\n",
       "      <td>1.000000</td>\n",
       "      <td>0.034366</td>\n",
       "      <td>-0.086952</td>\n",
       "      <td>-0.196726</td>\n",
       "      <td>0.047299</td>\n",
       "      <td>0.064060</td>\n",
       "      <td>0.060597</td>\n",
       "      <td>...</td>\n",
       "      <td>0.000800</td>\n",
       "      <td>-0.009729</td>\n",
       "      <td>0.009729</td>\n",
       "      <td>0.006374</td>\n",
       "      <td>0.125215</td>\n",
       "      <td>-0.144423</td>\n",
       "      <td>0.002569</td>\n",
       "      <td>0.046717</td>\n",
       "      <td>0.157501</td>\n",
       "      <td>-0.025403</td>\n",
       "    </tr>\n",
       "    <tr>\n",
       "      <th>uvIndex</th>\n",
       "      <td>0.013080</td>\n",
       "      <td>-0.225285</td>\n",
       "      <td>0.035623</td>\n",
       "      <td>0.034366</td>\n",
       "      <td>1.000000</td>\n",
       "      <td>0.584015</td>\n",
       "      <td>0.650108</td>\n",
       "      <td>0.004891</td>\n",
       "      <td>-0.080789</td>\n",
       "      <td>0.893688</td>\n",
       "      <td>...</td>\n",
       "      <td>0.196891</td>\n",
       "      <td>0.051028</td>\n",
       "      <td>-0.051028</td>\n",
       "      <td>0.091125</td>\n",
       "      <td>-0.137206</td>\n",
       "      <td>0.640383</td>\n",
       "      <td>0.206785</td>\n",
       "      <td>0.546948</td>\n",
       "      <td>0.365815</td>\n",
       "      <td>0.029188</td>\n",
       "    </tr>\n",
       "    <tr>\n",
       "      <th>temperatureMin</th>\n",
       "      <td>0.031055</td>\n",
       "      <td>-0.058183</td>\n",
       "      <td>0.149088</td>\n",
       "      <td>-0.086952</td>\n",
       "      <td>0.584015</td>\n",
       "      <td>1.000000</td>\n",
       "      <td>0.845285</td>\n",
       "      <td>0.060595</td>\n",
       "      <td>-0.045060</td>\n",
       "      <td>0.654276</td>\n",
       "      <td>...</td>\n",
       "      <td>0.154905</td>\n",
       "      <td>-0.090416</td>\n",
       "      <td>0.090416</td>\n",
       "      <td>0.181813</td>\n",
       "      <td>-0.063029</td>\n",
       "      <td>0.964958</td>\n",
       "      <td>0.107930</td>\n",
       "      <td>0.386989</td>\n",
       "      <td>0.141065</td>\n",
       "      <td>0.007356</td>\n",
       "    </tr>\n",
       "    <tr>\n",
       "      <th>temperatureMax</th>\n",
       "      <td>0.036248</td>\n",
       "      <td>-0.164067</td>\n",
       "      <td>0.028817</td>\n",
       "      <td>-0.196726</td>\n",
       "      <td>0.650108</td>\n",
       "      <td>0.845285</td>\n",
       "      <td>1.000000</td>\n",
       "      <td>-0.014835</td>\n",
       "      <td>-0.143113</td>\n",
       "      <td>0.697477</td>\n",
       "      <td>...</td>\n",
       "      <td>0.185769</td>\n",
       "      <td>-0.057352</td>\n",
       "      <td>0.057352</td>\n",
       "      <td>0.136709</td>\n",
       "      <td>-0.207878</td>\n",
       "      <td>0.955872</td>\n",
       "      <td>0.104080</td>\n",
       "      <td>0.471590</td>\n",
       "      <td>0.117167</td>\n",
       "      <td>0.005899</td>\n",
       "    </tr>\n",
       "    <tr>\n",
       "      <th>precipIntensity</th>\n",
       "      <td>-0.001314</td>\n",
       "      <td>0.245333</td>\n",
       "      <td>0.046091</td>\n",
       "      <td>0.047299</td>\n",
       "      <td>0.004891</td>\n",
       "      <td>0.060595</td>\n",
       "      <td>-0.014835</td>\n",
       "      <td>1.000000</td>\n",
       "      <td>0.574145</td>\n",
       "      <td>0.036886</td>\n",
       "      <td>...</td>\n",
       "      <td>-0.019324</td>\n",
       "      <td>0.007452</td>\n",
       "      <td>-0.007452</td>\n",
       "      <td>0.251667</td>\n",
       "      <td>0.277436</td>\n",
       "      <td>0.026031</td>\n",
       "      <td>0.058720</td>\n",
       "      <td>-0.052390</td>\n",
       "      <td>0.117021</td>\n",
       "      <td>0.026086</td>\n",
       "    </tr>\n",
       "    <tr>\n",
       "      <th>precipAccumulation</th>\n",
       "      <td>-0.021090</td>\n",
       "      <td>0.236958</td>\n",
       "      <td>0.001813</td>\n",
       "      <td>0.064060</td>\n",
       "      <td>-0.080789</td>\n",
       "      <td>-0.045060</td>\n",
       "      <td>-0.143113</td>\n",
       "      <td>0.574145</td>\n",
       "      <td>1.000000</td>\n",
       "      <td>-0.071778</td>\n",
       "      <td>...</td>\n",
       "      <td>-0.022998</td>\n",
       "      <td>0.019711</td>\n",
       "      <td>-0.019711</td>\n",
       "      <td>-0.030392</td>\n",
       "      <td>0.452093</td>\n",
       "      <td>-0.095059</td>\n",
       "      <td>-0.014737</td>\n",
       "      <td>-0.080674</td>\n",
       "      <td>0.130907</td>\n",
       "      <td>0.018161</td>\n",
       "    </tr>\n",
       "    <tr>\n",
       "      <th>daylightHours</th>\n",
       "      <td>0.010845</td>\n",
       "      <td>-0.211678</td>\n",
       "      <td>0.043485</td>\n",
       "      <td>0.060597</td>\n",
       "      <td>0.893688</td>\n",
       "      <td>0.654276</td>\n",
       "      <td>0.697477</td>\n",
       "      <td>0.036886</td>\n",
       "      <td>-0.071778</td>\n",
       "      <td>1.000000</td>\n",
       "      <td>...</td>\n",
       "      <td>0.214122</td>\n",
       "      <td>0.063704</td>\n",
       "      <td>-0.063704</td>\n",
       "      <td>0.144419</td>\n",
       "      <td>-0.117100</td>\n",
       "      <td>0.702278</td>\n",
       "      <td>0.242445</td>\n",
       "      <td>0.651350</td>\n",
       "      <td>0.386155</td>\n",
       "      <td>0.020909</td>\n",
       "    </tr>\n",
       "    <tr>\n",
       "      <th>iceThickness</th>\n",
       "      <td>-0.037605</td>\n",
       "      <td>-0.177610</td>\n",
       "      <td>0.059857</td>\n",
       "      <td>0.008740</td>\n",
       "      <td>-0.040198</td>\n",
       "      <td>-0.121862</td>\n",
       "      <td>-0.114068</td>\n",
       "      <td>0.011291</td>\n",
       "      <td>0.011928</td>\n",
       "      <td>-0.025210</td>\n",
       "      <td>...</td>\n",
       "      <td>-0.054254</td>\n",
       "      <td>0.442032</td>\n",
       "      <td>-0.442032</td>\n",
       "      <td>-0.087184</td>\n",
       "      <td>-0.062283</td>\n",
       "      <td>-0.123023</td>\n",
       "      <td>0.011144</td>\n",
       "      <td>0.040732</td>\n",
       "      <td>0.053762</td>\n",
       "      <td>-0.006867</td>\n",
       "    </tr>\n",
       "    <tr>\n",
       "      <th>dayOfYear</th>\n",
       "      <td>0.010929</td>\n",
       "      <td>-0.209419</td>\n",
       "      <td>0.043974</td>\n",
       "      <td>0.060243</td>\n",
       "      <td>0.893994</td>\n",
       "      <td>0.655711</td>\n",
       "      <td>0.698537</td>\n",
       "      <td>0.035973</td>\n",
       "      <td>-0.073070</td>\n",
       "      <td>0.999856</td>\n",
       "      <td>...</td>\n",
       "      <td>0.213065</td>\n",
       "      <td>0.064292</td>\n",
       "      <td>-0.064292</td>\n",
       "      <td>0.144524</td>\n",
       "      <td>-0.118507</td>\n",
       "      <td>0.703587</td>\n",
       "      <td>0.238404</td>\n",
       "      <td>0.653359</td>\n",
       "      <td>0.380397</td>\n",
       "      <td>0.020441</td>\n",
       "    </tr>\n",
       "    <tr>\n",
       "      <th>winningDate</th>\n",
       "      <td>-0.011866</td>\n",
       "      <td>-0.070601</td>\n",
       "      <td>-0.011078</td>\n",
       "      <td>0.000800</td>\n",
       "      <td>0.196891</td>\n",
       "      <td>0.154905</td>\n",
       "      <td>0.185769</td>\n",
       "      <td>-0.019324</td>\n",
       "      <td>-0.022998</td>\n",
       "      <td>0.214122</td>\n",
       "      <td>...</td>\n",
       "      <td>1.000000</td>\n",
       "      <td>-0.002369</td>\n",
       "      <td>0.002369</td>\n",
       "      <td>0.057431</td>\n",
       "      <td>-0.050870</td>\n",
       "      <td>0.176404</td>\n",
       "      <td>0.103835</td>\n",
       "      <td>0.083379</td>\n",
       "      <td>0.035931</td>\n",
       "      <td>0.050404</td>\n",
       "    </tr>\n",
       "    <tr>\n",
       "      <th>past</th>\n",
       "      <td>0.003584</td>\n",
       "      <td>-0.077463</td>\n",
       "      <td>0.191588</td>\n",
       "      <td>-0.009729</td>\n",
       "      <td>0.051028</td>\n",
       "      <td>-0.090416</td>\n",
       "      <td>-0.057352</td>\n",
       "      <td>0.007452</td>\n",
       "      <td>0.019711</td>\n",
       "      <td>0.063704</td>\n",
       "      <td>...</td>\n",
       "      <td>-0.002369</td>\n",
       "      <td>1.000000</td>\n",
       "      <td>-1.000000</td>\n",
       "      <td>-0.091560</td>\n",
       "      <td>-0.059278</td>\n",
       "      <td>-0.077880</td>\n",
       "      <td>0.049174</td>\n",
       "      <td>0.066630</td>\n",
       "      <td>0.072546</td>\n",
       "      <td>-0.015414</td>\n",
       "    </tr>\n",
       "    <tr>\n",
       "      <th>future</th>\n",
       "      <td>-0.003584</td>\n",
       "      <td>0.077463</td>\n",
       "      <td>-0.191588</td>\n",
       "      <td>0.009729</td>\n",
       "      <td>-0.051028</td>\n",
       "      <td>0.090416</td>\n",
       "      <td>0.057352</td>\n",
       "      <td>-0.007452</td>\n",
       "      <td>-0.019711</td>\n",
       "      <td>-0.063704</td>\n",
       "      <td>...</td>\n",
       "      <td>0.002369</td>\n",
       "      <td>-1.000000</td>\n",
       "      <td>1.000000</td>\n",
       "      <td>0.091560</td>\n",
       "      <td>0.059278</td>\n",
       "      <td>0.077880</td>\n",
       "      <td>-0.049174</td>\n",
       "      <td>-0.066630</td>\n",
       "      <td>-0.072546</td>\n",
       "      <td>0.015414</td>\n",
       "    </tr>\n",
       "    <tr>\n",
       "      <th>precip_rain</th>\n",
       "      <td>0.018164</td>\n",
       "      <td>0.156959</td>\n",
       "      <td>0.010928</td>\n",
       "      <td>0.006374</td>\n",
       "      <td>0.091125</td>\n",
       "      <td>0.181813</td>\n",
       "      <td>0.136709</td>\n",
       "      <td>0.251667</td>\n",
       "      <td>-0.030392</td>\n",
       "      <td>0.144419</td>\n",
       "      <td>...</td>\n",
       "      <td>0.057431</td>\n",
       "      <td>-0.091560</td>\n",
       "      <td>0.091560</td>\n",
       "      <td>1.000000</td>\n",
       "      <td>-0.067226</td>\n",
       "      <td>0.167105</td>\n",
       "      <td>0.071465</td>\n",
       "      <td>0.047682</td>\n",
       "      <td>0.053682</td>\n",
       "      <td>-0.007387</td>\n",
       "    </tr>\n",
       "    <tr>\n",
       "      <th>precip_snow</th>\n",
       "      <td>-0.037871</td>\n",
       "      <td>0.358666</td>\n",
       "      <td>0.016230</td>\n",
       "      <td>0.125215</td>\n",
       "      <td>-0.137206</td>\n",
       "      <td>-0.063029</td>\n",
       "      <td>-0.207878</td>\n",
       "      <td>0.277436</td>\n",
       "      <td>0.452093</td>\n",
       "      <td>-0.117100</td>\n",
       "      <td>...</td>\n",
       "      <td>-0.050870</td>\n",
       "      <td>-0.059278</td>\n",
       "      <td>0.059278</td>\n",
       "      <td>-0.067226</td>\n",
       "      <td>1.000000</td>\n",
       "      <td>-0.136745</td>\n",
       "      <td>-0.009307</td>\n",
       "      <td>-0.136673</td>\n",
       "      <td>0.074954</td>\n",
       "      <td>0.006264</td>\n",
       "    </tr>\n",
       "    <tr>\n",
       "      <th>temperatureAvg</th>\n",
       "      <td>0.034877</td>\n",
       "      <td>-0.112565</td>\n",
       "      <td>0.096126</td>\n",
       "      <td>-0.144423</td>\n",
       "      <td>0.640383</td>\n",
       "      <td>0.964958</td>\n",
       "      <td>0.955872</td>\n",
       "      <td>0.026031</td>\n",
       "      <td>-0.095059</td>\n",
       "      <td>0.702278</td>\n",
       "      <td>...</td>\n",
       "      <td>0.176404</td>\n",
       "      <td>-0.077880</td>\n",
       "      <td>0.077880</td>\n",
       "      <td>0.167105</td>\n",
       "      <td>-0.136745</td>\n",
       "      <td>1.000000</td>\n",
       "      <td>0.110458</td>\n",
       "      <td>0.444380</td>\n",
       "      <td>0.135104</td>\n",
       "      <td>0.006942</td>\n",
       "    </tr>\n",
       "    <tr>\n",
       "      <th>numHotDays</th>\n",
       "      <td>-0.031033</td>\n",
       "      <td>-0.057557</td>\n",
       "      <td>0.049809</td>\n",
       "      <td>0.002569</td>\n",
       "      <td>0.206785</td>\n",
       "      <td>0.107930</td>\n",
       "      <td>0.104080</td>\n",
       "      <td>0.058720</td>\n",
       "      <td>-0.014737</td>\n",
       "      <td>0.242445</td>\n",
       "      <td>...</td>\n",
       "      <td>0.103835</td>\n",
       "      <td>0.049174</td>\n",
       "      <td>-0.049174</td>\n",
       "      <td>0.071465</td>\n",
       "      <td>-0.009307</td>\n",
       "      <td>0.110458</td>\n",
       "      <td>1.000000</td>\n",
       "      <td>-0.001946</td>\n",
       "      <td>0.314791</td>\n",
       "      <td>-0.004023</td>\n",
       "    </tr>\n",
       "    <tr>\n",
       "      <th>numColdDays</th>\n",
       "      <td>0.018594</td>\n",
       "      <td>-0.243049</td>\n",
       "      <td>-0.060356</td>\n",
       "      <td>0.046717</td>\n",
       "      <td>0.546948</td>\n",
       "      <td>0.386989</td>\n",
       "      <td>0.471590</td>\n",
       "      <td>-0.052390</td>\n",
       "      <td>-0.080674</td>\n",
       "      <td>0.651350</td>\n",
       "      <td>...</td>\n",
       "      <td>0.083379</td>\n",
       "      <td>0.066630</td>\n",
       "      <td>-0.066630</td>\n",
       "      <td>0.047682</td>\n",
       "      <td>-0.136673</td>\n",
       "      <td>0.444380</td>\n",
       "      <td>-0.001946</td>\n",
       "      <td>1.000000</td>\n",
       "      <td>0.340989</td>\n",
       "      <td>0.010943</td>\n",
       "    </tr>\n",
       "    <tr>\n",
       "      <th>accumulatedSnow</th>\n",
       "      <td>-0.001387</td>\n",
       "      <td>-0.098414</td>\n",
       "      <td>-0.067078</td>\n",
       "      <td>0.157501</td>\n",
       "      <td>0.365815</td>\n",
       "      <td>0.141065</td>\n",
       "      <td>0.117167</td>\n",
       "      <td>0.117021</td>\n",
       "      <td>0.130907</td>\n",
       "      <td>0.386155</td>\n",
       "      <td>...</td>\n",
       "      <td>0.035931</td>\n",
       "      <td>0.072546</td>\n",
       "      <td>-0.072546</td>\n",
       "      <td>0.053682</td>\n",
       "      <td>0.074954</td>\n",
       "      <td>0.135104</td>\n",
       "      <td>0.314791</td>\n",
       "      <td>0.340989</td>\n",
       "      <td>1.000000</td>\n",
       "      <td>0.007160</td>\n",
       "    </tr>\n",
       "    <tr>\n",
       "      <th>noise_test</th>\n",
       "      <td>0.001298</td>\n",
       "      <td>0.006292</td>\n",
       "      <td>0.016173</td>\n",
       "      <td>-0.025403</td>\n",
       "      <td>0.029188</td>\n",
       "      <td>0.007356</td>\n",
       "      <td>0.005899</td>\n",
       "      <td>0.026086</td>\n",
       "      <td>0.018161</td>\n",
       "      <td>0.020909</td>\n",
       "      <td>...</td>\n",
       "      <td>0.050404</td>\n",
       "      <td>-0.015414</td>\n",
       "      <td>0.015414</td>\n",
       "      <td>-0.007387</td>\n",
       "      <td>0.006264</td>\n",
       "      <td>0.006942</td>\n",
       "      <td>-0.004023</td>\n",
       "      <td>0.010943</td>\n",
       "      <td>0.007160</td>\n",
       "      <td>1.000000</td>\n",
       "    </tr>\n",
       "  </tbody>\n",
       "</table>\n",
       "<p>22 rows × 22 columns</p>\n",
       "</div>"
      ],
      "text/plain": [
       "                    moonPhase  humidity  windSpeed  windBearing   uvIndex  \\\n",
       "moonPhase            1.000000  0.024329  -0.031091    -0.002363  0.013080   \n",
       "humidity             0.024329  1.000000  -0.247583     0.196933 -0.225285   \n",
       "windSpeed           -0.031091 -0.247583   1.000000    -0.071403  0.035623   \n",
       "windBearing         -0.002363  0.196933  -0.071403     1.000000  0.034366   \n",
       "uvIndex              0.013080 -0.225285   0.035623     0.034366  1.000000   \n",
       "temperatureMin       0.031055 -0.058183   0.149088    -0.086952  0.584015   \n",
       "temperatureMax       0.036248 -0.164067   0.028817    -0.196726  0.650108   \n",
       "precipIntensity     -0.001314  0.245333   0.046091     0.047299  0.004891   \n",
       "precipAccumulation  -0.021090  0.236958   0.001813     0.064060 -0.080789   \n",
       "daylightHours        0.010845 -0.211678   0.043485     0.060597  0.893688   \n",
       "iceThickness        -0.037605 -0.177610   0.059857     0.008740 -0.040198   \n",
       "dayOfYear            0.010929 -0.209419   0.043974     0.060243  0.893994   \n",
       "winningDate         -0.011866 -0.070601  -0.011078     0.000800  0.196891   \n",
       "past                 0.003584 -0.077463   0.191588    -0.009729  0.051028   \n",
       "future              -0.003584  0.077463  -0.191588     0.009729 -0.051028   \n",
       "precip_rain          0.018164  0.156959   0.010928     0.006374  0.091125   \n",
       "precip_snow         -0.037871  0.358666   0.016230     0.125215 -0.137206   \n",
       "temperatureAvg       0.034877 -0.112565   0.096126    -0.144423  0.640383   \n",
       "numHotDays          -0.031033 -0.057557   0.049809     0.002569  0.206785   \n",
       "numColdDays          0.018594 -0.243049  -0.060356     0.046717  0.546948   \n",
       "accumulatedSnow     -0.001387 -0.098414  -0.067078     0.157501  0.365815   \n",
       "noise_test           0.001298  0.006292   0.016173    -0.025403  0.029188   \n",
       "\n",
       "                    temperatureMin  temperatureMax  precipIntensity  \\\n",
       "moonPhase                 0.031055        0.036248        -0.001314   \n",
       "humidity                 -0.058183       -0.164067         0.245333   \n",
       "windSpeed                 0.149088        0.028817         0.046091   \n",
       "windBearing              -0.086952       -0.196726         0.047299   \n",
       "uvIndex                   0.584015        0.650108         0.004891   \n",
       "temperatureMin            1.000000        0.845285         0.060595   \n",
       "temperatureMax            0.845285        1.000000        -0.014835   \n",
       "precipIntensity           0.060595       -0.014835         1.000000   \n",
       "precipAccumulation       -0.045060       -0.143113         0.574145   \n",
       "daylightHours             0.654276        0.697477         0.036886   \n",
       "iceThickness             -0.121862       -0.114068         0.011291   \n",
       "dayOfYear                 0.655711        0.698537         0.035973   \n",
       "winningDate               0.154905        0.185769        -0.019324   \n",
       "past                     -0.090416       -0.057352         0.007452   \n",
       "future                    0.090416        0.057352        -0.007452   \n",
       "precip_rain               0.181813        0.136709         0.251667   \n",
       "precip_snow              -0.063029       -0.207878         0.277436   \n",
       "temperatureAvg            0.964958        0.955872         0.026031   \n",
       "numHotDays                0.107930        0.104080         0.058720   \n",
       "numColdDays               0.386989        0.471590        -0.052390   \n",
       "accumulatedSnow           0.141065        0.117167         0.117021   \n",
       "noise_test                0.007356        0.005899         0.026086   \n",
       "\n",
       "                    precipAccumulation  daylightHours  ...  winningDate  \\\n",
       "moonPhase                    -0.021090       0.010845  ...    -0.011866   \n",
       "humidity                      0.236958      -0.211678  ...    -0.070601   \n",
       "windSpeed                     0.001813       0.043485  ...    -0.011078   \n",
       "windBearing                   0.064060       0.060597  ...     0.000800   \n",
       "uvIndex                      -0.080789       0.893688  ...     0.196891   \n",
       "temperatureMin               -0.045060       0.654276  ...     0.154905   \n",
       "temperatureMax               -0.143113       0.697477  ...     0.185769   \n",
       "precipIntensity               0.574145       0.036886  ...    -0.019324   \n",
       "precipAccumulation            1.000000      -0.071778  ...    -0.022998   \n",
       "daylightHours                -0.071778       1.000000  ...     0.214122   \n",
       "iceThickness                  0.011928      -0.025210  ...    -0.054254   \n",
       "dayOfYear                    -0.073070       0.999856  ...     0.213065   \n",
       "winningDate                  -0.022998       0.214122  ...     1.000000   \n",
       "past                          0.019711       0.063704  ...    -0.002369   \n",
       "future                       -0.019711      -0.063704  ...     0.002369   \n",
       "precip_rain                  -0.030392       0.144419  ...     0.057431   \n",
       "precip_snow                   0.452093      -0.117100  ...    -0.050870   \n",
       "temperatureAvg               -0.095059       0.702278  ...     0.176404   \n",
       "numHotDays                   -0.014737       0.242445  ...     0.103835   \n",
       "numColdDays                  -0.080674       0.651350  ...     0.083379   \n",
       "accumulatedSnow               0.130907       0.386155  ...     0.035931   \n",
       "noise_test                    0.018161       0.020909  ...     0.050404   \n",
       "\n",
       "                        past    future  precip_rain  precip_snow  \\\n",
       "moonPhase           0.003584 -0.003584     0.018164    -0.037871   \n",
       "humidity           -0.077463  0.077463     0.156959     0.358666   \n",
       "windSpeed           0.191588 -0.191588     0.010928     0.016230   \n",
       "windBearing        -0.009729  0.009729     0.006374     0.125215   \n",
       "uvIndex             0.051028 -0.051028     0.091125    -0.137206   \n",
       "temperatureMin     -0.090416  0.090416     0.181813    -0.063029   \n",
       "temperatureMax     -0.057352  0.057352     0.136709    -0.207878   \n",
       "precipIntensity     0.007452 -0.007452     0.251667     0.277436   \n",
       "precipAccumulation  0.019711 -0.019711    -0.030392     0.452093   \n",
       "daylightHours       0.063704 -0.063704     0.144419    -0.117100   \n",
       "iceThickness        0.442032 -0.442032    -0.087184    -0.062283   \n",
       "dayOfYear           0.064292 -0.064292     0.144524    -0.118507   \n",
       "winningDate        -0.002369  0.002369     0.057431    -0.050870   \n",
       "past                1.000000 -1.000000    -0.091560    -0.059278   \n",
       "future             -1.000000  1.000000     0.091560     0.059278   \n",
       "precip_rain        -0.091560  0.091560     1.000000    -0.067226   \n",
       "precip_snow        -0.059278  0.059278    -0.067226     1.000000   \n",
       "temperatureAvg     -0.077880  0.077880     0.167105    -0.136745   \n",
       "numHotDays          0.049174 -0.049174     0.071465    -0.009307   \n",
       "numColdDays         0.066630 -0.066630     0.047682    -0.136673   \n",
       "accumulatedSnow     0.072546 -0.072546     0.053682     0.074954   \n",
       "noise_test         -0.015414  0.015414    -0.007387     0.006264   \n",
       "\n",
       "                    temperatureAvg  numHotDays  numColdDays  accumulatedSnow  \\\n",
       "moonPhase                 0.034877   -0.031033     0.018594        -0.001387   \n",
       "humidity                 -0.112565   -0.057557    -0.243049        -0.098414   \n",
       "windSpeed                 0.096126    0.049809    -0.060356        -0.067078   \n",
       "windBearing              -0.144423    0.002569     0.046717         0.157501   \n",
       "uvIndex                   0.640383    0.206785     0.546948         0.365815   \n",
       "temperatureMin            0.964958    0.107930     0.386989         0.141065   \n",
       "temperatureMax            0.955872    0.104080     0.471590         0.117167   \n",
       "precipIntensity           0.026031    0.058720    -0.052390         0.117021   \n",
       "precipAccumulation       -0.095059   -0.014737    -0.080674         0.130907   \n",
       "daylightHours             0.702278    0.242445     0.651350         0.386155   \n",
       "iceThickness             -0.123023    0.011144     0.040732         0.053762   \n",
       "dayOfYear                 0.703587    0.238404     0.653359         0.380397   \n",
       "winningDate               0.176404    0.103835     0.083379         0.035931   \n",
       "past                     -0.077880    0.049174     0.066630         0.072546   \n",
       "future                    0.077880   -0.049174    -0.066630        -0.072546   \n",
       "precip_rain               0.167105    0.071465     0.047682         0.053682   \n",
       "precip_snow              -0.136745   -0.009307    -0.136673         0.074954   \n",
       "temperatureAvg            1.000000    0.110458     0.444380         0.135104   \n",
       "numHotDays                0.110458    1.000000    -0.001946         0.314791   \n",
       "numColdDays               0.444380   -0.001946     1.000000         0.340989   \n",
       "accumulatedSnow           0.135104    0.314791     0.340989         1.000000   \n",
       "noise_test                0.006942   -0.004023     0.010943         0.007160   \n",
       "\n",
       "                    noise_test  \n",
       "moonPhase             0.001298  \n",
       "humidity              0.006292  \n",
       "windSpeed             0.016173  \n",
       "windBearing          -0.025403  \n",
       "uvIndex               0.029188  \n",
       "temperatureMin        0.007356  \n",
       "temperatureMax        0.005899  \n",
       "precipIntensity       0.026086  \n",
       "precipAccumulation    0.018161  \n",
       "daylightHours         0.020909  \n",
       "iceThickness         -0.006867  \n",
       "dayOfYear             0.020441  \n",
       "winningDate           0.050404  \n",
       "past                 -0.015414  \n",
       "future                0.015414  \n",
       "precip_rain          -0.007387  \n",
       "precip_snow           0.006264  \n",
       "temperatureAvg        0.006942  \n",
       "numHotDays           -0.004023  \n",
       "numColdDays           0.010943  \n",
       "accumulatedSnow       0.007160  \n",
       "noise_test            1.000000  \n",
       "\n",
       "[22 rows x 22 columns]"
      ]
     },
     "execution_count": 32,
     "metadata": {},
     "output_type": "execute_result"
    }
   ],
   "source": [
    "df.corr()"
   ]
  },
  {
   "cell_type": "markdown",
   "metadata": {},
   "source": [
    "## Modeling"
   ]
  },
  {
   "cell_type": "markdown",
   "metadata": {},
   "source": [
    "#### How good does my model have to be?"
   ]
  },
  {
   "cell_type": "code",
   "execution_count": 33,
   "metadata": {},
   "outputs": [
    {
     "name": "stdout",
     "output_type": "stream",
     "text": [
      "Percentage of non-events:\n"
     ]
    },
    {
     "data": {
      "text/plain": [
       "0.9827072152653548"
      ]
     },
     "execution_count": 33,
     "metadata": {},
     "output_type": "execute_result"
    }
   ],
   "source": [
    "# the thing to beat: 0.9827072152653548\n",
    "print('Percentage of non-events:')\n",
    "1 - (df['winningDate'].sum()/df['winningDate'].count())"
   ]
  },
  {
   "cell_type": "code",
   "execution_count": 34,
   "metadata": {},
   "outputs": [],
   "source": [
    "df_past = df.loc[df['past'] == 1]\n",
    "df_past.drop(columns = ['past', 'future'], inplace = True)"
   ]
  },
  {
   "cell_type": "code",
   "execution_count": 35,
   "metadata": {},
   "outputs": [
    {
     "name": "stdout",
     "output_type": "stream",
     "text": [
      "<class 'pandas.core.frame.DataFrame'>\n",
      "Int64Index: 1399 entries, 0 to 2182\n",
      "Data columns (total 23 columns):\n",
      " #   Column              Non-Null Count  Dtype           \n",
      "---  ------              --------------  -----           \n",
      " 0   Date                1399 non-null   datetime64[ns]  \n",
      " 1   moonPhase           1399 non-null   float64         \n",
      " 2   humidity            1399 non-null   float64         \n",
      " 3   windSpeed           1399 non-null   float64         \n",
      " 4   windBearing         1399 non-null   float64         \n",
      " 5   uvIndex             1399 non-null   float64         \n",
      " 6   temperatureMin      1399 non-null   float64         \n",
      " 7   temperatureMax      1399 non-null   float64         \n",
      " 8   precipType          1399 non-null   object          \n",
      " 9   precipIntensity     1399 non-null   float64         \n",
      " 10  precipAccumulation  1399 non-null   float64         \n",
      " 11  winningTime         1399 non-null   object          \n",
      " 12  daylightHours       1399 non-null   float64         \n",
      " 13  iceThickness        1399 non-null   float64         \n",
      " 14  dayOfYear           1399 non-null   int64           \n",
      " 15  winningDate         1399 non-null   int64           \n",
      " 16  precip_rain         1399 non-null   Sparse[int64, 0]\n",
      " 17  precip_snow         1399 non-null   Sparse[int64, 0]\n",
      " 18  temperatureAvg      1399 non-null   float64         \n",
      " 19  numHotDays          1399 non-null   int64           \n",
      " 20  numColdDays         1399 non-null   int64           \n",
      " 21  accumulatedSnow     1399 non-null   float64         \n",
      " 22  noise_test          1399 non-null   float64         \n",
      "dtypes: Sparse[int64, 0](2), datetime64[ns](1), float64(14), int64(4), object(2)\n",
      "memory usage: 242.8+ KB\n"
     ]
    }
   ],
   "source": [
    "df_past.info()"
   ]
  },
  {
   "cell_type": "code",
   "execution_count": 36,
   "metadata": {},
   "outputs": [],
   "source": [
    "df_future = df.loc[df['future'] == 1]\n",
    "df_future.drop(columns = ['past', 'future'], inplace = True)"
   ]
  },
  {
   "cell_type": "code",
   "execution_count": 37,
   "metadata": {},
   "outputs": [
    {
     "name": "stdout",
     "output_type": "stream",
     "text": [
      "<class 'pandas.core.frame.DataFrame'>\n",
      "Int64Index: 278 entries, 2219 to 2631\n",
      "Data columns (total 23 columns):\n",
      " #   Column              Non-Null Count  Dtype           \n",
      "---  ------              --------------  -----           \n",
      " 0   Date                278 non-null    datetime64[ns]  \n",
      " 1   moonPhase           278 non-null    float64         \n",
      " 2   humidity            278 non-null    float64         \n",
      " 3   windSpeed           278 non-null    float64         \n",
      " 4   windBearing         278 non-null    float64         \n",
      " 5   uvIndex             278 non-null    float64         \n",
      " 6   temperatureMin      278 non-null    float64         \n",
      " 7   temperatureMax      278 non-null    float64         \n",
      " 8   precipType          278 non-null    object          \n",
      " 9   precipIntensity     278 non-null    float64         \n",
      " 10  precipAccumulation  278 non-null    float64         \n",
      " 11  winningTime         278 non-null    object          \n",
      " 12  daylightHours       278 non-null    float64         \n",
      " 13  iceThickness        278 non-null    float64         \n",
      " 14  dayOfYear           278 non-null    int64           \n",
      " 15  winningDate         278 non-null    int64           \n",
      " 16  precip_rain         278 non-null    Sparse[int64, 0]\n",
      " 17  precip_snow         278 non-null    Sparse[int64, 0]\n",
      " 18  temperatureAvg      278 non-null    float64         \n",
      " 19  numHotDays          278 non-null    int64           \n",
      " 20  numColdDays         278 non-null    int64           \n",
      " 21  accumulatedSnow     278 non-null    float64         \n",
      " 22  noise_test          278 non-null    float64         \n",
      "dtypes: Sparse[int64, 0](2), datetime64[ns](1), float64(14), int64(4), object(2)\n",
      "memory usage: 48.6+ KB\n"
     ]
    }
   ],
   "source": [
    "df_future.info()"
   ]
  },
  {
   "cell_type": "code",
   "execution_count": 38,
   "metadata": {},
   "outputs": [
    {
     "data": {
      "text/plain": [
       "29"
      ]
     },
     "execution_count": 38,
     "metadata": {},
     "output_type": "execute_result"
    }
   ],
   "source": [
    "df.drop(columns = ['past', 'future'], inplace = True)\n",
    "gc.collect()"
   ]
  },
  {
   "cell_type": "code",
   "execution_count": 39,
   "metadata": {},
   "outputs": [],
   "source": [
    "exclude = ['winningTime', 'winningDate', 'precipType', 'Date', 'temperatureMin', 'temperatureMax',\n",
    "           'precipAccumulation', 'moonPhase', 'noise_test']"
   ]
  },
  {
   "cell_type": "code",
   "execution_count": 40,
   "metadata": {},
   "outputs": [
    {
     "name": "stdout",
     "output_type": "stream",
     "text": [
      "f1_weighted: 0.9323516837027169 +/- 0.011309645047720375\n",
      "precision_weighted: 0.9845186542746104 +/- 0.0023800512733866508\n",
      "recall_weighted: 0.896336405529954 +/- 0.01993738739151875\n",
      "roc_auc: 0.958709090909091 +/- 0.00710637009082478\n"
     ]
    }
   ],
   "source": [
    "# used_cols = [c for c in df_past.columns if c not in exclude]\n",
    "# used_cols = ['numHotDays', 'iceThickness', 'dayOfYear', 'uvIndex', 'humidity', 'accumulatedSnow']\n",
    "used_cols = ['daylightHours', 'windSpeed', 'dayOfYear', 'temperatureAvg', 'iceThickness', 'accumulatedSnow']\n",
    "target = 'winningDate'\n",
    "\n",
    "scaler = RobustScaler()\n",
    "encoder = WOEEncoder()\n",
    "binner = KBinsDiscretizer(n_bins=7, encode='ordinal')\n",
    "objectify = FunctionTransformer(func=stringify, check_inverse=False, validate=False)\n",
    "clf_lr = LogisticRegressionCV(class_weight='balanced',\n",
    "                              cv = TimeSeriesSplit(),\n",
    "                              solver = 'liblinear',\n",
    "                              n_jobs=-1,\n",
    "                              random_state=42)\n",
    "pipe = make_pipeline(scaler, binner, objectify, encoder, clf_lr)\n",
    "\n",
    "X_train, y_train = df_past[used_cols].values, df_past[target].values\n",
    "\n",
    "scores = cross_validate(pipe, X_train, y_train, cv = 5, scoring=['f1_weighted',\n",
    "                                                                 'precision_weighted',\n",
    "                                                                 'recall_weighted',\n",
    "                                                                 'roc_auc'])\n",
    "\n",
    "print('f1_weighted:', scores['test_f1_weighted'].mean(), '+/-', scores['test_f1_weighted'].std())\n",
    "print('precision_weighted:', scores['test_precision_weighted'].mean(),\n",
    "      '+/-', scores['test_precision_weighted'].std())\n",
    "print('recall_weighted:', scores['test_recall_weighted'].mean(), '+/-', scores['test_recall_weighted'].std())\n",
    "print('roc_auc:', scores['test_roc_auc'].mean(), '+/-', scores['test_roc_auc'].std())\n",
    "\n",
    "# 10 years' data\n",
    "# f1_weighted: 0.9492910108519276 +/- 0.015081214383123355\n",
    "# precision_weighted: 0.9812885521528123 +/- 0.0056885778967550255\n",
    "# recall_weighted: 0.9263415258576548 +/- 0.02684411872887092\n",
    "# roc_auc: 0.934509090909091 +/- 0.040877709175515434\n",
    "\n",
    "# 30 years' data\n",
    "# f1_weighted: 0.9323516837027169 +/- 0.011309645047720375\n",
    "# precision_weighted: 0.9845186542746104 +/- 0.0023800512733866508\n",
    "# recall_weighted: 0.896336405529954 +/- 0.01993738739151875\n",
    "# roc_auc: 0.958709090909091 +/- 0.00710637009082478"
   ]
  },
  {
   "cell_type": "code",
   "execution_count": 41,
   "metadata": {},
   "outputs": [
    {
     "data": {
      "text/plain": [
       "['daylightHours',\n",
       " 'windSpeed',\n",
       " 'dayOfYear',\n",
       " 'temperatureAvg',\n",
       " 'iceThickness',\n",
       " 'accumulatedSnow']"
      ]
     },
     "execution_count": 41,
     "metadata": {},
     "output_type": "execute_result"
    }
   ],
   "source": [
    "used_cols"
   ]
  },
  {
   "cell_type": "code",
   "execution_count": 42,
   "metadata": {},
   "outputs": [
    {
     "data": {
      "text/plain": [
       "Pipeline(memory=None,\n",
       "         steps=[('robustscaler',\n",
       "                 RobustScaler(copy=True, quantile_range=(25.0, 75.0),\n",
       "                              with_centering=True, with_scaling=True)),\n",
       "                ('kbinsdiscretizer',\n",
       "                 KBinsDiscretizer(encode='ordinal', n_bins=7,\n",
       "                                  strategy='quantile')),\n",
       "                ('functiontransformer',\n",
       "                 FunctionTransformer(accept_sparse=False, check_inverse=False,\n",
       "                                     func=<function stringify at 0x110459b70>,\n",
       "                                     inv_kw_arg...\n",
       "                            verbose=0)),\n",
       "                ('logisticregressioncv',\n",
       "                 LogisticRegressionCV(Cs=10, class_weight='balanced',\n",
       "                                      cv=TimeSeriesSplit(max_train_size=None, n_splits=5),\n",
       "                                      dual=False, fit_intercept=True,\n",
       "                                      intercept_scaling=1.0, l1_ratios=None,\n",
       "                                      max_iter=100, multi_class='auto',\n",
       "                                      n_jobs=-1, penalty='l2', random_state=42,\n",
       "                                      refit=True, scoring=None,\n",
       "                                      solver='liblinear', tol=0.0001,\n",
       "                                      verbose=0))],\n",
       "         verbose=False)"
      ]
     },
     "execution_count": 42,
     "metadata": {},
     "output_type": "execute_result"
    }
   ],
   "source": [
    "pipe.fit(X_train, y_train)"
   ]
  },
  {
   "cell_type": "code",
   "execution_count": 43,
   "metadata": {},
   "outputs": [
    {
     "name": "stdout",
     "output_type": "stream",
     "text": [
      "0 3.307569666715588\n",
      "1 1.838008740853796\n",
      "2 -1.7034321335343139\n",
      "3 1.3204351131685328\n",
      "4 1.2237857368237557\n",
      "5 -1.1914110092644705\n"
     ]
    }
   ],
   "source": [
    "for n, v in enumerate(clf_lr.coef_[0]):\n",
    "    print(n, v)"
   ]
  },
  {
   "cell_type": "code",
   "execution_count": 44,
   "metadata": {},
   "outputs": [
    {
     "name": "stdout",
     "output_type": "stream",
     "text": [
      "0 daylightHours\n",
      "1 windSpeed\n",
      "2 dayOfYear\n",
      "3 temperatureAvg\n",
      "4 iceThickness\n",
      "5 accumulatedSnow\n"
     ]
    }
   ],
   "source": [
    "for n, v in enumerate(used_cols):\n",
    "    print(n, v)"
   ]
  },
  {
   "cell_type": "markdown",
   "metadata": {},
   "source": [
    "#### Metrics defined\n",
    "* F1 = harmonic mean of precision and recall (2 * (precision * recall / precision + recall))\n",
    "* precision = correct_pos_preds / total_pos_preds (percent correct of all positive predictions; positive predictive power)\n",
    "* recall = correct_pos_preds / total_actual_positives (True Positive Rate)\n",
    "* roc_auc = https://en.wikipedia.org/wiki/Receiver_operating_characteristic (\"When using normalized units, the area under the curve (often referred to as simply the AUC) is equal to the probability that a classifier will rank a randomly chosen positive instance higher than a randomly chosen negative one (assuming 'positive' ranks higher than 'negative').\")"
   ]
  },
  {
   "cell_type": "code",
   "execution_count": 45,
   "metadata": {},
   "outputs": [],
   "source": [
    "pipe.fit(X_train, y_train)\n",
    "X_test = df_future[used_cols]\n",
    "y_test = df_future[target]\n",
    "y_pred = pipe.predict(X_test)"
   ]
  },
  {
   "cell_type": "code",
   "execution_count": 46,
   "metadata": {},
   "outputs": [
    {
     "data": {
      "image/png": "[encoded data removed]",
      "text/plain": [
       "<Figure size 432x288 with 2 Axes>"
      ]
     },
     "metadata": {
      "needs_background": "light"
     },
     "output_type": "display_data"
    }
   ],
   "source": [
    "metrics.plot_confusion_matrix(pipe, X_train, y_train);"
   ]
  },
  {
   "cell_type": "code",
   "execution_count": 47,
   "metadata": {},
   "outputs": [
    {
     "data": {
      "image/png": "[encoded data removed]",
      "text/plain": [
       "<Figure size 432x288 with 2 Axes>"
      ]
     },
     "metadata": {
      "needs_background": "light"
     },
     "output_type": "display_data"
    }
   ],
   "source": [
    "metrics.plot_confusion_matrix(pipe, X_test, y_test);"
   ]
  },
  {
   "cell_type": "code",
   "execution_count": 48,
   "metadata": {},
   "outputs": [
    {
     "data": {
      "text/plain": [
       "array([0.00292685, 0.00440431, 0.0044453 , 0.0044164 , 0.00305637])"
      ]
     },
     "execution_count": 48,
     "metadata": {},
     "output_type": "execute_result"
    }
   ],
   "source": [
    "lr_y_pred = pipe.predict_proba(X_test)[:,1]\n",
    "lr_y_pred[:5]"
   ]
  },
  {
   "cell_type": "code",
   "execution_count": 49,
   "metadata": {},
   "outputs": [
    {
     "data": {
      "image/png": "[encoded data removed]",
      "text/plain": [
       "<Figure size 432x288 with 1 Axes>"
      ]
     },
     "metadata": {},
     "output_type": "display_data"
    }
   ],
   "source": [
    "sns.set_style(\"whitegrid\", {'axes.grid' : False})\n",
    "\n",
    "sns.kdeplot(lr_y_pred);"
   ]
  },
  {
   "cell_type": "code",
   "execution_count": 50,
   "metadata": {},
   "outputs": [
    {
     "data": {
      "text/plain": [
       "array([[259,  14],\n",
       "       [  1,   4]])"
      ]
     },
     "execution_count": 50,
     "metadata": {},
     "output_type": "execute_result"
    }
   ],
   "source": [
    "metrics.confusion_matrix(y_test, lr_y_pred > 0.784)"
   ]
  },
  {
   "cell_type": "code",
   "execution_count": 51,
   "metadata": {},
   "outputs": [
    {
     "data": {
      "image/png": "[encoded data removed]",
      "text/plain": [
       "<Figure size 1440x576 with 1 Axes>"
      ]
     },
     "metadata": {},
     "output_type": "display_data"
    }
   ],
   "source": [
    "plt.figure(figsize=(20,8))\n",
    "plt.plot(y_test.values)\n",
    "plt.plot(lr_y_pred)\n",
    "plt.tight_layout()\n",
    "plt.show()"
   ]
  },
  {
   "cell_type": "code",
   "execution_count": 96,
   "metadata": {},
   "outputs": [
    {
     "name": "stdout",
     "output_type": "stream",
     "text": [
      "f1_weighted: 0.8983164905177385 +/- 0.013769361050015638\n",
      "precision_weighted: 0.9838626290464321 +/- 0.0013084188060260898\n",
      "recall_weighted: 0.840343347639485 +/- 0.023255308470633597\n",
      "roc_auc: 0.9497900865701372 +/- 0.005749782019919543\n"
     ]
    }
   ],
   "source": [
    "exclude = ['winningTime', 'winningDate', 'precipType', 'Date', 'temperatureMin', 'temperatureMax',\n",
    "           'precipAccumulation', 'moonPhase', 'noise_test']\n",
    "\n",
    "# used_cols = [c for c in df_past.columns if c not in exclude]\n",
    "# used_cols = ['precipIntensity', 'daylightHours', 'precip_snow', 'numColdDays', 'precip_rain',\n",
    "#              'temperatureAvg', 'accumulatedSnow', 'numHotDays', 'iceThickness', 'windSpeed']\n",
    "used_cols = ['precipIntensity', 'daylightHours', 'precip_snow', 'temperatureAvg', 'numColdDays']\n",
    "target = 'winningDate'\n",
    "\n",
    "scaler = RobustScaler()\n",
    "encoder = WOEEncoder()\n",
    "binner = KBinsDiscretizer(n_bins=7, encode='ordinal')\n",
    "objectify = FunctionTransformer(func=stringify, check_inverse=False, validate=False)\n",
    "clf_svc = SVC(C = 1000,\n",
    "              kernel = 'linear',\n",
    "              gamma = 'auto',\n",
    "              class_weight='balanced',\n",
    "              random_state=42, probability=True)\n",
    "\n",
    "pipe = make_pipeline(scaler, clf_svc)\n",
    "\n",
    "X_train, y_train = df_past[used_cols].values, df_past[target].values\n",
    "scores = cross_validate(pipe, X_train, y_train, cv = TimeSeriesSplit(), scoring=['f1_weighted',\n",
    "                                                                                 'precision_weighted',\n",
    "                                                                                 'recall_weighted',\n",
    "                                                                                 'roc_auc'])\n",
    "\n",
    "print('f1_weighted:', scores['test_f1_weighted'].mean(), '+/-', scores['test_f1_weighted'].std())\n",
    "print('precision_weighted:', scores['test_precision_weighted'].mean(),\n",
    "      '+/-', scores['test_precision_weighted'].std())\n",
    "print('recall_weighted:', scores['test_recall_weighted'].mean(), '+/-', scores['test_recall_weighted'].std())\n",
    "print('roc_auc:', scores['test_roc_auc'].mean(), '+/-', scores['test_roc_auc'].std())\n",
    "\n",
    "# 30 years' data\n",
    "# f1_weighted: 0.9451545758095541 +/- 0.016296148051966726\n",
    "# precision_weighted: 0.9824819520855975 +/- 0.003182243242772115\n",
    "# recall_weighted: 0.9193133047210299 +/- 0.028130419928195583\n",
    "# roc_auc: 0.9549720370795984 +/- 0.00956431482462009"
   ]
  },
  {
   "cell_type": "code",
   "execution_count": 77,
   "metadata": {},
   "outputs": [
    {
     "data": {
      "text/plain": [
       "['precipIntensity',\n",
       " 'daylightHours',\n",
       " 'precip_snow',\n",
       " 'numColdDays',\n",
       " 'precip_rain',\n",
       " 'temperatureAvg',\n",
       " 'accumulatedSnow',\n",
       " 'numHotDays',\n",
       " 'iceThickness',\n",
       " 'windSpeed']"
      ]
     },
     "execution_count": 77,
     "metadata": {},
     "output_type": "execute_result"
    }
   ],
   "source": [
    "used_cols"
   ]
  },
  {
   "cell_type": "code",
   "execution_count": 78,
   "metadata": {},
   "outputs": [
    {
     "data": {
      "text/plain": [
       "Pipeline(memory=None,\n",
       "         steps=[('robustscaler',\n",
       "                 RobustScaler(copy=True, quantile_range=(25.0, 75.0),\n",
       "                              with_centering=True, with_scaling=True)),\n",
       "                ('svc',\n",
       "                 SVC(C=1000, break_ties=False, cache_size=200,\n",
       "                     class_weight='balanced', coef0=0.0,\n",
       "                     decision_function_shape='ovr', degree=3, gamma='auto',\n",
       "                     kernel='linear', max_iter=-1, probability=True,\n",
       "                     random_state=42, shrinking=True, tol=0.001,\n",
       "                     verbose=False))],\n",
       "         verbose=False)"
      ]
     },
     "execution_count": 78,
     "metadata": {},
     "output_type": "execute_result"
    }
   ],
   "source": [
    "pipe.fit(X_train, y_train)"
   ]
  },
  {
   "cell_type": "code",
   "execution_count": 79,
   "metadata": {},
   "outputs": [
    {
     "data": {
      "image/png": "[encoded data removed]",
      "text/plain": [
       "<Figure size 432x288 with 2 Axes>"
      ]
     },
     "metadata": {},
     "output_type": "display_data"
    }
   ],
   "source": [
    "metrics.plot_confusion_matrix(pipe, X_train, y_train);"
   ]
  },
  {
   "cell_type": "code",
   "execution_count": 80,
   "metadata": {},
   "outputs": [
    {
     "data": {
      "image/png": "[encoded data removed]",
      "text/plain": [
       "<Figure size 432x288 with 1 Axes>"
      ]
     },
     "metadata": {},
     "output_type": "display_data"
    }
   ],
   "source": [
    "pd.Series(abs(clf_svc.coef_[0]), index=df_past[used_cols].columns).nlargest(10).plot(kind='barh');"
   ]
  },
  {
   "cell_type": "code",
   "execution_count": 81,
   "metadata": {},
   "outputs": [],
   "source": [
    "X_test = df_future[used_cols]\n",
    "y_test = df_future[target]\n",
    "y_pred = pipe.predict(X_test)"
   ]
  },
  {
   "cell_type": "code",
   "execution_count": 82,
   "metadata": {},
   "outputs": [
    {
     "data": {
      "text/plain": [
       "<sklearn.metrics._plot.confusion_matrix.ConfusionMatrixDisplay at 0x1a24391c50>"
      ]
     },
     "execution_count": 82,
     "metadata": {},
     "output_type": "execute_result"
    },
    {
     "data": {
      "image/png": "[encoded data removed]",
      "text/plain": [
       "<Figure size 432x288 with 2 Axes>"
      ]
     },
     "metadata": {},
     "output_type": "display_data"
    }
   ],
   "source": [
    "metrics.plot_confusion_matrix(pipe, X_test, y_test)"
   ]
  },
  {
   "cell_type": "code",
   "execution_count": 83,
   "metadata": {},
   "outputs": [
    {
     "data": {
      "text/plain": [
       "array([5.20830886e-05, 6.44778995e-05, 2.22827285e-05, 1.89838523e-04,\n",
       "       3.89748165e-05])"
      ]
     },
     "execution_count": 83,
     "metadata": {},
     "output_type": "execute_result"
    }
   ],
   "source": [
    "svc_y_pred = pipe.predict_proba(X_test)[:,1]\n",
    "svc_y_pred[:5]"
   ]
  },
  {
   "cell_type": "code",
   "execution_count": 84,
   "metadata": {},
   "outputs": [
    {
     "data": {
      "text/plain": [
       "array([[212,  61],\n",
       "       [  0,   5]])"
      ]
     },
     "execution_count": 84,
     "metadata": {},
     "output_type": "execute_result"
    }
   ],
   "source": [
    "metrics.confusion_matrix(y_test, svc_y_pred > 0.021)"
   ]
  },
  {
   "cell_type": "code",
   "execution_count": 85,
   "metadata": {},
   "outputs": [
    {
     "data": {
      "image/png": "[encoded data removed]",
      "text/plain": [
       "<Figure size 432x288 with 1 Axes>"
      ]
     },
     "metadata": {},
     "output_type": "display_data"
    }
   ],
   "source": [
    "import seaborn as sns; sns.set()\n",
    "sns.set_style(\"whitegrid\", {'axes.grid' : False})\n",
    "\n",
    "sns.kdeplot(svc_y_pred);"
   ]
  },
  {
   "cell_type": "code",
   "execution_count": 86,
   "metadata": {},
   "outputs": [
    {
     "data": {
      "image/png": "[encoded data removed]",
      "text/plain": [
       "<Figure size 1440x576 with 1 Axes>"
      ]
     },
     "metadata": {},
     "output_type": "display_data"
    }
   ],
   "source": [
    "# plot of target vs predicted probability (multiplied by 10 so it was easier to see)\n",
    "plt.figure(figsize=(20,8))\n",
    "plt.plot(y_test.values)\n",
    "plt.plot(svc_y_pred)\n",
    "plt.tight_layout()\n",
    "plt.show()"
   ]
  },
  {
   "cell_type": "code",
   "execution_count": 87,
   "metadata": {},
   "outputs": [],
   "source": [
    "blended_pred = np.mean( np.array([ lr_y_pred, svc_y_pred ]), axis=0 )"
   ]
  },
  {
   "cell_type": "code",
   "execution_count": 88,
   "metadata": {},
   "outputs": [
    {
     "data": {
      "image/png": "[encoded data removed]",
      "text/plain": [
       "<Figure size 1440x576 with 1 Axes>"
      ]
     },
     "metadata": {},
     "output_type": "display_data"
    }
   ],
   "source": [
    "# plot of target vs two model averaged predicted probability\n",
    "plt.figure(figsize=(20,8))\n",
    "plt.plot(y_test.values)\n",
    "plt.plot(blended_pred)\n",
    "plt.tight_layout()\n",
    "plt.show()"
   ]
  },
  {
   "cell_type": "markdown",
   "metadata": {},
   "source": [
    "_Notes_\n",
    "* ~~add feature for day-of-year (to make the models time-aware);~~\n",
    "* try hidden Markov model;\n",
    "* ~~look at survival analysis/time-to-event analysis;~~\n",
    "* look for outliers in training data, if removed, does model performance improve?;\n",
    "* is there any way to identify mechanical failure of ice vs mush-out?;\n",
    "* more time-series-like features, for instance number of \"hot\" days vs number of \"cold\" days; lags and rolling averages that Bryan talked about\n",
    "* consider under- or over-sampling\n",
    "* model stacking: http://rasbt.github.io/mlxtend/user_guide/classifier/StackingCVClassifier/\n",
    "\n",
    "survival analysis: https://lifelines.readthedocs.io/en/latest/\n",
    "\n",
    "Kaggle competition modeling time-to-event: https://www.kaggle.com/c/LANL-Earthquake-Prediction/discussion/94484"
   ]
  },
  {
   "cell_type": "markdown",
   "metadata": {},
   "source": [
    "---\n",
    "### Survival Analysis Application\n",
    "\n",
    "**The daily approach:**\n",
    "* \"birth\": start of day with ice intact\n",
    "* \"death\": end of day with ice intact\n",
    "* Censored: ice breaks before end of day\n",
    "  * there will be 11 censored observations here\n",
    "  \n",
    "  If I do it this way, max lifespan will be 1 day; there will be 11 censored observations and I will need to calculate the duration for those.\n",
    "  \n",
    "  Use 24 hours as the duration; censored durations will be % of 24 hours before the break.\n",
    "\n",
    "**OR, the annual approach:**\n",
    "* \"birth\": start of observed period\n",
    "* \"death\": ice breaks\n",
    "* Censored: observed period ends with ice intact\n",
    "  * there will be 0 censored observations here\n",
    "  * I think this is the most promising\n",
    "    * Y is % survival\n",
    "    * X is day of year\n",
    "  \n",
    "  This worked, but not enough data to be stable. I want to try it the first way and see if that works."
   ]
  },
  {
   "cell_type": "code",
   "execution_count": null,
   "metadata": {},
   "outputs": [],
   "source": []
  },
  {
   "cell_type": "code",
   "execution_count": null,
   "metadata": {},
   "outputs": [],
   "source": []
  },
  {
   "cell_type": "code",
   "execution_count": null,
   "metadata": {},
   "outputs": [],
   "source": []
  },
  {
   "cell_type": "code",
   "execution_count": null,
   "metadata": {},
   "outputs": [],
   "source": []
  },
  {
   "cell_type": "code",
   "execution_count": null,
   "metadata": {},
   "outputs": [],
   "source": []
  },
  {
   "cell_type": "code",
   "execution_count": null,
   "metadata": {},
   "outputs": [],
   "source": []
  },
  {
   "cell_type": "code",
   "execution_count": null,
   "metadata": {},
   "outputs": [],
   "source": []
  },
  {
   "cell_type": "code",
   "execution_count": null,
   "metadata": {},
   "outputs": [],
   "source": []
  },
  {
   "cell_type": "code",
   "execution_count": null,
   "metadata": {},
   "outputs": [],
   "source": []
  },
  {
   "cell_type": "code",
   "execution_count": null,
   "metadata": {},
   "outputs": [],
   "source": []
  },
  {
   "cell_type": "code",
   "execution_count": null,
   "metadata": {},
   "outputs": [],
   "source": []
  },
  {
   "cell_type": "code",
   "execution_count": null,
   "metadata": {},
   "outputs": [],
   "source": []
  },
  {
   "cell_type": "code",
   "execution_count": null,
   "metadata": {},
   "outputs": [],
   "source": []
  },
  {
   "cell_type": "code",
   "execution_count": null,
   "metadata": {},
   "outputs": [],
   "source": []
  },
  {
   "cell_type": "code",
   "execution_count": null,
   "metadata": {},
   "outputs": [],
   "source": []
  },
  {
   "cell_type": "code",
   "execution_count": null,
   "metadata": {},
   "outputs": [],
   "source": []
  },
  {
   "cell_type": "code",
   "execution_count": null,
   "metadata": {},
   "outputs": [],
   "source": []
  },
  {
   "cell_type": "code",
   "execution_count": null,
   "metadata": {},
   "outputs": [],
   "source": []
  },
  {
   "cell_type": "code",
   "execution_count": null,
   "metadata": {},
   "outputs": [],
   "source": []
  },
  {
   "cell_type": "code",
   "execution_count": null,
   "metadata": {},
   "outputs": [],
   "source": []
  },
  {
   "cell_type": "code",
   "execution_count": null,
   "metadata": {},
   "outputs": [],
   "source": []
  },
  {
   "cell_type": "code",
   "execution_count": null,
   "metadata": {},
   "outputs": [],
   "source": []
  },
  {
   "cell_type": "code",
   "execution_count": null,
   "metadata": {},
   "outputs": [],
   "source": []
  },
  {
   "cell_type": "markdown",
   "metadata": {},
   "source": [
    "---\n",
    "old stuff below this line. only models yearly survival. not very accurate, needs more data, so I'm trying to work out a better model above"
   ]
  },
  {
   "cell_type": "code",
   "execution_count": null,
   "metadata": {},
   "outputs": [],
   "source": [
    "df_survival = pd.read_csv('../data/ice_classic_winning_times.csv')"
   ]
  },
  {
   "cell_type": "code",
   "execution_count": null,
   "metadata": {},
   "outputs": [],
   "source": [
    "df_survival.head()"
   ]
  },
  {
   "cell_type": "code",
   "execution_count": null,
   "metadata": {},
   "outputs": [],
   "source": [
    "df_survival.info()"
   ]
  },
  {
   "cell_type": "code",
   "execution_count": null,
   "metadata": {},
   "outputs": [],
   "source": [
    "df_survival['Time'] = df_survival['Date'] + ' ' + df_survival['Time']\n",
    "df_survival['Date'] = pd.to_datetime(df_survival['Date'])\n",
    "df_survival['Time'] = pd.to_datetime(df_survival['Time'])"
   ]
  },
  {
   "cell_type": "code",
   "execution_count": null,
   "metadata": {},
   "outputs": [],
   "source": [
    "df_survival['day_of_year'] = df_survival['Date'].dt.dayofyear"
   ]
  },
  {
   "cell_type": "code",
   "execution_count": null,
   "metadata": {},
   "outputs": [],
   "source": [
    "df_survival['observed'] = 1"
   ]
  },
  {
   "cell_type": "code",
   "execution_count": null,
   "metadata": {},
   "outputs": [],
   "source": [
    "df_survival['observation_entry'] = 91 # change to 59 for data starting in March"
   ]
  },
  {
   "cell_type": "code",
   "execution_count": null,
   "metadata": {},
   "outputs": [],
   "source": [
    "df_survival.head()"
   ]
  },
  {
   "cell_type": "code",
   "execution_count": null,
   "metadata": {},
   "outputs": [],
   "source": [
    "from lifelines import ( KaplanMeierFitter, WeibullFitter, ExponentialFitter,\n",
    "LogNormalFitter, LogLogisticFitter, NelsonAalenFitter,\n",
    "PiecewiseExponentialFitter, GeneralizedGammaFitter, SplineFitter, CoxPHFitter)\n",
    "\n",
    "from lifelines.plotting import plot_lifetimes\n",
    "from lifelines.utils import datetimes_to_durations"
   ]
  },
  {
   "cell_type": "code",
   "execution_count": null,
   "metadata": {},
   "outputs": [],
   "source": [
    "# create knots for lifelines spline fitter\n",
    "surv_min = df_survival['day_of_year'].min()\n",
    "surv_1q = df_survival['day_of_year'].quantile(0.25)\n",
    "surv_med = df_survival['day_of_year'].median()\n",
    "surv_3q = df_survival['day_of_year'].quantile(0.75)\n",
    "surv_max = df_survival['day_of_year'].max()"
   ]
  },
  {
   "cell_type": "code",
   "execution_count": null,
   "metadata": {},
   "outputs": [],
   "source": [
    "mod_kmf = KaplanMeierFitter()\n",
    "mod_wbf = WeibullFitter()\n",
    "mod_exf = ExponentialFitter()\n",
    "mod_lnf = LogNormalFitter()\n",
    "mod_naf = NelsonAalenFitter()\n",
    "mod_llf = LogLogisticFitter()\n",
    "mod_pwf = PiecewiseExponentialFitter([120, 135])\n",
    "mod_gg = GeneralizedGammaFitter()\n",
    "mod_spf = SplineFitter([surv_min, surv_1q, surv_med, surv_3q, surv_max])"
   ]
  },
  {
   "cell_type": "code",
   "execution_count": null,
   "metadata": {},
   "outputs": [],
   "source": [
    "T = df_survival['day_of_year']\n",
    "E = df_survival['observed']\n",
    "\n",
    "mod_kmf.fit(T, event_observed=E)"
   ]
  },
  {
   "cell_type": "code",
   "execution_count": null,
   "metadata": {},
   "outputs": [],
   "source": [
    "mod_kmf.survival_function_.plot(figsize = (10,6))\n",
    "plt.title('Survival function of Tanana River ice at Nenana, AK');"
   ]
  },
  {
   "cell_type": "code",
   "execution_count": null,
   "metadata": {},
   "outputs": [],
   "source": [
    "mod_kmf.plot(figsize = (10,6));\n",
    "plt.title('KM Estimate of Tanana River ice at Nenana, AK w/confidence interval');"
   ]
  },
  {
   "cell_type": "code",
   "execution_count": null,
   "metadata": {},
   "outputs": [],
   "source": [
    "mod_kmf.median_survival_time_"
   ]
  },
  {
   "cell_type": "code",
   "execution_count": null,
   "metadata": {},
   "outputs": [],
   "source": [
    "plt.figure(figsize = (10, 6))\n",
    "plot_lifetimes(durations = df_survival['day_of_year'],\n",
    "               event_observed = df_survival['observed'])\n",
    "plt.xlabel('Timeline (days since Jan 1)')\n",
    "plt.ylabel('Sample Number')\n",
    "plt.title('Lifetime of Tanana River ice at Nenana, AK');"
   ]
  },
  {
   "cell_type": "code",
   "execution_count": null,
   "metadata": {},
   "outputs": [],
   "source": [
    "wf = mod_wbf.fit(T, E)\n",
    "\n",
    "wf.print_summary()"
   ]
  },
  {
   "cell_type": "code",
   "execution_count": null,
   "metadata": {},
   "outputs": [],
   "source": [
    "fig, axes = plt.subplots(3, 3, figsize=(15, 12))\n",
    "\n",
    "wbf = mod_wbf.fit(T, E, label='WeibullFitter')\n",
    "exf = mod_exf.fit(T, E, label='ExponentalFitter')\n",
    "lnf = mod_lnf.fit(T, E, label='LogNormalFitter')\n",
    "kmf = mod_kmf.fit(T, E, label ='KaplanMeierFitter')\n",
    "naf = mod_naf.fit(T, E, label='NelsonAalenFitter')\n",
    "llf = mod_llf.fit(T, E, label='LogLogisticFitter')\n",
    "pwf = mod_pwf.fit(T, E, label='PiecewiseExponentialFitter')\n",
    "gg = mod_gg.fit(T, E, label='GeneralizedGammaFitter')\n",
    "spf = mod_spf.fit(T, E, label='SplineFitter')\n",
    "\n",
    "wbf.plot_cumulative_hazard(ax=axes[0][0])\n",
    "exf.plot_cumulative_hazard(ax=axes[0][1])\n",
    "lnf.plot_cumulative_hazard(ax=axes[0][2])\n",
    "naf.plot_cumulative_hazard(ax=axes[1][0])\n",
    "llf.plot_cumulative_hazard(ax=axes[1][1])\n",
    "pwf.plot_cumulative_hazard(ax=axes[1][2])\n",
    "gg.plot_cumulative_hazard(ax=axes[2][0])\n",
    "spf.plot_cumulative_hazard(ax=axes[2][1]);"
   ]
  },
  {
   "cell_type": "code",
   "execution_count": null,
   "metadata": {},
   "outputs": [],
   "source": [
    "fig, axes = plt.subplots(3, 3, figsize=(15, 12))\n",
    "\n",
    "wbf.plot_survival_function(ax=axes[0][0])\n",
    "exf.plot_survival_function(ax=axes[0][1])\n",
    "lnf.plot_survival_function(ax=axes[0][2])\n",
    "kmf.plot_survival_function(ax=axes[1][0])\n",
    "llf.plot_survival_function(ax=axes[1][1])\n",
    "pwf.plot_survival_function(ax=axes[1][2])\n",
    "gg.plot_survival_function(ax=axes[2][0])\n",
    "spf.plot_survival_function(ax=axes[2][1]);"
   ]
  },
  {
   "cell_type": "code",
   "execution_count": null,
   "metadata": {},
   "outputs": [],
   "source": [
    "df_survival"
   ]
  },
  {
   "cell_type": "markdown",
   "metadata": {},
   "source": [
    "_Example:_\n",
    "\"\"\"\n",
    "     week  arrest  fin  age  race  wexp  mar  paro  prio\n",
    "0      20       1    0   27     1     0    0     1     3\n",
    "1      17       1    0   18     1     0    0     1     8\n",
    "2      25       1    0   19     0     1    0     1    13\n",
    "3      52       0    1   23     1     1    1     1     1\n",
    "\"\"\"\n",
    "The week column is the duration, the arrest column is the event occurred, and the other columns represent variables we wish to regress against.\n",
    "\n",
    "['numColdDays', 'iceThickness', 'dayOfYear', 'uvIndex', 'precipIntensity', 'humidity']\n",
    "\n",
    "\n",
    "Use past & future sets for splits\n",
    "\n",
    "_(before doing all these experiments manually, might want to consider using RFE or similar)_\n",
    "\n",
    "Experiment 1:\n",
    "| date | day_of_year | duration | break_observed | cold_days | ice_thickness | uv_index | precip_intensity | precip_accumulation |\n",
    "|---|---|---|---|---|---|---|---|---|\n",
    "\n",
    "Experiment 2:\n",
    "| date | day_of_year | duration | break_observed | hot_days | ice_thickness | uv_index | precip_intensity | precip_accumulation |\n",
    "|---|---|---|---|---|---|---|---|---|\n",
    "\n",
    "Experiment 3:\n",
    "| date | day_of_year | duration | break_observed | cold_days | avg_temp | ice_thickness | uv_index | precip_intensity | precip_accumulation |\n",
    "|---|---|---|---|---|---|---|---|---|---|\n",
    "\n",
    "Experiment 4:\n",
    "| date | day_of_year | duration | break_observed | hot_days | avg_temp | ice_thickness | uv_index | precip_intensity | precip_accumulation |\n",
    "|---|---|---|---|---|---|---|---|---|---|\n",
    "\n",
    "\n",
    "| date | day_of_year | duration | break_observed | hot_days | cold_days | avg_temp? | min_temp? | max_temp? | ice_thickness | uv_index | precip_intensity | precip_accumulation? | humidity? |\n",
    "|---|---|---|---|---|---|---|---|---|---|---|---|---|---|\n",
    "\n",
    "\n",
    "| date | day_of_year | duration | break_observed | hot_days | cold_days | avg_temp? | min_temp? | max_temp? | ice_thickness | uv_index | precip_intensity | precip_accumulation? | humidity? |\n",
    "|---|---|---|---|---|---|---|---|---|---|---|---|---|---|\n",
    "\n",
    "\n",
    "| date | day_of_year | duration | break_observed | hot_days | cold_days | avg_temp? | min_temp? | max_temp? | ice_thickness | uv_index | precip_intensity | precip_accumulation? | humidity? |\n",
    "|---|---|---|---|---|---|---|---|---|---|---|---|---|---|"
   ]
  },
  {
   "cell_type": "code",
   "execution_count": null,
   "metadata": {},
   "outputs": [],
   "source": [
    "df_past.columns"
   ]
  },
  {
   "cell_type": "code",
   "execution_count": null,
   "metadata": {},
   "outputs": [],
   "source": [
    "# df_past_surv = df_past.copy()"
   ]
  },
  {
   "cell_type": "code",
   "execution_count": null,
   "metadata": {},
   "outputs": [],
   "source": [
    "# df_past_surv.drop(columns = ['moonPhase', 'atmoPressure', 'windSpeed', 'windGust', 'windBearing', 'cloudCover',\n",
    "#                   'precipType', 'precipAccumulation', 'precip_rain', 'precip_snow', 'noise_test'],\n",
    "#                   inplace = True)"
   ]
  },
  {
   "cell_type": "code",
   "execution_count": null,
   "metadata": {},
   "outputs": [],
   "source": [
    "# df_past_surv['duration'] = 1"
   ]
  },
  {
   "cell_type": "code",
   "execution_count": null,
   "metadata": {},
   "outputs": [],
   "source": [
    "# df_past_surv['winningTime'].value_counts()"
   ]
  },
  {
   "cell_type": "code",
   "execution_count": null,
   "metadata": {},
   "outputs": [],
   "source": [
    "# df_past_surv.loc[idx_w]['winningTime']"
   ]
  },
  {
   "cell_type": "code",
   "execution_count": null,
   "metadata": {},
   "outputs": [],
   "source": [
    "# for row in idx_w:\n",
    "#     win_time = df_past_surv.loc[row]['winningTime']\n",
    "#     win_time = pd.to_datetime(win_time)\n",
    "#     dur = win_time.minute + win_time.hour * 60\n",
    "#     dur_pcnt = dur / 1440\n",
    "#     df_past_surv['duration'].loc[row] = dur_pcnt"
   ]
  },
  {
   "cell_type": "markdown",
   "metadata": {},
   "source": [
    "Experiment 1:\n",
    "| date | day_of_year | duration | break_observed | cold_days | ice_thickness | uv_index | precip_intensity | precip_accumulation |\n",
    "|---|---|---|---|---|---|---|---|---|\n",
    "\n",
    "Experiment 2:\n",
    "| date | day_of_year | duration | break_observed | hot_days | ice_thickness | uv_index | precip_intensity | precip_accumulation |\n",
    "|---|---|---|---|---|---|---|---|---|"
   ]
  },
  {
   "cell_type": "code",
   "execution_count": null,
   "metadata": {},
   "outputs": [],
   "source": [
    "# df_past_surv.columns"
   ]
  },
  {
   "cell_type": "code",
   "execution_count": null,
   "metadata": {},
   "outputs": [],
   "source": [
    "# df_past_surv['numHotDays'].value_counts()"
   ]
  },
  {
   "cell_type": "markdown",
   "metadata": {},
   "source": [
    "I drop the 'numHotDays' columns from df_past_surv since all values are 0."
   ]
  },
  {
   "cell_type": "code",
   "execution_count": null,
   "metadata": {},
   "outputs": [],
   "source": [
    "# df_past_surv.drop(columns = 'numHotDays', inplace = True)"
   ]
  },
  {
   "cell_type": "code",
   "execution_count": null,
   "metadata": {},
   "outputs": [],
   "source": [
    "# df_past_surv.corr()"
   ]
  },
  {
   "cell_type": "code",
   "execution_count": null,
   "metadata": {},
   "outputs": [],
   "source": [
    "# # drop_cols = ['Date', 'humidity', 'temperatureMin', 'temperatureMax', 'winningTime', 'daylightHours', 'precipIntensity']\n",
    "# drop_cols = ['Date', 'winningTime', 'temperatureMin', 'temperatureMax', 'precipIntensity']\n",
    "# X = df_past_surv.drop(columns = drop_cols)\n",
    "# dur = df_past_surv['duration']\n",
    "# obs = df_past_surv['winningDate']\n",
    "\n",
    "# cph = CoxPHFitter()\n",
    "# cph.fit(X, duration_col='duration', event_col='winningDate')\n",
    "\n",
    "# cph.print_summary()  # access the results using cph.summary\n",
    "# cph.plot();"
   ]
  },
  {
   "cell_type": "code",
   "execution_count": null,
   "metadata": {},
   "outputs": [],
   "source": [
    "# prediction examples, X is the dataset\n",
    "# cph.predict_partial_hazard(X)\n",
    "# cph.predict_survival_function(X)\n",
    "# cph.predict_median(X)\n",
    "\n",
    "# filter down to censored observations to predict further survival\n",
    "# censored_subjects = X.loc[~obs.astype(bool)]\n",
    "# censored_subjects_last_obs = censored_subjects['duration']\n",
    "\n",
    "# cph.predict_survival_function(censored_subjects,\n",
    "#                               times=[5., 25., 50.],\n",
    "#                               conditional_after=censored_subjects_last_obs)\n",
    "# cph.predict_median(censored_subjects,\n",
    "#                    conditional_after=censored_subjects_last_obs)"
   ]
  },
  {
   "cell_type": "code",
   "execution_count": null,
   "metadata": {},
   "outputs": [],
   "source": [
    "# T = df_past_surv['duration']\n",
    "# E = df_past_surv['winningDate']"
   ]
  },
  {
   "cell_type": "code",
   "execution_count": null,
   "metadata": {},
   "outputs": [],
   "source": [
    "# fig, axes = plt.subplots(3, 3, figsize=(15, 12))\n",
    "\n",
    "# wbf = mod_wbf.fit(T, E, label='WeibullFitter')\n",
    "# exf = mod_exf.fit(T, E, label='ExponentalFitter')\n",
    "# lnf = mod_lnf.fit(T, E, label='LogNormalFitter')\n",
    "# kmf = mod_kmf.fit(T, E, label ='KaplanMeierFitter')\n",
    "# naf = mod_naf.fit(T, E, label='NelsonAalenFitter')\n",
    "# llf = mod_llf.fit(T, E, label='LogLogisticFitter')\n",
    "# pwf = mod_pwf.fit(T, E, label='PiecewiseExponentialFitter')\n",
    "# gg = mod_gg.fit(T, E, label='GeneralizedGammaFitter')\n",
    "# spf = mod_spf.fit(T, E, label='SplineFitter')\n",
    "\n",
    "# wbf.plot_cumulative_hazard(ax=axes[0][0])\n",
    "# exf.plot_cumulative_hazard(ax=axes[0][1])\n",
    "# lnf.plot_cumulative_hazard(ax=axes[0][2])\n",
    "# naf.plot_cumulative_hazard(ax=axes[1][0])\n",
    "# llf.plot_cumulative_hazard(ax=axes[1][1])\n",
    "# pwf.plot_cumulative_hazard(ax=axes[1][2])\n",
    "# gg.plot_cumulative_hazard(ax=axes[2][0])\n",
    "# spf.plot_cumulative_hazard(ax=axes[2][1]);"
   ]
  },
  {
   "cell_type": "code",
   "execution_count": null,
   "metadata": {},
   "outputs": [],
   "source": [
    "# fig, axes = plt.subplots(3, 3, figsize=(15, 12))\n",
    "\n",
    "# wbf.plot_survival_function(ax=axes[0][0])\n",
    "# exf.plot_survival_function(ax=axes[0][1])\n",
    "# lnf.plot_survival_function(ax=axes[0][2])\n",
    "# kmf.plot_survival_function(ax=axes[1][0])\n",
    "# llf.plot_survival_function(ax=axes[1][1])\n",
    "# pwf.plot_survival_function(ax=axes[1][2])\n",
    "# gg.plot_survival_function(ax=axes[2][0])\n",
    "# spf.plot_survival_function(ax=axes[2][1]);"
   ]
  },
  {
   "cell_type": "code",
   "execution_count": null,
   "metadata": {},
   "outputs": [],
   "source": [
    "df_survival['past'] = (df_survival['Date'] < '2015-01-01').astype(np.int)\n",
    "df_survival['future'] = 1 - df_survival['past']"
   ]
  },
  {
   "cell_type": "code",
   "execution_count": null,
   "metadata": {},
   "outputs": [],
   "source": [
    "df_survival.head()"
   ]
  },
  {
   "cell_type": "code",
   "execution_count": null,
   "metadata": {},
   "outputs": [],
   "source": [
    "drop_cols = ['Date', 'Time', 'past', 'future']\n",
    "X_past = df_survival.loc[df_survival['past'] == 1].drop(columns = drop_cols)"
   ]
  },
  {
   "cell_type": "code",
   "execution_count": null,
   "metadata": {},
   "outputs": [],
   "source": [
    "T_p = X_past['day_of_year']\n",
    "E_p = X_past['observed']"
   ]
  },
  {
   "cell_type": "code",
   "execution_count": null,
   "metadata": {},
   "outputs": [],
   "source": [
    "cph = CoxPHFitter()"
   ]
  },
  {
   "cell_type": "code",
   "execution_count": null,
   "metadata": {},
   "outputs": [],
   "source": [
    "X_future = df_survival.loc[df_survival['future'] == 1].drop(columns = drop_cols)\n",
    "T_f = X_future['day_of_year']\n",
    "E_f = X_future['observed']"
   ]
  },
  {
   "cell_type": "code",
   "execution_count": null,
   "metadata": {},
   "outputs": [],
   "source": [
    "exclude = ['Date', 'moonPhase', 'atmoPressure', 'windSpeed', 'windGust', 'windBearing', 'precip_rain',\n",
    "           'precip_snow', 'noise_test', 'precipType', 'winningTime', 'numHotDays', 'temperatureMin',\n",
    "           'temperatureMax', 'precipAccumulation']\n",
    "X_train = df_past.drop(columns = exclude)\n",
    "X_test = df_future.drop(columns = exclude)"
   ]
  },
  {
   "cell_type": "code",
   "execution_count": null,
   "metadata": {},
   "outputs": [],
   "source": [
    "test = cph.fit(X_train, 'dayOfYear', 'winningDate')"
   ]
  },
  {
   "cell_type": "code",
   "execution_count": null,
   "metadata": {},
   "outputs": [],
   "source": [
    "test.score_"
   ]
  },
  {
   "cell_type": "code",
   "execution_count": null,
   "metadata": {},
   "outputs": [],
   "source": [
    "test.print_summary()"
   ]
  },
  {
   "cell_type": "code",
   "execution_count": null,
   "metadata": {},
   "outputs": [],
   "source": [
    "np.random.seed(seed = 42)"
   ]
  },
  {
   "cell_type": "code",
   "execution_count": null,
   "metadata": {},
   "outputs": [],
   "source": [
    "from lifelines.utils import k_fold_cross_validation\n",
    "\n",
    "cph = CoxPHFitter()\n",
    "scores = k_fold_cross_validation(cph, X_train, 'dayOfYear', event_col='winningDate', k=5)\n",
    "print(np.mean(scores), '+/-', np.std(scores))"
   ]
  },
  {
   "cell_type": "code",
   "execution_count": null,
   "metadata": {},
   "outputs": [],
   "source": [
    "models = []\n",
    "for i in range(10):\n",
    "    cph = CoxPHFitter()\n",
    "    models.append(cph)\n",
    "    \n",
    "predictions = []\n",
    "for model in models:\n",
    "    model.fit(X_train, 'dayOfYear')\n",
    "    pred = model.predict_expectation(X_test)\n",
    "    predictions.append(pred.values)\n",
    "    \n",
    "np.mean(predictions), np.std(predictions)"
   ]
  },
  {
   "cell_type": "code",
   "execution_count": null,
   "metadata": {},
   "outputs": [],
   "source": [
    "predictions = []\n",
    "for model in models:\n",
    "    model.fit(X_train, 'dayOfYear')\n",
    "    pred = model.predict_survival_function(X_test)\n",
    "    predictions.append(pred.values)\n",
    "    \n",
    "predictions[0]"
   ]
  },
  {
   "cell_type": "code",
   "execution_count": null,
   "metadata": {},
   "outputs": [],
   "source": [
    "predictions[0][0,:].shape"
   ]
  },
  {
   "cell_type": "code",
   "execution_count": null,
   "metadata": {},
   "outputs": [],
   "source": [
    "plt.scatter(range(181), predictions[0][31,:])"
   ]
  },
  {
   "cell_type": "code",
   "execution_count": null,
   "metadata": {},
   "outputs": [],
   "source": []
  }
 ],
 "metadata": {
  "kernelspec": {
   "display_name": "Python 3",
   "language": "python",
   "name": "python3"
  },
  "language_info": {
   "codemirror_mode": {
    "name": "ipython",
    "version": 3
   },
   "file_extension": ".py",
   "mimetype": "text/x-python",
   "name": "python",
   "nbconvert_exporter": "python",
   "pygments_lexer": "ipython3",
   "version": "3.6.9"
  }
 },
 "nbformat": 4,
 "nbformat_minor": 4
}
