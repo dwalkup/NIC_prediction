{
 "cells": [
  {
   "cell_type": "markdown",
   "metadata": {},
   "source": [
    "# Nenana Ice Classic Modeling\n",
    "This notebook was used for modeling the NIC data."
   ]
  },
  {
   "cell_type": "code",
   "execution_count": 1,
   "metadata": {},
   "outputs": [],
   "source": [
    "# imports\n",
    "\n",
    "import numpy as np\n",
    "import pandas as pd\n",
    "\n",
    "# plotting\n",
    "%matplotlib inline\n",
    "import matplotlib.pyplot as plt\n",
    "import seaborn as sns; sns.set()\n",
    "from mlxtend.plotting import plot_decision_regions\n",
    "\n",
    "# pipeline and preprocessing\n",
    "from sklearn.preprocessing import RobustScaler\n",
    "from sklearn.preprocessing import KBinsDiscretizer, FunctionTransformer\n",
    "from sklearn.pipeline import Pipeline, make_pipeline\n",
    "from category_encoders import WOEEncoder, OneHotEncoder\n",
    "from sklearn.decomposition import KernelPCA as KPCA\n",
    "from sklearn.model_selection import train_test_split\n",
    "from mlxtend.feature_selection import ColumnSelector\n",
    "\n",
    "# models\n",
    "from sklearn.linear_model import LogisticRegressionCV\n",
    "from sklearn.svm import SVC\n",
    "from sklearn.tree import DecisionTreeClassifier\n",
    "from sklearn.ensemble import RandomForestClassifier, ExtraTreesClassifier\n",
    "from mlxtend.classifier import StackingCVClassifier\n",
    "\n",
    "# evaluation\n",
    "from sklearn.model_selection import cross_val_score, TimeSeriesSplit, cross_validate, cross_val_predict\n",
    "from sklearn import metrics # explained_variance_score, mean_absolute_error, mean_squared_error, r2_score\n",
    "#from sklearn.utils import check_arrays # converts list-like objects to array (if needed)\n",
    "\n",
    "# import datetime # didn't need after all\n",
    "\n",
    "# Pretty Print to make some outputs easier to read\n",
    "import pprint\n",
    "\n",
    "# filter warnings\n",
    "import warnings\n",
    "warnings.filterwarnings(\"ignore\")\n",
    "\n",
    "import gc # garbage collection\n",
    "\n",
    "rng = np.random.RandomState(42)\n",
    "sns.set_style('whitegrid', {'axes.grid' : False})"
   ]
  },
  {
   "cell_type": "markdown",
   "metadata": {},
   "source": [
    "## Helper Functions"
   ]
  },
  {
   "cell_type": "code",
   "execution_count": 2,
   "metadata": {},
   "outputs": [],
   "source": [
    "def stringify(data):\n",
    "    data = pd.DataFrame(data)\n",
    "    for c in data.columns.tolist():\n",
    "        data[c] = data[c].astype(str)\n",
    "    return data"
   ]
  },
  {
   "cell_type": "code",
   "execution_count": 3,
   "metadata": {},
   "outputs": [],
   "source": [
    "from sklearn.base import TransformerMixin\n",
    "\n",
    "\n",
    "class ForestEncoder(TransformerMixin):\n",
    "    \n",
    "    def __init__(self, forest):\n",
    "        self.forest = forest\n",
    "        self.n_trees = 1\n",
    "        try:\n",
    "            self.n_trees = self.forest.n_estimators\n",
    "        except:\n",
    "            pass\n",
    "        self.ohe = OneHotEncoder(cols=range(self.n_trees), use_cat_names=True)\n",
    "        \n",
    "    def fit(self, X, y=None):\n",
    "        self.forest.fit(X, y)\n",
    "#         self.ohe.fit(self.forest.apply(X)[:,:,0])\n",
    "        self.ohe.fit(self.forest.apply(X))\n",
    "        return self\n",
    "    \n",
    "    def transform(self, X, y=None):\n",
    "#         return self.ohe.transform(self.forest.apply(X)[:,:,0])\n",
    "        return self.ohe.transform(self.forest.apply(X))\n"
   ]
  },
  {
   "cell_type": "markdown",
   "metadata": {},
   "source": [
    "#### Read data from files"
   ]
  },
  {
   "cell_type": "code",
   "execution_count": 4,
   "metadata": {},
   "outputs": [],
   "source": [
    "training_df = pd.read_csv('../data/model_training_data.csv')"
   ]
  },
  {
   "cell_type": "code",
   "execution_count": 5,
   "metadata": {},
   "outputs": [
    {
     "data": {
      "text/html": [
       "<div>\n",
       "<style scoped>\n",
       "    .dataframe tbody tr th:only-of-type {\n",
       "        vertical-align: middle;\n",
       "    }\n",
       "\n",
       "    .dataframe tbody tr th {\n",
       "        vertical-align: top;\n",
       "    }\n",
       "\n",
       "    .dataframe thead th {\n",
       "        text-align: right;\n",
       "    }\n",
       "</style>\n",
       "<table border=\"1\" class=\"dataframe\">\n",
       "  <thead>\n",
       "    <tr style=\"text-align: right;\">\n",
       "      <th></th>\n",
       "      <th>Date</th>\n",
       "      <th>moonPhase</th>\n",
       "      <th>humidity</th>\n",
       "      <th>windSpeed</th>\n",
       "      <th>windBearing</th>\n",
       "      <th>uvIndex</th>\n",
       "      <th>precipIntensity</th>\n",
       "      <th>winningTime</th>\n",
       "      <th>daylightHours</th>\n",
       "      <th>iceThickness</th>\n",
       "      <th>...</th>\n",
       "      <th>numColdDays_MA-accel5</th>\n",
       "      <th>numColdDays_MA-std_dev5</th>\n",
       "      <th>numColdDays_MA7</th>\n",
       "      <th>numColdDays_MA-slope7</th>\n",
       "      <th>numColdDays_MA-accel7</th>\n",
       "      <th>numColdDays_MA-std_dev7</th>\n",
       "      <th>numColdDays_MA10</th>\n",
       "      <th>numColdDays_MA-slope10</th>\n",
       "      <th>numColdDays_MA-accel10</th>\n",
       "      <th>numColdDays_MA-std_dev10</th>\n",
       "    </tr>\n",
       "  </thead>\n",
       "  <tbody>\n",
       "    <tr>\n",
       "      <th>0</th>\n",
       "      <td>1989-03-10</td>\n",
       "      <td>0.14</td>\n",
       "      <td>0.31</td>\n",
       "      <td>9.60</td>\n",
       "      <td>78.0</td>\n",
       "      <td>1.0</td>\n",
       "      <td>0.0</td>\n",
       "      <td>0</td>\n",
       "      <td>0.465278</td>\n",
       "      <td>37.5</td>\n",
       "      <td>...</td>\n",
       "      <td>-7.142857e-01</td>\n",
       "      <td>1.303840e+00</td>\n",
       "      <td>4.857143</td>\n",
       "      <td>0.892857</td>\n",
       "      <td>-0.297619</td>\n",
       "      <td>1.951800</td>\n",
       "      <td>3.5</td>\n",
       "      <td>0.890909</td>\n",
       "      <td>-4.143851e-16</td>\n",
       "      <td>2.718251</td>\n",
       "    </tr>\n",
       "    <tr>\n",
       "      <th>1</th>\n",
       "      <td>1989-03-11</td>\n",
       "      <td>0.17</td>\n",
       "      <td>0.36</td>\n",
       "      <td>9.35</td>\n",
       "      <td>71.0</td>\n",
       "      <td>0.0</td>\n",
       "      <td>0.0</td>\n",
       "      <td>0</td>\n",
       "      <td>0.470139</td>\n",
       "      <td>37.5</td>\n",
       "      <td>...</td>\n",
       "      <td>-1.071429e+00</td>\n",
       "      <td>8.944272e-01</td>\n",
       "      <td>5.571429</td>\n",
       "      <td>0.714286</td>\n",
       "      <td>-0.595238</td>\n",
       "      <td>1.618347</td>\n",
       "      <td>4.2</td>\n",
       "      <td>0.848485</td>\n",
       "      <td>-2.651515e-01</td>\n",
       "      <td>2.616189</td>\n",
       "    </tr>\n",
       "    <tr>\n",
       "      <th>2</th>\n",
       "      <td>1989-03-12</td>\n",
       "      <td>0.21</td>\n",
       "      <td>0.41</td>\n",
       "      <td>6.70</td>\n",
       "      <td>59.0</td>\n",
       "      <td>1.0</td>\n",
       "      <td>0.0</td>\n",
       "      <td>0</td>\n",
       "      <td>0.475000</td>\n",
       "      <td>37.5</td>\n",
       "      <td>...</td>\n",
       "      <td>-7.142857e-01</td>\n",
       "      <td>4.472136e-01</td>\n",
       "      <td>6.142857</td>\n",
       "      <td>0.500000</td>\n",
       "      <td>-0.714286</td>\n",
       "      <td>1.214986</td>\n",
       "      <td>4.9</td>\n",
       "      <td>0.721212</td>\n",
       "      <td>-3.977273e-01</td>\n",
       "      <td>2.282786</td>\n",
       "    </tr>\n",
       "    <tr>\n",
       "      <th>3</th>\n",
       "      <td>1989-03-13</td>\n",
       "      <td>0.24</td>\n",
       "      <td>0.43</td>\n",
       "      <td>2.53</td>\n",
       "      <td>109.0</td>\n",
       "      <td>1.0</td>\n",
       "      <td>0.0</td>\n",
       "      <td>0</td>\n",
       "      <td>0.479167</td>\n",
       "      <td>37.5</td>\n",
       "      <td>...</td>\n",
       "      <td>3.332111e-15</td>\n",
       "      <td>2.471078e-08</td>\n",
       "      <td>6.571429</td>\n",
       "      <td>0.285714</td>\n",
       "      <td>-0.595238</td>\n",
       "      <td>0.786796</td>\n",
       "      <td>5.5</td>\n",
       "      <td>0.575758</td>\n",
       "      <td>-4.734848e-01</td>\n",
       "      <td>1.900292</td>\n",
       "    </tr>\n",
       "    <tr>\n",
       "      <th>4</th>\n",
       "      <td>1989-03-14</td>\n",
       "      <td>0.28</td>\n",
       "      <td>0.57</td>\n",
       "      <td>2.16</td>\n",
       "      <td>295.0</td>\n",
       "      <td>1.0</td>\n",
       "      <td>0.0</td>\n",
       "      <td>0</td>\n",
       "      <td>0.484028</td>\n",
       "      <td>37.5</td>\n",
       "      <td>...</td>\n",
       "      <td>3.332111e-15</td>\n",
       "      <td>2.471078e-08</td>\n",
       "      <td>6.857143</td>\n",
       "      <td>0.107143</td>\n",
       "      <td>-0.297619</td>\n",
       "      <td>0.377964</td>\n",
       "      <td>6.0</td>\n",
       "      <td>0.424242</td>\n",
       "      <td>-4.734848e-01</td>\n",
       "      <td>1.490712</td>\n",
       "    </tr>\n",
       "  </tbody>\n",
       "</table>\n",
       "<p>5 rows × 162 columns</p>\n",
       "</div>"
      ],
      "text/plain": [
       "         Date  moonPhase  humidity  windSpeed  windBearing  uvIndex  \\\n",
       "0  1989-03-10       0.14      0.31       9.60         78.0      1.0   \n",
       "1  1989-03-11       0.17      0.36       9.35         71.0      0.0   \n",
       "2  1989-03-12       0.21      0.41       6.70         59.0      1.0   \n",
       "3  1989-03-13       0.24      0.43       2.53        109.0      1.0   \n",
       "4  1989-03-14       0.28      0.57       2.16        295.0      1.0   \n",
       "\n",
       "   precipIntensity winningTime  daylightHours  iceThickness  ...  \\\n",
       "0              0.0           0       0.465278          37.5  ...   \n",
       "1              0.0           0       0.470139          37.5  ...   \n",
       "2              0.0           0       0.475000          37.5  ...   \n",
       "3              0.0           0       0.479167          37.5  ...   \n",
       "4              0.0           0       0.484028          37.5  ...   \n",
       "\n",
       "   numColdDays_MA-accel5  numColdDays_MA-std_dev5  numColdDays_MA7  \\\n",
       "0          -7.142857e-01             1.303840e+00         4.857143   \n",
       "1          -1.071429e+00             8.944272e-01         5.571429   \n",
       "2          -7.142857e-01             4.472136e-01         6.142857   \n",
       "3           3.332111e-15             2.471078e-08         6.571429   \n",
       "4           3.332111e-15             2.471078e-08         6.857143   \n",
       "\n",
       "   numColdDays_MA-slope7  numColdDays_MA-accel7  numColdDays_MA-std_dev7  \\\n",
       "0               0.892857              -0.297619                 1.951800   \n",
       "1               0.714286              -0.595238                 1.618347   \n",
       "2               0.500000              -0.714286                 1.214986   \n",
       "3               0.285714              -0.595238                 0.786796   \n",
       "4               0.107143              -0.297619                 0.377964   \n",
       "\n",
       "   numColdDays_MA10  numColdDays_MA-slope10  numColdDays_MA-accel10  \\\n",
       "0               3.5                0.890909           -4.143851e-16   \n",
       "1               4.2                0.848485           -2.651515e-01   \n",
       "2               4.9                0.721212           -3.977273e-01   \n",
       "3               5.5                0.575758           -4.734848e-01   \n",
       "4               6.0                0.424242           -4.734848e-01   \n",
       "\n",
       "   numColdDays_MA-std_dev10  \n",
       "0                  2.718251  \n",
       "1                  2.616189  \n",
       "2                  2.282786  \n",
       "3                  1.900292  \n",
       "4                  1.490712  \n",
       "\n",
       "[5 rows x 162 columns]"
      ]
     },
     "execution_count": 5,
     "metadata": {},
     "output_type": "execute_result"
    }
   ],
   "source": [
    "training_df.head()"
   ]
  },
  {
   "cell_type": "code",
   "execution_count": 6,
   "metadata": {},
   "outputs": [],
   "source": [
    "testing_df = pd.read_csv('../data/model_testing_data.csv')"
   ]
  },
  {
   "cell_type": "code",
   "execution_count": 7,
   "metadata": {},
   "outputs": [
    {
     "data": {
      "text/html": [
       "<div>\n",
       "<style scoped>\n",
       "    .dataframe tbody tr th:only-of-type {\n",
       "        vertical-align: middle;\n",
       "    }\n",
       "\n",
       "    .dataframe tbody tr th {\n",
       "        vertical-align: top;\n",
       "    }\n",
       "\n",
       "    .dataframe thead th {\n",
       "        text-align: right;\n",
       "    }\n",
       "</style>\n",
       "<table border=\"1\" class=\"dataframe\">\n",
       "  <thead>\n",
       "    <tr style=\"text-align: right;\">\n",
       "      <th></th>\n",
       "      <th>Date</th>\n",
       "      <th>moonPhase</th>\n",
       "      <th>humidity</th>\n",
       "      <th>windSpeed</th>\n",
       "      <th>windBearing</th>\n",
       "      <th>uvIndex</th>\n",
       "      <th>precipIntensity</th>\n",
       "      <th>winningTime</th>\n",
       "      <th>daylightHours</th>\n",
       "      <th>iceThickness</th>\n",
       "      <th>...</th>\n",
       "      <th>numColdDays_MA-accel5</th>\n",
       "      <th>numColdDays_MA-std_dev5</th>\n",
       "      <th>numColdDays_MA7</th>\n",
       "      <th>numColdDays_MA-slope7</th>\n",
       "      <th>numColdDays_MA-accel7</th>\n",
       "      <th>numColdDays_MA-std_dev7</th>\n",
       "      <th>numColdDays_MA10</th>\n",
       "      <th>numColdDays_MA-slope10</th>\n",
       "      <th>numColdDays_MA-accel10</th>\n",
       "      <th>numColdDays_MA-std_dev10</th>\n",
       "    </tr>\n",
       "  </thead>\n",
       "  <tbody>\n",
       "    <tr>\n",
       "      <th>0</th>\n",
       "      <td>2015-03-10</td>\n",
       "      <td>0.67</td>\n",
       "      <td>0.62</td>\n",
       "      <td>0.79</td>\n",
       "      <td>136.0</td>\n",
       "      <td>1.0</td>\n",
       "      <td>0.0</td>\n",
       "      <td>0</td>\n",
       "      <td>0.463889</td>\n",
       "      <td>38.5</td>\n",
       "      <td>...</td>\n",
       "      <td>7.142857e-01</td>\n",
       "      <td>1.303840</td>\n",
       "      <td>1.857143</td>\n",
       "      <td>0.500000</td>\n",
       "      <td>7.142857e-01</td>\n",
       "      <td>1.214986</td>\n",
       "      <td>1.6</td>\n",
       "      <td>0.278788</td>\n",
       "      <td>0.397727</td>\n",
       "      <td>1.074968</td>\n",
       "    </tr>\n",
       "    <tr>\n",
       "      <th>1</th>\n",
       "      <td>2015-03-11</td>\n",
       "      <td>0.70</td>\n",
       "      <td>0.61</td>\n",
       "      <td>0.77</td>\n",
       "      <td>317.0</td>\n",
       "      <td>1.0</td>\n",
       "      <td>0.0</td>\n",
       "      <td>0</td>\n",
       "      <td>0.468750</td>\n",
       "      <td>38.5</td>\n",
       "      <td>...</td>\n",
       "      <td>5.880195e-16</td>\n",
       "      <td>1.581139</td>\n",
       "      <td>2.428571</td>\n",
       "      <td>0.714286</td>\n",
       "      <td>5.952381e-01</td>\n",
       "      <td>1.618347</td>\n",
       "      <td>2.0</td>\n",
       "      <td>0.424242</td>\n",
       "      <td>0.473485</td>\n",
       "      <td>1.490712</td>\n",
       "    </tr>\n",
       "    <tr>\n",
       "      <th>2</th>\n",
       "      <td>2015-03-12</td>\n",
       "      <td>0.73</td>\n",
       "      <td>0.61</td>\n",
       "      <td>1.45</td>\n",
       "      <td>307.0</td>\n",
       "      <td>1.0</td>\n",
       "      <td>0.0</td>\n",
       "      <td>0</td>\n",
       "      <td>0.472917</td>\n",
       "      <td>38.5</td>\n",
       "      <td>...</td>\n",
       "      <td>1.176039e-15</td>\n",
       "      <td>1.581139</td>\n",
       "      <td>3.142857</td>\n",
       "      <td>0.892857</td>\n",
       "      <td>2.976190e-01</td>\n",
       "      <td>1.951800</td>\n",
       "      <td>2.5</td>\n",
       "      <td>0.575758</td>\n",
       "      <td>0.473485</td>\n",
       "      <td>1.900292</td>\n",
       "    </tr>\n",
       "    <tr>\n",
       "      <th>3</th>\n",
       "      <td>2015-03-13</td>\n",
       "      <td>0.77</td>\n",
       "      <td>0.57</td>\n",
       "      <td>1.36</td>\n",
       "      <td>257.0</td>\n",
       "      <td>1.0</td>\n",
       "      <td>0.0</td>\n",
       "      <td>0</td>\n",
       "      <td>0.477778</td>\n",
       "      <td>38.5</td>\n",
       "      <td>...</td>\n",
       "      <td>1.764059e-15</td>\n",
       "      <td>1.581139</td>\n",
       "      <td>4.000000</td>\n",
       "      <td>1.000000</td>\n",
       "      <td>-3.853551e-16</td>\n",
       "      <td>2.160247</td>\n",
       "      <td>3.1</td>\n",
       "      <td>0.721212</td>\n",
       "      <td>0.397727</td>\n",
       "      <td>2.282786</td>\n",
       "    </tr>\n",
       "    <tr>\n",
       "      <th>4</th>\n",
       "      <td>2015-03-14</td>\n",
       "      <td>0.80</td>\n",
       "      <td>0.60</td>\n",
       "      <td>0.66</td>\n",
       "      <td>128.0</td>\n",
       "      <td>1.0</td>\n",
       "      <td>0.0</td>\n",
       "      <td>0</td>\n",
       "      <td>0.482639</td>\n",
       "      <td>38.5</td>\n",
       "      <td>...</td>\n",
       "      <td>5.880195e-16</td>\n",
       "      <td>1.581139</td>\n",
       "      <td>5.000000</td>\n",
       "      <td>1.000000</td>\n",
       "      <td>7.707102e-17</td>\n",
       "      <td>2.160247</td>\n",
       "      <td>3.8</td>\n",
       "      <td>0.848485</td>\n",
       "      <td>0.265152</td>\n",
       "      <td>2.616189</td>\n",
       "    </tr>\n",
       "  </tbody>\n",
       "</table>\n",
       "<p>5 rows × 162 columns</p>\n",
       "</div>"
      ],
      "text/plain": [
       "         Date  moonPhase  humidity  windSpeed  windBearing  uvIndex  \\\n",
       "0  2015-03-10       0.67      0.62       0.79        136.0      1.0   \n",
       "1  2015-03-11       0.70      0.61       0.77        317.0      1.0   \n",
       "2  2015-03-12       0.73      0.61       1.45        307.0      1.0   \n",
       "3  2015-03-13       0.77      0.57       1.36        257.0      1.0   \n",
       "4  2015-03-14       0.80      0.60       0.66        128.0      1.0   \n",
       "\n",
       "   precipIntensity winningTime  daylightHours  iceThickness  ...  \\\n",
       "0              0.0           0       0.463889          38.5  ...   \n",
       "1              0.0           0       0.468750          38.5  ...   \n",
       "2              0.0           0       0.472917          38.5  ...   \n",
       "3              0.0           0       0.477778          38.5  ...   \n",
       "4              0.0           0       0.482639          38.5  ...   \n",
       "\n",
       "   numColdDays_MA-accel5  numColdDays_MA-std_dev5  numColdDays_MA7  \\\n",
       "0           7.142857e-01                 1.303840         1.857143   \n",
       "1           5.880195e-16                 1.581139         2.428571   \n",
       "2           1.176039e-15                 1.581139         3.142857   \n",
       "3           1.764059e-15                 1.581139         4.000000   \n",
       "4           5.880195e-16                 1.581139         5.000000   \n",
       "\n",
       "   numColdDays_MA-slope7  numColdDays_MA-accel7  numColdDays_MA-std_dev7  \\\n",
       "0               0.500000           7.142857e-01                 1.214986   \n",
       "1               0.714286           5.952381e-01                 1.618347   \n",
       "2               0.892857           2.976190e-01                 1.951800   \n",
       "3               1.000000          -3.853551e-16                 2.160247   \n",
       "4               1.000000           7.707102e-17                 2.160247   \n",
       "\n",
       "   numColdDays_MA10  numColdDays_MA-slope10  numColdDays_MA-accel10  \\\n",
       "0               1.6                0.278788                0.397727   \n",
       "1               2.0                0.424242                0.473485   \n",
       "2               2.5                0.575758                0.473485   \n",
       "3               3.1                0.721212                0.397727   \n",
       "4               3.8                0.848485                0.265152   \n",
       "\n",
       "   numColdDays_MA-std_dev10  \n",
       "0                  1.074968  \n",
       "1                  1.490712  \n",
       "2                  1.900292  \n",
       "3                  2.282786  \n",
       "4                  2.616189  \n",
       "\n",
       "[5 rows x 162 columns]"
      ]
     },
     "execution_count": 7,
     "metadata": {},
     "output_type": "execute_result"
    }
   ],
   "source": [
    "testing_df.head()"
   ]
  },
  {
   "cell_type": "code",
   "execution_count": 8,
   "metadata": {},
   "outputs": [],
   "source": [
    "# columns to exclude from models (dates and target info)\n",
    "exclude = ['winningTime', 'winningDate',  'Date']"
   ]
  },
  {
   "cell_type": "code",
   "execution_count": 9,
   "metadata": {},
   "outputs": [],
   "source": [
    "used_cols = [c for c in training_df.columns if c not in exclude]"
   ]
  },
  {
   "cell_type": "code",
   "execution_count": 10,
   "metadata": {},
   "outputs": [],
   "source": [
    "no_ma_cols = [c for c in training_df.columns.tolist() if not c.endswith(('3', '5', '7', '10'))]\n",
    "used_no_ma_cols = [c for c in no_ma_cols if c not in exclude]"
   ]
  },
  {
   "cell_type": "code",
   "execution_count": 11,
   "metadata": {},
   "outputs": [
    {
     "name": "stdout",
     "output_type": "stream",
     "text": [
      "['Date',\n",
      " 'moonPhase',\n",
      " 'humidity',\n",
      " 'windSpeed',\n",
      " 'windBearing',\n",
      " 'uvIndex',\n",
      " 'precipIntensity',\n",
      " 'winningTime',\n",
      " 'daylightHours',\n",
      " 'iceThickness',\n",
      " 'dayOfYear',\n",
      " 'winningDate',\n",
      " 'precip_rain',\n",
      " 'precip_snow',\n",
      " 'temperatureAvg',\n",
      " 'numHotDays',\n",
      " 'numColdDays',\n",
      " 'accumulatedSnow']\n",
      "['moonPhase',\n",
      " 'humidity',\n",
      " 'windSpeed',\n",
      " 'windBearing',\n",
      " 'uvIndex',\n",
      " 'precipIntensity',\n",
      " 'daylightHours',\n",
      " 'iceThickness',\n",
      " 'dayOfYear',\n",
      " 'precip_rain',\n",
      " 'precip_snow',\n",
      " 'temperatureAvg',\n",
      " 'numHotDays',\n",
      " 'numColdDays',\n",
      " 'accumulatedSnow']\n"
     ]
    }
   ],
   "source": [
    "pprint.pprint(no_ma_cols)\n",
    "pprint.pprint(used_no_ma_cols)"
   ]
  },
  {
   "cell_type": "code",
   "execution_count": 12,
   "metadata": {},
   "outputs": [],
   "source": [
    "training_df.dropna(inplace = True)"
   ]
  },
  {
   "cell_type": "code",
   "execution_count": 13,
   "metadata": {},
   "outputs": [],
   "source": [
    "testing_df.dropna(inplace = True)"
   ]
  },
  {
   "cell_type": "code",
   "execution_count": 14,
   "metadata": {},
   "outputs": [
    {
     "data": {
      "text/plain": [
       "11"
      ]
     },
     "execution_count": 14,
     "metadata": {},
     "output_type": "execute_result"
    }
   ],
   "source": [
    "gc.collect()"
   ]
  },
  {
   "cell_type": "markdown",
   "metadata": {},
   "source": [
    "## Modeling"
   ]
  },
  {
   "cell_type": "markdown",
   "metadata": {},
   "source": [
    "#### Random Guess Accuracy = 0.9827072152653548"
   ]
  },
  {
   "cell_type": "code",
   "execution_count": 15,
   "metadata": {},
   "outputs": [],
   "source": [
    "target = 'winningDate'"
   ]
  },
  {
   "cell_type": "markdown",
   "metadata": {},
   "source": [
    "#### Best Performing Model"
   ]
  },
  {
   "cell_type": "code",
   "execution_count": 16,
   "metadata": {},
   "outputs": [
    {
     "name": "stdout",
     "output_type": "stream",
     "text": [
      "f1: nan +/- nan\n",
      "f1_weighted: nan +/- nan\n",
      "precision: nan +/- nan\n",
      "precision_weighted: nan +/- nan\n",
      "recall: nan +/- nan\n",
      "recall_weighted: nan +/- nan\n",
      "accuracy: nan +/- nan\n",
      "roc_auc: nan +/- nan\n"
     ]
    }
   ],
   "source": [
    "rf = RandomForestClassifier(bootstrap = True,\n",
    "                            class_weight = 'balanced',\n",
    "                            criterion = 'entropy',\n",
    "                            max_depth = 6,\n",
    "                            max_features = 'sqrt',\n",
    "                            min_samples_leaf = 1,\n",
    "                            min_samples_split = 2,\n",
    "                            n_estimators = 60,\n",
    "                            n_jobs = -1, random_state = 42)\n",
    "\n",
    "encoder = ForestEncoder(rf)\n",
    "\n",
    "clf = LogisticRegressionCV(class_weight = 'balanced',\n",
    "                           random_state = 42,\n",
    "                           cv = TimeSeriesSplit(),\n",
    "                           solver = 'liblinear',\n",
    "                           n_jobs = -1,\n",
    "                           scoring = 'recall')\n",
    "\n",
    "pipe = make_pipeline(encoder, clf)\n",
    "\n",
    "X_train, y_train = training_df[used_cols], training_df[target]\n",
    "\n",
    "scores = cross_validate(pipe, X_train, y_train, cv = TimeSeriesSplit(),\n",
    "                        scoring=['f1', 'f1_weighted', 'precision', 'precision_weighted',\n",
    "                                 'recall', 'recall_weighted', 'accuracy', 'roc_auc'])\n",
    "\n",
    "print('f1:', scores['test_f1'].mean(), '+/-', scores['test_f1'].std())\n",
    "print('f1_weighted:', scores['test_f1_weighted'].mean(), '+/-', scores['test_f1_weighted'].std())\n",
    "print('precision:', scores['test_precision'].mean(), '+/-', scores['test_precision'].std())\n",
    "print('precision_weighted:', scores['test_precision_weighted'].mean(), '+/-',\n",
    "      scores['test_precision_weighted'].std())\n",
    "print('recall:', scores['test_recall'].mean(), '+/-', scores['test_recall'].std())\n",
    "print('recall_weighted:', scores['test_recall_weighted'].mean(), '+/-',\n",
    "      scores['test_recall_weighted'].std())\n",
    "print('accuracy:', scores['test_accuracy'].mean(), '+/-',\n",
    "      scores['test_accuracy'].std())\n",
    "print('roc_auc:', scores['test_roc_auc'].mean(), '+/-', scores['test_roc_auc'].std())"
   ]
  },
  {
   "cell_type": "code",
   "execution_count": 17,
   "metadata": {},
   "outputs": [],
   "source": [
    "pipe.fit(X_train, y_train)\n",
    "X_test = testing_df[used_cols]\n",
    "y_test = testing_df[target]\n",
    "y_pred = pipe.predict(X_test)"
   ]
  },
  {
   "cell_type": "code",
   "execution_count": 18,
   "metadata": {},
   "outputs": [
    {
     "name": "stdout",
     "output_type": "stream",
     "text": [
      "Test set accuracy: 0.9570815450643777\n"
     ]
    }
   ],
   "source": [
    "print('Test set accuracy:', metrics.accuracy_score(y_test, y_pred))"
   ]
  },
  {
   "cell_type": "code",
   "execution_count": 19,
   "metadata": {},
   "outputs": [
    {
     "data": {
      "text/plain": [
       "array([[219,   9],\n",
       "       [  1,   4]])"
      ]
     },
     "execution_count": 19,
     "metadata": {},
     "output_type": "execute_result"
    }
   ],
   "source": [
    "metrics.confusion_matrix(y_test, y_pred)"
   ]
  },
  {
   "cell_type": "code",
   "execution_count": 20,
   "metadata": {},
   "outputs": [
    {
     "data": {
      "image/png": "[encoded data removed]",
      "text/plain": [
       "<Figure size 432x288 with 2 Axes>"
      ]
     },
     "metadata": {
      "needs_background": "light"
     },
     "output_type": "display_data"
    }
   ],
   "source": [
    "metrics.plot_confusion_matrix(pipe, X_train, y_train);"
   ]
  },
  {
   "cell_type": "code",
   "execution_count": 29,
   "metadata": {},
   "outputs": [
    {
     "data": {
      "image/png": "[encoded data removed]",
      "text/plain": [
       "<Figure size 432x288 with 2 Axes>"
      ]
     },
     "metadata": {
      "needs_background": "light"
     },
     "output_type": "display_data"
    }
   ],
   "source": [
    "metrics.plot_confusion_matrix(pipe, X_test, y_test);\n",
    "# plt.savefig('../testing-confusion-matrix.png', format = 'png', bbox_inches = 'tight')"
   ]
  },
  {
   "cell_type": "code",
   "execution_count": 22,
   "metadata": {},
   "outputs": [
    {
     "data": {
      "text/plain": [
       "array([0., 0., 0., 0., 0.])"
      ]
     },
     "execution_count": 22,
     "metadata": {},
     "output_type": "execute_result"
    }
   ],
   "source": [
    "y_pred_prob = rf.predict_proba(X_test)[:,1]\n",
    "y_pred_prob[:5]"
   ]
  },
  {
   "cell_type": "code",
   "execution_count": 23,
   "metadata": {},
   "outputs": [
    {
     "data": {
      "image/png": "[encoded data removed]",
      "text/plain": [
       "<Figure size 432x288 with 1 Axes>"
      ]
     },
     "metadata": {
      "needs_background": "light"
     },
     "output_type": "display_data"
    }
   ],
   "source": [
    "sns.kdeplot(y_pred_prob);"
   ]
  },
  {
   "cell_type": "code",
   "execution_count": 24,
   "metadata": {},
   "outputs": [
    {
     "data": {
      "text/plain": [
       "array([[175,  53],\n",
       "       [  0,   5]])"
      ]
     },
     "execution_count": 24,
     "metadata": {},
     "output_type": "execute_result"
    }
   ],
   "source": [
    "metrics.confusion_matrix(y_test, y_pred_prob > 0)"
   ]
  },
  {
   "cell_type": "code",
   "execution_count": 28,
   "metadata": {},
   "outputs": [
    {
     "data": {
      "image/png": "[encoded data removed]",
      "text/plain": [
       "<Figure size 1440x576 with 1 Axes>"
      ]
     },
     "metadata": {
      "needs_background": "light"
     },
     "output_type": "display_data"
    }
   ],
   "source": [
    "plt.figure(figsize=(20,8))\n",
    "sns.lineplot(x = testing_df.index, y = y_test.values, palette = 'tab10', linewidth = 3)\n",
    "sns.lineplot(x = testing_df.index, y = 1.5*y_pred_prob, palette = 'tab10', linewidth = 3)\n",
    "\n",
    "plt.tight_layout()\n",
    "plt.title('Model Predictions vs Actual Win Dates')\n",
    "plt.xlabel('Sample Number')\n",
    "plt.ylabel('Probability')\n",
    "# plt.savefig('../plot-model-vs-actual.png', format = 'png', bbox_inches = 'tight')\n",
    "plt.show();"
   ]
  },
  {
   "cell_type": "code",
   "execution_count": 27,
   "metadata": {},
   "outputs": [
    {
     "data": {
      "text/plain": [
       "<Figure size 432x288 with 0 Axes>"
      ]
     },
     "metadata": {},
     "output_type": "display_data"
    }
   ],
   "source": []
  },
  {
   "cell_type": "markdown",
   "metadata": {},
   "source": [
    "_Notes/Ideas_\n",
    "* ~~add feature for day-of-year (to make the models time-aware);~~\n",
    "* try hidden Markov model;\n",
    "* ~~look at survival analysis/time-to-event analysis;~~\n",
    "* look for outliers in training data, if removed, does model performance improve?;\n",
    "* is there any way to identify mechanical failure of ice vs mush-out?;\n",
    "* ~~more time-series-like features, for instance number of \"hot\" days vs number of \"cold\" days; lags and rolling averages that Bryan talked about~~\n",
    "* consider under- or over-sampling\n",
    "* ~~try random forest model;~~\n",
    "* try knn model;"
   ]
  },
  {
   "cell_type": "code",
   "execution_count": null,
   "metadata": {},
   "outputs": [],
   "source": []
  }
 ],
 "metadata": {
  "kernelspec": {
   "display_name": "Python 3",
   "language": "python",
   "name": "python3"
  },
  "language_info": {
   "codemirror_mode": {
    "name": "ipython",
    "version": 3
   },
   "file_extension": ".py",
   "mimetype": "text/x-python",
   "name": "python",
   "nbconvert_exporter": "python",
   "pygments_lexer": "ipython3",
   "version": "3.6.9"
  }
 },
 "nbformat": 4,
 "nbformat_minor": 4
}
