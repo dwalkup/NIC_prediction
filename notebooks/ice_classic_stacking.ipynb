{
 "cells": [
  {
   "cell_type": "markdown",
   "metadata": {},
   "source": [
    "# Nenana Ice Classic - Model Stacking"
   ]
  },
  {
   "cell_type": "code",
   "execution_count": 1,
   "metadata": {},
   "outputs": [],
   "source": [
    "# imports\n",
    "\n",
    "import numpy as np\n",
    "import pandas as pd\n",
    "\n",
    "# plotting\n",
    "%matplotlib inline\n",
    "import matplotlib.pyplot as plt\n",
    "import seaborn as sns; sns.set()\n",
    "from mlxtend.plotting import plot_decision_regions\n",
    "\n",
    "# pipeline and preprocessing\n",
    "from sklearn.preprocessing import RobustScaler\n",
    "from sklearn.preprocessing import KBinsDiscretizer, FunctionTransformer\n",
    "from sklearn.pipeline import Pipeline, make_pipeline\n",
    "from category_encoders import WOEEncoder, OneHotEncoder\n",
    "from sklearn.decomposition import KernelPCA as KPCA\n",
    "from sklearn.model_selection import train_test_split\n",
    "from mlxtend.feature_selection import ColumnSelector\n",
    "\n",
    "# models\n",
    "from sklearn.linear_model import LogisticRegressionCV\n",
    "from sklearn.svm import SVC\n",
    "# from sklearn.tree import DecisionTreeClassifier\n",
    "from sklearn.ensemble import RandomForestClassifier, ExtraTreesClassifier\n",
    "from mlxtend.classifier import StackingCVClassifier\n",
    "from sklearn.experimental import enable_hist_gradient_boosting \n",
    "from sklearn.ensemble import HistGradientBoostingClassifier\n",
    "# evaluation\n",
    "from sklearn.model_selection import cross_val_score, TimeSeriesSplit, cross_validate, cross_val_predict\n",
    "from sklearn import metrics # metrics I used\n",
    "\n",
    "# Pretty Print to make some outputs easier to read\n",
    "import pprint\n",
    "\n",
    "# filter warnings\n",
    "import warnings\n",
    "warnings.filterwarnings(\"ignore\")\n",
    "\n",
    "import gc # garbage collection\n",
    "\n",
    "rng = np.random.RandomState(42)"
   ]
  },
  {
   "cell_type": "code",
   "execution_count": 2,
   "metadata": {},
   "outputs": [],
   "source": [
    "def stringify(data):\n",
    "    data = pd.DataFrame(data)\n",
    "    for c in data.columns.tolist():\n",
    "        data[c] = data[c].astype(str)\n",
    "    return data"
   ]
  },
  {
   "cell_type": "code",
   "execution_count": 3,
   "metadata": {},
   "outputs": [],
   "source": [
    "from sklearn.base import TransformerMixin\n",
    "\n",
    "\n",
    "class ForestEncoder(TransformerMixin):\n",
    "    \n",
    "    def __init__(self, forest):\n",
    "        self.forest = forest\n",
    "        self.n_trees = 1\n",
    "        try:\n",
    "            self.n_trees = self.forest.n_estimators\n",
    "        except:\n",
    "            pass\n",
    "        self.ohe = OneHotEncoder(cols=range(self.n_trees), use_cat_names=True)\n",
    "        \n",
    "    def fit(self, X, y=None):\n",
    "        self.forest.fit(X, y)\n",
    "#         self.ohe.fit(self.forest.apply(X)[:,:,0])\n",
    "        self.ohe.fit(self.forest.apply(X))\n",
    "        return self\n",
    "    \n",
    "    def transform(self, X, y=None):\n",
    "#         return self.ohe.transform(self.forest.apply(X)[:,:,0])\n",
    "        return self.ohe.transform(self.forest.apply(X))\n"
   ]
  },
  {
   "cell_type": "markdown",
   "metadata": {},
   "source": [
    "## Modeling"
   ]
  },
  {
   "cell_type": "markdown",
   "metadata": {},
   "source": [
    "#### Random Guess Accuracy = 0.9827072152653548"
   ]
  },
  {
   "cell_type": "markdown",
   "metadata": {},
   "source": [
    "#### Create training and testing DataFrames"
   ]
  },
  {
   "cell_type": "code",
   "execution_count": 4,
   "metadata": {},
   "outputs": [],
   "source": [
    "train = pd.read_csv('../data/model_training_data.csv')"
   ]
  },
  {
   "cell_type": "code",
   "execution_count": 5,
   "metadata": {},
   "outputs": [
    {
     "name": "stdout",
     "output_type": "stream",
     "text": [
      "<class 'pandas.core.frame.DataFrame'>\n",
      "RangeIndex: 2546 entries, 0 to 2545\n",
      "Columns: 196 entries, Date to flowVolume_MA-std_dev_10\n",
      "dtypes: float64(187), int64(7), object(2)\n",
      "memory usage: 3.8+ MB\n"
     ]
    }
   ],
   "source": [
    "train.info()"
   ]
  },
  {
   "cell_type": "code",
   "execution_count": 6,
   "metadata": {},
   "outputs": [],
   "source": [
    "test = pd.read_csv('../data/model_testing_data.csv')"
   ]
  },
  {
   "cell_type": "code",
   "execution_count": 7,
   "metadata": {},
   "outputs": [
    {
     "name": "stdout",
     "output_type": "stream",
     "text": [
      "<class 'pandas.core.frame.DataFrame'>\n",
      "RangeIndex: 529 entries, 0 to 528\n",
      "Columns: 196 entries, Date to flowVolume_MA-std_dev_10\n",
      "dtypes: float64(187), int64(7), object(2)\n",
      "memory usage: 810.2+ KB\n"
     ]
    }
   ],
   "source": [
    "test.info()"
   ]
  },
  {
   "cell_type": "code",
   "execution_count": 8,
   "metadata": {},
   "outputs": [],
   "source": [
    "# columns to exclude from models (dates and target info)\n",
    "exclude = ['winningTime', 'winningDate', 'Date']"
   ]
  },
  {
   "cell_type": "code",
   "execution_count": 9,
   "metadata": {},
   "outputs": [],
   "source": [
    "used_cols = [c for c in train.columns if c not in exclude]"
   ]
  },
  {
   "cell_type": "code",
   "execution_count": 10,
   "metadata": {},
   "outputs": [
    {
     "name": "stdout",
     "output_type": "stream",
     "text": [
      "['moonPhase', 'humidity', 'windSpeed', 'windBearing', 'cloudCover', 'uvIndex',\n",
      " 'precipIntensity', 'iceThickness', 'flowVolume', 'dayOfYear', 'daylightHours',\n",
      " 'precip_rain', 'precip_snow', 'temperatureAvg', 'numHotDays', 'numColdDays',\n",
      " 'accumulatedSnow', 'humidity_MA_3', 'humidity_MA-slope_3',\n",
      " 'humidity_MA-accel_3', 'humidity_MA-std_dev_3', 'humidity_MA_5',\n",
      " 'humidity_MA-slope_5', 'humidity_MA-accel_5', 'humidity_MA-std_dev_5',\n",
      " 'humidity_MA_7', 'humidity_MA-slope_7', 'humidity_MA-accel_7',\n",
      " 'humidity_MA-std_dev_7', 'humidity_MA_10', 'humidity_MA-slope_10',\n",
      " 'humidity_MA-accel_10', 'humidity_MA-std_dev_10', 'windSpeed_MA_3',\n",
      " 'windSpeed_MA-slope_3', 'windSpeed_MA-accel_3', 'windSpeed_MA-std_dev_3',\n",
      " 'windSpeed_MA_5', 'windSpeed_MA-slope_5', 'windSpeed_MA-accel_5',\n",
      " 'windSpeed_MA-std_dev_5', 'windSpeed_MA_7', 'windSpeed_MA-slope_7',\n",
      " 'windSpeed_MA-accel_7', 'windSpeed_MA-std_dev_7', 'windSpeed_MA_10',\n",
      " 'windSpeed_MA-slope_10', 'windSpeed_MA-accel_10', 'windSpeed_MA-std_dev_10',\n",
      " 'windBearing_MA_3', 'windBearing_MA-slope_3', 'windBearing_MA-accel_3',\n",
      " 'windBearing_MA-std_dev_3', 'windBearing_MA_5', 'windBearing_MA-slope_5',\n",
      " 'windBearing_MA-accel_5', 'windBearing_MA-std_dev_5', 'windBearing_MA_7',\n",
      " 'windBearing_MA-slope_7', 'windBearing_MA-accel_7', 'windBearing_MA-std_dev_7',\n",
      " 'windBearing_MA_10', 'windBearing_MA-slope_10', 'windBearing_MA-accel_10',\n",
      " 'windBearing_MA-std_dev_10', 'cloudCover_MA_3', 'cloudCover_MA-slope_3',\n",
      " 'cloudCover_MA-accel_3', 'cloudCover_MA-std_dev_3', 'cloudCover_MA_5',\n",
      " 'cloudCover_MA-slope_5', 'cloudCover_MA-accel_5', 'cloudCover_MA-std_dev_5',\n",
      " 'cloudCover_MA_7', 'cloudCover_MA-slope_7', 'cloudCover_MA-accel_7',\n",
      " 'cloudCover_MA-std_dev_7', 'cloudCover_MA_10', 'cloudCover_MA-slope_10',\n",
      " 'cloudCover_MA-accel_10', 'cloudCover_MA-std_dev_10', 'uvIndex_MA_3',\n",
      " 'uvIndex_MA-slope_3', 'uvIndex_MA-accel_3', 'uvIndex_MA-std_dev_3',\n",
      " 'uvIndex_MA_5', 'uvIndex_MA-slope_5', 'uvIndex_MA-accel_5',\n",
      " 'uvIndex_MA-std_dev_5', 'uvIndex_MA_7', 'uvIndex_MA-slope_7',\n",
      " 'uvIndex_MA-accel_7', 'uvIndex_MA-std_dev_7', 'uvIndex_MA_10',\n",
      " 'uvIndex_MA-slope_10', 'uvIndex_MA-accel_10', 'uvIndex_MA-std_dev_10',\n",
      " 'precipIntensity_MA_3', 'precipIntensity_MA-slope_3',\n",
      " 'precipIntensity_MA-accel_3', 'precipIntensity_MA-std_dev_3',\n",
      " 'precipIntensity_MA_5', 'precipIntensity_MA-slope_5',\n",
      " 'precipIntensity_MA-accel_5', 'precipIntensity_MA-std_dev_5',\n",
      " 'precipIntensity_MA_7', 'precipIntensity_MA-slope_7',\n",
      " 'precipIntensity_MA-accel_7', 'precipIntensity_MA-std_dev_7',\n",
      " 'precipIntensity_MA_10', 'precipIntensity_MA-slope_10',\n",
      " 'precipIntensity_MA-accel_10', 'precipIntensity_MA-std_dev_10',\n",
      " 'iceThickness_MA_3', 'iceThickness_MA-slope_3', 'iceThickness_MA-accel_3',\n",
      " 'iceThickness_MA-std_dev_3', 'iceThickness_MA_5', 'iceThickness_MA-slope_5',\n",
      " 'iceThickness_MA-accel_5', 'iceThickness_MA-std_dev_5', 'iceThickness_MA_7',\n",
      " 'iceThickness_MA-slope_7', 'iceThickness_MA-accel_7',\n",
      " 'iceThickness_MA-std_dev_7', 'iceThickness_MA_10', 'iceThickness_MA-slope_10',\n",
      " 'iceThickness_MA-accel_10', 'iceThickness_MA-std_dev_10',\n",
      " 'temperatureAvg_MA_3', 'temperatureAvg_MA-slope_3',\n",
      " 'temperatureAvg_MA-accel_3', 'temperatureAvg_MA-std_dev_3',\n",
      " 'temperatureAvg_MA_5', 'temperatureAvg_MA-slope_5',\n",
      " 'temperatureAvg_MA-accel_5', 'temperatureAvg_MA-std_dev_5',\n",
      " 'temperatureAvg_MA_7', 'temperatureAvg_MA-slope_7',\n",
      " 'temperatureAvg_MA-accel_7', 'temperatureAvg_MA-std_dev_7',\n",
      " 'temperatureAvg_MA_10', 'temperatureAvg_MA-slope_10',\n",
      " 'temperatureAvg_MA-accel_10', 'temperatureAvg_MA-std_dev_10',\n",
      " 'numHotDays_MA_3', 'numHotDays_MA-slope_3', 'numHotDays_MA-accel_3',\n",
      " 'numHotDays_MA-std_dev_3', 'numHotDays_MA_5', 'numHotDays_MA-slope_5',\n",
      " 'numHotDays_MA-accel_5', 'numHotDays_MA-std_dev_5', 'numHotDays_MA_7',\n",
      " 'numHotDays_MA-slope_7', 'numHotDays_MA-accel_7', 'numHotDays_MA-std_dev_7',\n",
      " 'numHotDays_MA_10', 'numHotDays_MA-slope_10', 'numHotDays_MA-accel_10',\n",
      " 'numHotDays_MA-std_dev_10', 'numColdDays_MA_3', 'numColdDays_MA-slope_3',\n",
      " 'numColdDays_MA-accel_3', 'numColdDays_MA-std_dev_3', 'numColdDays_MA_5',\n",
      " 'numColdDays_MA-slope_5', 'numColdDays_MA-accel_5', 'numColdDays_MA-std_dev_5',\n",
      " 'numColdDays_MA_7', 'numColdDays_MA-slope_7', 'numColdDays_MA-accel_7',\n",
      " 'numColdDays_MA-std_dev_7', 'numColdDays_MA_10', 'numColdDays_MA-slope_10',\n",
      " 'numColdDays_MA-accel_10', 'numColdDays_MA-std_dev_10', 'flowVolume_MA_3',\n",
      " 'flowVolume_MA-slope_3', 'flowVolume_MA-accel_3', 'flowVolume_MA-std_dev_3',\n",
      " 'flowVolume_MA_5', 'flowVolume_MA-slope_5', 'flowVolume_MA-accel_5',\n",
      " 'flowVolume_MA-std_dev_5', 'flowVolume_MA_7', 'flowVolume_MA-slope_7',\n",
      " 'flowVolume_MA-accel_7', 'flowVolume_MA-std_dev_7', 'flowVolume_MA_10',\n",
      " 'flowVolume_MA-slope_10', 'flowVolume_MA-accel_10',\n",
      " 'flowVolume_MA-std_dev_10']\n"
     ]
    }
   ],
   "source": [
    "pprint.pprint(used_cols, compact = True)"
   ]
  },
  {
   "cell_type": "code",
   "execution_count": 11,
   "metadata": {},
   "outputs": [],
   "source": [
    "no_ma_cols = [c for c in train.columns.tolist() if not c.endswith(('3', '5', '7', '10'))]\n",
    "used_no_ma_cols = [c for c in no_ma_cols if c not in exclude]"
   ]
  },
  {
   "cell_type": "code",
   "execution_count": 12,
   "metadata": {},
   "outputs": [
    {
     "name": "stdout",
     "output_type": "stream",
     "text": [
      "['Date', 'moonPhase', 'humidity', 'windSpeed', 'windBearing', 'cloudCover',\n",
      " 'uvIndex', 'precipIntensity', 'winningTime', 'iceThickness', 'flowVolume',\n",
      " 'dayOfYear', 'winningDate', 'daylightHours', 'precip_rain', 'precip_snow',\n",
      " 'temperatureAvg', 'numHotDays', 'numColdDays', 'accumulatedSnow']\n",
      "['moonPhase', 'humidity', 'windSpeed', 'windBearing', 'cloudCover', 'uvIndex',\n",
      " 'precipIntensity', 'iceThickness', 'flowVolume', 'dayOfYear', 'daylightHours',\n",
      " 'precip_rain', 'precip_snow', 'temperatureAvg', 'numHotDays', 'numColdDays',\n",
      " 'accumulatedSnow']\n"
     ]
    }
   ],
   "source": [
    "pprint.pprint(no_ma_cols, compact = True)\n",
    "pprint.pprint(used_no_ma_cols, compact = True)"
   ]
  },
  {
   "cell_type": "code",
   "execution_count": 13,
   "metadata": {},
   "outputs": [],
   "source": [
    "target = 'winningDate'"
   ]
  },
  {
   "cell_type": "markdown",
   "metadata": {},
   "source": [
    "---\n",
    "### Model Stacking"
   ]
  },
  {
   "cell_type": "markdown",
   "metadata": {},
   "source": [
    "#### Stacked Model Using LogReg Meta-Classifier"
   ]
  },
  {
   "cell_type": "code",
   "execution_count": 14,
   "metadata": {},
   "outputs": [
    {
     "name": "stdout",
     "output_type": "stream",
     "text": [
      "f1: nan +/- nan\n",
      "precision: nan +/- nan\n",
      "recall: nan +/- nan\n",
      "accuracy: nan +/- nan\n",
      "roc_auc: nan +/- nan\n"
     ]
    }
   ],
   "source": [
    "# using logreg for meta-classifier\n",
    "X_train, y_train = train[used_cols].values, train[target].values\n",
    "target = 'winningDate'\n",
    "\n",
    "scaler = RobustScaler()\n",
    "binner = KBinsDiscretizer(n_bins=7, encode='ordinal')\n",
    "objectify = FunctionTransformer(func=stringify, check_inverse=False, validate=False)\n",
    "encoder = WOEEncoder()\n",
    "\n",
    "clf_lr = LogisticRegressionCV(class_weight='balanced',\n",
    "                              cv = TimeSeriesSplit(),\n",
    "                              solver = 'liblinear',\n",
    "                              n_jobs=-1,\n",
    "                              random_state=42)\n",
    "\n",
    "clf_svc = SVC(C = 1000,\n",
    "              kernel = 'linear',\n",
    "              gamma = 'auto',\n",
    "              class_weight='balanced',\n",
    "              random_state=42, probability=True)\n",
    "\n",
    "clf_tree = HistGradientBoostingClassifier(loss='auto',\n",
    "                                          random_state=42,\n",
    "                                          learning_rate=0.03,\n",
    "                                          max_iter=225,\n",
    "                                          max_leaf_nodes=2**2-1,\n",
    "                                          max_bins=150,\n",
    "                                          l2_regularization=0.82)\n",
    "\n",
    "# features used, with column number\n",
    "# 'moonPhase' = 0\n",
    "# 'humidity' = 1\n",
    "# 'windSpeed' = 2\n",
    "# 'windBearing' = 3\n",
    "# 'cloudCover' = 4\n",
    "# 'iceThickness' = 7\n",
    "# 'flowVolume' = 8\n",
    "# 'dayOfYear' = 9\n",
    "# 'daylightHours' = 10\n",
    "# 'temperatureAvg' = 13\n",
    "# 'numHotDays' = 14\n",
    "# 'numColdDays' = 15\n",
    "# 'accumulatedSnow' = 16\n",
    "\n",
    "lr_pipe_no_ma = make_pipeline(ColumnSelector(cols = (0, 1, 2, 3, 4, 7, 8, 9, 10, 13, 14, 16)),\n",
    "                              scaler, binner, objectify, encoder, clf_lr)\n",
    "\n",
    "svm_pipe_no_ma = make_pipeline(ColumnSelector(cols = (7, 8, 9, 10, 13, 15, 16)),\n",
    "                              scaler, clf_svc)\n",
    "\n",
    "sclf = StackingCVClassifier(classifiers=[lr_pipe_no_ma, svm_pipe_no_ma, clf_tree], \n",
    "                            meta_classifier=clf_lr,\n",
    "                            random_state=42)\n",
    "\n",
    "scores = cross_validate(sclf, X_train, y_train, cv = TimeSeriesSplit(),\n",
    "                        scoring=['f1', 'precision', 'recall', 'accuracy', 'roc_auc'])\n",
    "\n",
    "print('f1:', scores['test_f1'].mean(), '+/-', scores['test_f1'].std())\n",
    "print('precision:', scores['test_precision'].mean(), '+/-',\n",
    "      scores['test_precision'].std())\n",
    "print('recall:', scores['test_recall'].mean(), '+/-',\n",
    "      scores['test_recall'].std())\n",
    "print('accuracy:', scores['test_accuracy'].mean(), '+/-',\n",
    "      scores['test_accuracy'].std())\n",
    "print('roc_auc:', scores['test_roc_auc'].mean(), '+/-', scores['test_roc_auc'].std())"
   ]
  },
  {
   "cell_type": "code",
   "execution_count": 15,
   "metadata": {},
   "outputs": [
    {
     "data": {
      "text/plain": [
       "StackingCVClassifier(classifiers=[Pipeline(memory=None,\n",
       "                                           steps=[('columnselector',\n",
       "                                                   ColumnSelector(cols=(0, 1, 2,\n",
       "                                                                        3, 4, 7,\n",
       "                                                                        8, 9,\n",
       "                                                                        10, 13,\n",
       "                                                                        14,\n",
       "                                                                        16),\n",
       "                                                                  drop_axis=False)),\n",
       "                                                  ('robustscaler',\n",
       "                                                   RobustScaler(copy=True,\n",
       "                                                                quantile_range=(25.0,\n",
       "                                                                                75.0),\n",
       "                                                                with_centering=True,\n",
       "                                                                with_scaling=True)),\n",
       "                                                  ('kbinsdiscretizer',\n",
       "                                                   KBinsDiscretizer(encode='ordinal',\n",
       "                                                                    n_bins=7,\n",
       "                                                                    strategy='quantile')),\n",
       "                                                  ('functiont...\n",
       "                                                          intercept_scaling=1.0,\n",
       "                                                          l1_ratios=None,\n",
       "                                                          max_iter=100,\n",
       "                                                          multi_class='auto',\n",
       "                                                          n_jobs=-1,\n",
       "                                                          penalty='l2',\n",
       "                                                          random_state=42,\n",
       "                                                          refit=True,\n",
       "                                                          scoring=None,\n",
       "                                                          solver='liblinear',\n",
       "                                                          tol=0.0001,\n",
       "                                                          verbose=0),\n",
       "                     n_jobs=None, pre_dispatch='2*n_jobs', random_state=42,\n",
       "                     shuffle=True, store_train_meta_features=False,\n",
       "                     stratify=True, use_clones=True,\n",
       "                     use_features_in_secondary=False, use_probas=False,\n",
       "                     verbose=0)"
      ]
     },
     "execution_count": 15,
     "metadata": {},
     "output_type": "execute_result"
    }
   ],
   "source": [
    "sclf.fit(X_train, y_train)"
   ]
  },
  {
   "cell_type": "code",
   "execution_count": 16,
   "metadata": {},
   "outputs": [],
   "source": [
    "y_train_preds = sclf.predict(X_train)"
   ]
  },
  {
   "cell_type": "code",
   "execution_count": 17,
   "metadata": {},
   "outputs": [
    {
     "data": {
      "text/plain": [
       "array([[2370,  152],\n",
       "       [   0,   24]])"
      ]
     },
     "execution_count": 17,
     "metadata": {},
     "output_type": "execute_result"
    }
   ],
   "source": [
    "metrics.confusion_matrix(y_train, y_train_preds)"
   ]
  },
  {
   "cell_type": "code",
   "execution_count": 18,
   "metadata": {},
   "outputs": [],
   "source": [
    "X_test = test[used_cols]\n",
    "y_test = test[target]\n",
    "y_pred = sclf.predict(X_test)"
   ]
  },
  {
   "cell_type": "code",
   "execution_count": 19,
   "metadata": {},
   "outputs": [
    {
     "data": {
      "text/plain": [
       "array([[488,  36],\n",
       "       [  0,   5]])"
      ]
     },
     "execution_count": 19,
     "metadata": {},
     "output_type": "execute_result"
    }
   ],
   "source": [
    "metrics.confusion_matrix(y_test, y_pred)"
   ]
  },
  {
   "cell_type": "code",
   "execution_count": 20,
   "metadata": {},
   "outputs": [
    {
     "name": "stdout",
     "output_type": "stream",
     "text": [
      "Test set accuracy: 0.9319470699432892\n"
     ]
    }
   ],
   "source": [
    "print('Test set accuracy:', metrics.accuracy_score(y_test, y_pred))"
   ]
  },
  {
   "cell_type": "code",
   "execution_count": 21,
   "metadata": {},
   "outputs": [
    {
     "data": {
      "text/plain": [
       "array([0.124755, 0.124755, 0.124755, 0.124755, 0.124755])"
      ]
     },
     "execution_count": 21,
     "metadata": {},
     "output_type": "execute_result"
    }
   ],
   "source": [
    "y_pred = sclf.predict_proba(X_test)[:,1]\n",
    "y_pred[:5]"
   ]
  },
  {
   "cell_type": "code",
   "execution_count": 22,
   "metadata": {},
   "outputs": [
    {
     "data": {
      "image/png": "[encoded data removed]",
      "text/plain": [
       "<Figure size 432x288 with 1 Axes>"
      ]
     },
     "metadata": {
      "needs_background": "light"
     },
     "output_type": "display_data"
    }
   ],
   "source": [
    "sns.kdeplot(y_pred);"
   ]
  },
  {
   "cell_type": "code",
   "execution_count": 23,
   "metadata": {},
   "outputs": [
    {
     "data": {
      "text/plain": [
       "array([[496,  28],\n",
       "       [  0,   5]])"
      ]
     },
     "execution_count": 23,
     "metadata": {},
     "output_type": "execute_result"
    }
   ],
   "source": [
    "metrics.confusion_matrix(y_test, y_pred > .9235)"
   ]
  },
  {
   "cell_type": "code",
   "execution_count": 24,
   "metadata": {},
   "outputs": [
    {
     "data": {
      "image/png": "[encoded data removed]",
      "text/plain": [
       "<Figure size 1440x576 with 1 Axes>"
      ]
     },
     "metadata": {
      "needs_background": "light"
     },
     "output_type": "display_data"
    }
   ],
   "source": [
    "plt.figure(figsize=(20,8))\n",
    "plt.plot(y_test.values)\n",
    "plt.plot(y_pred)\n",
    "plt.tight_layout()\n",
    "plt.title('Stacked Model Predictions vs Actual Win Dates')\n",
    "plt.xlabel('Sample Number')\n",
    "plt.ylabel('Probability')\n",
    "plt.show()"
   ]
  },
  {
   "cell_type": "markdown",
   "metadata": {},
   "source": [
    "#### Stacked Model Using SVM Meta-Classifier"
   ]
  },
  {
   "cell_type": "code",
   "execution_count": 25,
   "metadata": {},
   "outputs": [],
   "source": [
    "# using SVM for meta-classifier\n",
    "X_train, y_train = train[used_cols].values, train[target].values\n",
    "target = 'winningDate'\n",
    "\n",
    "scaler = RobustScaler()\n",
    "binner = KBinsDiscretizer(n_bins=7, encode='ordinal')\n",
    "objectify = FunctionTransformer(func=stringify, check_inverse=False, validate=False)\n",
    "encoder = WOEEncoder()\n",
    "\n",
    "clf_lr = LogisticRegressionCV(class_weight='balanced',\n",
    "                              cv = TimeSeriesSplit(),\n",
    "                              solver = 'liblinear',\n",
    "                              n_jobs=-1,\n",
    "                              random_state=42)\n",
    "\n",
    "clf_svc = SVC(C = 1000,\n",
    "              kernel = 'linear',\n",
    "              gamma = 'auto',\n",
    "              class_weight='balanced',\n",
    "              random_state=42, probability=True)\n",
    "\n",
    "clf_tree = HistGradientBoostingClassifier(loss='auto',\n",
    "                                          random_state=42,\n",
    "                                          learning_rate=0.03,\n",
    "                                          max_iter=225,\n",
    "                                          max_leaf_nodes=2**2-1,\n",
    "                                          max_bins=150,\n",
    "                                          l2_regularization=0.82)\n",
    "\n",
    "lr_pipe_no_ma = make_pipeline(ColumnSelector(cols = (0, 1, 2, 3, 4, 7, 8, 9, 10, 13, 14, 16)),\n",
    "                              scaler, binner, objectify, encoder, clf_lr)\n",
    "\n",
    "svm_pipe_no_ma = make_pipeline(ColumnSelector(cols = (7, 8, 9, 10, 13, 15, 16)),\n",
    "                              scaler, clf_svc)\n",
    "\n",
    "sclf = StackingCVClassifier(classifiers=[lr_pipe_no_ma, svm_pipe_no_ma, clf_tree], \n",
    "                            meta_classifier=clf_svc,\n",
    "                            random_state=42)"
   ]
  },
  {
   "cell_type": "code",
   "execution_count": 26,
   "metadata": {},
   "outputs": [
    {
     "data": {
      "text/plain": [
       "StackingCVClassifier(classifiers=[Pipeline(memory=None,\n",
       "                                           steps=[('columnselector',\n",
       "                                                   ColumnSelector(cols=(0, 1, 2,\n",
       "                                                                        3, 4, 7,\n",
       "                                                                        8, 9,\n",
       "                                                                        10, 13,\n",
       "                                                                        14,\n",
       "                                                                        16),\n",
       "                                                                  drop_axis=False)),\n",
       "                                                  ('robustscaler',\n",
       "                                                   RobustScaler(copy=True,\n",
       "                                                                quantile_range=(25.0,\n",
       "                                                                                75.0),\n",
       "                                                                with_centering=True,\n",
       "                                                                with_scaling=True)),\n",
       "                                                  ('kbinsdiscretizer',\n",
       "                                                   KBinsDiscretizer(encode='ordinal',\n",
       "                                                                    n_bins=7,\n",
       "                                                                    strategy='quantile')),\n",
       "                                                  ('functiont...\n",
       "                                         class_weight='balanced', coef0=0.0,\n",
       "                                         decision_function_shape='ovr',\n",
       "                                         degree=3, gamma='auto',\n",
       "                                         kernel='linear', max_iter=-1,\n",
       "                                         probability=True, random_state=42,\n",
       "                                         shrinking=True, tol=0.001,\n",
       "                                         verbose=False),\n",
       "                     n_jobs=None, pre_dispatch='2*n_jobs', random_state=42,\n",
       "                     shuffle=True, store_train_meta_features=False,\n",
       "                     stratify=True, use_clones=True,\n",
       "                     use_features_in_secondary=False, use_probas=False,\n",
       "                     verbose=0)"
      ]
     },
     "execution_count": 26,
     "metadata": {},
     "output_type": "execute_result"
    }
   ],
   "source": [
    "sclf.fit(X_train, y_train)"
   ]
  },
  {
   "cell_type": "code",
   "execution_count": 27,
   "metadata": {},
   "outputs": [],
   "source": [
    "y_train_preds = sclf.predict(X_train)"
   ]
  },
  {
   "cell_type": "code",
   "execution_count": 28,
   "metadata": {},
   "outputs": [
    {
     "data": {
      "text/plain": [
       "array([[2370,  152],\n",
       "       [   0,   24]])"
      ]
     },
     "execution_count": 28,
     "metadata": {},
     "output_type": "execute_result"
    }
   ],
   "source": [
    "metrics.confusion_matrix(y_train, y_train_preds)"
   ]
  },
  {
   "cell_type": "code",
   "execution_count": 29,
   "metadata": {},
   "outputs": [],
   "source": [
    "X_test = test[used_cols]\n",
    "y_test = test[target]\n",
    "y_pred = sclf.predict(X_test)"
   ]
  },
  {
   "cell_type": "code",
   "execution_count": 30,
   "metadata": {},
   "outputs": [
    {
     "data": {
      "text/plain": [
       "array([[488,  36],\n",
       "       [  0,   5]])"
      ]
     },
     "execution_count": 30,
     "metadata": {},
     "output_type": "execute_result"
    }
   ],
   "source": [
    "metrics.confusion_matrix(y_test, y_pred)"
   ]
  },
  {
   "cell_type": "code",
   "execution_count": 31,
   "metadata": {},
   "outputs": [
    {
     "name": "stdout",
     "output_type": "stream",
     "text": [
      "Test set accuracy: 0.9319470699432892\n"
     ]
    }
   ],
   "source": [
    "print('Test set accuracy:', metrics.accuracy_score(y_test, y_pred))"
   ]
  },
  {
   "cell_type": "code",
   "execution_count": 32,
   "metadata": {},
   "outputs": [
    {
     "data": {
      "text/plain": [
       "array([0.00380051, 0.00380051, 0.00380051, 0.00380051, 0.00380051])"
      ]
     },
     "execution_count": 32,
     "metadata": {},
     "output_type": "execute_result"
    }
   ],
   "source": [
    "y_pred = sclf.predict_proba(X_test)[:,1]\n",
    "y_pred[:5]"
   ]
  },
  {
   "cell_type": "code",
   "execution_count": 33,
   "metadata": {},
   "outputs": [
    {
     "data": {
      "image/png": "[encoded data removed]",
      "text/plain": [
       "<Figure size 432x288 with 1 Axes>"
      ]
     },
     "metadata": {
      "needs_background": "light"
     },
     "output_type": "display_data"
    }
   ],
   "source": [
    "sns.kdeplot(y_pred);"
   ]
  },
  {
   "cell_type": "code",
   "execution_count": 34,
   "metadata": {},
   "outputs": [
    {
     "data": {
      "text/plain": [
       "array([[488,  36],\n",
       "       [  0,   5]])"
      ]
     },
     "execution_count": 34,
     "metadata": {},
     "output_type": "execute_result"
    }
   ],
   "source": [
    "metrics.confusion_matrix(y_test, y_pred > 0.004)"
   ]
  },
  {
   "cell_type": "code",
   "execution_count": 35,
   "metadata": {},
   "outputs": [
    {
     "data": {
      "image/png": "[encoded data removed]",
      "text/plain": [
       "<Figure size 1440x576 with 1 Axes>"
      ]
     },
     "metadata": {
      "needs_background": "light"
     },
     "output_type": "display_data"
    }
   ],
   "source": [
    "plt.figure(figsize=(20,8))\n",
    "plt.plot(y_test.values)\n",
    "plt.plot(y_pred)\n",
    "plt.tight_layout()\n",
    "plt.title('Stacked Model Predictions vs Actual Win Dates')\n",
    "plt.xlabel('Sample Number')\n",
    "plt.ylabel('Probability')\n",
    "plt.show()"
   ]
  },
  {
   "cell_type": "markdown",
   "metadata": {},
   "source": [
    "#### Stacked Model Using Random Forest w/LogReg Meta-Classifier"
   ]
  },
  {
   "cell_type": "code",
   "execution_count": 36,
   "metadata": {},
   "outputs": [],
   "source": [
    "# using logreg random forest for meta-classifier\n",
    "X_train, y_train = train[used_cols].values, train[target].values\n",
    "target = 'winningDate'\n",
    "\n",
    "scaler = RobustScaler()\n",
    "binner = KBinsDiscretizer(n_bins = 7, encode = 'ordinal')\n",
    "objectify = FunctionTransformer(func = stringify, check_inverse = False, validate = False)\n",
    "encoder = WOEEncoder()\n",
    "pca5 = KPCA(n_components = 5,\n",
    "           random_state = 42,\n",
    "           n_jobs = -1)\n",
    "\n",
    "rf = RandomForestClassifier(bootstrap = True,\n",
    "                            class_weight = 'balanced',\n",
    "                            criterion = 'entropy',\n",
    "                            max_depth = 6,\n",
    "                            max_features = 'sqrt',\n",
    "                            min_samples_leaf = 1,\n",
    "                            min_samples_split = 2,\n",
    "                            n_estimators = 60,\n",
    "                            n_jobs = -1, random_state = 42)\n",
    "\n",
    "rf_encoder = ForestEncoder(rf)\n",
    "\n",
    "clf_lr_meta = LogisticRegressionCV(class_weight = 'balanced',\n",
    "                                   cv = TimeSeriesSplit(),\n",
    "                                   solver = 'liblinear',\n",
    "                                   n_jobs = -1,\n",
    "                                   random_state = 42,\n",
    "                                   scoring = 'recall')\n",
    "\n",
    "clf_lr = LogisticRegressionCV(class_weight = 'balanced',\n",
    "                              cv = TimeSeriesSplit(),\n",
    "                              solver = 'liblinear',\n",
    "                              n_jobs = -1,\n",
    "                              random_state = 42)\n",
    "\n",
    "clf_svc = SVC(C = 1000,\n",
    "              kernel = 'linear',\n",
    "              gamma = 'auto',\n",
    "              class_weight = 'balanced',\n",
    "              random_state = 42, probability = True)\n",
    "\n",
    "clf_tree = HistGradientBoostingClassifier(loss='auto',\n",
    "                                          random_state = 42,\n",
    "                                          learning_rate = 0.03,\n",
    "                                          max_iter = 225,\n",
    "                                          max_leaf_nodes = 2**2-1,\n",
    "                                          max_bins = 150,\n",
    "                                          l2_regularization = 0.82)\n",
    "\n",
    "lr_pipe_no_ma = make_pipeline(ColumnSelector(cols = (0, 1, 2, 3, 4, 7, 8, 9, 10, 13, 14, 16)),\n",
    "                              scaler, binner, objectify, encoder, clf_lr)\n",
    "\n",
    "lr_pipe5 = make_pipeline(scaler, binner, objectify, encoder, pca5, clf_lr)\n",
    "\n",
    "svm_pipe_no_ma = make_pipeline(ColumnSelector(cols = (7, 8, 9, 10, 13, 15, 16)),\n",
    "                              scaler, clf_svc)\n",
    "\n",
    "meta_pipe = make_pipeline(rf_encoder, clf_lr_meta)\n",
    "\n",
    "sclf = StackingCVClassifier(classifiers = [lr_pipe_no_ma, lr_pipe5, svm_pipe_no_ma, clf_tree], \n",
    "                            meta_classifier = meta_pipe,\n",
    "                            random_state = 42)"
   ]
  },
  {
   "cell_type": "code",
   "execution_count": 37,
   "metadata": {},
   "outputs": [
    {
     "data": {
      "text/plain": [
       "StackingCVClassifier(classifiers=[Pipeline(memory=None,\n",
       "                                           steps=[('columnselector',\n",
       "                                                   ColumnSelector(cols=(0, 1, 2,\n",
       "                                                                        3, 4, 7,\n",
       "                                                                        8, 9,\n",
       "                                                                        10, 13,\n",
       "                                                                        14,\n",
       "                                                                        16),\n",
       "                                                                  drop_axis=False)),\n",
       "                                                  ('robustscaler',\n",
       "                                                   RobustScaler(copy=True,\n",
       "                                                                quantile_range=(25.0,\n",
       "                                                                                75.0),\n",
       "                                                                with_centering=True,\n",
       "                                                                with_scaling=True)),\n",
       "                                                  ('kbinsdiscretizer',\n",
       "                                                   KBinsDiscretizer(encode='ordinal',\n",
       "                                                                    n_bins=7,\n",
       "                                                                    strategy='quantile')),\n",
       "                                                  ('functiont...\n",
       "                                                                           l1_ratios=None,\n",
       "                                                                           max_iter=100,\n",
       "                                                                           multi_class='auto',\n",
       "                                                                           n_jobs=-1,\n",
       "                                                                           penalty='l2',\n",
       "                                                                           random_state=42,\n",
       "                                                                           refit=True,\n",
       "                                                                           scoring='recall',\n",
       "                                                                           solver='liblinear',\n",
       "                                                                           tol=0.0001,\n",
       "                                                                           verbose=0))],\n",
       "                                              verbose=False),\n",
       "                     n_jobs=None, pre_dispatch='2*n_jobs', random_state=42,\n",
       "                     shuffle=True, store_train_meta_features=False,\n",
       "                     stratify=True, use_clones=True,\n",
       "                     use_features_in_secondary=False, use_probas=False,\n",
       "                     verbose=0)"
      ]
     },
     "execution_count": 37,
     "metadata": {},
     "output_type": "execute_result"
    }
   ],
   "source": [
    "sclf.fit(X_train, y_train)"
   ]
  },
  {
   "cell_type": "code",
   "execution_count": 38,
   "metadata": {},
   "outputs": [],
   "source": [
    "y_train_preds = sclf.predict(X_train)"
   ]
  },
  {
   "cell_type": "code",
   "execution_count": 39,
   "metadata": {},
   "outputs": [
    {
     "data": {
      "text/plain": [
       "array([[2370,  152],\n",
       "       [   0,   24]])"
      ]
     },
     "execution_count": 39,
     "metadata": {},
     "output_type": "execute_result"
    }
   ],
   "source": [
    "metrics.confusion_matrix(y_train, y_train_preds)"
   ]
  },
  {
   "cell_type": "code",
   "execution_count": 40,
   "metadata": {},
   "outputs": [],
   "source": [
    "X_test = test[used_cols]\n",
    "y_test = test[target]\n",
    "y_pred = sclf.predict(X_test)"
   ]
  },
  {
   "cell_type": "code",
   "execution_count": 41,
   "metadata": {},
   "outputs": [
    {
     "data": {
      "text/plain": [
       "array([[488,  36],\n",
       "       [  0,   5]])"
      ]
     },
     "execution_count": 41,
     "metadata": {},
     "output_type": "execute_result"
    }
   ],
   "source": [
    "metrics.confusion_matrix(y_test, y_pred)"
   ]
  },
  {
   "cell_type": "code",
   "execution_count": 42,
   "metadata": {},
   "outputs": [
    {
     "name": "stdout",
     "output_type": "stream",
     "text": [
      "Test set accuracy: 0.9319470699432892\n"
     ]
    }
   ],
   "source": [
    "print('Test set accuracy:', metrics.accuracy_score(y_test, y_pred))"
   ]
  },
  {
   "cell_type": "code",
   "execution_count": 43,
   "metadata": {},
   "outputs": [
    {
     "data": {
      "text/plain": [
       "array([0.25165953, 0.25165953, 0.25165953, 0.25165953, 0.25165953])"
      ]
     },
     "execution_count": 43,
     "metadata": {},
     "output_type": "execute_result"
    }
   ],
   "source": [
    "y_pred = sclf.predict_proba(X_test)[:,1]\n",
    "y_pred[:5]"
   ]
  },
  {
   "cell_type": "code",
   "execution_count": 44,
   "metadata": {},
   "outputs": [
    {
     "data": {
      "image/png": "[encoded data removed]",
      "text/plain": [
       "<Figure size 432x288 with 1 Axes>"
      ]
     },
     "metadata": {
      "needs_background": "light"
     },
     "output_type": "display_data"
    }
   ],
   "source": [
    "sns.kdeplot(y_pred);"
   ]
  },
  {
   "cell_type": "code",
   "execution_count": 45,
   "metadata": {},
   "outputs": [
    {
     "data": {
      "text/plain": [
       "array([[492,  32],\n",
       "       [  0,   5]])"
      ]
     },
     "execution_count": 45,
     "metadata": {},
     "output_type": "execute_result"
    }
   ],
   "source": [
    "metrics.confusion_matrix(y_test, y_pred > 0.51)"
   ]
  },
  {
   "cell_type": "code",
   "execution_count": 46,
   "metadata": {},
   "outputs": [
    {
     "data": {
      "image/png": "[encoded data removed]",
      "text/plain": [
       "<Figure size 1440x576 with 1 Axes>"
      ]
     },
     "metadata": {
      "needs_background": "light"
     },
     "output_type": "display_data"
    }
   ],
   "source": [
    "plt.figure(figsize=(20,8))\n",
    "plt.plot(y_test.values)\n",
    "plt.plot(y_pred)\n",
    "plt.tight_layout()\n",
    "plt.title('Stacked Model Predictions vs Actual Win Dates')\n",
    "plt.xlabel('Sample Number')\n",
    "plt.ylabel('Probability')\n",
    "plt.show()"
   ]
  },
  {
   "cell_type": "code",
   "execution_count": null,
   "metadata": {},
   "outputs": [],
   "source": []
  }
 ],
 "metadata": {
  "kernelspec": {
   "display_name": "Python 3",
   "language": "python",
   "name": "python3"
  },
  "language_info": {
   "codemirror_mode": {
    "name": "ipython",
    "version": 3
   },
   "file_extension": ".py",
   "mimetype": "text/x-python",
   "name": "python",
   "nbconvert_exporter": "python",
   "pygments_lexer": "ipython3",
   "version": "3.6.9"
  }
 },
 "nbformat": 4,
 "nbformat_minor": 4
}
