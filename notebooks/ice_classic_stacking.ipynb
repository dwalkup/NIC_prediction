{
 "cells": [
  {
   "cell_type": "markdown",
   "metadata": {},
   "source": [
    "# Nenana Ice Classic - Model Stacking"
   ]
  },
  {
   "cell_type": "code",
   "execution_count": 44,
   "metadata": {},
   "outputs": [],
   "source": [
    "# imports\n",
    "\n",
    "import numpy as np\n",
    "import pandas as pd\n",
    "\n",
    "# plotting\n",
    "%matplotlib inline\n",
    "import matplotlib.pyplot as plt\n",
    "import seaborn as sns; sns.set()\n",
    "from mlxtend.plotting import plot_decision_regions\n",
    "\n",
    "# pipeline and preprocessing\n",
    "from sklearn.preprocessing import RobustScaler\n",
    "from sklearn.preprocessing import KBinsDiscretizer, FunctionTransformer\n",
    "from sklearn.pipeline import Pipeline, make_pipeline\n",
    "from category_encoders import WOEEncoder, OneHotEncoder\n",
    "from sklearn.decomposition import KernelPCA as KPCA\n",
    "from sklearn.model_selection import train_test_split\n",
    "from mlxtend.feature_selection import ColumnSelector\n",
    "\n",
    "# models\n",
    "from sklearn.linear_model import LogisticRegressionCV\n",
    "from sklearn.svm import SVC\n",
    "# from sklearn.tree import DecisionTreeClassifier\n",
    "from sklearn.ensemble import RandomForestClassifier, ExtraTreesClassifier\n",
    "from mlxtend.classifier import StackingCVClassifier\n",
    "from sklearn.experimental import enable_hist_gradient_boosting \n",
    "from sklearn.ensemble import HistGradientBoostingClassifier\n",
    "# evaluation\n",
    "from sklearn.model_selection import cross_val_score, TimeSeriesSplit, cross_validate, cross_val_predict\n",
    "from sklearn import metrics # metrics I used\n",
    "\n",
    "# Pretty Print to make some outputs easier to read\n",
    "import pprint\n",
    "\n",
    "# filter warnings\n",
    "import warnings\n",
    "warnings.filterwarnings(\"ignore\")\n",
    "\n",
    "import gc # garbage collection\n",
    "\n",
    "rng = np.random.RandomState(42)"
   ]
  },
  {
   "cell_type": "code",
   "execution_count": 2,
   "metadata": {},
   "outputs": [],
   "source": [
    "def stringify(data):\n",
    "    data = pd.DataFrame(data)\n",
    "    for c in data.columns.tolist():\n",
    "        data[c] = data[c].astype(str)\n",
    "    return data"
   ]
  },
  {
   "cell_type": "code",
   "execution_count": 3,
   "metadata": {},
   "outputs": [],
   "source": [
    "from sklearn.base import TransformerMixin\n",
    "\n",
    "\n",
    "class ForestEncoder(TransformerMixin):\n",
    "    \n",
    "    def __init__(self, forest):\n",
    "        self.forest = forest\n",
    "        self.n_trees = 1\n",
    "        try:\n",
    "            self.n_trees = self.forest.n_estimators\n",
    "        except:\n",
    "            pass\n",
    "        self.ohe = OneHotEncoder(cols=range(self.n_trees), use_cat_names=True)\n",
    "        \n",
    "    def fit(self, X, y=None):\n",
    "        self.forest.fit(X, y)\n",
    "#         self.ohe.fit(self.forest.apply(X)[:,:,0])\n",
    "        self.ohe.fit(self.forest.apply(X))\n",
    "        return self\n",
    "    \n",
    "    def transform(self, X, y=None):\n",
    "#         return self.ohe.transform(self.forest.apply(X)[:,:,0])\n",
    "        return self.ohe.transform(self.forest.apply(X))\n"
   ]
  },
  {
   "cell_type": "code",
   "execution_count": 4,
   "metadata": {},
   "outputs": [],
   "source": [
    "df = pd.read_csv('../data/features_added.csv')"
   ]
  },
  {
   "cell_type": "code",
   "execution_count": 5,
   "metadata": {},
   "outputs": [
    {
     "data": {
      "text/html": [
       "<div>\n",
       "<style scoped>\n",
       "    .dataframe tbody tr th:only-of-type {\n",
       "        vertical-align: middle;\n",
       "    }\n",
       "\n",
       "    .dataframe tbody tr th {\n",
       "        vertical-align: top;\n",
       "    }\n",
       "\n",
       "    .dataframe thead th {\n",
       "        text-align: right;\n",
       "    }\n",
       "</style>\n",
       "<table border=\"1\" class=\"dataframe\">\n",
       "  <thead>\n",
       "    <tr style=\"text-align: right;\">\n",
       "      <th></th>\n",
       "      <th>Date</th>\n",
       "      <th>moonPhase</th>\n",
       "      <th>humidity</th>\n",
       "      <th>windSpeed</th>\n",
       "      <th>windBearing</th>\n",
       "      <th>uvIndex</th>\n",
       "      <th>temperatureMin</th>\n",
       "      <th>temperatureMax</th>\n",
       "      <th>precipIntensity</th>\n",
       "      <th>precipAccumulation</th>\n",
       "      <th>...</th>\n",
       "      <th>numColdDays_MA-accel5</th>\n",
       "      <th>numColdDays_MA-std_dev5</th>\n",
       "      <th>numColdDays_MA7</th>\n",
       "      <th>numColdDays_MA-slope7</th>\n",
       "      <th>numColdDays_MA-accel7</th>\n",
       "      <th>numColdDays_MA-std_dev7</th>\n",
       "      <th>numColdDays_MA10</th>\n",
       "      <th>numColdDays_MA-slope10</th>\n",
       "      <th>numColdDays_MA-accel10</th>\n",
       "      <th>numColdDays_MA-std_dev10</th>\n",
       "    </tr>\n",
       "  </thead>\n",
       "  <tbody>\n",
       "    <tr>\n",
       "      <th>0</th>\n",
       "      <td>1989-03-01</td>\n",
       "      <td>0.80</td>\n",
       "      <td>0.70</td>\n",
       "      <td>8.42</td>\n",
       "      <td>236.0</td>\n",
       "      <td>1.0</td>\n",
       "      <td>20.58</td>\n",
       "      <td>29.65</td>\n",
       "      <td>0.0</td>\n",
       "      <td>0.0</td>\n",
       "      <td>...</td>\n",
       "      <td>NaN</td>\n",
       "      <td>NaN</td>\n",
       "      <td>NaN</td>\n",
       "      <td>NaN</td>\n",
       "      <td>NaN</td>\n",
       "      <td>NaN</td>\n",
       "      <td>NaN</td>\n",
       "      <td>NaN</td>\n",
       "      <td>NaN</td>\n",
       "      <td>NaN</td>\n",
       "    </tr>\n",
       "    <tr>\n",
       "      <th>1</th>\n",
       "      <td>1989-03-02</td>\n",
       "      <td>0.83</td>\n",
       "      <td>0.68</td>\n",
       "      <td>8.59</td>\n",
       "      <td>266.0</td>\n",
       "      <td>1.0</td>\n",
       "      <td>-7.38</td>\n",
       "      <td>29.07</td>\n",
       "      <td>0.0</td>\n",
       "      <td>0.0</td>\n",
       "      <td>...</td>\n",
       "      <td>NaN</td>\n",
       "      <td>NaN</td>\n",
       "      <td>NaN</td>\n",
       "      <td>NaN</td>\n",
       "      <td>NaN</td>\n",
       "      <td>NaN</td>\n",
       "      <td>NaN</td>\n",
       "      <td>NaN</td>\n",
       "      <td>NaN</td>\n",
       "      <td>NaN</td>\n",
       "    </tr>\n",
       "    <tr>\n",
       "      <th>2</th>\n",
       "      <td>1989-03-03</td>\n",
       "      <td>0.87</td>\n",
       "      <td>0.50</td>\n",
       "      <td>5.84</td>\n",
       "      <td>344.0</td>\n",
       "      <td>1.0</td>\n",
       "      <td>-19.23</td>\n",
       "      <td>1.84</td>\n",
       "      <td>0.0</td>\n",
       "      <td>0.0</td>\n",
       "      <td>...</td>\n",
       "      <td>NaN</td>\n",
       "      <td>NaN</td>\n",
       "      <td>NaN</td>\n",
       "      <td>NaN</td>\n",
       "      <td>NaN</td>\n",
       "      <td>NaN</td>\n",
       "      <td>NaN</td>\n",
       "      <td>NaN</td>\n",
       "      <td>NaN</td>\n",
       "      <td>NaN</td>\n",
       "    </tr>\n",
       "    <tr>\n",
       "      <th>3</th>\n",
       "      <td>1989-03-04</td>\n",
       "      <td>0.90</td>\n",
       "      <td>0.51</td>\n",
       "      <td>2.52</td>\n",
       "      <td>6.0</td>\n",
       "      <td>1.0</td>\n",
       "      <td>-30.34</td>\n",
       "      <td>4.69</td>\n",
       "      <td>0.0</td>\n",
       "      <td>0.0</td>\n",
       "      <td>...</td>\n",
       "      <td>NaN</td>\n",
       "      <td>NaN</td>\n",
       "      <td>NaN</td>\n",
       "      <td>NaN</td>\n",
       "      <td>NaN</td>\n",
       "      <td>NaN</td>\n",
       "      <td>NaN</td>\n",
       "      <td>NaN</td>\n",
       "      <td>NaN</td>\n",
       "      <td>NaN</td>\n",
       "    </tr>\n",
       "    <tr>\n",
       "      <th>4</th>\n",
       "      <td>1989-03-05</td>\n",
       "      <td>0.94</td>\n",
       "      <td>0.56</td>\n",
       "      <td>1.76</td>\n",
       "      <td>216.0</td>\n",
       "      <td>1.0</td>\n",
       "      <td>-38.53</td>\n",
       "      <td>0.74</td>\n",
       "      <td>0.0</td>\n",
       "      <td>0.0</td>\n",
       "      <td>...</td>\n",
       "      <td>0.714286</td>\n",
       "      <td>1.30384</td>\n",
       "      <td>NaN</td>\n",
       "      <td>NaN</td>\n",
       "      <td>NaN</td>\n",
       "      <td>NaN</td>\n",
       "      <td>NaN</td>\n",
       "      <td>NaN</td>\n",
       "      <td>NaN</td>\n",
       "      <td>NaN</td>\n",
       "    </tr>\n",
       "  </tbody>\n",
       "</table>\n",
       "<p>5 rows × 167 columns</p>\n",
       "</div>"
      ],
      "text/plain": [
       "         Date  moonPhase  humidity  windSpeed  windBearing  uvIndex  \\\n",
       "0  1989-03-01       0.80      0.70       8.42        236.0      1.0   \n",
       "1  1989-03-02       0.83      0.68       8.59        266.0      1.0   \n",
       "2  1989-03-03       0.87      0.50       5.84        344.0      1.0   \n",
       "3  1989-03-04       0.90      0.51       2.52          6.0      1.0   \n",
       "4  1989-03-05       0.94      0.56       1.76        216.0      1.0   \n",
       "\n",
       "   temperatureMin  temperatureMax  precipIntensity  precipAccumulation  ...  \\\n",
       "0           20.58           29.65              0.0                 0.0  ...   \n",
       "1           -7.38           29.07              0.0                 0.0  ...   \n",
       "2          -19.23            1.84              0.0                 0.0  ...   \n",
       "3          -30.34            4.69              0.0                 0.0  ...   \n",
       "4          -38.53            0.74              0.0                 0.0  ...   \n",
       "\n",
       "  numColdDays_MA-accel5  numColdDays_MA-std_dev5  numColdDays_MA7  \\\n",
       "0                   NaN                      NaN              NaN   \n",
       "1                   NaN                      NaN              NaN   \n",
       "2                   NaN                      NaN              NaN   \n",
       "3                   NaN                      NaN              NaN   \n",
       "4              0.714286                  1.30384              NaN   \n",
       "\n",
       "   numColdDays_MA-slope7  numColdDays_MA-accel7  numColdDays_MA-std_dev7  \\\n",
       "0                    NaN                    NaN                      NaN   \n",
       "1                    NaN                    NaN                      NaN   \n",
       "2                    NaN                    NaN                      NaN   \n",
       "3                    NaN                    NaN                      NaN   \n",
       "4                    NaN                    NaN                      NaN   \n",
       "\n",
       "   numColdDays_MA10  numColdDays_MA-slope10  numColdDays_MA-accel10  \\\n",
       "0               NaN                     NaN                     NaN   \n",
       "1               NaN                     NaN                     NaN   \n",
       "2               NaN                     NaN                     NaN   \n",
       "3               NaN                     NaN                     NaN   \n",
       "4               NaN                     NaN                     NaN   \n",
       "\n",
       "   numColdDays_MA-std_dev10  \n",
       "0                       NaN  \n",
       "1                       NaN  \n",
       "2                       NaN  \n",
       "3                       NaN  \n",
       "4                       NaN  \n",
       "\n",
       "[5 rows x 167 columns]"
      ]
     },
     "execution_count": 5,
     "metadata": {},
     "output_type": "execute_result"
    }
   ],
   "source": [
    "df.head()"
   ]
  },
  {
   "cell_type": "markdown",
   "metadata": {},
   "source": [
    "## Modeling"
   ]
  },
  {
   "cell_type": "markdown",
   "metadata": {},
   "source": [
    "#### How good does my model have to be?"
   ]
  },
  {
   "cell_type": "code",
   "execution_count": 6,
   "metadata": {},
   "outputs": [
    {
     "name": "stdout",
     "output_type": "stream",
     "text": [
      "Percentage of non-events:\n"
     ]
    },
    {
     "data": {
      "text/plain": [
       "0.9827072152653548"
      ]
     },
     "execution_count": 6,
     "metadata": {},
     "output_type": "execute_result"
    }
   ],
   "source": [
    "# the thing to beat: 0.9827072152653548\n",
    "print('Percentage of non-events:')\n",
    "1 - (df['winningDate'].sum()/df['winningDate'].count())"
   ]
  },
  {
   "cell_type": "markdown",
   "metadata": {},
   "source": [
    "#### Drop columns that are highly correlated\n",
    "* temperatureMin and temperatureMax information was captured in temperatureAvg\n",
    "* precipAccumulation information was captured in accumulatedSnow"
   ]
  },
  {
   "cell_type": "code",
   "execution_count": 7,
   "metadata": {},
   "outputs": [],
   "source": [
    "df.drop(columns = ['temperatureMin', 'temperatureMax', 'precipAccumulation'],\n",
    "        inplace = True)"
   ]
  },
  {
   "cell_type": "markdown",
   "metadata": {},
   "source": [
    "#### Create training and testing DataFrames"
   ]
  },
  {
   "cell_type": "code",
   "execution_count": 8,
   "metadata": {},
   "outputs": [],
   "source": [
    "train = df.loc[df['past'] == 1]\n",
    "train.drop(columns = ['past', 'future'], inplace = True)"
   ]
  },
  {
   "cell_type": "code",
   "execution_count": 9,
   "metadata": {},
   "outputs": [
    {
     "name": "stdout",
     "output_type": "stream",
     "text": [
      "<class 'pandas.core.frame.DataFrame'>\n",
      "Int64Index: 1399 entries, 0 to 1398\n",
      "Columns: 162 entries, Date to numColdDays_MA-std_dev10\n",
      "dtypes: float64(154), int64(6), object(2)\n",
      "memory usage: 1.7+ MB\n"
     ]
    }
   ],
   "source": [
    "train.info()"
   ]
  },
  {
   "cell_type": "code",
   "execution_count": 10,
   "metadata": {},
   "outputs": [],
   "source": [
    "test = df.loc[df['future'] == 1]\n",
    "test.drop(columns = ['past', 'future'], inplace = True)"
   ]
  },
  {
   "cell_type": "code",
   "execution_count": 11,
   "metadata": {},
   "outputs": [
    {
     "name": "stdout",
     "output_type": "stream",
     "text": [
      "<class 'pandas.core.frame.DataFrame'>\n",
      "Int64Index: 278 entries, 1399 to 1676\n",
      "Columns: 162 entries, Date to numColdDays_MA-std_dev10\n",
      "dtypes: float64(154), int64(6), object(2)\n",
      "memory usage: 354.0+ KB\n"
     ]
    }
   ],
   "source": [
    "test.info()"
   ]
  },
  {
   "cell_type": "code",
   "execution_count": 12,
   "metadata": {},
   "outputs": [
    {
     "data": {
      "text/plain": [
       "11"
      ]
     },
     "execution_count": 12,
     "metadata": {},
     "output_type": "execute_result"
    }
   ],
   "source": [
    "df.drop(columns = ['past', 'future'], inplace = True)\n",
    "gc.collect()"
   ]
  },
  {
   "cell_type": "code",
   "execution_count": 13,
   "metadata": {},
   "outputs": [],
   "source": [
    "# columns to exclude from models (dates and target info)\n",
    "exclude = ['winningTime', 'winningDate',  'Date']"
   ]
  },
  {
   "cell_type": "code",
   "execution_count": 14,
   "metadata": {},
   "outputs": [],
   "source": [
    "used_cols = [c for c in train.columns if c not in exclude]"
   ]
  },
  {
   "cell_type": "code",
   "execution_count": 15,
   "metadata": {},
   "outputs": [],
   "source": [
    "no_ma_cols = [c for c in df.columns.tolist() if not c.endswith(('3', '5', '7', '10'))]\n",
    "used_no_ma_cols = [c for c in no_ma_cols if c not in exclude]"
   ]
  },
  {
   "cell_type": "code",
   "execution_count": 16,
   "metadata": {},
   "outputs": [
    {
     "name": "stdout",
     "output_type": "stream",
     "text": [
      "['Date',\n",
      " 'moonPhase',\n",
      " 'humidity',\n",
      " 'windSpeed',\n",
      " 'windBearing',\n",
      " 'uvIndex',\n",
      " 'precipIntensity',\n",
      " 'winningTime',\n",
      " 'daylightHours',\n",
      " 'iceThickness',\n",
      " 'dayOfYear',\n",
      " 'winningDate',\n",
      " 'precip_rain',\n",
      " 'precip_snow',\n",
      " 'temperatureAvg',\n",
      " 'numHotDays',\n",
      " 'numColdDays',\n",
      " 'accumulatedSnow']\n",
      "['moonPhase',\n",
      " 'humidity',\n",
      " 'windSpeed',\n",
      " 'windBearing',\n",
      " 'uvIndex',\n",
      " 'precipIntensity',\n",
      " 'daylightHours',\n",
      " 'iceThickness',\n",
      " 'dayOfYear',\n",
      " 'precip_rain',\n",
      " 'precip_snow',\n",
      " 'temperatureAvg',\n",
      " 'numHotDays',\n",
      " 'numColdDays',\n",
      " 'accumulatedSnow']\n"
     ]
    }
   ],
   "source": [
    "pprint.pprint(no_ma_cols)\n",
    "pprint.pprint(used_no_ma_cols)"
   ]
  },
  {
   "cell_type": "code",
   "execution_count": 17,
   "metadata": {},
   "outputs": [],
   "source": [
    "train.dropna(inplace = True)"
   ]
  },
  {
   "cell_type": "code",
   "execution_count": 18,
   "metadata": {},
   "outputs": [],
   "source": [
    "test.dropna(inplace = True)"
   ]
  },
  {
   "cell_type": "code",
   "execution_count": 19,
   "metadata": {},
   "outputs": [],
   "source": [
    "target = 'winningDate'"
   ]
  },
  {
   "cell_type": "code",
   "execution_count": 20,
   "metadata": {},
   "outputs": [
    {
     "data": {
      "text/plain": [
       "0"
      ]
     },
     "execution_count": 20,
     "metadata": {},
     "output_type": "execute_result"
    }
   ],
   "source": [
    "gc.collect()"
   ]
  },
  {
   "cell_type": "markdown",
   "metadata": {},
   "source": [
    "* model stacking: http://rasbt.github.io/mlxtend/user_guide/classifier/StackingCVClassifier/"
   ]
  },
  {
   "cell_type": "markdown",
   "metadata": {},
   "source": [
    "---\n",
    "### Model Stacking"
   ]
  },
  {
   "cell_type": "markdown",
   "metadata": {},
   "source": [
    "#### Stacked Model Using LogReg Meta-Classifier"
   ]
  },
  {
   "cell_type": "code",
   "execution_count": 21,
   "metadata": {},
   "outputs": [
    {
     "name": "stdout",
     "output_type": "stream",
     "text": [
      "f1: nan +/- nan\n",
      "f1_weighted: nan +/- nan\n",
      "precision: nan +/- nan\n",
      "precision_weighted: nan +/- nan\n",
      "recall: nan +/- nan\n",
      "recall_weighted: nan +/- nan\n",
      "accuracy: nan +/- nan\n",
      "roc_auc: nan +/- nan\n"
     ]
    }
   ],
   "source": [
    "# using logreg for meta-classifier\n",
    "X_train, y_train = train[used_cols].values, train[target].values\n",
    "target = 'winningDate'\n",
    "\n",
    "scaler = RobustScaler()\n",
    "binner = KBinsDiscretizer(n_bins=7, encode='ordinal')\n",
    "objectify = FunctionTransformer(func=stringify, check_inverse=False, validate=False)\n",
    "encoder = WOEEncoder()\n",
    "pca5 = KPCA(n_components = 5,\n",
    "           random_state = 42,\n",
    "           n_jobs = -1)\n",
    "\n",
    "clf_lr = LogisticRegressionCV(class_weight='balanced',\n",
    "                              cv = TimeSeriesSplit(),\n",
    "                              solver = 'liblinear',\n",
    "                              n_jobs=-1,\n",
    "                              random_state=42)\n",
    "\n",
    "clf_svc = SVC(C = 1000,\n",
    "              kernel = 'linear',\n",
    "              gamma = 'auto',\n",
    "              class_weight='balanced',\n",
    "              random_state=42, probability=True)\n",
    "\n",
    "clf_tree = HistGradientBoostingClassifier(loss='auto',\n",
    "                                          random_state=42,\n",
    "                                          learning_rate=0.03,\n",
    "                                          max_iter=225,\n",
    "                                          max_leaf_nodes=2**2-1,\n",
    "                                          max_bins=150,\n",
    "                                          l2_regularization=0.82)\n",
    "\n",
    "lr_pipe_no_ma = make_pipeline(ColumnSelector(cols = (2, 6, 7, 8, 11, 23, 14)),\n",
    "                              scaler, binner, objectify, encoder, clf_lr)\n",
    "\n",
    "lr_pipe5 = make_pipeline(scaler, binner, objectify, encoder, pca5, clf_lr)\n",
    "\n",
    "svm_pipe_no_ma = make_pipeline(ColumnSelector(cols = (1, 2, 3, 4, 5, 6, 7, 8, 9, 10, 11, 12, 13, 14)),\n",
    "                              scaler, clf_svc)\n",
    "\n",
    "sclf = StackingCVClassifier(classifiers=[lr_pipe_no_ma, lr_pipe5, svm_pipe_no_ma, clf_tree], \n",
    "                            meta_classifier=clf_lr,\n",
    "                            random_state=42)\n",
    "\n",
    "scores = cross_validate(sclf, X_train, y_train, cv = TimeSeriesSplit(),\n",
    "                        scoring=['f1', 'f1_weighted', 'precision', 'precision_weighted',\n",
    "                                 'recall', 'recall_weighted', 'accuracy', 'roc_auc'])\n",
    "\n",
    "print('f1:', scores['test_f1'].mean(), '+/-', scores['test_f1'].std())\n",
    "print('f1_weighted:', scores['test_f1_weighted'].mean(), '+/-', scores['test_f1_weighted'].std())\n",
    "print('precision:', scores['test_precision'].mean(), '+/-', scores['test_precision'].std())\n",
    "print('precision_weighted:', scores['test_precision_weighted'].mean(), '+/-',\n",
    "      scores['test_precision_weighted'].std())\n",
    "print('recall:', scores['test_recall'].mean(), '+/-', scores['test_recall'].std())\n",
    "print('recall_weighted:', scores['test_recall_weighted'].mean(), '+/-',\n",
    "      scores['test_recall_weighted'].std())\n",
    "print('accuracy:', scores['test_accuracy'].mean(), '+/-',\n",
    "      scores['test_accuracy'].std())\n",
    "print('roc_auc:', scores['test_roc_auc'].mean(), '+/-', scores['test_roc_auc'].std())"
   ]
  },
  {
   "cell_type": "code",
   "execution_count": 22,
   "metadata": {},
   "outputs": [
    {
     "data": {
      "text/plain": [
       "StackingCVClassifier(classifiers=[Pipeline(memory=None,\n",
       "                                           steps=[('columnselector',\n",
       "                                                   ColumnSelector(cols=(2, 6, 7,\n",
       "                                                                        8, 11,\n",
       "                                                                        23,\n",
       "                                                                        14),\n",
       "                                                                  drop_axis=False)),\n",
       "                                                  ('robustscaler',\n",
       "                                                   RobustScaler(copy=True,\n",
       "                                                                quantile_range=(25.0,\n",
       "                                                                                75.0),\n",
       "                                                                with_centering=True,\n",
       "                                                                with_scaling=True)),\n",
       "                                                  ('kbinsdiscretizer',\n",
       "                                                   KBinsDiscretizer(encode='ordinal',\n",
       "                                                                    n_bins=7,\n",
       "                                                                    strategy='quantile')),\n",
       "                                                  ('functiontransformer'...\n",
       "                                                          intercept_scaling=1.0,\n",
       "                                                          l1_ratios=None,\n",
       "                                                          max_iter=100,\n",
       "                                                          multi_class='auto',\n",
       "                                                          n_jobs=-1,\n",
       "                                                          penalty='l2',\n",
       "                                                          random_state=42,\n",
       "                                                          refit=True,\n",
       "                                                          scoring=None,\n",
       "                                                          solver='liblinear',\n",
       "                                                          tol=0.0001,\n",
       "                                                          verbose=0),\n",
       "                     n_jobs=None, pre_dispatch='2*n_jobs', random_state=42,\n",
       "                     shuffle=True, store_train_meta_features=False,\n",
       "                     stratify=True, use_clones=True,\n",
       "                     use_features_in_secondary=False, use_probas=False,\n",
       "                     verbose=0)"
      ]
     },
     "execution_count": 22,
     "metadata": {},
     "output_type": "execute_result"
    }
   ],
   "source": [
    "sclf.fit(X_train, y_train)"
   ]
  },
  {
   "cell_type": "code",
   "execution_count": 23,
   "metadata": {},
   "outputs": [],
   "source": [
    "y_train_preds = sclf.predict(X_train)"
   ]
  },
  {
   "cell_type": "code",
   "execution_count": 24,
   "metadata": {},
   "outputs": [
    {
     "data": {
      "text/plain": [
       "array([[983, 176],\n",
       "       [  0,  24]])"
      ]
     },
     "execution_count": 24,
     "metadata": {},
     "output_type": "execute_result"
    }
   ],
   "source": [
    "metrics.confusion_matrix(y_train, y_train_preds)"
   ]
  },
  {
   "cell_type": "code",
   "execution_count": 25,
   "metadata": {},
   "outputs": [],
   "source": [
    "X_test = test[used_cols]\n",
    "y_test = test[target]\n",
    "y_pred = sclf.predict(X_test)"
   ]
  },
  {
   "cell_type": "code",
   "execution_count": 26,
   "metadata": {},
   "outputs": [
    {
     "data": {
      "text/plain": [
       "array([[198,  30],\n",
       "       [  1,   4]])"
      ]
     },
     "execution_count": 26,
     "metadata": {},
     "output_type": "execute_result"
    }
   ],
   "source": [
    "metrics.confusion_matrix(y_test, y_pred)"
   ]
  },
  {
   "cell_type": "code",
   "execution_count": 27,
   "metadata": {},
   "outputs": [
    {
     "name": "stdout",
     "output_type": "stream",
     "text": [
      "Test set accuracy: 0.8669527896995708\n",
      "Test set balanced_accuracy: 0.8342105263157895\n"
     ]
    }
   ],
   "source": [
    "print('Test set accuracy:', metrics.accuracy_score(y_test, y_pred))\n",
    "print('Test set balanced_accuracy:', metrics.balanced_accuracy_score(y_test, y_pred))"
   ]
  },
  {
   "cell_type": "markdown",
   "metadata": {},
   "source": [
    "lorem ipsum"
   ]
  },
  {
   "cell_type": "code",
   "execution_count": 28,
   "metadata": {},
   "outputs": [
    {
     "data": {
      "text/plain": [
       "array([0.06554374, 0.06554374, 0.06554374, 0.06554374, 0.06554374])"
      ]
     },
     "execution_count": 28,
     "metadata": {},
     "output_type": "execute_result"
    }
   ],
   "source": [
    "y_pred = sclf.predict_proba(X_test)[:,1]\n",
    "y_pred[:5]"
   ]
  },
  {
   "cell_type": "code",
   "execution_count": 29,
   "metadata": {},
   "outputs": [
    {
     "data": {
      "image/png": "[encoded data removed]",
      "text/plain": [
       "<Figure size 432x288 with 1 Axes>"
      ]
     },
     "metadata": {
      "needs_background": "light"
     },
     "output_type": "display_data"
    }
   ],
   "source": [
    "sns.kdeplot(y_pred);"
   ]
  },
  {
   "cell_type": "code",
   "execution_count": 30,
   "metadata": {},
   "outputs": [
    {
     "data": {
      "text/plain": [
       "array([[197,  31],\n",
       "       [  1,   4]])"
      ]
     },
     "execution_count": 30,
     "metadata": {},
     "output_type": "execute_result"
    }
   ],
   "source": [
    "metrics.confusion_matrix(y_test, y_pred > 0.0656)"
   ]
  },
  {
   "cell_type": "code",
   "execution_count": 31,
   "metadata": {},
   "outputs": [
    {
     "data": {
      "image/png": "[encoded data removed]",
      "text/plain": [
       "<Figure size 1440x576 with 1 Axes>"
      ]
     },
     "metadata": {
      "needs_background": "light"
     },
     "output_type": "display_data"
    }
   ],
   "source": [
    "plt.figure(figsize=(20,8))\n",
    "plt.plot(y_test.values)\n",
    "plt.plot(y_pred)\n",
    "plt.tight_layout()\n",
    "plt.title('Stacked Model Predictions vs Actual Win Dates')\n",
    "plt.xlabel('Sample Number')\n",
    "plt.ylabel('Probability')\n",
    "plt.show()"
   ]
  },
  {
   "cell_type": "markdown",
   "metadata": {},
   "source": [
    "#### Stacked Model Using SVM Meta-Classifier"
   ]
  },
  {
   "cell_type": "code",
   "execution_count": 32,
   "metadata": {},
   "outputs": [],
   "source": [
    "# using SVM for meta-classifier\n",
    "X_train, y_train = train[used_cols].values, train[target].values\n",
    "target = 'winningDate'\n",
    "\n",
    "scaler = RobustScaler()\n",
    "binner = KBinsDiscretizer(n_bins=7, encode='ordinal')\n",
    "objectify = FunctionTransformer(func=stringify, check_inverse=False, validate=False)\n",
    "encoder = WOEEncoder()\n",
    "pca5 = KPCA(n_components = 5,\n",
    "           random_state = 42,\n",
    "           n_jobs = -1)\n",
    "\n",
    "clf_lr = LogisticRegressionCV(class_weight='balanced',\n",
    "                              cv = TimeSeriesSplit(),\n",
    "                              solver = 'liblinear',\n",
    "                              n_jobs=-1,\n",
    "                              random_state=42)\n",
    "\n",
    "clf_svc = SVC(C = 1000,\n",
    "              kernel = 'linear',\n",
    "              gamma = 'auto',\n",
    "              class_weight='balanced',\n",
    "              random_state=42, probability=True)\n",
    "\n",
    "clf_tree = HistGradientBoostingClassifier(loss='auto',\n",
    "                                          random_state=42,\n",
    "                                          learning_rate=0.03,\n",
    "                                          max_iter=225,\n",
    "                                          max_leaf_nodes=2**2-1,\n",
    "                                          max_bins=150,\n",
    "                                          l2_regularization=0.82)\n",
    "\n",
    "lr_pipe_no_ma = make_pipeline(ColumnSelector(cols = (2, 6, 7, 8, 11, 23, 14)),\n",
    "                              scaler, binner, objectify, encoder, clf_lr)\n",
    "\n",
    "lr_pipe5 = make_pipeline(scaler, binner, objectify, encoder, pca5, clf_lr)\n",
    "\n",
    "svm_pipe_no_ma = make_pipeline(ColumnSelector(cols = (1, 2, 3, 4, 5, 6, 7, 8, 9, 10, 11, 12, 13, 14)),\n",
    "                              scaler, clf_svc)\n",
    "\n",
    "sclf = StackingCVClassifier(classifiers=[lr_pipe_no_ma, lr_pipe5, svm_pipe_no_ma, clf_tree], \n",
    "                            meta_classifier=clf_svc,\n",
    "                            random_state=42)"
   ]
  },
  {
   "cell_type": "code",
   "execution_count": 33,
   "metadata": {},
   "outputs": [
    {
     "data": {
      "text/plain": [
       "StackingCVClassifier(classifiers=[Pipeline(memory=None,\n",
       "                                           steps=[('columnselector',\n",
       "                                                   ColumnSelector(cols=(2, 6, 7,\n",
       "                                                                        8, 11,\n",
       "                                                                        23,\n",
       "                                                                        14),\n",
       "                                                                  drop_axis=False)),\n",
       "                                                  ('robustscaler',\n",
       "                                                   RobustScaler(copy=True,\n",
       "                                                                quantile_range=(25.0,\n",
       "                                                                                75.0),\n",
       "                                                                with_centering=True,\n",
       "                                                                with_scaling=True)),\n",
       "                                                  ('kbinsdiscretizer',\n",
       "                                                   KBinsDiscretizer(encode='ordinal',\n",
       "                                                                    n_bins=7,\n",
       "                                                                    strategy='quantile')),\n",
       "                                                  ('functiontransformer'...\n",
       "                                         class_weight='balanced', coef0=0.0,\n",
       "                                         decision_function_shape='ovr',\n",
       "                                         degree=3, gamma='auto',\n",
       "                                         kernel='linear', max_iter=-1,\n",
       "                                         probability=True, random_state=42,\n",
       "                                         shrinking=True, tol=0.001,\n",
       "                                         verbose=False),\n",
       "                     n_jobs=None, pre_dispatch='2*n_jobs', random_state=42,\n",
       "                     shuffle=True, store_train_meta_features=False,\n",
       "                     stratify=True, use_clones=True,\n",
       "                     use_features_in_secondary=False, use_probas=False,\n",
       "                     verbose=0)"
      ]
     },
     "execution_count": 33,
     "metadata": {},
     "output_type": "execute_result"
    }
   ],
   "source": [
    "sclf.fit(X_train, y_train)"
   ]
  },
  {
   "cell_type": "code",
   "execution_count": 34,
   "metadata": {},
   "outputs": [],
   "source": [
    "y_train_preds = sclf.predict(X_train)"
   ]
  },
  {
   "cell_type": "code",
   "execution_count": 35,
   "metadata": {},
   "outputs": [
    {
     "data": {
      "text/plain": [
       "array([[983, 176],\n",
       "       [  2,  22]])"
      ]
     },
     "execution_count": 35,
     "metadata": {},
     "output_type": "execute_result"
    }
   ],
   "source": [
    "metrics.confusion_matrix(y_train, y_train_preds)"
   ]
  },
  {
   "cell_type": "code",
   "execution_count": 36,
   "metadata": {},
   "outputs": [],
   "source": [
    "X_test = test[used_cols]\n",
    "y_test = test[target]\n",
    "# y_pred = sclf.predict_proba(X_test)[:,1] > 0.0525\n",
    "y_pred = sclf.predict(X_test)"
   ]
  },
  {
   "cell_type": "code",
   "execution_count": 37,
   "metadata": {},
   "outputs": [
    {
     "data": {
      "text/plain": [
       "array([[198,  30],\n",
       "       [  1,   4]])"
      ]
     },
     "execution_count": 37,
     "metadata": {},
     "output_type": "execute_result"
    }
   ],
   "source": [
    "metrics.confusion_matrix(y_test, y_pred)"
   ]
  },
  {
   "cell_type": "code",
   "execution_count": 38,
   "metadata": {},
   "outputs": [
    {
     "name": "stdout",
     "output_type": "stream",
     "text": [
      "Test set accuracy: 0.8669527896995708\n",
      "Test set balanced_accuracy: 0.8342105263157895\n"
     ]
    }
   ],
   "source": [
    "print('Test set accuracy:', metrics.accuracy_score(y_test, y_pred))\n",
    "print('Test set balanced_accuracy:', metrics.balanced_accuracy_score(y_test, y_pred))"
   ]
  },
  {
   "cell_type": "markdown",
   "metadata": {},
   "source": [
    "lorem ipsum"
   ]
  },
  {
   "cell_type": "code",
   "execution_count": 39,
   "metadata": {},
   "outputs": [
    {
     "data": {
      "text/plain": [
       "array([0.00820873, 0.00820873, 0.00820873, 0.00820873, 0.00820873])"
      ]
     },
     "execution_count": 39,
     "metadata": {},
     "output_type": "execute_result"
    }
   ],
   "source": [
    "y_pred = sclf.predict_proba(X_test)[:,1]\n",
    "y_pred[:5]"
   ]
  },
  {
   "cell_type": "code",
   "execution_count": 40,
   "metadata": {},
   "outputs": [
    {
     "data": {
      "image/png": "[encoded data removed]",
      "text/plain": [
       "<Figure size 432x288 with 1 Axes>"
      ]
     },
     "metadata": {
      "needs_background": "light"
     },
     "output_type": "display_data"
    }
   ],
   "source": [
    "sns.kdeplot(y_pred);"
   ]
  },
  {
   "cell_type": "code",
   "execution_count": 41,
   "metadata": {},
   "outputs": [
    {
     "data": {
      "text/plain": [
       "array([[211,  17],\n",
       "       [  2,   3]])"
      ]
     },
     "execution_count": 41,
     "metadata": {},
     "output_type": "execute_result"
    }
   ],
   "source": [
    "metrics.confusion_matrix(y_test, y_pred > 0.0656)"
   ]
  },
  {
   "cell_type": "code",
   "execution_count": 42,
   "metadata": {},
   "outputs": [
    {
     "data": {
      "image/png": "[encoded data removed]",
      "text/plain": [
       "<Figure size 1440x576 with 1 Axes>"
      ]
     },
     "metadata": {
      "needs_background": "light"
     },
     "output_type": "display_data"
    }
   ],
   "source": [
    "plt.figure(figsize=(20,8))\n",
    "plt.plot(y_test.values)\n",
    "plt.plot(y_pred)\n",
    "plt.tight_layout()\n",
    "plt.title('Stacked Model Predictions vs Actual Win Dates')\n",
    "plt.xlabel('Sample Number')\n",
    "plt.ylabel('Probability')\n",
    "plt.show()"
   ]
  },
  {
   "cell_type": "markdown",
   "metadata": {},
   "source": [
    "#### Stacked Model Using Random Forest w/LogReg Meta-Classifier"
   ]
  },
  {
   "cell_type": "code",
   "execution_count": 56,
   "metadata": {},
   "outputs": [],
   "source": [
    "# using logreg random forest for meta-classifier\n",
    "X_train, y_train = train[used_cols].values, train[target].values\n",
    "target = 'winningDate'\n",
    "\n",
    "scaler = RobustScaler()\n",
    "binner = KBinsDiscretizer(n_bins = 7, encode = 'ordinal')\n",
    "objectify = FunctionTransformer(func = stringify, check_inverse = False, validate = False)\n",
    "encoder = WOEEncoder()\n",
    "pca5 = KPCA(n_components = 5,\n",
    "           random_state = 42,\n",
    "           n_jobs = -1)\n",
    "\n",
    "rf = RandomForestClassifier(bootstrap = True,\n",
    "                            class_weight = 'balanced',\n",
    "                            criterion = 'entropy',\n",
    "                            max_depth = 6,\n",
    "                            max_features = 'sqrt',\n",
    "                            min_samples_leaf = 1,\n",
    "                            min_samples_split = 2,\n",
    "                            n_estimators = 60,\n",
    "                            n_jobs = -1, random_state = 42)\n",
    "\n",
    "rf_encoder = ForestEncoder(rf)\n",
    "\n",
    "clf_lr_meta = LogisticRegressionCV(class_weight = 'balanced',\n",
    "                                   cv = TimeSeriesSplit(),\n",
    "                                   solver = 'liblinear',\n",
    "                                   n_jobs = -1,\n",
    "                                   random_state = 42,\n",
    "                                   scoring = 'recall')\n",
    "\n",
    "clf_lr = LogisticRegressionCV(class_weight = 'balanced',\n",
    "                              cv = TimeSeriesSplit(),\n",
    "                              solver = 'liblinear',\n",
    "                              n_jobs = -1,\n",
    "                              random_state = 42)\n",
    "\n",
    "clf_svc = SVC(C = 1000,\n",
    "              kernel = 'linear',\n",
    "              gamma = 'auto',\n",
    "              class_weight = 'balanced',\n",
    "              random_state = 42, probability = True)\n",
    "\n",
    "clf_tree = HistGradientBoostingClassifier(loss='auto',\n",
    "                                          random_state = 42,\n",
    "                                          learning_rate = 0.03,\n",
    "                                          max_iter = 225,\n",
    "                                          max_leaf_nodes = 2**2-1,\n",
    "                                          max_bins = 150,\n",
    "                                          l2_regularization = 0.82)\n",
    "\n",
    "lr_pipe_no_ma = make_pipeline(ColumnSelector(cols = (2, 6, 7, 8, 11, 23, 14)),\n",
    "                              scaler, binner, objectify, encoder, clf_lr)\n",
    "\n",
    "lr_pipe5 = make_pipeline(scaler, binner, objectify, encoder, pca5, clf_lr)\n",
    "\n",
    "svm_pipe_no_ma = make_pipeline(ColumnSelector(cols = (1, 2, 3, 4, 5, 6, 7, 8, 9, 10, 11, 12, 13, 14)),\n",
    "                              scaler, clf_svc)\n",
    "\n",
    "meta_pipe = make_pipeline(rf_encoder, clf_lr_meta)\n",
    "\n",
    "sclf = StackingCVClassifier(classifiers = [lr_pipe_no_ma, lr_pipe5, svm_pipe_no_ma, clf_tree], \n",
    "                            meta_classifier = meta_pipe,\n",
    "                            random_state = 42)"
   ]
  },
  {
   "cell_type": "code",
   "execution_count": 57,
   "metadata": {},
   "outputs": [
    {
     "data": {
      "text/plain": [
       "StackingCVClassifier(classifiers=[Pipeline(memory=None,\n",
       "                                           steps=[('columnselector',\n",
       "                                                   ColumnSelector(cols=(2, 6, 7,\n",
       "                                                                        8, 11,\n",
       "                                                                        23,\n",
       "                                                                        14),\n",
       "                                                                  drop_axis=False)),\n",
       "                                                  ('robustscaler',\n",
       "                                                   RobustScaler(copy=True,\n",
       "                                                                quantile_range=(25.0,\n",
       "                                                                                75.0),\n",
       "                                                                with_centering=True,\n",
       "                                                                with_scaling=True)),\n",
       "                                                  ('kbinsdiscretizer',\n",
       "                                                   KBinsDiscretizer(encode='ordinal',\n",
       "                                                                    n_bins=7,\n",
       "                                                                    strategy='quantile')),\n",
       "                                                  ('functiontransformer'...\n",
       "                                                                           l1_ratios=None,\n",
       "                                                                           max_iter=100,\n",
       "                                                                           multi_class='auto',\n",
       "                                                                           n_jobs=-1,\n",
       "                                                                           penalty='l2',\n",
       "                                                                           random_state=42,\n",
       "                                                                           refit=True,\n",
       "                                                                           scoring=None,\n",
       "                                                                           solver='liblinear',\n",
       "                                                                           tol=0.0001,\n",
       "                                                                           verbose=0))],\n",
       "                                              verbose=False),\n",
       "                     n_jobs=None, pre_dispatch='2*n_jobs', random_state=42,\n",
       "                     shuffle=True, store_train_meta_features=False,\n",
       "                     stratify=True, use_clones=True,\n",
       "                     use_features_in_secondary=False, use_probas=False,\n",
       "                     verbose=0)"
      ]
     },
     "execution_count": 57,
     "metadata": {},
     "output_type": "execute_result"
    }
   ],
   "source": [
    "sclf.fit(X_train, y_train)"
   ]
  },
  {
   "cell_type": "code",
   "execution_count": 58,
   "metadata": {},
   "outputs": [],
   "source": [
    "y_train_preds = sclf.predict(X_train)"
   ]
  },
  {
   "cell_type": "code",
   "execution_count": 59,
   "metadata": {},
   "outputs": [
    {
     "data": {
      "text/plain": [
       "array([[1002,  157],\n",
       "       [   0,   24]])"
      ]
     },
     "execution_count": 59,
     "metadata": {},
     "output_type": "execute_result"
    }
   ],
   "source": [
    "metrics.confusion_matrix(y_train, y_train_preds)"
   ]
  },
  {
   "cell_type": "code",
   "execution_count": 60,
   "metadata": {},
   "outputs": [],
   "source": [
    "X_test = test[used_cols]\n",
    "y_test = test[target]\n",
    "# y_pred = sclf.predict_proba(X_test)[:,1] > 0.0525\n",
    "y_pred = sclf.predict(X_test)"
   ]
  },
  {
   "cell_type": "code",
   "execution_count": 61,
   "metadata": {},
   "outputs": [
    {
     "data": {
      "text/plain": [
       "array([[198,  30],\n",
       "       [  1,   4]])"
      ]
     },
     "execution_count": 61,
     "metadata": {},
     "output_type": "execute_result"
    }
   ],
   "source": [
    "metrics.confusion_matrix(y_test, y_pred)"
   ]
  },
  {
   "cell_type": "code",
   "execution_count": 62,
   "metadata": {},
   "outputs": [
    {
     "name": "stdout",
     "output_type": "stream",
     "text": [
      "Test set accuracy: 0.8669527896995708\n",
      "Test set balanced_accuracy: 0.8342105263157895\n"
     ]
    }
   ],
   "source": [
    "print('Test set accuracy:', metrics.accuracy_score(y_test, y_pred))\n",
    "print('Test set balanced_accuracy:', metrics.balanced_accuracy_score(y_test, y_pred))"
   ]
  },
  {
   "cell_type": "markdown",
   "metadata": {},
   "source": [
    "lorem ipsum"
   ]
  },
  {
   "cell_type": "code",
   "execution_count": 63,
   "metadata": {},
   "outputs": [
    {
     "data": {
      "text/plain": [
       "array([0.30280218, 0.30280218, 0.30280218, 0.30280218, 0.30280218])"
      ]
     },
     "execution_count": 63,
     "metadata": {},
     "output_type": "execute_result"
    }
   ],
   "source": [
    "y_pred = sclf.predict_proba(X_test)[:,1]\n",
    "y_pred[:5]"
   ]
  },
  {
   "cell_type": "code",
   "execution_count": 64,
   "metadata": {},
   "outputs": [
    {
     "data": {
      "image/png": "[encoded data removed]",
      "text/plain": [
       "<Figure size 432x288 with 1 Axes>"
      ]
     },
     "metadata": {},
     "output_type": "display_data"
    }
   ],
   "source": [
    "sns.kdeplot(y_pred);"
   ]
  },
  {
   "cell_type": "code",
   "execution_count": 65,
   "metadata": {},
   "outputs": [
    {
     "data": {
      "text/plain": [
       "array([[  0, 228],\n",
       "       [  0,   5]])"
      ]
     },
     "execution_count": 65,
     "metadata": {},
     "output_type": "execute_result"
    }
   ],
   "source": [
    "metrics.confusion_matrix(y_test, y_pred > 0.0656)"
   ]
  },
  {
   "cell_type": "code",
   "execution_count": 66,
   "metadata": {},
   "outputs": [
    {
     "data": {
      "image/png": "[encoded data removed]",
      "text/plain": [
       "<Figure size 1440x576 with 1 Axes>"
      ]
     },
     "metadata": {},
     "output_type": "display_data"
    }
   ],
   "source": [
    "plt.figure(figsize=(20,8))\n",
    "plt.plot(y_test.values)\n",
    "plt.plot(y_pred)\n",
    "plt.tight_layout()\n",
    "plt.title('Stacked Model Predictions vs Actual Win Dates')\n",
    "plt.xlabel('Sample Number')\n",
    "plt.ylabel('Probability')\n",
    "plt.show()"
   ]
  },
  {
   "cell_type": "code",
   "execution_count": null,
   "metadata": {},
   "outputs": [],
   "source": []
  }
 ],
 "metadata": {
  "kernelspec": {
   "display_name": "Python 3",
   "language": "python",
   "name": "python3"
  },
  "language_info": {
   "codemirror_mode": {
    "name": "ipython",
    "version": 3
   },
   "file_extension": ".py",
   "mimetype": "text/x-python",
   "name": "python",
   "nbconvert_exporter": "python",
   "pygments_lexer": "ipython3",
   "version": "3.6.9"
  }
 },
 "nbformat": 4,
 "nbformat_minor": 4
}
