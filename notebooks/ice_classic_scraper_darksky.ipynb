{
 "cells": [
  {
   "cell_type": "markdown",
   "metadata": {},
   "source": [
    "# Nenana Ice Classic Data Gathering - Weather Data\n",
    "This notebook was used for gathering the weather data used for this project.\n",
    "## Data Source\n",
    "* Weather information <a href = https://darksky.net/poweredby/>Powered By DarkSky</a>"
   ]
  },
  {
   "cell_type": "code",
   "execution_count": 1,
   "metadata": {},
   "outputs": [],
   "source": [
    "# imports\n",
    "import numpy as np\n",
    "import pandas as pd\n",
    "import requests\n",
    "import json\n",
    "import datetime as dt\n",
    "from bs4 import BeautifulSoup\n",
    "from selenium import webdriver\n",
    "from selenium.webdriver.chrome.options import Options\n",
    "import gc"
   ]
  },
  {
   "cell_type": "code",
   "execution_count": 2,
   "metadata": {},
   "outputs": [],
   "source": [
    "def get_keys(path):\n",
    "    with open(path) as f:\n",
    "        return json.load(f)\n",
    "\n",
    "keys = get_keys(\"/Users/davidwalkup/.secret/api_keys.json\")\n",
    "api_key = keys['darksky_api_key']"
   ]
  },
  {
   "cell_type": "code",
   "execution_count": 3,
   "metadata": {},
   "outputs": [],
   "source": [
    "# initialize year and date lists\n",
    "years_list = [year for year in range(1989, 2020)]\n",
    "months_list = [3, 4, 5]\n",
    "days_list = [day for day in range(1, 32)]"
   ]
  },
  {
   "cell_type": "code",
   "execution_count": 4,
   "metadata": {},
   "outputs": [],
   "source": [
    "# make date list\n",
    "# **TODO** fix this to use dt.date(year, month, day).isoformat()\n",
    "query_dates = []\n",
    "for year in years_list:\n",
    "    for month in months_list:\n",
    "        for day in days_list:\n",
    "            if len(str(day)) < 2:\n",
    "                temp_day = '0' + str(day)\n",
    "            else:\n",
    "                temp_day = str(day)\n",
    "            temp_date = str(year) + '-0' + str(month) + '-' + temp_day\n",
    "            if month == 4 and day < 31:\n",
    "                query_dates.append(temp_date)\n",
    "            elif month == 4:\n",
    "                pass\n",
    "            else:\n",
    "                query_dates.append(temp_date)"
   ]
  },
  {
   "cell_type": "code",
   "execution_count": 5,
   "metadata": {},
   "outputs": [
    {
     "data": {
      "text/plain": [
       "2852"
      ]
     },
     "execution_count": 5,
     "metadata": {},
     "output_type": "execute_result"
    }
   ],
   "source": [
    "len(query_dates)"
   ]
  },
  {
   "cell_type": "code",
   "execution_count": 6,
   "metadata": {},
   "outputs": [],
   "source": [
    "# delete unneeded variables and collect garbage\n",
    "# del years_list, months_list, days_list\n",
    "# gc.collect()"
   ]
  },
  {
   "cell_type": "code",
   "execution_count": 7,
   "metadata": {},
   "outputs": [],
   "source": [
    "#initialize weather_data dict\n",
    "weather_data = {}"
   ]
  },
  {
   "cell_type": "code",
   "execution_count": 8,
   "metadata": {},
   "outputs": [],
   "source": [
    "# define variable for Nenana, Alaska lat & long\n",
    "nenana_coords = '64.558056,-149.090556'"
   ]
  },
  {
   "cell_type": "code",
   "execution_count": 9,
   "metadata": {},
   "outputs": [
    {
     "data": {
      "text/plain": [
       "{'latitude': 64.558056,\n",
       " 'longitude': -149.090556,\n",
       " 'timezone': 'America/Anchorage',\n",
       " 'daily': {'data': [{'time': 1238659200,\n",
       "    'summary': 'Partly cloudy throughout the day.',\n",
       "    'icon': 'partly-cloudy-day',\n",
       "    'sunriseTime': 1238684940,\n",
       "    'sunsetTime': 1238734380,\n",
       "    'moonPhase': 0.27,\n",
       "    'precipIntensity': 0,\n",
       "    'precipIntensityMax': 0,\n",
       "    'precipProbability': 0,\n",
       "    'temperatureHigh': 24.72,\n",
       "    'temperatureHighTime': 1238726100,\n",
       "    'temperatureLow': -5.6,\n",
       "    'temperatureLowTime': 1238773740,\n",
       "    'apparentTemperatureHigh': 19.24,\n",
       "    'apparentTemperatureHighTime': 1238727360,\n",
       "    'apparentTemperatureLow': -5.11,\n",
       "    'apparentTemperatureLowTime': 1238773740,\n",
       "    'dewPoint': -4.96,\n",
       "    'humidity': 0.57,\n",
       "    'pressure': 1019.5,\n",
       "    'windSpeed': 2.97,\n",
       "    'windGust': 11.84,\n",
       "    'windGustTime': 1238706420,\n",
       "    'windBearing': 90,\n",
       "    'cloudCover': 0.39,\n",
       "    'uvIndex': 2,\n",
       "    'uvIndexTime': 1238706240,\n",
       "    'visibility': 9.997,\n",
       "    'temperatureMin': -12.43,\n",
       "    'temperatureMinTime': 1238681040,\n",
       "    'temperatureMax': 24.72,\n",
       "    'temperatureMaxTime': 1238726100,\n",
       "    'apparentTemperatureMin': -19.98,\n",
       "    'apparentTemperatureMinTime': 1238684760,\n",
       "    'apparentTemperatureMax': 20.02,\n",
       "    'apparentTemperatureMaxTime': 1238735040}]},\n",
       " 'offset': -8}"
      ]
     },
     "execution_count": 9,
     "metadata": {},
     "output_type": "execute_result"
    }
   ],
   "source": [
    "# test API call\n",
    "response = requests.get(f'https://api.darksky.net/forecast/{api_key}/{nenana_coords},2009-04-02T23:59:59?exclude=currently,hourly,minutely,alerts,flags')\n",
    "response.json()"
   ]
  },
  {
   "cell_type": "code",
   "execution_count": 10,
   "metadata": {},
   "outputs": [
    {
     "name": "stdout",
     "output_type": "stream",
     "text": [
      "CPU times: user 15 µs, sys: 21 µs, total: 36 µs\n",
      "Wall time: 58.9 µs\n"
     ]
    }
   ],
   "source": [
    "#get weather data from DarkSky for dates in query_dates\n",
    "%time\n",
    "for date in query_dates:\n",
    "    response = requests.get(f'https://api.darksky.net/forecast/{api_key}/{nenana_coords},{date}T23:59:59?exclude=currently,hourly,minutely,alerts,flags')\n",
    "    if response.status_code == requests.codes.ok:\n",
    "        weather_data[date] = response.json()\n",
    "    else:\n",
    "        print('Status returned: ' + str(response.status_code) + ' for date: ' + date)\n",
    "        break"
   ]
  },
  {
   "cell_type": "markdown",
   "metadata": {},
   "source": [
    "# Place Marker"
   ]
  },
  {
   "cell_type": "code",
   "execution_count": 11,
   "metadata": {},
   "outputs": [
    {
     "data": {
      "text/plain": [
       "2852"
      ]
     },
     "execution_count": 11,
     "metadata": {},
     "output_type": "execute_result"
    }
   ],
   "source": [
    "len(weather_data)"
   ]
  },
  {
   "cell_type": "code",
   "execution_count": 12,
   "metadata": {},
   "outputs": [],
   "source": [
    "# save weather data as a json file so I don't lose it when restarting the kernel\n",
    "with open('../data/weather_data_1989-2020.json', 'w') as fp:\n",
    "    json.dump(weather_data, fp)"
   ]
  },
  {
   "cell_type": "code",
   "execution_count": 13,
   "metadata": {},
   "outputs": [
    {
     "data": {
      "text/plain": [
       "{'latitude': 64.558056,\n",
       " 'longitude': -149.090556,\n",
       " 'timezone': 'America/Anchorage',\n",
       " 'daily': {'data': [{'time': 1559289600,\n",
       "    'summary': 'Light rain starting in the afternoon.',\n",
       "    'icon': 'rain',\n",
       "    'sunriseTime': 1559303220,\n",
       "    'sunsetTime': 1559376240,\n",
       "    'moonPhase': 0.92,\n",
       "    'precipIntensity': 0.0067,\n",
       "    'precipIntensityMax': 0.0279,\n",
       "    'precipIntensityMaxTime': 1559366340,\n",
       "    'precipProbability': 0.94,\n",
       "    'precipType': 'rain',\n",
       "    'temperatureHigh': 64.6,\n",
       "    'temperatureHighTime': 1559342880,\n",
       "    'temperatureLow': 51.41,\n",
       "    'temperatureLowTime': 1559396700,\n",
       "    'apparentTemperatureHigh': 64.1,\n",
       "    'apparentTemperatureHighTime': 1559342880,\n",
       "    'apparentTemperatureLow': 51.9,\n",
       "    'apparentTemperatureLowTime': 1559396700,\n",
       "    'dewPoint': 48.55,\n",
       "    'humidity': 0.69,\n",
       "    'pressure': 1005.3,\n",
       "    'windSpeed': 2.29,\n",
       "    'windGust': 8.64,\n",
       "    'windGustTime': 1559358000,\n",
       "    'windBearing': 343,\n",
       "    'cloudCover': 0.91,\n",
       "    'uvIndex': 3,\n",
       "    'uvIndexTime': 1559339460,\n",
       "    'visibility': 8.954,\n",
       "    'ozone': 346,\n",
       "    'temperatureMin': 53.73,\n",
       "    'temperatureMinTime': 1559372400,\n",
       "    'temperatureMax': 65.86,\n",
       "    'temperatureMaxTime': 1559289600,\n",
       "    'apparentTemperatureMin': 54.22,\n",
       "    'apparentTemperatureMinTime': 1559372400,\n",
       "    'apparentTemperatureMax': 65.36,\n",
       "    'apparentTemperatureMaxTime': 1559289600}]},\n",
       " 'offset': -8}"
      ]
     },
     "execution_count": 13,
     "metadata": {},
     "output_type": "execute_result"
    }
   ],
   "source": [
    "# read weather data from json file\n",
    "with open('../data/weather_data_1989-2020.json', 'r') as fp:\n",
    "    weather_data = json.load(fp)\n",
    "weather_data['2019-05-31']"
   ]
  },
  {
   "cell_type": "code",
   "execution_count": 14,
   "metadata": {},
   "outputs": [
    {
     "data": {
      "text/plain": [
       "'1989-03-01'"
      ]
     },
     "execution_count": 14,
     "metadata": {},
     "output_type": "execute_result"
    }
   ],
   "source": [
    "query_dates[0]"
   ]
  },
  {
   "cell_type": "code",
   "execution_count": null,
   "metadata": {},
   "outputs": [],
   "source": [
    "# this is to read the data from the .json file, if needed\n",
    "# temp_df = pd.read_json('weather_data_1989-2020.json',\n",
    "#                        orient = 'index')"
   ]
  },
  {
   "cell_type": "code",
   "execution_count": 26,
   "metadata": {},
   "outputs": [
    {
     "data": {
      "text/plain": [
       "2852"
      ]
     },
     "execution_count": 26,
     "metadata": {},
     "output_type": "execute_result"
    }
   ],
   "source": [
    "len(weather_data)"
   ]
  },
  {
   "cell_type": "code",
   "execution_count": 30,
   "metadata": {},
   "outputs": [
    {
     "data": {
      "text/plain": [
       "{'latitude': 64.558056,\n",
       " 'longitude': -149.090556,\n",
       " 'timezone': 'America/Anchorage',\n",
       " 'offset': -8}"
      ]
     },
     "execution_count": 30,
     "metadata": {},
     "output_type": "execute_result"
    }
   ],
   "source": [
    "weather_data['1989-04-07']"
   ]
  },
  {
   "cell_type": "code",
   "execution_count": 32,
   "metadata": {},
   "outputs": [],
   "source": [
    "weather_dict = {}\n",
    "missing_daily_data = []\n",
    "for k in weather_data:\n",
    "    if 'daily' in weather_data[k]:\n",
    "        weather_dict[k] = weather_data[k]['daily']['data'][0]\n",
    "    else:\n",
    "        missing_daily_data.append(k)"
   ]
  },
  {
   "cell_type": "code",
   "execution_count": 34,
   "metadata": {},
   "outputs": [
    {
     "name": "stdout",
     "output_type": "stream",
     "text": [
      "weather dict length: 2679 \n",
      "# of missing entries: 173\n"
     ]
    }
   ],
   "source": [
    "print('weather dict length:', len(weather_dict), '\\n# of missing entries:', len(missing_daily_data))"
   ]
  },
  {
   "cell_type": "code",
   "execution_count": 36,
   "metadata": {},
   "outputs": [
    {
     "data": {
      "text/plain": [
       "['1989-04-07',\n",
       " '1989-04-14',\n",
       " '1989-04-15',\n",
       " '1989-04-16',\n",
       " '1989-04-18',\n",
       " '1989-04-19',\n",
       " '1989-04-20',\n",
       " '1989-04-21',\n",
       " '1989-04-22',\n",
       " '1989-04-23',\n",
       " '1989-04-24',\n",
       " '1989-04-26',\n",
       " '1990-05-12',\n",
       " '1990-05-13',\n",
       " '1991-03-31',\n",
       " '1991-04-04',\n",
       " '1991-04-26',\n",
       " '1992-03-01',\n",
       " '1993-03-23',\n",
       " '1993-03-24',\n",
       " '1994-05-06',\n",
       " '1995-03-29',\n",
       " '1995-03-30',\n",
       " '1995-03-31',\n",
       " '1995-04-01',\n",
       " '1995-04-02',\n",
       " '1995-04-03',\n",
       " '1995-04-04',\n",
       " '1995-04-06',\n",
       " '1995-04-07',\n",
       " '1995-04-08',\n",
       " '1995-04-09',\n",
       " '1995-04-10',\n",
       " '1995-04-11',\n",
       " '1995-04-13',\n",
       " '1995-04-14',\n",
       " '1995-04-16',\n",
       " '1995-04-17',\n",
       " '1995-04-18',\n",
       " '1995-04-19',\n",
       " '1995-04-20',\n",
       " '1995-04-21',\n",
       " '1995-04-22',\n",
       " '1995-04-23',\n",
       " '1995-04-24',\n",
       " '1995-04-25',\n",
       " '1995-04-26',\n",
       " '1995-04-27',\n",
       " '1995-04-28',\n",
       " '1995-04-29',\n",
       " '1995-04-30',\n",
       " '1995-05-01',\n",
       " '1995-05-02',\n",
       " '1995-05-03',\n",
       " '1995-05-04',\n",
       " '1995-05-05',\n",
       " '1995-05-06',\n",
       " '1995-05-07',\n",
       " '1995-05-08',\n",
       " '1995-05-09',\n",
       " '1995-05-10',\n",
       " '1995-05-11',\n",
       " '1995-05-12',\n",
       " '1995-05-13',\n",
       " '1995-05-14',\n",
       " '1995-05-17',\n",
       " '1995-05-19',\n",
       " '1995-05-20',\n",
       " '1995-05-21',\n",
       " '1995-05-22',\n",
       " '1995-05-23',\n",
       " '1995-05-25',\n",
       " '1995-05-26',\n",
       " '1995-05-27',\n",
       " '1995-05-28',\n",
       " '1995-05-29',\n",
       " '1995-05-30',\n",
       " '1996-03-01',\n",
       " '1996-03-02',\n",
       " '1996-03-03',\n",
       " '1996-03-05',\n",
       " '1996-03-06',\n",
       " '1996-03-07',\n",
       " '1996-03-08',\n",
       " '1996-03-10',\n",
       " '1996-03-11',\n",
       " '1996-03-12',\n",
       " '1996-03-13',\n",
       " '1996-03-14',\n",
       " '1996-03-15',\n",
       " '1996-03-16',\n",
       " '1996-03-17',\n",
       " '1996-03-18',\n",
       " '1996-03-22',\n",
       " '1996-03-23',\n",
       " '1996-03-24',\n",
       " '1996-03-25',\n",
       " '1996-03-27',\n",
       " '1996-03-28',\n",
       " '1996-03-31',\n",
       " '1996-04-01',\n",
       " '1996-04-02',\n",
       " '1996-04-03',\n",
       " '1996-04-05',\n",
       " '1996-04-06',\n",
       " '1996-04-07',\n",
       " '1996-04-08',\n",
       " '1996-04-09',\n",
       " '1996-04-10',\n",
       " '1996-04-11',\n",
       " '1996-04-12',\n",
       " '1996-04-14',\n",
       " '1996-04-15',\n",
       " '1996-04-16',\n",
       " '1996-04-17',\n",
       " '1996-04-18',\n",
       " '1996-04-19',\n",
       " '1996-04-21',\n",
       " '1996-04-22',\n",
       " '1996-04-23',\n",
       " '1996-04-24',\n",
       " '1996-04-25',\n",
       " '1996-04-27',\n",
       " '1996-04-28',\n",
       " '1999-04-01',\n",
       " '1999-04-05',\n",
       " '1999-04-15',\n",
       " '1999-04-16',\n",
       " '1999-04-17',\n",
       " '1999-04-18',\n",
       " '1999-04-19',\n",
       " '1999-04-20',\n",
       " '1999-04-21',\n",
       " '1999-04-22',\n",
       " '1999-04-23',\n",
       " '1999-04-24',\n",
       " '1999-04-25',\n",
       " '1999-04-26',\n",
       " '1999-04-27',\n",
       " '1999-04-28',\n",
       " '1999-04-29',\n",
       " '1999-04-30',\n",
       " '1999-05-01',\n",
       " '1999-05-02',\n",
       " '1999-05-03',\n",
       " '1999-05-04',\n",
       " '1999-05-05',\n",
       " '1999-05-06',\n",
       " '1999-05-07',\n",
       " '1999-05-08',\n",
       " '1999-05-09',\n",
       " '1999-05-10',\n",
       " '2002-03-01',\n",
       " '2002-03-04',\n",
       " '2002-03-28',\n",
       " '2002-03-29',\n",
       " '2002-03-30',\n",
       " '2002-03-31',\n",
       " '2003-03-22',\n",
       " '2003-03-23',\n",
       " '2003-03-24',\n",
       " '2003-03-25',\n",
       " '2003-03-26',\n",
       " '2003-03-27',\n",
       " '2003-03-28',\n",
       " '2003-03-29',\n",
       " '2003-03-30',\n",
       " '2003-03-31',\n",
       " '2003-04-01',\n",
       " '2003-04-02',\n",
       " '2003-04-03',\n",
       " '2003-04-04',\n",
       " '2003-04-06']"
      ]
     },
     "execution_count": 36,
     "metadata": {},
     "output_type": "execute_result"
    }
   ],
   "source": [
    "missing_daily_data"
   ]
  },
  {
   "cell_type": "code",
   "execution_count": 37,
   "metadata": {},
   "outputs": [],
   "source": [
    "weather_df = pd.DataFrame.from_dict(weather_dict).T"
   ]
  },
  {
   "cell_type": "code",
   "execution_count": 38,
   "metadata": {},
   "outputs": [
    {
     "data": {
      "text/html": [
       "<div>\n",
       "<style scoped>\n",
       "    .dataframe tbody tr th:only-of-type {\n",
       "        vertical-align: middle;\n",
       "    }\n",
       "\n",
       "    .dataframe tbody tr th {\n",
       "        vertical-align: top;\n",
       "    }\n",
       "\n",
       "    .dataframe thead th {\n",
       "        text-align: right;\n",
       "    }\n",
       "</style>\n",
       "<table border=\"1\" class=\"dataframe\">\n",
       "  <thead>\n",
       "    <tr style=\"text-align: right;\">\n",
       "      <th></th>\n",
       "      <th>time</th>\n",
       "      <th>sunriseTime</th>\n",
       "      <th>sunsetTime</th>\n",
       "      <th>moonPhase</th>\n",
       "      <th>temperatureHigh</th>\n",
       "      <th>temperatureHighTime</th>\n",
       "      <th>temperatureLow</th>\n",
       "      <th>temperatureLowTime</th>\n",
       "      <th>apparentTemperatureHigh</th>\n",
       "      <th>apparentTemperatureHighTime</th>\n",
       "      <th>...</th>\n",
       "      <th>windGust</th>\n",
       "      <th>windGustTime</th>\n",
       "      <th>icon</th>\n",
       "      <th>precipIntensity</th>\n",
       "      <th>precipIntensityMax</th>\n",
       "      <th>precipIntensityMaxTime</th>\n",
       "      <th>precipProbability</th>\n",
       "      <th>precipAccumulation</th>\n",
       "      <th>summary</th>\n",
       "      <th>ozone</th>\n",
       "    </tr>\n",
       "  </thead>\n",
       "  <tbody>\n",
       "    <tr>\n",
       "      <th>1989-03-01</th>\n",
       "      <td>6.04746e+08</td>\n",
       "      <td>6.04775e+08</td>\n",
       "      <td>6.04812e+08</td>\n",
       "      <td>0.8</td>\n",
       "      <td>29.65</td>\n",
       "      <td>6.04814e+08</td>\n",
       "      <td>6.68</td>\n",
       "      <td>6.04861e+08</td>\n",
       "      <td>20.64</td>\n",
       "      <td>6.04814e+08</td>\n",
       "      <td>...</td>\n",
       "      <td>NaN</td>\n",
       "      <td>NaN</td>\n",
       "      <td>NaN</td>\n",
       "      <td>NaN</td>\n",
       "      <td>NaN</td>\n",
       "      <td>NaN</td>\n",
       "      <td>NaN</td>\n",
       "      <td>NaN</td>\n",
       "      <td>NaN</td>\n",
       "      <td>NaN</td>\n",
       "    </tr>\n",
       "    <tr>\n",
       "      <th>1989-03-02</th>\n",
       "      <td>6.04832e+08</td>\n",
       "      <td>6.04861e+08</td>\n",
       "      <td>6.04898e+08</td>\n",
       "      <td>0.83</td>\n",
       "      <td>11.69</td>\n",
       "      <td>6.04858e+08</td>\n",
       "      <td>-15.29</td>\n",
       "      <td>6.04926e+08</td>\n",
       "      <td>-0.54</td>\n",
       "      <td>6.04858e+08</td>\n",
       "      <td>...</td>\n",
       "      <td>NaN</td>\n",
       "      <td>NaN</td>\n",
       "      <td>NaN</td>\n",
       "      <td>NaN</td>\n",
       "      <td>NaN</td>\n",
       "      <td>NaN</td>\n",
       "      <td>NaN</td>\n",
       "      <td>NaN</td>\n",
       "      <td>NaN</td>\n",
       "      <td>NaN</td>\n",
       "    </tr>\n",
       "    <tr>\n",
       "      <th>1989-03-03</th>\n",
       "      <td>6.04919e+08</td>\n",
       "      <td>6.04947e+08</td>\n",
       "      <td>6.04985e+08</td>\n",
       "      <td>0.87</td>\n",
       "      <td>1.84</td>\n",
       "      <td>6.0497e+08</td>\n",
       "      <td>-26.23</td>\n",
       "      <td>6.05034e+08</td>\n",
       "      <td>-5.72</td>\n",
       "      <td>6.04958e+08</td>\n",
       "      <td>...</td>\n",
       "      <td>NaN</td>\n",
       "      <td>NaN</td>\n",
       "      <td>NaN</td>\n",
       "      <td>NaN</td>\n",
       "      <td>NaN</td>\n",
       "      <td>NaN</td>\n",
       "      <td>NaN</td>\n",
       "      <td>NaN</td>\n",
       "      <td>NaN</td>\n",
       "      <td>NaN</td>\n",
       "    </tr>\n",
       "    <tr>\n",
       "      <th>1989-03-04</th>\n",
       "      <td>6.05005e+08</td>\n",
       "      <td>6.05034e+08</td>\n",
       "      <td>6.05072e+08</td>\n",
       "      <td>0.9</td>\n",
       "      <td>4.69</td>\n",
       "      <td>6.05063e+08</td>\n",
       "      <td>-38.53</td>\n",
       "      <td>6.05119e+08</td>\n",
       "      <td>4.47</td>\n",
       "      <td>6.05062e+08</td>\n",
       "      <td>...</td>\n",
       "      <td>NaN</td>\n",
       "      <td>NaN</td>\n",
       "      <td>NaN</td>\n",
       "      <td>NaN</td>\n",
       "      <td>NaN</td>\n",
       "      <td>NaN</td>\n",
       "      <td>NaN</td>\n",
       "      <td>NaN</td>\n",
       "      <td>NaN</td>\n",
       "      <td>NaN</td>\n",
       "    </tr>\n",
       "    <tr>\n",
       "      <th>1989-03-05</th>\n",
       "      <td>6.05092e+08</td>\n",
       "      <td>6.0512e+08</td>\n",
       "      <td>6.05158e+08</td>\n",
       "      <td>0.94</td>\n",
       "      <td>0.74</td>\n",
       "      <td>6.05149e+08</td>\n",
       "      <td>-27.43</td>\n",
       "      <td>6.05189e+08</td>\n",
       "      <td>0.23</td>\n",
       "      <td>6.05149e+08</td>\n",
       "      <td>...</td>\n",
       "      <td>NaN</td>\n",
       "      <td>NaN</td>\n",
       "      <td>NaN</td>\n",
       "      <td>NaN</td>\n",
       "      <td>NaN</td>\n",
       "      <td>NaN</td>\n",
       "      <td>NaN</td>\n",
       "      <td>NaN</td>\n",
       "      <td>NaN</td>\n",
       "      <td>NaN</td>\n",
       "    </tr>\n",
       "  </tbody>\n",
       "</table>\n",
       "<p>5 rows × 40 columns</p>\n",
       "</div>"
      ],
      "text/plain": [
       "                   time  sunriseTime   sunsetTime moonPhase temperatureHigh  \\\n",
       "1989-03-01  6.04746e+08  6.04775e+08  6.04812e+08       0.8           29.65   \n",
       "1989-03-02  6.04832e+08  6.04861e+08  6.04898e+08      0.83           11.69   \n",
       "1989-03-03  6.04919e+08  6.04947e+08  6.04985e+08      0.87            1.84   \n",
       "1989-03-04  6.05005e+08  6.05034e+08  6.05072e+08       0.9            4.69   \n",
       "1989-03-05  6.05092e+08   6.0512e+08  6.05158e+08      0.94            0.74   \n",
       "\n",
       "           temperatureHighTime temperatureLow temperatureLowTime  \\\n",
       "1989-03-01         6.04814e+08           6.68        6.04861e+08   \n",
       "1989-03-02         6.04858e+08         -15.29        6.04926e+08   \n",
       "1989-03-03          6.0497e+08         -26.23        6.05034e+08   \n",
       "1989-03-04         6.05063e+08         -38.53        6.05119e+08   \n",
       "1989-03-05         6.05149e+08         -27.43        6.05189e+08   \n",
       "\n",
       "           apparentTemperatureHigh apparentTemperatureHighTime  ... windGust  \\\n",
       "1989-03-01                   20.64                 6.04814e+08  ...      NaN   \n",
       "1989-03-02                   -0.54                 6.04858e+08  ...      NaN   \n",
       "1989-03-03                   -5.72                 6.04958e+08  ...      NaN   \n",
       "1989-03-04                    4.47                 6.05062e+08  ...      NaN   \n",
       "1989-03-05                    0.23                 6.05149e+08  ...      NaN   \n",
       "\n",
       "           windGustTime icon precipIntensity precipIntensityMax  \\\n",
       "1989-03-01          NaN  NaN             NaN                NaN   \n",
       "1989-03-02          NaN  NaN             NaN                NaN   \n",
       "1989-03-03          NaN  NaN             NaN                NaN   \n",
       "1989-03-04          NaN  NaN             NaN                NaN   \n",
       "1989-03-05          NaN  NaN             NaN                NaN   \n",
       "\n",
       "           precipIntensityMaxTime precipProbability precipAccumulation  \\\n",
       "1989-03-01                    NaN               NaN                NaN   \n",
       "1989-03-02                    NaN               NaN                NaN   \n",
       "1989-03-03                    NaN               NaN                NaN   \n",
       "1989-03-04                    NaN               NaN                NaN   \n",
       "1989-03-05                    NaN               NaN                NaN   \n",
       "\n",
       "           summary ozone  \n",
       "1989-03-01     NaN   NaN  \n",
       "1989-03-02     NaN   NaN  \n",
       "1989-03-03     NaN   NaN  \n",
       "1989-03-04     NaN   NaN  \n",
       "1989-03-05     NaN   NaN  \n",
       "\n",
       "[5 rows x 40 columns]"
      ]
     },
     "execution_count": 38,
     "metadata": {},
     "output_type": "execute_result"
    }
   ],
   "source": [
    "weather_df.head()"
   ]
  },
  {
   "cell_type": "code",
   "execution_count": 39,
   "metadata": {},
   "outputs": [
    {
     "data": {
      "text/plain": [
       "(2679, 40)"
      ]
     },
     "execution_count": 39,
     "metadata": {},
     "output_type": "execute_result"
    }
   ],
   "source": [
    "weather_df.shape"
   ]
  },
  {
   "cell_type": "code",
   "execution_count": 40,
   "metadata": {},
   "outputs": [],
   "source": [
    "weather_df.to_csv('../data/raw_weather_1989-2020.csv', index_label = 'Date')"
   ]
  },
  {
   "cell_type": "code",
   "execution_count": null,
   "metadata": {},
   "outputs": [],
   "source": []
  }
 ],
 "metadata": {
  "kernelspec": {
   "display_name": "Python 3",
   "language": "python",
   "name": "python3"
  },
  "language_info": {
   "codemirror_mode": {
    "name": "ipython",
    "version": 3
   },
   "file_extension": ".py",
   "mimetype": "text/x-python",
   "name": "python",
   "nbconvert_exporter": "python",
   "pygments_lexer": "ipython3",
   "version": "3.6.9"
  }
 },
 "nbformat": 4,
 "nbformat_minor": 4
}
