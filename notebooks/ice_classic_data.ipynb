{
 "cells": [
  {
   "cell_type": "markdown",
   "metadata": {},
   "source": [
    "# Nenana Ice Classic Data Processing\n",
    "This notebook was used to process the data gathered for this project."
   ]
  },
  {
   "cell_type": "code",
   "execution_count": 1,
   "metadata": {},
   "outputs": [],
   "source": [
    "# imports\n",
    "\n",
    "# data\n",
    "import numpy as np\n",
    "import pandas as pd\n",
    "\n",
    "# date processing\n",
    "import datetime\n",
    "\n",
    "# filter warnings\n",
    "import warnings\n",
    "warnings.filterwarnings(\"ignore\")\n",
    "\n",
    "# garbage collection\n",
    "import gc"
   ]
  },
  {
   "cell_type": "markdown",
   "metadata": {},
   "source": [
    "## Helper Functions"
   ]
  },
  {
   "cell_type": "code",
   "execution_count": 2,
   "metadata": {},
   "outputs": [],
   "source": [
    "def slope(y):\n",
    "    x = range(len(y))\n",
    "    # y = mx + b\n",
    "    m, b = np.polyfit(x, y, 1)\n",
    "    return m\n",
    "\n",
    "def accel(y):\n",
    "    t = range(len(y))\n",
    "    # y = 1/2 g t^2 + v t + y0\n",
    "    a, v, y0 = np.polyfit(t, y, 2)\n",
    "    return 5*a"
   ]
  },
  {
   "cell_type": "code",
   "execution_count": 3,
   "metadata": {},
   "outputs": [],
   "source": [
    "def gap_fill_mean(data, missing_val_field):\n",
    "    '''\n",
    "    This function fills in missing values in a DataFrame column with the mean of the values before\n",
    "    and after a missing value.\n",
    "    '''\n",
    "    missing_idx = []\n",
    "    start_idx, mean_val, end_idx = 0, 0, 0\n",
    "    found_start, found_end = False, False\n",
    "    for idx in data.index:\n",
    "        if np.isnan(data[missing_val_field].loc[idx]) == True:\n",
    "            missing_idx.append(idx)\n",
    "            # if missing value at index, check if index is first or last entry in data\n",
    "            # if not first or last, check previous and next records for values\n",
    "            if idx != data.index[0] and idx != data.index[-1]:\n",
    "                if np.isnan(data[missing_val_field].loc[idx - 1]) == False:\n",
    "                    start_idx = idx - 1\n",
    "                    found_start = True\n",
    "                if np.isnan(data[missing_val_field].loc[idx + 1]) == False:\n",
    "                    end_idx = idx + 1\n",
    "                    found_end = True\n",
    "            else:\n",
    "                # if first entry is missing\n",
    "                if idx == data.index[0]:\n",
    "                    # check 2nd entry; if 2nd exists, make that index the end\n",
    "                    if np.isnan(data[missing_val_field].loc[idx + 1]) == False:\n",
    "                        end_idx = idx + 1\n",
    "                        found_end = True\n",
    "                    else:\n",
    "                        # if 2nd entry also missing, end index will be found but not start\n",
    "                        pass # handle later\n",
    "                else:\n",
    "                    # if last entry is missing, check next to last; if exists, make that start & end\n",
    "                    if np.isnan(data[missing_val_field].loc[idx - 1]) == False:\n",
    "                        start_idx = idx - 1\n",
    "                        found_start = True\n",
    "                    else:\n",
    "                        # if next to last also missing, start index will be found but not end\n",
    "                        pass # handle later\n",
    "        # normal process, start and end indices are found\n",
    "        if found_start and found_end:\n",
    "            mean_val = np.mean([data[missing_val_field].loc[start_idx], data[missing_val_field].loc[end_idx]])\n",
    "            for upd_idx in range(start_idx + 1, end_idx):\n",
    "                data[missing_val_field].loc[upd_idx] = mean_val\n",
    "            found_start, found_end = False, False\n",
    "            start_idx, mean_val, end_idx = 0, 0, 0\n",
    "        # values missing at start of data, end index was found but not start\n",
    "        elif found_end and not found_start:\n",
    "            # update values from start of data until end index\n",
    "            for upd_idx in range(data.index[0], end_idx):\n",
    "                data[missing_val_field].loc[upd_idx] = data[missing_val_field].loc[end_idx]\n",
    "            found_end = False\n",
    "            end_idx = 0\n",
    "        # value(s) missing at end of data\n",
    "        elif idx == data.index[-1] and found_start and not found_end:\n",
    "            # update values from start index until end of data\n",
    "            for upd_idx in range(start_idx + 1, data.index[-1]):\n",
    "                data[missing_val_field].loc[upd_idx] = data[missing_val_field].loc[start_idx]\n",
    "            # set last entry to most recent known value\n",
    "            data[missing_val_field].loc[data.index[-1]] = data[missing_val_field].loc[start_idx]\n",
    "            found_start = False\n",
    "            start_idx = 0"
   ]
  },
  {
   "cell_type": "markdown",
   "metadata": {},
   "source": [
    "## Reading data from files"
   ]
  },
  {
   "cell_type": "code",
   "execution_count": null,
   "metadata": {},
   "outputs": [],
   "source": [
    "ice_df = pd.read_csv('../data/raw_ice_thickness_1989-2019.csv')\n",
    "ice_df.head()"
   ]
  },
  {
   "cell_type": "code",
   "execution_count": null,
   "metadata": {},
   "outputs": [],
   "source": [
    "ice_df.drop(columns = 'Date', inplace = True)"
   ]
  },
  {
   "cell_type": "code",
   "execution_count": null,
   "metadata": {},
   "outputs": [],
   "source": [
    "ice_df.rename(columns = {'Date.1' : 'Date', 'Thickness' : 'iceThickness'}, inplace = True)"
   ]
  },
  {
   "cell_type": "code",
   "execution_count": null,
   "metadata": {},
   "outputs": [],
   "source": [
    "ice_df.shape"
   ]
  },
  {
   "cell_type": "code",
   "execution_count": null,
   "metadata": {},
   "outputs": [],
   "source": [
    "ice_df.info()"
   ]
  },
  {
   "cell_type": "code",
   "execution_count": null,
   "metadata": {},
   "outputs": [],
   "source": [
    "weather_df = pd.read_csv('../data/raw_weather_1989-2020.csv')\n",
    "weather_df.head()"
   ]
  },
  {
   "cell_type": "code",
   "execution_count": null,
   "metadata": {},
   "outputs": [],
   "source": [
    "weather_df.rename(columns = {'time' : 'readingTime',\n",
    "                             'summary' : 'weatherSummary',\n",
    "                             'pressure' : 'atmoPressure'}, inplace = True)"
   ]
  },
  {
   "cell_type": "code",
   "execution_count": null,
   "metadata": {},
   "outputs": [],
   "source": [
    "weather_df.shape"
   ]
  },
  {
   "cell_type": "code",
   "execution_count": null,
   "metadata": {},
   "outputs": [],
   "source": [
    "weather_df.info()"
   ]
  },
  {
   "cell_type": "code",
   "execution_count": null,
   "metadata": {},
   "outputs": [],
   "source": [
    "winners_df = pd.read_csv('../data/ice_classic_winning_times.csv')\n",
    "winners_df.head()"
   ]
  },
  {
   "cell_type": "code",
   "execution_count": null,
   "metadata": {},
   "outputs": [],
   "source": [
    "winners_df.rename(columns = {'Time' : 'winningTime'}, inplace = True)"
   ]
  },
  {
   "cell_type": "code",
   "execution_count": null,
   "metadata": {},
   "outputs": [],
   "source": [
    "winners_df.shape"
   ]
  },
  {
   "cell_type": "code",
   "execution_count": null,
   "metadata": {},
   "outputs": [],
   "source": [
    "winners_df.info()"
   ]
  },
  {
   "cell_type": "code",
   "execution_count": null,
   "metadata": {},
   "outputs": [],
   "source": [
    "river_df = pd.read_csv('../data/river_flow_data.csv')\n",
    "river_df.head()"
   ]
  },
  {
   "cell_type": "code",
   "execution_count": null,
   "metadata": {},
   "outputs": [],
   "source": [
    "river_df.drop(columns = ['dateTime', 'qualifiers'], inplace = True)"
   ]
  },
  {
   "cell_type": "code",
   "execution_count": null,
   "metadata": {},
   "outputs": [],
   "source": [
    "river_df.rename(columns = {'dateTime.1' : 'Date', 'value' : 'flowVolume'}, inplace = True)"
   ]
  },
  {
   "cell_type": "code",
   "execution_count": null,
   "metadata": {},
   "outputs": [],
   "source": [
    "river_df.shape"
   ]
  },
  {
   "cell_type": "code",
   "execution_count": null,
   "metadata": {},
   "outputs": [],
   "source": [
    "river_df.info()"
   ]
  },
  {
   "cell_type": "markdown",
   "metadata": {},
   "source": [
    "## Merge the DataFrames into one"
   ]
  },
  {
   "cell_type": "code",
   "execution_count": null,
   "metadata": {},
   "outputs": [],
   "source": [
    "merged_df = weather_df.merge(winners_df, how = 'left', on = 'Date')\n",
    "merged_df.head()"
   ]
  },
  {
   "cell_type": "code",
   "execution_count": null,
   "metadata": {},
   "outputs": [],
   "source": [
    "merged_df.shape"
   ]
  },
  {
   "cell_type": "code",
   "execution_count": null,
   "metadata": {},
   "outputs": [],
   "source": [
    "merged_df.info()"
   ]
  },
  {
   "cell_type": "code",
   "execution_count": null,
   "metadata": {},
   "outputs": [],
   "source": [
    "merged_df = merged_df.merge(ice_df, how = 'left', on = 'Date')\n",
    "merged_df.head()"
   ]
  },
  {
   "cell_type": "code",
   "execution_count": null,
   "metadata": {},
   "outputs": [],
   "source": [
    "merged_df.shape"
   ]
  },
  {
   "cell_type": "code",
   "execution_count": null,
   "metadata": {},
   "outputs": [],
   "source": [
    "merged_df.info()"
   ]
  },
  {
   "cell_type": "code",
   "execution_count": null,
   "metadata": {},
   "outputs": [],
   "source": [
    "df = merged_df.merge(river_df, how = 'left', on = 'Date')\n",
    "df.head()"
   ]
  },
  {
   "cell_type": "code",
   "execution_count": null,
   "metadata": {},
   "outputs": [],
   "source": [
    "df.shape"
   ]
  },
  {
   "cell_type": "code",
   "execution_count": null,
   "metadata": {},
   "outputs": [],
   "source": [
    "df.info()"
   ]
  },
  {
   "cell_type": "code",
   "execution_count": null,
   "metadata": {},
   "outputs": [],
   "source": [
    "df.columns"
   ]
  },
  {
   "cell_type": "code",
   "execution_count": null,
   "metadata": {},
   "outputs": [],
   "source": [
    "# delete unneeded variables\n",
    "del merged_df, ice_df, winners_df, weather_df, river_df\n",
    "gc.collect()"
   ]
  },
  {
   "cell_type": "markdown",
   "metadata": {},
   "source": [
    "#### Convert Date And Time Columns To Datetime Object"
   ]
  },
  {
   "cell_type": "code",
   "execution_count": null,
   "metadata": {},
   "outputs": [],
   "source": [
    "# convert Date from string to datetime object\n",
    "df['Date'] = pd.to_datetime(df['Date'], yearfirst = True, infer_datetime_format = True)\n",
    "df['winningTime'] = pd.to_datetime(df['winningTime'], infer_datetime_format = True, errors = 'ignore')"
   ]
  },
  {
   "cell_type": "markdown",
   "metadata": {},
   "source": [
    "### Dealing With Missing Values"
   ]
  },
  {
   "cell_type": "markdown",
   "metadata": {},
   "source": [
    "---\n",
    "#### (event)Time, apparentTemperature(category), weatherSummary, precipProbability, precipIntensityMax, visibility, temperatureHigh, temperatureLow, dewPoint, icon, ozone, windGust\n",
    "I didn't think any of these would help with this prediction task.\n",
    "\n",
    "My reasoning:\n",
    "* Most \"(event)Time\" features dropped were because they only captured a single, specific event (the time the daytime high temperature was recorded, for example)\n",
    "  * I may go back and get hourly data; something like length of time that the temperature was high or low for a day might have an impact. For now, I passed this by due to time constraints.\n",
    "* \"apparentTemperature(category)\" features were dropped because they're a representation of what conditions feel like, not what they actually are.\n",
    "* \"weatherSummary\"  was dropped because it's a text summary of information captured by other features.\n",
    "* \"precipProbability\" was dropped because this is past data and the presence/amount of precipitation is known.\n",
    "* \"precipIntensityMax\" was dropped because the precipitation rate is already captured by \"precipIntensity\" and I don't think knowing the maximum precipitation rate adds anything.\n",
    "* \"visibility\" was dropped because atmospheric conditions are already captured by other features (e.g., \"uvIndex,\" \"precipIntensity\")\n",
    "* \"temperatureHigh\" and \"temperatureLow\" were dropped because the first is the daytime high and the second is the nighttime low; the 24 hour maximum and minimum are captured by \"temperatureMax\" and \"temperatureMin\" respectively\n",
    "* \"dewPoint\" was dropped because it's correlated with temperature and humidity\n",
    "* \"icon\" was dropped because it was missing values in just under half of the columns and it didn't appear to capture any unique information that wasn't already captured in other columns.\n",
    "* \"ozone\" and \"windGust\" columns were dropped because they were missing so much information, and I had no good strategy for imputing those missing values."
   ]
  },
  {
   "cell_type": "code",
   "execution_count": null,
   "metadata": {},
   "outputs": [],
   "source": [
    "df.drop(columns = ['readingTime', 'weatherSummary', 'precipProbability', 'apparentTemperatureHigh',\n",
    "                   'apparentTemperatureHighTime', 'apparentTemperatureLow', 'apparentTemperatureLowTime',\n",
    "                   'uvIndexTime', 'apparentTemperatureMin', 'apparentTemperatureMinTime',\n",
    "                   'apparentTemperatureMax', 'apparentTemperatureMaxTime', 'visibility', 'precipIntensityMax',\n",
    "                   'dewPoint', 'temperatureHigh', 'temperatureHighTime', 'temperatureLow',\n",
    "                   'temperatureLowTime', 'temperatureMinTime', 'temperatureMaxTime', 'icon', 'ozone',\n",
    "                   'precipIntensityMaxTime', 'windGust', 'windGustTime'],\n",
    "        inplace = True)"
   ]
  },
  {
   "cell_type": "code",
   "execution_count": null,
   "metadata": {},
   "outputs": [],
   "source": [
    "gc.collect()"
   ]
  },
  {
   "cell_type": "code",
   "execution_count": null,
   "metadata": {},
   "outputs": [],
   "source": [
    "df.info()"
   ]
  },
  {
   "cell_type": "markdown",
   "metadata": {},
   "source": [
    "---\n",
    "#### Forward fill ice thickness values until next observed value\n",
    "Since ice thickness is only measured periodically, I chose to make the naive assumption that it remains constant until the next measurement."
   ]
  },
  {
   "cell_type": "code",
   "execution_count": null,
   "metadata": {},
   "outputs": [],
   "source": [
    "df['iceThickness'].fillna(method = 'pad', inplace = True)"
   ]
  },
  {
   "cell_type": "code",
   "execution_count": null,
   "metadata": {},
   "outputs": [],
   "source": [
    "df.head()"
   ]
  },
  {
   "cell_type": "code",
   "execution_count": null,
   "metadata": {},
   "outputs": [],
   "source": [
    "df['iceThickness'].isna().sum()"
   ]
  },
  {
   "cell_type": "code",
   "execution_count": null,
   "metadata": {},
   "outputs": [],
   "source": [
    "df.loc[df['iceThickness'].isna() == False]"
   ]
  },
  {
   "cell_type": "markdown",
   "metadata": {},
   "source": [
    "The first 56 days' values were missed by the first fill operation; I backfilled them to eliminate NaN values in the iceThickness column."
   ]
  },
  {
   "cell_type": "code",
   "execution_count": null,
   "metadata": {},
   "outputs": [],
   "source": [
    "df['iceThickness'].fillna(method = 'bfill', inplace = True)"
   ]
  },
  {
   "cell_type": "code",
   "execution_count": null,
   "metadata": {},
   "outputs": [],
   "source": [
    "df['iceThickness'].isna().sum()"
   ]
  },
  {
   "cell_type": "code",
   "execution_count": null,
   "metadata": {},
   "outputs": [],
   "source": [
    "df['iceThickness'].value_counts()"
   ]
  },
  {
   "cell_type": "markdown",
   "metadata": {},
   "source": [
    "---\n",
    "#### Display DataFrame information\n",
    "I wanted an idea of what other missing data I needed to deal with."
   ]
  },
  {
   "cell_type": "code",
   "execution_count": null,
   "metadata": {},
   "outputs": [],
   "source": [
    "df.info()"
   ]
  },
  {
   "cell_type": "markdown",
   "metadata": {},
   "source": [
    "---\n",
    "#### temperatureMin, temperatureMax\n",
    "There were 112 missing values in these columns. I decided to fill in missing values with the mean of the values before and after a missing value."
   ]
  },
  {
   "cell_type": "code",
   "execution_count": null,
   "metadata": {},
   "outputs": [],
   "source": [
    "# for each year in the data, fill missing values with mean for previous known and next known values\n",
    "year_list = [year for year in df['Date'].dt.year.unique()]\n",
    "for year in year_list:\n",
    "    temp_df = df.loc[df['Date'].dt.year == year]\n",
    "    gap_fill_mean(temp_df, 'temperatureMin')\n",
    "    gap_fill_mean(temp_df, 'temperatureMax')\n",
    "    for idx in temp_df.index:\n",
    "        df['temperatureMin'].loc[idx] = temp_df['temperatureMin'].loc[idx]\n",
    "        df['temperatureMax'].loc[idx] = temp_df['temperatureMax'].loc[idx]"
   ]
  },
  {
   "cell_type": "code",
   "execution_count": null,
   "metadata": {},
   "outputs": [],
   "source": [
    "df.info()"
   ]
  },
  {
   "cell_type": "markdown",
   "metadata": {},
   "source": [
    "---\n",
    "#### precipAccumulation\n",
    "Since precipAccumulation is defined as \"The amount of snowfall accumulation expected to occur (over the hour or day, respectively), in inches. (If no snowfall is expected, this property will not be defined.),\" I decided to fill missing values in that column with 0."
   ]
  },
  {
   "cell_type": "code",
   "execution_count": null,
   "metadata": {},
   "outputs": [],
   "source": [
    "df['precipAccumulation'].isna().sum()"
   ]
  },
  {
   "cell_type": "code",
   "execution_count": null,
   "metadata": {},
   "outputs": [],
   "source": [
    "df['precipAccumulation'].fillna(value = 0, downcast = 'infer', inplace = True)"
   ]
  },
  {
   "cell_type": "code",
   "execution_count": null,
   "metadata": {},
   "outputs": [],
   "source": [
    "df['precipAccumulation'].isna().sum()"
   ]
  },
  {
   "cell_type": "code",
   "execution_count": null,
   "metadata": {},
   "outputs": [],
   "source": [
    "df.info()"
   ]
  },
  {
   "cell_type": "markdown",
   "metadata": {},
   "source": [
    "---\n",
    "#### precipType\n",
    "I wanted to keep this column since rain or snow could impact the river ice, so I filled NaNs with 'None'."
   ]
  },
  {
   "cell_type": "code",
   "execution_count": null,
   "metadata": {},
   "outputs": [],
   "source": [
    "df['precipType'].value_counts()"
   ]
  },
  {
   "cell_type": "code",
   "execution_count": null,
   "metadata": {},
   "outputs": [],
   "source": [
    "df['precipType'].fillna(value = 'None', inplace = True)"
   ]
  },
  {
   "cell_type": "code",
   "execution_count": null,
   "metadata": {},
   "outputs": [],
   "source": [
    "df.info()"
   ]
  },
  {
   "cell_type": "markdown",
   "metadata": {},
   "source": [
    "---\n",
    "#### winningTime\n",
    "I filled missing values in 'winningTime' with zeroes, since there will only be an entry in this column for the day that the ice broke."
   ]
  },
  {
   "cell_type": "code",
   "execution_count": null,
   "metadata": {},
   "outputs": [],
   "source": [
    "df['winningTime'].fillna(value = 0, inplace = True)"
   ]
  },
  {
   "cell_type": "code",
   "execution_count": null,
   "metadata": {},
   "outputs": [],
   "source": [
    "df.info()"
   ]
  },
  {
   "cell_type": "markdown",
   "metadata": {},
   "source": [
    "---\n",
    "#### atmoPressure\n",
    "Barometric pressure is used as an aid in forecasting weather. Falling pressure indicates incoming inclement weather and rising pressure indicates incoming fair weather. With temperature, precipitation, and UV index information available, I chose to drop this column."
   ]
  },
  {
   "cell_type": "code",
   "execution_count": null,
   "metadata": {},
   "outputs": [],
   "source": [
    "df.drop(columns = 'atmoPressure', inplace = True)"
   ]
  },
  {
   "cell_type": "markdown",
   "metadata": {},
   "source": [
    "---\n",
    "#### windSpeed, windBearing\n",
    "I decided to replace missing values in these columns with zeroes."
   ]
  },
  {
   "cell_type": "code",
   "execution_count": null,
   "metadata": {},
   "outputs": [],
   "source": [
    "df['windSpeed'].fillna(value = 0, inplace = True)\n",
    "df['windBearing'].fillna(value = 0, inplace = True)"
   ]
  },
  {
   "cell_type": "code",
   "execution_count": null,
   "metadata": {},
   "outputs": [],
   "source": [
    "df.info()"
   ]
  },
  {
   "cell_type": "markdown",
   "metadata": {},
   "source": [
    "---\n",
    "#### humidity\n",
    "I decided to take the known value before a gap, and the known value after a gap, and fill between with the mean of the two values."
   ]
  },
  {
   "cell_type": "code",
   "execution_count": null,
   "metadata": {},
   "outputs": [],
   "source": [
    "df['humidity'].isna().sum()"
   ]
  },
  {
   "cell_type": "code",
   "execution_count": null,
   "metadata": {},
   "outputs": [],
   "source": [
    "gap_fill_mean(df, 'humidity')"
   ]
  },
  {
   "cell_type": "code",
   "execution_count": null,
   "metadata": {},
   "outputs": [],
   "source": [
    "df['humidity'].isna().sum()"
   ]
  },
  {
   "cell_type": "code",
   "execution_count": null,
   "metadata": {},
   "outputs": [],
   "source": [
    "df.info()"
   ]
  },
  {
   "cell_type": "markdown",
   "metadata": {},
   "source": [
    "---\n",
    "#### cloudCover\n",
    "After looking at the records surrounding the missing values, I decided to take the known value before a gap, and the known value after a gap, and fill between with the mean of the two values."
   ]
  },
  {
   "cell_type": "code",
   "execution_count": null,
   "metadata": {},
   "outputs": [],
   "source": [
    "# how many missing values?\n",
    "df['cloudCover'].isna().sum()"
   ]
  },
  {
   "cell_type": "code",
   "execution_count": null,
   "metadata": {},
   "outputs": [],
   "source": [
    "gap_fill_mean(df, 'cloudCover')"
   ]
  },
  {
   "cell_type": "code",
   "execution_count": null,
   "metadata": {},
   "outputs": [],
   "source": [
    "df['cloudCover'].isna().sum()"
   ]
  },
  {
   "cell_type": "code",
   "execution_count": null,
   "metadata": {},
   "outputs": [],
   "source": [
    "df.info()"
   ]
  },
  {
   "cell_type": "markdown",
   "metadata": {},
   "source": [
    "---\n",
    "#### precipIntensity\n",
    "This is defined as \"the intensity (in inches of liquid water per hour) of precipitation occurring at the given time. This value is conditional on probability (that is, assuming any precipitation occurs at all),\" so I replaced missing values with zeroes."
   ]
  },
  {
   "cell_type": "code",
   "execution_count": null,
   "metadata": {},
   "outputs": [],
   "source": [
    "df['precipIntensity'].fillna(value = 0, inplace = True)"
   ]
  },
  {
   "cell_type": "code",
   "execution_count": null,
   "metadata": {},
   "outputs": [],
   "source": [
    "df.info()"
   ]
  },
  {
   "cell_type": "markdown",
   "metadata": {},
   "source": [
    "---\n",
    "#### uvIndex\n",
    "This was another case where the number of missing values was small (39), comprising 0.88% of the total values. I decided to replace the missing values with the median."
   ]
  },
  {
   "cell_type": "code",
   "execution_count": null,
   "metadata": {},
   "outputs": [],
   "source": [
    "df['uvIndex'].isna().sum()"
   ]
  },
  {
   "cell_type": "code",
   "execution_count": null,
   "metadata": {},
   "outputs": [],
   "source": [
    "gap_fill_mean(df, 'uvIndex')"
   ]
  },
  {
   "cell_type": "code",
   "execution_count": null,
   "metadata": {},
   "outputs": [],
   "source": [
    "df.info()"
   ]
  },
  {
   "cell_type": "markdown",
   "metadata": {},
   "source": [
    "### Save cleaned data to file"
   ]
  },
  {
   "cell_type": "code",
   "execution_count": null,
   "metadata": {},
   "outputs": [],
   "source": [
    "df.to_csv('../data/cleaned_data.csv', index_label = 'Date')"
   ]
  },
  {
   "cell_type": "markdown",
   "metadata": {},
   "source": [
    "### Read data from file\n",
    "Start here once the data has been cleaned and saved."
   ]
  },
  {
   "cell_type": "code",
   "execution_count": 4,
   "metadata": {},
   "outputs": [],
   "source": [
    "# read data\n",
    "df = pd.read_csv('../data/cleaned_data.csv')"
   ]
  },
  {
   "cell_type": "code",
   "execution_count": 5,
   "metadata": {},
   "outputs": [
    {
     "data": {
      "text/html": [
       "<div>\n",
       "<style scoped>\n",
       "    .dataframe tbody tr th:only-of-type {\n",
       "        vertical-align: middle;\n",
       "    }\n",
       "\n",
       "    .dataframe tbody tr th {\n",
       "        vertical-align: top;\n",
       "    }\n",
       "\n",
       "    .dataframe thead th {\n",
       "        text-align: right;\n",
       "    }\n",
       "</style>\n",
       "<table border=\"1\" class=\"dataframe\">\n",
       "  <thead>\n",
       "    <tr style=\"text-align: right;\">\n",
       "      <th></th>\n",
       "      <th>Date</th>\n",
       "      <th>Date.1</th>\n",
       "      <th>sunriseTime</th>\n",
       "      <th>sunsetTime</th>\n",
       "      <th>moonPhase</th>\n",
       "      <th>humidity</th>\n",
       "      <th>windSpeed</th>\n",
       "      <th>windBearing</th>\n",
       "      <th>cloudCover</th>\n",
       "      <th>uvIndex</th>\n",
       "      <th>temperatureMin</th>\n",
       "      <th>temperatureMax</th>\n",
       "      <th>precipType</th>\n",
       "      <th>precipIntensity</th>\n",
       "      <th>precipAccumulation</th>\n",
       "      <th>winningTime</th>\n",
       "      <th>iceThickness</th>\n",
       "      <th>flowVolume</th>\n",
       "    </tr>\n",
       "  </thead>\n",
       "  <tbody>\n",
       "    <tr>\n",
       "      <th>0</th>\n",
       "      <td>0</td>\n",
       "      <td>1989-01-01</td>\n",
       "      <td>599687760.0</td>\n",
       "      <td>599702820.0</td>\n",
       "      <td>0.81</td>\n",
       "      <td>0.83</td>\n",
       "      <td>4.67</td>\n",
       "      <td>148.0</td>\n",
       "      <td>0.18</td>\n",
       "      <td>0.0</td>\n",
       "      <td>3.68</td>\n",
       "      <td>25.80</td>\n",
       "      <td>None</td>\n",
       "      <td>0.0</td>\n",
       "      <td>0.0</td>\n",
       "      <td>0</td>\n",
       "      <td>42.0</td>\n",
       "      <td>7600</td>\n",
       "    </tr>\n",
       "    <tr>\n",
       "      <th>1</th>\n",
       "      <td>1</td>\n",
       "      <td>1989-01-02</td>\n",
       "      <td>599774040.0</td>\n",
       "      <td>599789340.0</td>\n",
       "      <td>0.84</td>\n",
       "      <td>0.80</td>\n",
       "      <td>4.30</td>\n",
       "      <td>131.0</td>\n",
       "      <td>0.16</td>\n",
       "      <td>0.0</td>\n",
       "      <td>-8.27</td>\n",
       "      <td>24.93</td>\n",
       "      <td>None</td>\n",
       "      <td>0.0</td>\n",
       "      <td>0.0</td>\n",
       "      <td>0</td>\n",
       "      <td>42.0</td>\n",
       "      <td>7600</td>\n",
       "    </tr>\n",
       "    <tr>\n",
       "      <th>2</th>\n",
       "      <td>2</td>\n",
       "      <td>1989-01-03</td>\n",
       "      <td>599860380.0</td>\n",
       "      <td>599875920.0</td>\n",
       "      <td>0.88</td>\n",
       "      <td>0.69</td>\n",
       "      <td>2.26</td>\n",
       "      <td>104.0</td>\n",
       "      <td>0.22</td>\n",
       "      <td>0.0</td>\n",
       "      <td>-10.28</td>\n",
       "      <td>4.69</td>\n",
       "      <td>None</td>\n",
       "      <td>0.0</td>\n",
       "      <td>0.0</td>\n",
       "      <td>0</td>\n",
       "      <td>42.0</td>\n",
       "      <td>7600</td>\n",
       "    </tr>\n",
       "    <tr>\n",
       "      <th>3</th>\n",
       "      <td>3</td>\n",
       "      <td>1989-01-04</td>\n",
       "      <td>599946720.0</td>\n",
       "      <td>599962440.0</td>\n",
       "      <td>0.91</td>\n",
       "      <td>0.60</td>\n",
       "      <td>7.51</td>\n",
       "      <td>69.0</td>\n",
       "      <td>0.17</td>\n",
       "      <td>0.0</td>\n",
       "      <td>-16.58</td>\n",
       "      <td>7.67</td>\n",
       "      <td>None</td>\n",
       "      <td>0.0</td>\n",
       "      <td>0.0</td>\n",
       "      <td>0</td>\n",
       "      <td>42.0</td>\n",
       "      <td>7600</td>\n",
       "    </tr>\n",
       "    <tr>\n",
       "      <th>4</th>\n",
       "      <td>4</td>\n",
       "      <td>1989-01-05</td>\n",
       "      <td>600033000.0</td>\n",
       "      <td>600048960.0</td>\n",
       "      <td>0.94</td>\n",
       "      <td>0.71</td>\n",
       "      <td>7.30</td>\n",
       "      <td>78.0</td>\n",
       "      <td>0.13</td>\n",
       "      <td>0.0</td>\n",
       "      <td>2.57</td>\n",
       "      <td>14.70</td>\n",
       "      <td>None</td>\n",
       "      <td>0.0</td>\n",
       "      <td>0.0</td>\n",
       "      <td>0</td>\n",
       "      <td>42.0</td>\n",
       "      <td>7600</td>\n",
       "    </tr>\n",
       "  </tbody>\n",
       "</table>\n",
       "</div>"
      ],
      "text/plain": [
       "   Date      Date.1  sunriseTime   sunsetTime  moonPhase  humidity  windSpeed  \\\n",
       "0     0  1989-01-01  599687760.0  599702820.0       0.81      0.83       4.67   \n",
       "1     1  1989-01-02  599774040.0  599789340.0       0.84      0.80       4.30   \n",
       "2     2  1989-01-03  599860380.0  599875920.0       0.88      0.69       2.26   \n",
       "3     3  1989-01-04  599946720.0  599962440.0       0.91      0.60       7.51   \n",
       "4     4  1989-01-05  600033000.0  600048960.0       0.94      0.71       7.30   \n",
       "\n",
       "   windBearing  cloudCover  uvIndex  temperatureMin  temperatureMax  \\\n",
       "0        148.0        0.18      0.0            3.68           25.80   \n",
       "1        131.0        0.16      0.0           -8.27           24.93   \n",
       "2        104.0        0.22      0.0          -10.28            4.69   \n",
       "3         69.0        0.17      0.0          -16.58            7.67   \n",
       "4         78.0        0.13      0.0            2.57           14.70   \n",
       "\n",
       "  precipType  precipIntensity  precipAccumulation winningTime  iceThickness  \\\n",
       "0       None              0.0                 0.0           0          42.0   \n",
       "1       None              0.0                 0.0           0          42.0   \n",
       "2       None              0.0                 0.0           0          42.0   \n",
       "3       None              0.0                 0.0           0          42.0   \n",
       "4       None              0.0                 0.0           0          42.0   \n",
       "\n",
       "   flowVolume  \n",
       "0        7600  \n",
       "1        7600  \n",
       "2        7600  \n",
       "3        7600  \n",
       "4        7600  "
      ]
     },
     "execution_count": 5,
     "metadata": {},
     "output_type": "execute_result"
    }
   ],
   "source": [
    "df.head()"
   ]
  },
  {
   "cell_type": "code",
   "execution_count": 6,
   "metadata": {},
   "outputs": [],
   "source": [
    "df.drop(columns = 'Date', inplace = True)"
   ]
  },
  {
   "cell_type": "code",
   "execution_count": 7,
   "metadata": {},
   "outputs": [],
   "source": [
    "df.rename(columns = {'Date.1' : 'Date'}, inplace = True)"
   ]
  },
  {
   "cell_type": "code",
   "execution_count": 8,
   "metadata": {},
   "outputs": [],
   "source": [
    "df['Date'] = pd.to_datetime(df['Date'], yearfirst = True, infer_datetime_format = True)"
   ]
  },
  {
   "cell_type": "code",
   "execution_count": 9,
   "metadata": {},
   "outputs": [
    {
     "data": {
      "text/plain": [
       "(4456, 17)"
      ]
     },
     "execution_count": 9,
     "metadata": {},
     "output_type": "execute_result"
    }
   ],
   "source": [
    "df.shape"
   ]
  },
  {
   "cell_type": "code",
   "execution_count": 10,
   "metadata": {},
   "outputs": [
    {
     "name": "stdout",
     "output_type": "stream",
     "text": [
      "<class 'pandas.core.frame.DataFrame'>\n",
      "RangeIndex: 4456 entries, 0 to 4455\n",
      "Data columns (total 17 columns):\n",
      " #   Column              Non-Null Count  Dtype         \n",
      "---  ------              --------------  -----         \n",
      " 0   Date                4456 non-null   datetime64[ns]\n",
      " 1   sunriseTime         4456 non-null   float64       \n",
      " 2   sunsetTime          4456 non-null   float64       \n",
      " 3   moonPhase           4456 non-null   float64       \n",
      " 4   humidity            4456 non-null   float64       \n",
      " 5   windSpeed           4456 non-null   float64       \n",
      " 6   windBearing         4456 non-null   float64       \n",
      " 7   cloudCover          4456 non-null   float64       \n",
      " 8   uvIndex             4456 non-null   float64       \n",
      " 9   temperatureMin      4456 non-null   float64       \n",
      " 10  temperatureMax      4456 non-null   float64       \n",
      " 11  precipType          4456 non-null   object        \n",
      " 12  precipIntensity     4456 non-null   float64       \n",
      " 13  precipAccumulation  4456 non-null   float64       \n",
      " 14  winningTime         4456 non-null   object        \n",
      " 15  iceThickness        4456 non-null   float64       \n",
      " 16  flowVolume          4456 non-null   int64         \n",
      "dtypes: datetime64[ns](1), float64(13), int64(1), object(2)\n",
      "memory usage: 591.9+ KB\n"
     ]
    }
   ],
   "source": [
    "df.info()"
   ]
  },
  {
   "cell_type": "markdown",
   "metadata": {},
   "source": [
    "## Feature Engineering"
   ]
  },
  {
   "cell_type": "code",
   "execution_count": 11,
   "metadata": {},
   "outputs": [],
   "source": [
    "# create column for ordinal day of year\n",
    "df['dayOfYear'] = df['Date'].dt.dayofyear"
   ]
  },
  {
   "cell_type": "code",
   "execution_count": 14,
   "metadata": {},
   "outputs": [
    {
     "data": {
      "text/plain": [
       "0                      4427\n",
       "2020-03-30 15:48:00       1\n",
       "2020-03-30 21:27:00       1\n",
       "2020-03-30 13:00:00       1\n",
       "2020-03-30 22:53:00       1\n",
       "2020-03-30 09:06:00       1\n",
       "2020-03-30 14:25:00       1\n",
       "2020-03-30 18:22:00       1\n",
       "2020-03-30 14:16:00       1\n",
       "2020-03-30 16:54:00       1\n",
       "2020-03-30 19:39:00       1\n",
       "2020-03-30 13:18:00       1\n",
       "2020-03-30 20:41:00       1\n",
       "2020-03-30 12:01:00       1\n",
       "2020-03-30 17:29:00       1\n",
       "2020-03-30 10:28:00       1\n",
       "2020-03-30 16:24:00       1\n",
       "2020-03-30 10:47:00       1\n",
       "2020-03-30 23:01:00       1\n",
       "2020-03-30 17:19:00       1\n",
       "2020-03-30 12:00:00       1\n",
       "2020-03-30 14:41:00       1\n",
       "2020-03-30 13:01:00       1\n",
       "2020-03-30 00:04:00       1\n",
       "2020-03-30 15:39:00       1\n",
       "2020-03-30 06:26:00       1\n",
       "2020-03-30 20:14:00       1\n",
       "2020-03-30 12:32:00       1\n",
       "2020-03-30 00:21:00       1\n",
       "2020-03-30 15:47:00       1\n",
       "Name: winningTime, dtype: int64"
      ]
     },
     "execution_count": 14,
     "metadata": {},
     "output_type": "execute_result"
    }
   ],
   "source": [
    "df['winningTime'].value_counts()"
   ]
  },
  {
   "cell_type": "code",
   "execution_count": 17,
   "metadata": {},
   "outputs": [],
   "source": [
    "# create binary 'winningDate' column\n",
    "# if processed from start of notebook, winningTime value will be 0; if loaded from file, winningTime is '0'\n",
    "df['winningDate'] = 0\n",
    "idx = df.loc[df['winningTime'] != '0'].index\n",
    "df['winningDate'].loc[idx] = 1"
   ]
  },
  {
   "cell_type": "code",
   "execution_count": 18,
   "metadata": {},
   "outputs": [
    {
     "data": {
      "text/plain": [
       "0    4427\n",
       "1      29\n",
       "Name: winningDate, dtype: int64"
      ]
     },
     "execution_count": 18,
     "metadata": {},
     "output_type": "execute_result"
    }
   ],
   "source": [
    "df['winningDate'].value_counts()"
   ]
  },
  {
   "cell_type": "code",
   "execution_count": 19,
   "metadata": {},
   "outputs": [
    {
     "data": {
      "text/html": [
       "<div>\n",
       "<style scoped>\n",
       "    .dataframe tbody tr th:only-of-type {\n",
       "        vertical-align: middle;\n",
       "    }\n",
       "\n",
       "    .dataframe tbody tr th {\n",
       "        vertical-align: top;\n",
       "    }\n",
       "\n",
       "    .dataframe thead th {\n",
       "        text-align: right;\n",
       "    }\n",
       "</style>\n",
       "<table border=\"1\" class=\"dataframe\">\n",
       "  <thead>\n",
       "    <tr style=\"text-align: right;\">\n",
       "      <th></th>\n",
       "      <th>Date</th>\n",
       "      <th>sunriseTime</th>\n",
       "      <th>sunsetTime</th>\n",
       "      <th>moonPhase</th>\n",
       "      <th>humidity</th>\n",
       "      <th>windSpeed</th>\n",
       "      <th>windBearing</th>\n",
       "      <th>cloudCover</th>\n",
       "      <th>uvIndex</th>\n",
       "      <th>temperatureMin</th>\n",
       "      <th>temperatureMax</th>\n",
       "      <th>precipType</th>\n",
       "      <th>precipIntensity</th>\n",
       "      <th>precipAccumulation</th>\n",
       "      <th>winningTime</th>\n",
       "      <th>iceThickness</th>\n",
       "      <th>flowVolume</th>\n",
       "      <th>dayOfYear</th>\n",
       "      <th>winningDate</th>\n",
       "    </tr>\n",
       "  </thead>\n",
       "  <tbody>\n",
       "    <tr>\n",
       "      <th>108</th>\n",
       "      <td>1989-05-01</td>\n",
       "      <td>6.100323e+08</td>\n",
       "      <td>6.100934e+08</td>\n",
       "      <td>0.87</td>\n",
       "      <td>0.47</td>\n",
       "      <td>3.72</td>\n",
       "      <td>277.0</td>\n",
       "      <td>0.140</td>\n",
       "      <td>4.0</td>\n",
       "      <td>36.22</td>\n",
       "      <td>61.53</td>\n",
       "      <td>None</td>\n",
       "      <td>0.0000</td>\n",
       "      <td>0.0</td>\n",
       "      <td>2020-03-30 20:14:00</td>\n",
       "      <td>40.0</td>\n",
       "      <td>62000</td>\n",
       "      <td>121</td>\n",
       "      <td>1</td>\n",
       "    </tr>\n",
       "    <tr>\n",
       "      <th>252</th>\n",
       "      <td>1990-04-24</td>\n",
       "      <td>6.409650e+08</td>\n",
       "      <td>6.410233e+08</td>\n",
       "      <td>0.00</td>\n",
       "      <td>0.61</td>\n",
       "      <td>0.00</td>\n",
       "      <td>0.0</td>\n",
       "      <td>0.160</td>\n",
       "      <td>4.0</td>\n",
       "      <td>28.66</td>\n",
       "      <td>44.74</td>\n",
       "      <td>None</td>\n",
       "      <td>0.0000</td>\n",
       "      <td>0.0</td>\n",
       "      <td>2020-03-30 17:19:00</td>\n",
       "      <td>36.0</td>\n",
       "      <td>15000</td>\n",
       "      <td>114</td>\n",
       "      <td>1</td>\n",
       "    </tr>\n",
       "    <tr>\n",
       "      <th>400</th>\n",
       "      <td>1991-05-01</td>\n",
       "      <td>6.731044e+08</td>\n",
       "      <td>6.731654e+08</td>\n",
       "      <td>0.60</td>\n",
       "      <td>0.49</td>\n",
       "      <td>4.13</td>\n",
       "      <td>139.0</td>\n",
       "      <td>0.100</td>\n",
       "      <td>4.0</td>\n",
       "      <td>31.43</td>\n",
       "      <td>57.62</td>\n",
       "      <td>None</td>\n",
       "      <td>0.0000</td>\n",
       "      <td>0.0</td>\n",
       "      <td>2020-03-30 00:04:00</td>\n",
       "      <td>38.0</td>\n",
       "      <td>40000</td>\n",
       "      <td>121</td>\n",
       "      <td>1</td>\n",
       "    </tr>\n",
       "    <tr>\n",
       "      <th>556</th>\n",
       "      <td>1992-05-14</td>\n",
       "      <td>7.058471e+08</td>\n",
       "      <td>7.059137e+08</td>\n",
       "      <td>0.45</td>\n",
       "      <td>0.49</td>\n",
       "      <td>5.83</td>\n",
       "      <td>239.0</td>\n",
       "      <td>0.320</td>\n",
       "      <td>5.0</td>\n",
       "      <td>30.52</td>\n",
       "      <td>51.11</td>\n",
       "      <td>None</td>\n",
       "      <td>0.0000</td>\n",
       "      <td>0.0</td>\n",
       "      <td>2020-03-30 06:26:00</td>\n",
       "      <td>47.0</td>\n",
       "      <td>18000</td>\n",
       "      <td>135</td>\n",
       "      <td>1</td>\n",
       "    </tr>\n",
       "    <tr>\n",
       "      <th>684</th>\n",
       "      <td>1993-04-23</td>\n",
       "      <td>7.355732e+08</td>\n",
       "      <td>7.356311e+08</td>\n",
       "      <td>0.07</td>\n",
       "      <td>0.52</td>\n",
       "      <td>7.72</td>\n",
       "      <td>330.0</td>\n",
       "      <td>0.020</td>\n",
       "      <td>4.0</td>\n",
       "      <td>31.28</td>\n",
       "      <td>45.50</td>\n",
       "      <td>None</td>\n",
       "      <td>0.0000</td>\n",
       "      <td>0.0</td>\n",
       "      <td>2020-03-30 13:01:00</td>\n",
       "      <td>25.0</td>\n",
       "      <td>19000</td>\n",
       "      <td>113</td>\n",
       "      <td>1</td>\n",
       "    </tr>\n",
       "    <tr>\n",
       "      <th>839</th>\n",
       "      <td>1994-04-29</td>\n",
       "      <td>7.676264e+08</td>\n",
       "      <td>7.676866e+08</td>\n",
       "      <td>0.67</td>\n",
       "      <td>0.31</td>\n",
       "      <td>4.39</td>\n",
       "      <td>22.0</td>\n",
       "      <td>0.130</td>\n",
       "      <td>4.0</td>\n",
       "      <td>26.51</td>\n",
       "      <td>59.54</td>\n",
       "      <td>None</td>\n",
       "      <td>0.0000</td>\n",
       "      <td>0.0</td>\n",
       "      <td>2020-03-30 23:01:00</td>\n",
       "      <td>51.0</td>\n",
       "      <td>42000</td>\n",
       "      <td>119</td>\n",
       "      <td>1</td>\n",
       "    </tr>\n",
       "    <tr>\n",
       "      <th>1007</th>\n",
       "      <td>1996-05-05</td>\n",
       "      <td>8.313018e+08</td>\n",
       "      <td>8.313647e+08</td>\n",
       "      <td>0.60</td>\n",
       "      <td>0.44</td>\n",
       "      <td>4.42</td>\n",
       "      <td>64.0</td>\n",
       "      <td>0.380</td>\n",
       "      <td>4.0</td>\n",
       "      <td>32.47</td>\n",
       "      <td>53.42</td>\n",
       "      <td>None</td>\n",
       "      <td>0.0000</td>\n",
       "      <td>0.0</td>\n",
       "      <td>2020-03-30 12:32:00</td>\n",
       "      <td>45.0</td>\n",
       "      <td>27000</td>\n",
       "      <td>126</td>\n",
       "      <td>1</td>\n",
       "    </tr>\n",
       "    <tr>\n",
       "      <th>1153</th>\n",
       "      <td>1997-04-30</td>\n",
       "      <td>8.624069e+08</td>\n",
       "      <td>8.624677e+08</td>\n",
       "      <td>0.79</td>\n",
       "      <td>0.48</td>\n",
       "      <td>4.05</td>\n",
       "      <td>252.0</td>\n",
       "      <td>0.565</td>\n",
       "      <td>1.5</td>\n",
       "      <td>25.75</td>\n",
       "      <td>61.35</td>\n",
       "      <td>None</td>\n",
       "      <td>0.0000</td>\n",
       "      <td>0.0</td>\n",
       "      <td>2020-03-30 10:28:00</td>\n",
       "      <td>36.0</td>\n",
       "      <td>17000</td>\n",
       "      <td>120</td>\n",
       "      <td>1</td>\n",
       "    </tr>\n",
       "    <tr>\n",
       "      <th>1291</th>\n",
       "      <td>1998-04-20</td>\n",
       "      <td>8.930811e+08</td>\n",
       "      <td>8.931377e+08</td>\n",
       "      <td>0.80</td>\n",
       "      <td>0.60</td>\n",
       "      <td>4.06</td>\n",
       "      <td>287.0</td>\n",
       "      <td>0.350</td>\n",
       "      <td>3.0</td>\n",
       "      <td>25.97</td>\n",
       "      <td>52.56</td>\n",
       "      <td>rain</td>\n",
       "      <td>0.0000</td>\n",
       "      <td>0.0</td>\n",
       "      <td>2020-03-30 16:54:00</td>\n",
       "      <td>38.0</td>\n",
       "      <td>15500</td>\n",
       "      <td>110</td>\n",
       "      <td>1</td>\n",
       "    </tr>\n",
       "    <tr>\n",
       "      <th>1577</th>\n",
       "      <td>2000-05-01</td>\n",
       "      <td>9.571874e+08</td>\n",
       "      <td>9.572488e+08</td>\n",
       "      <td>0.93</td>\n",
       "      <td>0.46</td>\n",
       "      <td>4.97</td>\n",
       "      <td>211.0</td>\n",
       "      <td>0.880</td>\n",
       "      <td>4.0</td>\n",
       "      <td>34.92</td>\n",
       "      <td>55.95</td>\n",
       "      <td>None</td>\n",
       "      <td>0.0000</td>\n",
       "      <td>0.0</td>\n",
       "      <td>2020-03-30 10:47:00</td>\n",
       "      <td>36.0</td>\n",
       "      <td>20000</td>\n",
       "      <td>122</td>\n",
       "      <td>1</td>\n",
       "    </tr>\n",
       "    <tr>\n",
       "      <th>1735</th>\n",
       "      <td>2001-05-08</td>\n",
       "      <td>9.893268e+08</td>\n",
       "      <td>9.893909e+08</td>\n",
       "      <td>0.56</td>\n",
       "      <td>0.53</td>\n",
       "      <td>5.77</td>\n",
       "      <td>263.0</td>\n",
       "      <td>0.620</td>\n",
       "      <td>4.0</td>\n",
       "      <td>27.85</td>\n",
       "      <td>48.88</td>\n",
       "      <td>None</td>\n",
       "      <td>0.0000</td>\n",
       "      <td>0.0</td>\n",
       "      <td>2020-03-30 13:00:00</td>\n",
       "      <td>33.5</td>\n",
       "      <td>16500</td>\n",
       "      <td>128</td>\n",
       "      <td>1</td>\n",
       "    </tr>\n",
       "    <tr>\n",
       "      <th>1875</th>\n",
       "      <td>2002-05-07</td>\n",
       "      <td>1.020777e+09</td>\n",
       "      <td>1.020840e+09</td>\n",
       "      <td>0.87</td>\n",
       "      <td>0.71</td>\n",
       "      <td>3.66</td>\n",
       "      <td>169.0</td>\n",
       "      <td>0.840</td>\n",
       "      <td>3.0</td>\n",
       "      <td>29.46</td>\n",
       "      <td>48.75</td>\n",
       "      <td>None</td>\n",
       "      <td>0.0000</td>\n",
       "      <td>0.0</td>\n",
       "      <td>2020-03-30 21:27:00</td>\n",
       "      <td>42.0</td>\n",
       "      <td>20000</td>\n",
       "      <td>127</td>\n",
       "      <td>1</td>\n",
       "    </tr>\n",
       "    <tr>\n",
       "      <th>2003</th>\n",
       "      <td>2003-04-29</td>\n",
       "      <td>1.051623e+09</td>\n",
       "      <td>1.051683e+09</td>\n",
       "      <td>0.96</td>\n",
       "      <td>0.60</td>\n",
       "      <td>5.62</td>\n",
       "      <td>293.0</td>\n",
       "      <td>0.320</td>\n",
       "      <td>4.0</td>\n",
       "      <td>29.69</td>\n",
       "      <td>50.88</td>\n",
       "      <td>None</td>\n",
       "      <td>0.0000</td>\n",
       "      <td>0.0</td>\n",
       "      <td>2020-03-30 18:22:00</td>\n",
       "      <td>38.3</td>\n",
       "      <td>27000</td>\n",
       "      <td>119</td>\n",
       "      <td>1</td>\n",
       "    </tr>\n",
       "    <tr>\n",
       "      <th>2150</th>\n",
       "      <td>2004-04-24</td>\n",
       "      <td>1.082814e+09</td>\n",
       "      <td>1.082873e+09</td>\n",
       "      <td>0.17</td>\n",
       "      <td>0.58</td>\n",
       "      <td>6.57</td>\n",
       "      <td>74.0</td>\n",
       "      <td>0.170</td>\n",
       "      <td>4.0</td>\n",
       "      <td>27.74</td>\n",
       "      <td>54.41</td>\n",
       "      <td>None</td>\n",
       "      <td>0.0000</td>\n",
       "      <td>0.0</td>\n",
       "      <td>2020-03-30 14:16:00</td>\n",
       "      <td>35.5</td>\n",
       "      <td>15000</td>\n",
       "      <td>115</td>\n",
       "      <td>1</td>\n",
       "    </tr>\n",
       "    <tr>\n",
       "      <th>2305</th>\n",
       "      <td>2005-04-28</td>\n",
       "      <td>1.114695e+09</td>\n",
       "      <td>1.114755e+09</td>\n",
       "      <td>0.67</td>\n",
       "      <td>0.43</td>\n",
       "      <td>8.07</td>\n",
       "      <td>19.0</td>\n",
       "      <td>0.000</td>\n",
       "      <td>4.0</td>\n",
       "      <td>29.69</td>\n",
       "      <td>66.98</td>\n",
       "      <td>None</td>\n",
       "      <td>0.0000</td>\n",
       "      <td>0.0</td>\n",
       "      <td>2020-03-30 12:01:00</td>\n",
       "      <td>35.5</td>\n",
       "      <td>17000</td>\n",
       "      <td>118</td>\n",
       "      <td>1</td>\n",
       "    </tr>\n",
       "    <tr>\n",
       "      <th>2460</th>\n",
       "      <td>2006-05-02</td>\n",
       "      <td>1.146576e+09</td>\n",
       "      <td>1.146638e+09</td>\n",
       "      <td>0.19</td>\n",
       "      <td>0.41</td>\n",
       "      <td>6.15</td>\n",
       "      <td>107.0</td>\n",
       "      <td>0.070</td>\n",
       "      <td>4.0</td>\n",
       "      <td>25.96</td>\n",
       "      <td>56.10</td>\n",
       "      <td>None</td>\n",
       "      <td>0.0000</td>\n",
       "      <td>0.0</td>\n",
       "      <td>2020-03-30 17:29:00</td>\n",
       "      <td>32.7</td>\n",
       "      <td>13000</td>\n",
       "      <td>122</td>\n",
       "      <td>1</td>\n",
       "    </tr>\n",
       "    <tr>\n",
       "      <th>2606</th>\n",
       "      <td>2007-04-27</td>\n",
       "      <td>1.177681e+09</td>\n",
       "      <td>1.177741e+09</td>\n",
       "      <td>0.37</td>\n",
       "      <td>0.40</td>\n",
       "      <td>6.11</td>\n",
       "      <td>313.0</td>\n",
       "      <td>0.430</td>\n",
       "      <td>4.0</td>\n",
       "      <td>29.56</td>\n",
       "      <td>45.49</td>\n",
       "      <td>None</td>\n",
       "      <td>0.0000</td>\n",
       "      <td>0.0</td>\n",
       "      <td>2020-03-30 15:47:00</td>\n",
       "      <td>46.5</td>\n",
       "      <td>18000</td>\n",
       "      <td>117</td>\n",
       "      <td>1</td>\n",
       "    </tr>\n",
       "    <tr>\n",
       "      <th>2767</th>\n",
       "      <td>2008-05-06</td>\n",
       "      <td>1.210079e+09</td>\n",
       "      <td>1.210143e+09</td>\n",
       "      <td>0.07</td>\n",
       "      <td>0.63</td>\n",
       "      <td>3.89</td>\n",
       "      <td>6.0</td>\n",
       "      <td>0.300</td>\n",
       "      <td>4.0</td>\n",
       "      <td>27.57</td>\n",
       "      <td>58.02</td>\n",
       "      <td>None</td>\n",
       "      <td>0.0000</td>\n",
       "      <td>0.0</td>\n",
       "      <td>2020-03-30 22:53:00</td>\n",
       "      <td>40.5</td>\n",
       "      <td>36000</td>\n",
       "      <td>127</td>\n",
       "      <td>1</td>\n",
       "    </tr>\n",
       "    <tr>\n",
       "      <th>2913</th>\n",
       "      <td>2009-05-01</td>\n",
       "      <td>1.241184e+09</td>\n",
       "      <td>1.241246e+09</td>\n",
       "      <td>0.26</td>\n",
       "      <td>0.32</td>\n",
       "      <td>1.95</td>\n",
       "      <td>308.0</td>\n",
       "      <td>0.000</td>\n",
       "      <td>4.0</td>\n",
       "      <td>34.03</td>\n",
       "      <td>74.46</td>\n",
       "      <td>None</td>\n",
       "      <td>0.0000</td>\n",
       "      <td>0.0</td>\n",
       "      <td>2020-03-30 20:41:00</td>\n",
       "      <td>42.7</td>\n",
       "      <td>30000</td>\n",
       "      <td>121</td>\n",
       "      <td>1</td>\n",
       "    </tr>\n",
       "    <tr>\n",
       "      <th>3062</th>\n",
       "      <td>2010-04-29</td>\n",
       "      <td>1.272548e+09</td>\n",
       "      <td>1.272608e+09</td>\n",
       "      <td>0.56</td>\n",
       "      <td>0.43</td>\n",
       "      <td>3.15</td>\n",
       "      <td>164.0</td>\n",
       "      <td>0.580</td>\n",
       "      <td>4.0</td>\n",
       "      <td>40.26</td>\n",
       "      <td>64.16</td>\n",
       "      <td>None</td>\n",
       "      <td>0.0000</td>\n",
       "      <td>0.0</td>\n",
       "      <td>2020-03-30 09:06:00</td>\n",
       "      <td>40.9</td>\n",
       "      <td>17000</td>\n",
       "      <td>119</td>\n",
       "      <td>1</td>\n",
       "    </tr>\n",
       "    <tr>\n",
       "      <th>3218</th>\n",
       "      <td>2011-05-04</td>\n",
       "      <td>1.304515e+09</td>\n",
       "      <td>1.304577e+09</td>\n",
       "      <td>0.06</td>\n",
       "      <td>0.47</td>\n",
       "      <td>3.02</td>\n",
       "      <td>308.0</td>\n",
       "      <td>0.400</td>\n",
       "      <td>4.0</td>\n",
       "      <td>28.74</td>\n",
       "      <td>51.87</td>\n",
       "      <td>None</td>\n",
       "      <td>0.0000</td>\n",
       "      <td>0.0</td>\n",
       "      <td>2020-03-30 16:24:00</td>\n",
       "      <td>39.0</td>\n",
       "      <td>31500</td>\n",
       "      <td>124</td>\n",
       "      <td>1</td>\n",
       "    </tr>\n",
       "    <tr>\n",
       "      <th>3359</th>\n",
       "      <td>2012-04-23</td>\n",
       "      <td>1.335189e+09</td>\n",
       "      <td>1.335247e+09</td>\n",
       "      <td>0.09</td>\n",
       "      <td>0.57</td>\n",
       "      <td>3.71</td>\n",
       "      <td>70.0</td>\n",
       "      <td>0.130</td>\n",
       "      <td>4.0</td>\n",
       "      <td>28.02</td>\n",
       "      <td>58.23</td>\n",
       "      <td>None</td>\n",
       "      <td>0.0000</td>\n",
       "      <td>0.0</td>\n",
       "      <td>2020-03-30 19:39:00</td>\n",
       "      <td>28.7</td>\n",
       "      <td>34000</td>\n",
       "      <td>114</td>\n",
       "      <td>1</td>\n",
       "    </tr>\n",
       "    <tr>\n",
       "      <th>3537</th>\n",
       "      <td>2013-05-20</td>\n",
       "      <td>1.369052e+09</td>\n",
       "      <td>1.369121e+09</td>\n",
       "      <td>0.35</td>\n",
       "      <td>0.35</td>\n",
       "      <td>3.34</td>\n",
       "      <td>129.0</td>\n",
       "      <td>0.000</td>\n",
       "      <td>5.0</td>\n",
       "      <td>27.93</td>\n",
       "      <td>54.95</td>\n",
       "      <td>None</td>\n",
       "      <td>0.0000</td>\n",
       "      <td>0.0</td>\n",
       "      <td>2020-03-30 14:41:00</td>\n",
       "      <td>40.0</td>\n",
       "      <td>30000</td>\n",
       "      <td>140</td>\n",
       "      <td>1</td>\n",
       "    </tr>\n",
       "    <tr>\n",
       "      <th>3663</th>\n",
       "      <td>2014-04-25</td>\n",
       "      <td>1.398434e+09</td>\n",
       "      <td>1.398492e+09</td>\n",
       "      <td>0.89</td>\n",
       "      <td>0.47</td>\n",
       "      <td>5.51</td>\n",
       "      <td>133.0</td>\n",
       "      <td>0.330</td>\n",
       "      <td>4.0</td>\n",
       "      <td>31.55</td>\n",
       "      <td>54.55</td>\n",
       "      <td>None</td>\n",
       "      <td>0.0000</td>\n",
       "      <td>0.0</td>\n",
       "      <td>2020-03-30 15:48:00</td>\n",
       "      <td>36.5</td>\n",
       "      <td>28100</td>\n",
       "      <td>115</td>\n",
       "      <td>1</td>\n",
       "    </tr>\n",
       "    <tr>\n",
       "      <th>3813</th>\n",
       "      <td>2015-04-24</td>\n",
       "      <td>1.429883e+09</td>\n",
       "      <td>1.429942e+09</td>\n",
       "      <td>0.23</td>\n",
       "      <td>0.27</td>\n",
       "      <td>3.79</td>\n",
       "      <td>99.0</td>\n",
       "      <td>0.000</td>\n",
       "      <td>4.0</td>\n",
       "      <td>32.33</td>\n",
       "      <td>56.99</td>\n",
       "      <td>None</td>\n",
       "      <td>0.0000</td>\n",
       "      <td>0.0</td>\n",
       "      <td>2020-03-30 14:25:00</td>\n",
       "      <td>33.5</td>\n",
       "      <td>11000</td>\n",
       "      <td>114</td>\n",
       "      <td>1</td>\n",
       "    </tr>\n",
       "    <tr>\n",
       "      <th>3964</th>\n",
       "      <td>2016-04-23</td>\n",
       "      <td>1.461420e+09</td>\n",
       "      <td>1.461478e+09</td>\n",
       "      <td>0.56</td>\n",
       "      <td>0.48</td>\n",
       "      <td>4.15</td>\n",
       "      <td>317.0</td>\n",
       "      <td>0.410</td>\n",
       "      <td>4.0</td>\n",
       "      <td>32.30</td>\n",
       "      <td>58.76</td>\n",
       "      <td>None</td>\n",
       "      <td>0.0000</td>\n",
       "      <td>0.0</td>\n",
       "      <td>2020-03-30 15:39:00</td>\n",
       "      <td>32.3</td>\n",
       "      <td>17300</td>\n",
       "      <td>114</td>\n",
       "      <td>1</td>\n",
       "    </tr>\n",
       "    <tr>\n",
       "      <th>4123</th>\n",
       "      <td>2017-05-01</td>\n",
       "      <td>1.493645e+09</td>\n",
       "      <td>1.493706e+09</td>\n",
       "      <td>0.22</td>\n",
       "      <td>0.44</td>\n",
       "      <td>3.54</td>\n",
       "      <td>96.0</td>\n",
       "      <td>0.120</td>\n",
       "      <td>4.0</td>\n",
       "      <td>36.37</td>\n",
       "      <td>56.14</td>\n",
       "      <td>None</td>\n",
       "      <td>0.0000</td>\n",
       "      <td>0.0</td>\n",
       "      <td>2020-03-30 12:00:00</td>\n",
       "      <td>29.7</td>\n",
       "      <td>19600</td>\n",
       "      <td>121</td>\n",
       "      <td>1</td>\n",
       "    </tr>\n",
       "    <tr>\n",
       "      <th>4274</th>\n",
       "      <td>2018-05-01</td>\n",
       "      <td>1.525181e+09</td>\n",
       "      <td>1.525242e+09</td>\n",
       "      <td>0.57</td>\n",
       "      <td>0.71</td>\n",
       "      <td>4.58</td>\n",
       "      <td>226.0</td>\n",
       "      <td>0.910</td>\n",
       "      <td>3.0</td>\n",
       "      <td>32.30</td>\n",
       "      <td>43.48</td>\n",
       "      <td>rain</td>\n",
       "      <td>0.0005</td>\n",
       "      <td>0.0</td>\n",
       "      <td>2020-03-30 13:18:00</td>\n",
       "      <td>25.0</td>\n",
       "      <td>14000</td>\n",
       "      <td>121</td>\n",
       "      <td>1</td>\n",
       "    </tr>\n",
       "    <tr>\n",
       "      <th>4408</th>\n",
       "      <td>2019-04-14</td>\n",
       "      <td>1.555252e+09</td>\n",
       "      <td>1.555306e+09</td>\n",
       "      <td>0.34</td>\n",
       "      <td>0.67</td>\n",
       "      <td>4.90</td>\n",
       "      <td>338.0</td>\n",
       "      <td>0.540</td>\n",
       "      <td>2.0</td>\n",
       "      <td>32.54</td>\n",
       "      <td>47.91</td>\n",
       "      <td>rain</td>\n",
       "      <td>0.0003</td>\n",
       "      <td>0.0</td>\n",
       "      <td>2020-03-30 00:21:00</td>\n",
       "      <td>25.3</td>\n",
       "      <td>12700</td>\n",
       "      <td>104</td>\n",
       "      <td>1</td>\n",
       "    </tr>\n",
       "  </tbody>\n",
       "</table>\n",
       "</div>"
      ],
      "text/plain": [
       "           Date   sunriseTime    sunsetTime  moonPhase  humidity  windSpeed  \\\n",
       "108  1989-05-01  6.100323e+08  6.100934e+08       0.87      0.47       3.72   \n",
       "252  1990-04-24  6.409650e+08  6.410233e+08       0.00      0.61       0.00   \n",
       "400  1991-05-01  6.731044e+08  6.731654e+08       0.60      0.49       4.13   \n",
       "556  1992-05-14  7.058471e+08  7.059137e+08       0.45      0.49       5.83   \n",
       "684  1993-04-23  7.355732e+08  7.356311e+08       0.07      0.52       7.72   \n",
       "839  1994-04-29  7.676264e+08  7.676866e+08       0.67      0.31       4.39   \n",
       "1007 1996-05-05  8.313018e+08  8.313647e+08       0.60      0.44       4.42   \n",
       "1153 1997-04-30  8.624069e+08  8.624677e+08       0.79      0.48       4.05   \n",
       "1291 1998-04-20  8.930811e+08  8.931377e+08       0.80      0.60       4.06   \n",
       "1577 2000-05-01  9.571874e+08  9.572488e+08       0.93      0.46       4.97   \n",
       "1735 2001-05-08  9.893268e+08  9.893909e+08       0.56      0.53       5.77   \n",
       "1875 2002-05-07  1.020777e+09  1.020840e+09       0.87      0.71       3.66   \n",
       "2003 2003-04-29  1.051623e+09  1.051683e+09       0.96      0.60       5.62   \n",
       "2150 2004-04-24  1.082814e+09  1.082873e+09       0.17      0.58       6.57   \n",
       "2305 2005-04-28  1.114695e+09  1.114755e+09       0.67      0.43       8.07   \n",
       "2460 2006-05-02  1.146576e+09  1.146638e+09       0.19      0.41       6.15   \n",
       "2606 2007-04-27  1.177681e+09  1.177741e+09       0.37      0.40       6.11   \n",
       "2767 2008-05-06  1.210079e+09  1.210143e+09       0.07      0.63       3.89   \n",
       "2913 2009-05-01  1.241184e+09  1.241246e+09       0.26      0.32       1.95   \n",
       "3062 2010-04-29  1.272548e+09  1.272608e+09       0.56      0.43       3.15   \n",
       "3218 2011-05-04  1.304515e+09  1.304577e+09       0.06      0.47       3.02   \n",
       "3359 2012-04-23  1.335189e+09  1.335247e+09       0.09      0.57       3.71   \n",
       "3537 2013-05-20  1.369052e+09  1.369121e+09       0.35      0.35       3.34   \n",
       "3663 2014-04-25  1.398434e+09  1.398492e+09       0.89      0.47       5.51   \n",
       "3813 2015-04-24  1.429883e+09  1.429942e+09       0.23      0.27       3.79   \n",
       "3964 2016-04-23  1.461420e+09  1.461478e+09       0.56      0.48       4.15   \n",
       "4123 2017-05-01  1.493645e+09  1.493706e+09       0.22      0.44       3.54   \n",
       "4274 2018-05-01  1.525181e+09  1.525242e+09       0.57      0.71       4.58   \n",
       "4408 2019-04-14  1.555252e+09  1.555306e+09       0.34      0.67       4.90   \n",
       "\n",
       "      windBearing  cloudCover  uvIndex  temperatureMin  temperatureMax  \\\n",
       "108         277.0       0.140      4.0           36.22           61.53   \n",
       "252           0.0       0.160      4.0           28.66           44.74   \n",
       "400         139.0       0.100      4.0           31.43           57.62   \n",
       "556         239.0       0.320      5.0           30.52           51.11   \n",
       "684         330.0       0.020      4.0           31.28           45.50   \n",
       "839          22.0       0.130      4.0           26.51           59.54   \n",
       "1007         64.0       0.380      4.0           32.47           53.42   \n",
       "1153        252.0       0.565      1.5           25.75           61.35   \n",
       "1291        287.0       0.350      3.0           25.97           52.56   \n",
       "1577        211.0       0.880      4.0           34.92           55.95   \n",
       "1735        263.0       0.620      4.0           27.85           48.88   \n",
       "1875        169.0       0.840      3.0           29.46           48.75   \n",
       "2003        293.0       0.320      4.0           29.69           50.88   \n",
       "2150         74.0       0.170      4.0           27.74           54.41   \n",
       "2305         19.0       0.000      4.0           29.69           66.98   \n",
       "2460        107.0       0.070      4.0           25.96           56.10   \n",
       "2606        313.0       0.430      4.0           29.56           45.49   \n",
       "2767          6.0       0.300      4.0           27.57           58.02   \n",
       "2913        308.0       0.000      4.0           34.03           74.46   \n",
       "3062        164.0       0.580      4.0           40.26           64.16   \n",
       "3218        308.0       0.400      4.0           28.74           51.87   \n",
       "3359         70.0       0.130      4.0           28.02           58.23   \n",
       "3537        129.0       0.000      5.0           27.93           54.95   \n",
       "3663        133.0       0.330      4.0           31.55           54.55   \n",
       "3813         99.0       0.000      4.0           32.33           56.99   \n",
       "3964        317.0       0.410      4.0           32.30           58.76   \n",
       "4123         96.0       0.120      4.0           36.37           56.14   \n",
       "4274        226.0       0.910      3.0           32.30           43.48   \n",
       "4408        338.0       0.540      2.0           32.54           47.91   \n",
       "\n",
       "     precipType  precipIntensity  precipAccumulation          winningTime  \\\n",
       "108        None           0.0000                 0.0  2020-03-30 20:14:00   \n",
       "252        None           0.0000                 0.0  2020-03-30 17:19:00   \n",
       "400        None           0.0000                 0.0  2020-03-30 00:04:00   \n",
       "556        None           0.0000                 0.0  2020-03-30 06:26:00   \n",
       "684        None           0.0000                 0.0  2020-03-30 13:01:00   \n",
       "839        None           0.0000                 0.0  2020-03-30 23:01:00   \n",
       "1007       None           0.0000                 0.0  2020-03-30 12:32:00   \n",
       "1153       None           0.0000                 0.0  2020-03-30 10:28:00   \n",
       "1291       rain           0.0000                 0.0  2020-03-30 16:54:00   \n",
       "1577       None           0.0000                 0.0  2020-03-30 10:47:00   \n",
       "1735       None           0.0000                 0.0  2020-03-30 13:00:00   \n",
       "1875       None           0.0000                 0.0  2020-03-30 21:27:00   \n",
       "2003       None           0.0000                 0.0  2020-03-30 18:22:00   \n",
       "2150       None           0.0000                 0.0  2020-03-30 14:16:00   \n",
       "2305       None           0.0000                 0.0  2020-03-30 12:01:00   \n",
       "2460       None           0.0000                 0.0  2020-03-30 17:29:00   \n",
       "2606       None           0.0000                 0.0  2020-03-30 15:47:00   \n",
       "2767       None           0.0000                 0.0  2020-03-30 22:53:00   \n",
       "2913       None           0.0000                 0.0  2020-03-30 20:41:00   \n",
       "3062       None           0.0000                 0.0  2020-03-30 09:06:00   \n",
       "3218       None           0.0000                 0.0  2020-03-30 16:24:00   \n",
       "3359       None           0.0000                 0.0  2020-03-30 19:39:00   \n",
       "3537       None           0.0000                 0.0  2020-03-30 14:41:00   \n",
       "3663       None           0.0000                 0.0  2020-03-30 15:48:00   \n",
       "3813       None           0.0000                 0.0  2020-03-30 14:25:00   \n",
       "3964       None           0.0000                 0.0  2020-03-30 15:39:00   \n",
       "4123       None           0.0000                 0.0  2020-03-30 12:00:00   \n",
       "4274       rain           0.0005                 0.0  2020-03-30 13:18:00   \n",
       "4408       rain           0.0003                 0.0  2020-03-30 00:21:00   \n",
       "\n",
       "      iceThickness  flowVolume  dayOfYear  winningDate  \n",
       "108           40.0       62000        121            1  \n",
       "252           36.0       15000        114            1  \n",
       "400           38.0       40000        121            1  \n",
       "556           47.0       18000        135            1  \n",
       "684           25.0       19000        113            1  \n",
       "839           51.0       42000        119            1  \n",
       "1007          45.0       27000        126            1  \n",
       "1153          36.0       17000        120            1  \n",
       "1291          38.0       15500        110            1  \n",
       "1577          36.0       20000        122            1  \n",
       "1735          33.5       16500        128            1  \n",
       "1875          42.0       20000        127            1  \n",
       "2003          38.3       27000        119            1  \n",
       "2150          35.5       15000        115            1  \n",
       "2305          35.5       17000        118            1  \n",
       "2460          32.7       13000        122            1  \n",
       "2606          46.5       18000        117            1  \n",
       "2767          40.5       36000        127            1  \n",
       "2913          42.7       30000        121            1  \n",
       "3062          40.9       17000        119            1  \n",
       "3218          39.0       31500        124            1  \n",
       "3359          28.7       34000        114            1  \n",
       "3537          40.0       30000        140            1  \n",
       "3663          36.5       28100        115            1  \n",
       "3813          33.5       11000        114            1  \n",
       "3964          32.3       17300        114            1  \n",
       "4123          29.7       19600        121            1  \n",
       "4274          25.0       14000        121            1  \n",
       "4408          25.3       12700        104            1  "
      ]
     },
     "execution_count": 19,
     "metadata": {},
     "output_type": "execute_result"
    }
   ],
   "source": [
    "df.loc[df['winningDate'] == 1]"
   ]
  },
  {
   "cell_type": "markdown",
   "metadata": {},
   "source": [
    "The information for 1995 and 1999 are missing some dates, including the winning date. I decided to drop the data for those years, since there is no target as a result. Survival analysis would also falsely treat those years as censored."
   ]
  },
  {
   "cell_type": "code",
   "execution_count": 20,
   "metadata": {},
   "outputs": [],
   "source": [
    "drop_1995_1999 = df.loc[(df['Date'].dt.year == 1995)|(df['Date'].dt.year == 1999)].index"
   ]
  },
  {
   "cell_type": "code",
   "execution_count": 21,
   "metadata": {},
   "outputs": [],
   "source": [
    "df.drop(index = drop_1995_1999, inplace = True)"
   ]
  },
  {
   "cell_type": "markdown",
   "metadata": {},
   "source": [
    "Drop all records for a year that are after the ice broke."
   ]
  },
  {
   "cell_type": "code",
   "execution_count": 22,
   "metadata": {},
   "outputs": [],
   "source": [
    "year_list = sorted(list(set(df['Date'].dt.year)))"
   ]
  },
  {
   "cell_type": "code",
   "execution_count": 23,
   "metadata": {},
   "outputs": [
    {
     "name": "stdout",
     "output_type": "stream",
     "text": [
      "[1989, 1990, 1991, 1992, 1993, 1994, 1996, 1997, 1998, 2000, 2001, 2002, 2003, 2004, 2005, 2006, 2007, 2008, 2009, 2010, 2011, 2012, 2013, 2014, 2015, 2016, 2017, 2018, 2019]\n"
     ]
    }
   ],
   "source": [
    "print(year_list)"
   ]
  },
  {
   "cell_type": "code",
   "execution_count": 24,
   "metadata": {},
   "outputs": [
    {
     "data": {
      "text/plain": [
       "Int64Index([ 108,  252,  400,  556,  684,  839, 1007, 1153, 1291, 1577, 1735,\n",
       "            1875, 2003, 2150, 2305, 2460, 2606, 2767, 2913, 3062, 3218, 3359,\n",
       "            3537, 3663, 3813, 3964, 4123, 4274, 4408],\n",
       "           dtype='int64')"
      ]
     },
     "execution_count": 24,
     "metadata": {},
     "output_type": "execute_result"
    }
   ],
   "source": [
    "# get winning date indices\n",
    "idx_w = df.loc[df['winningDate'] == 1].index\n",
    "idx_w"
   ]
  },
  {
   "cell_type": "code",
   "execution_count": 25,
   "metadata": {},
   "outputs": [],
   "source": [
    "# make a list of indices to drop\n",
    "drop_index = []\n",
    "for i, year in enumerate(year_list):\n",
    "    idx_y = df.loc[df['Date'].dt.year == year].index\n",
    "    for idx in idx_y:\n",
    "        if idx > idx_w[i]:\n",
    "            drop_index.append(idx)\n",
    "        else:\n",
    "            pass"
   ]
  },
  {
   "cell_type": "code",
   "execution_count": 26,
   "metadata": {},
   "outputs": [],
   "source": [
    "# drop observations that occurred after the winning date in a year\n",
    "for idx in drop_index:\n",
    "    df.drop(index = idx, inplace = True)"
   ]
  },
  {
   "cell_type": "code",
   "execution_count": 27,
   "metadata": {},
   "outputs": [
    {
     "data": {
      "text/plain": [
       "(3336, 19)"
      ]
     },
     "execution_count": 27,
     "metadata": {},
     "output_type": "execute_result"
    }
   ],
   "source": [
    "df.shape"
   ]
  },
  {
   "cell_type": "code",
   "execution_count": 28,
   "metadata": {},
   "outputs": [
    {
     "name": "stdout",
     "output_type": "stream",
     "text": [
      "<class 'pandas.core.frame.DataFrame'>\n",
      "Int64Index: 3336 entries, 0 to 4408\n",
      "Data columns (total 19 columns):\n",
      " #   Column              Non-Null Count  Dtype         \n",
      "---  ------              --------------  -----         \n",
      " 0   Date                3336 non-null   datetime64[ns]\n",
      " 1   sunriseTime         3336 non-null   float64       \n",
      " 2   sunsetTime          3336 non-null   float64       \n",
      " 3   moonPhase           3336 non-null   float64       \n",
      " 4   humidity            3336 non-null   float64       \n",
      " 5   windSpeed           3336 non-null   float64       \n",
      " 6   windBearing         3336 non-null   float64       \n",
      " 7   cloudCover          3336 non-null   float64       \n",
      " 8   uvIndex             3336 non-null   float64       \n",
      " 9   temperatureMin      3336 non-null   float64       \n",
      " 10  temperatureMax      3336 non-null   float64       \n",
      " 11  precipType          3336 non-null   object        \n",
      " 12  precipIntensity     3336 non-null   float64       \n",
      " 13  precipAccumulation  3336 non-null   float64       \n",
      " 14  winningTime         3336 non-null   object        \n",
      " 15  iceThickness        3336 non-null   float64       \n",
      " 16  flowVolume          3336 non-null   int64         \n",
      " 17  dayOfYear           3336 non-null   int64         \n",
      " 18  winningDate         3336 non-null   int64         \n",
      "dtypes: datetime64[ns](1), float64(13), int64(3), object(2)\n",
      "memory usage: 521.2+ KB\n"
     ]
    }
   ],
   "source": [
    "df.info()"
   ]
  },
  {
   "cell_type": "markdown",
   "metadata": {},
   "source": [
    "### Calculate the number of hours of daylight\n",
    "Daylight hours fluctuate a lot in Alaska. Articles I had read about the NIC mention that things like how much snow covers the ice, and therefore how much direct sunlight the ice receives, affect the rate the river ice melts.\n",
    "\n",
    "I proxied snow depth with precipitation measurements. I theorized that the number of sunlight hours in a day may be a proxy for how much sunlight the river ice receives. I also had information regarding cloud cover which may help in that regard.\n",
    "\n",
    "I calculated the number of daylight hours as a percentage of the day. That way its value is already scaled for use in modeling later."
   ]
  },
  {
   "cell_type": "code",
   "execution_count": 29,
   "metadata": {},
   "outputs": [],
   "source": [
    "def calc_daylight(sunrise, sunset):\n",
    "    daylight_hours = (sunset - sunrise) / 60 / 60 /24\n",
    "    return daylight_hours"
   ]
  },
  {
   "cell_type": "code",
   "execution_count": 30,
   "metadata": {},
   "outputs": [],
   "source": [
    "df['daylightHours'] = calc_daylight(df['sunriseTime'], df['sunsetTime'])"
   ]
  },
  {
   "cell_type": "code",
   "execution_count": 31,
   "metadata": {},
   "outputs": [
    {
     "data": {
      "text/html": [
       "<div>\n",
       "<style scoped>\n",
       "    .dataframe tbody tr th:only-of-type {\n",
       "        vertical-align: middle;\n",
       "    }\n",
       "\n",
       "    .dataframe tbody tr th {\n",
       "        vertical-align: top;\n",
       "    }\n",
       "\n",
       "    .dataframe thead th {\n",
       "        text-align: right;\n",
       "    }\n",
       "</style>\n",
       "<table border=\"1\" class=\"dataframe\">\n",
       "  <thead>\n",
       "    <tr style=\"text-align: right;\">\n",
       "      <th></th>\n",
       "      <th>Date</th>\n",
       "      <th>sunriseTime</th>\n",
       "      <th>sunsetTime</th>\n",
       "      <th>moonPhase</th>\n",
       "      <th>humidity</th>\n",
       "      <th>windSpeed</th>\n",
       "      <th>windBearing</th>\n",
       "      <th>cloudCover</th>\n",
       "      <th>uvIndex</th>\n",
       "      <th>temperatureMin</th>\n",
       "      <th>temperatureMax</th>\n",
       "      <th>precipType</th>\n",
       "      <th>precipIntensity</th>\n",
       "      <th>precipAccumulation</th>\n",
       "      <th>winningTime</th>\n",
       "      <th>iceThickness</th>\n",
       "      <th>flowVolume</th>\n",
       "      <th>dayOfYear</th>\n",
       "      <th>winningDate</th>\n",
       "      <th>daylightHours</th>\n",
       "    </tr>\n",
       "  </thead>\n",
       "  <tbody>\n",
       "    <tr>\n",
       "      <th>0</th>\n",
       "      <td>1989-01-01</td>\n",
       "      <td>599687760.0</td>\n",
       "      <td>599702820.0</td>\n",
       "      <td>0.81</td>\n",
       "      <td>0.83</td>\n",
       "      <td>4.67</td>\n",
       "      <td>148.0</td>\n",
       "      <td>0.18</td>\n",
       "      <td>0.0</td>\n",
       "      <td>3.68</td>\n",
       "      <td>25.80</td>\n",
       "      <td>None</td>\n",
       "      <td>0.0</td>\n",
       "      <td>0.0</td>\n",
       "      <td>0</td>\n",
       "      <td>42.0</td>\n",
       "      <td>7600</td>\n",
       "      <td>1</td>\n",
       "      <td>0</td>\n",
       "      <td>0.174306</td>\n",
       "    </tr>\n",
       "    <tr>\n",
       "      <th>1</th>\n",
       "      <td>1989-01-02</td>\n",
       "      <td>599774040.0</td>\n",
       "      <td>599789340.0</td>\n",
       "      <td>0.84</td>\n",
       "      <td>0.80</td>\n",
       "      <td>4.30</td>\n",
       "      <td>131.0</td>\n",
       "      <td>0.16</td>\n",
       "      <td>0.0</td>\n",
       "      <td>-8.27</td>\n",
       "      <td>24.93</td>\n",
       "      <td>None</td>\n",
       "      <td>0.0</td>\n",
       "      <td>0.0</td>\n",
       "      <td>0</td>\n",
       "      <td>42.0</td>\n",
       "      <td>7600</td>\n",
       "      <td>2</td>\n",
       "      <td>0</td>\n",
       "      <td>0.177083</td>\n",
       "    </tr>\n",
       "    <tr>\n",
       "      <th>2</th>\n",
       "      <td>1989-01-03</td>\n",
       "      <td>599860380.0</td>\n",
       "      <td>599875920.0</td>\n",
       "      <td>0.88</td>\n",
       "      <td>0.69</td>\n",
       "      <td>2.26</td>\n",
       "      <td>104.0</td>\n",
       "      <td>0.22</td>\n",
       "      <td>0.0</td>\n",
       "      <td>-10.28</td>\n",
       "      <td>4.69</td>\n",
       "      <td>None</td>\n",
       "      <td>0.0</td>\n",
       "      <td>0.0</td>\n",
       "      <td>0</td>\n",
       "      <td>42.0</td>\n",
       "      <td>7600</td>\n",
       "      <td>3</td>\n",
       "      <td>0</td>\n",
       "      <td>0.179861</td>\n",
       "    </tr>\n",
       "    <tr>\n",
       "      <th>3</th>\n",
       "      <td>1989-01-04</td>\n",
       "      <td>599946720.0</td>\n",
       "      <td>599962440.0</td>\n",
       "      <td>0.91</td>\n",
       "      <td>0.60</td>\n",
       "      <td>7.51</td>\n",
       "      <td>69.0</td>\n",
       "      <td>0.17</td>\n",
       "      <td>0.0</td>\n",
       "      <td>-16.58</td>\n",
       "      <td>7.67</td>\n",
       "      <td>None</td>\n",
       "      <td>0.0</td>\n",
       "      <td>0.0</td>\n",
       "      <td>0</td>\n",
       "      <td>42.0</td>\n",
       "      <td>7600</td>\n",
       "      <td>4</td>\n",
       "      <td>0</td>\n",
       "      <td>0.181944</td>\n",
       "    </tr>\n",
       "    <tr>\n",
       "      <th>4</th>\n",
       "      <td>1989-01-05</td>\n",
       "      <td>600033000.0</td>\n",
       "      <td>600048960.0</td>\n",
       "      <td>0.94</td>\n",
       "      <td>0.71</td>\n",
       "      <td>7.30</td>\n",
       "      <td>78.0</td>\n",
       "      <td>0.13</td>\n",
       "      <td>0.0</td>\n",
       "      <td>2.57</td>\n",
       "      <td>14.70</td>\n",
       "      <td>None</td>\n",
       "      <td>0.0</td>\n",
       "      <td>0.0</td>\n",
       "      <td>0</td>\n",
       "      <td>42.0</td>\n",
       "      <td>7600</td>\n",
       "      <td>5</td>\n",
       "      <td>0</td>\n",
       "      <td>0.184722</td>\n",
       "    </tr>\n",
       "  </tbody>\n",
       "</table>\n",
       "</div>"
      ],
      "text/plain": [
       "        Date  sunriseTime   sunsetTime  moonPhase  humidity  windSpeed  \\\n",
       "0 1989-01-01  599687760.0  599702820.0       0.81      0.83       4.67   \n",
       "1 1989-01-02  599774040.0  599789340.0       0.84      0.80       4.30   \n",
       "2 1989-01-03  599860380.0  599875920.0       0.88      0.69       2.26   \n",
       "3 1989-01-04  599946720.0  599962440.0       0.91      0.60       7.51   \n",
       "4 1989-01-05  600033000.0  600048960.0       0.94      0.71       7.30   \n",
       "\n",
       "   windBearing  cloudCover  uvIndex  temperatureMin  temperatureMax  \\\n",
       "0        148.0        0.18      0.0            3.68           25.80   \n",
       "1        131.0        0.16      0.0           -8.27           24.93   \n",
       "2        104.0        0.22      0.0          -10.28            4.69   \n",
       "3         69.0        0.17      0.0          -16.58            7.67   \n",
       "4         78.0        0.13      0.0            2.57           14.70   \n",
       "\n",
       "  precipType  precipIntensity  precipAccumulation winningTime  iceThickness  \\\n",
       "0       None              0.0                 0.0           0          42.0   \n",
       "1       None              0.0                 0.0           0          42.0   \n",
       "2       None              0.0                 0.0           0          42.0   \n",
       "3       None              0.0                 0.0           0          42.0   \n",
       "4       None              0.0                 0.0           0          42.0   \n",
       "\n",
       "   flowVolume  dayOfYear  winningDate  daylightHours  \n",
       "0        7600          1            0       0.174306  \n",
       "1        7600          2            0       0.177083  \n",
       "2        7600          3            0       0.179861  \n",
       "3        7600          4            0       0.181944  \n",
       "4        7600          5            0       0.184722  "
      ]
     },
     "execution_count": 31,
     "metadata": {},
     "output_type": "execute_result"
    }
   ],
   "source": [
    "df.head()"
   ]
  },
  {
   "cell_type": "code",
   "execution_count": 32,
   "metadata": {},
   "outputs": [
    {
     "data": {
      "text/plain": [
       "0.184722    13\n",
       "0.188194    13\n",
       "0.179167    12\n",
       "0.174306    12\n",
       "0.177778    11\n",
       "            ..\n",
       "0.443750     1\n",
       "0.273611     1\n",
       "0.726389     1\n",
       "0.302778     1\n",
       "0.364583     1\n",
       "Name: daylightHours, Length: 748, dtype: int64"
      ]
     },
     "execution_count": 32,
     "metadata": {},
     "output_type": "execute_result"
    }
   ],
   "source": [
    "df['daylightHours'].value_counts()"
   ]
  },
  {
   "cell_type": "code",
   "execution_count": 33,
   "metadata": {},
   "outputs": [],
   "source": [
    "df.drop(columns = ['sunriseTime', 'sunsetTime'], inplace = True)"
   ]
  },
  {
   "cell_type": "code",
   "execution_count": 34,
   "metadata": {},
   "outputs": [],
   "source": [
    "df['past'] = (df['Date'] < '2015-01-01').astype(np.int)"
   ]
  },
  {
   "cell_type": "code",
   "execution_count": 35,
   "metadata": {},
   "outputs": [],
   "source": [
    "df['future'] = 1 - df['past']"
   ]
  },
  {
   "cell_type": "code",
   "execution_count": 36,
   "metadata": {},
   "outputs": [
    {
     "data": {
      "text/html": [
       "<div>\n",
       "<style scoped>\n",
       "    .dataframe tbody tr th:only-of-type {\n",
       "        vertical-align: middle;\n",
       "    }\n",
       "\n",
       "    .dataframe tbody tr th {\n",
       "        vertical-align: top;\n",
       "    }\n",
       "\n",
       "    .dataframe thead th {\n",
       "        text-align: right;\n",
       "    }\n",
       "</style>\n",
       "<table border=\"1\" class=\"dataframe\">\n",
       "  <thead>\n",
       "    <tr style=\"text-align: right;\">\n",
       "      <th></th>\n",
       "      <th>Date</th>\n",
       "      <th>moonPhase</th>\n",
       "      <th>humidity</th>\n",
       "      <th>windSpeed</th>\n",
       "      <th>windBearing</th>\n",
       "      <th>cloudCover</th>\n",
       "      <th>uvIndex</th>\n",
       "      <th>temperatureMin</th>\n",
       "      <th>temperatureMax</th>\n",
       "      <th>precipType</th>\n",
       "      <th>precipIntensity</th>\n",
       "      <th>precipAccumulation</th>\n",
       "      <th>winningTime</th>\n",
       "      <th>iceThickness</th>\n",
       "      <th>flowVolume</th>\n",
       "      <th>dayOfYear</th>\n",
       "      <th>winningDate</th>\n",
       "      <th>daylightHours</th>\n",
       "      <th>past</th>\n",
       "      <th>future</th>\n",
       "    </tr>\n",
       "  </thead>\n",
       "  <tbody>\n",
       "    <tr>\n",
       "      <th>0</th>\n",
       "      <td>1989-01-01</td>\n",
       "      <td>0.81</td>\n",
       "      <td>0.83</td>\n",
       "      <td>4.67</td>\n",
       "      <td>148.0</td>\n",
       "      <td>0.18</td>\n",
       "      <td>0.0</td>\n",
       "      <td>3.68</td>\n",
       "      <td>25.80</td>\n",
       "      <td>None</td>\n",
       "      <td>0.0000</td>\n",
       "      <td>0.0</td>\n",
       "      <td>0</td>\n",
       "      <td>42.0</td>\n",
       "      <td>7600</td>\n",
       "      <td>1</td>\n",
       "      <td>0</td>\n",
       "      <td>0.174306</td>\n",
       "      <td>1</td>\n",
       "      <td>0</td>\n",
       "    </tr>\n",
       "    <tr>\n",
       "      <th>1</th>\n",
       "      <td>1989-01-02</td>\n",
       "      <td>0.84</td>\n",
       "      <td>0.80</td>\n",
       "      <td>4.30</td>\n",
       "      <td>131.0</td>\n",
       "      <td>0.16</td>\n",
       "      <td>0.0</td>\n",
       "      <td>-8.27</td>\n",
       "      <td>24.93</td>\n",
       "      <td>None</td>\n",
       "      <td>0.0000</td>\n",
       "      <td>0.0</td>\n",
       "      <td>0</td>\n",
       "      <td>42.0</td>\n",
       "      <td>7600</td>\n",
       "      <td>2</td>\n",
       "      <td>0</td>\n",
       "      <td>0.177083</td>\n",
       "      <td>1</td>\n",
       "      <td>0</td>\n",
       "    </tr>\n",
       "    <tr>\n",
       "      <th>2</th>\n",
       "      <td>1989-01-03</td>\n",
       "      <td>0.88</td>\n",
       "      <td>0.69</td>\n",
       "      <td>2.26</td>\n",
       "      <td>104.0</td>\n",
       "      <td>0.22</td>\n",
       "      <td>0.0</td>\n",
       "      <td>-10.28</td>\n",
       "      <td>4.69</td>\n",
       "      <td>None</td>\n",
       "      <td>0.0000</td>\n",
       "      <td>0.0</td>\n",
       "      <td>0</td>\n",
       "      <td>42.0</td>\n",
       "      <td>7600</td>\n",
       "      <td>3</td>\n",
       "      <td>0</td>\n",
       "      <td>0.179861</td>\n",
       "      <td>1</td>\n",
       "      <td>0</td>\n",
       "    </tr>\n",
       "    <tr>\n",
       "      <th>4406</th>\n",
       "      <td>2019-04-12</td>\n",
       "      <td>0.27</td>\n",
       "      <td>0.60</td>\n",
       "      <td>2.50</td>\n",
       "      <td>322.0</td>\n",
       "      <td>0.84</td>\n",
       "      <td>2.0</td>\n",
       "      <td>33.09</td>\n",
       "      <td>46.88</td>\n",
       "      <td>None</td>\n",
       "      <td>0.0000</td>\n",
       "      <td>0.0</td>\n",
       "      <td>0</td>\n",
       "      <td>25.3</td>\n",
       "      <td>11400</td>\n",
       "      <td>102</td>\n",
       "      <td>0</td>\n",
       "      <td>0.616667</td>\n",
       "      <td>0</td>\n",
       "      <td>1</td>\n",
       "    </tr>\n",
       "    <tr>\n",
       "      <th>4407</th>\n",
       "      <td>2019-04-13</td>\n",
       "      <td>0.30</td>\n",
       "      <td>0.70</td>\n",
       "      <td>2.14</td>\n",
       "      <td>16.0</td>\n",
       "      <td>0.90</td>\n",
       "      <td>2.0</td>\n",
       "      <td>33.09</td>\n",
       "      <td>49.34</td>\n",
       "      <td>rain</td>\n",
       "      <td>0.0007</td>\n",
       "      <td>0.0</td>\n",
       "      <td>0</td>\n",
       "      <td>25.3</td>\n",
       "      <td>12100</td>\n",
       "      <td>103</td>\n",
       "      <td>0</td>\n",
       "      <td>0.622222</td>\n",
       "      <td>0</td>\n",
       "      <td>1</td>\n",
       "    </tr>\n",
       "    <tr>\n",
       "      <th>4408</th>\n",
       "      <td>2019-04-14</td>\n",
       "      <td>0.34</td>\n",
       "      <td>0.67</td>\n",
       "      <td>4.90</td>\n",
       "      <td>338.0</td>\n",
       "      <td>0.54</td>\n",
       "      <td>2.0</td>\n",
       "      <td>32.54</td>\n",
       "      <td>47.91</td>\n",
       "      <td>rain</td>\n",
       "      <td>0.0003</td>\n",
       "      <td>0.0</td>\n",
       "      <td>2020-03-30 00:21:00</td>\n",
       "      <td>25.3</td>\n",
       "      <td>12700</td>\n",
       "      <td>104</td>\n",
       "      <td>1</td>\n",
       "      <td>0.626389</td>\n",
       "      <td>0</td>\n",
       "      <td>1</td>\n",
       "    </tr>\n",
       "  </tbody>\n",
       "</table>\n",
       "</div>"
      ],
      "text/plain": [
       "           Date  moonPhase  humidity  windSpeed  windBearing  cloudCover  \\\n",
       "0    1989-01-01       0.81      0.83       4.67        148.0        0.18   \n",
       "1    1989-01-02       0.84      0.80       4.30        131.0        0.16   \n",
       "2    1989-01-03       0.88      0.69       2.26        104.0        0.22   \n",
       "4406 2019-04-12       0.27      0.60       2.50        322.0        0.84   \n",
       "4407 2019-04-13       0.30      0.70       2.14         16.0        0.90   \n",
       "4408 2019-04-14       0.34      0.67       4.90        338.0        0.54   \n",
       "\n",
       "      uvIndex  temperatureMin  temperatureMax precipType  precipIntensity  \\\n",
       "0         0.0            3.68           25.80       None           0.0000   \n",
       "1         0.0           -8.27           24.93       None           0.0000   \n",
       "2         0.0          -10.28            4.69       None           0.0000   \n",
       "4406      2.0           33.09           46.88       None           0.0000   \n",
       "4407      2.0           33.09           49.34       rain           0.0007   \n",
       "4408      2.0           32.54           47.91       rain           0.0003   \n",
       "\n",
       "      precipAccumulation          winningTime  iceThickness  flowVolume  \\\n",
       "0                    0.0                    0          42.0        7600   \n",
       "1                    0.0                    0          42.0        7600   \n",
       "2                    0.0                    0          42.0        7600   \n",
       "4406                 0.0                    0          25.3       11400   \n",
       "4407                 0.0                    0          25.3       12100   \n",
       "4408                 0.0  2020-03-30 00:21:00          25.3       12700   \n",
       "\n",
       "      dayOfYear  winningDate  daylightHours  past  future  \n",
       "0             1            0       0.174306     1       0  \n",
       "1             2            0       0.177083     1       0  \n",
       "2             3            0       0.179861     1       0  \n",
       "4406        102            0       0.616667     0       1  \n",
       "4407        103            0       0.622222     0       1  \n",
       "4408        104            1       0.626389     0       1  "
      ]
     },
     "execution_count": 36,
     "metadata": {},
     "output_type": "execute_result"
    }
   ],
   "source": [
    "df.head(3).append(df.tail(3))"
   ]
  },
  {
   "cell_type": "code",
   "execution_count": 37,
   "metadata": {},
   "outputs": [
    {
     "data": {
      "text/plain": [
       "None    2657\n",
       "snow     627\n",
       "rain      52\n",
       "Name: precipType, dtype: int64"
      ]
     },
     "execution_count": 37,
     "metadata": {},
     "output_type": "execute_result"
    }
   ],
   "source": [
    "df['precipType'].value_counts()"
   ]
  },
  {
   "cell_type": "code",
   "execution_count": 38,
   "metadata": {},
   "outputs": [],
   "source": [
    "# encode precipType\n",
    "df = df.merge(pd.get_dummies(data = df['precipType'], prefix = 'precip', drop_first = True, sparse = True),\n",
    "              how = 'left', left_index = True, right_index = True)"
   ]
  },
  {
   "cell_type": "code",
   "execution_count": 39,
   "metadata": {},
   "outputs": [
    {
     "data": {
      "text/plain": [
       "0"
      ]
     },
     "execution_count": 39,
     "metadata": {},
     "output_type": "execute_result"
    }
   ],
   "source": [
    "# drop precipType after encoding\n",
    "df.drop(columns = 'precipType', inplace = True)\n",
    "gc.collect()"
   ]
  },
  {
   "cell_type": "code",
   "execution_count": 40,
   "metadata": {},
   "outputs": [
    {
     "data": {
      "text/html": [
       "<div>\n",
       "<style scoped>\n",
       "    .dataframe tbody tr th:only-of-type {\n",
       "        vertical-align: middle;\n",
       "    }\n",
       "\n",
       "    .dataframe tbody tr th {\n",
       "        vertical-align: top;\n",
       "    }\n",
       "\n",
       "    .dataframe thead th {\n",
       "        text-align: right;\n",
       "    }\n",
       "</style>\n",
       "<table border=\"1\" class=\"dataframe\">\n",
       "  <thead>\n",
       "    <tr style=\"text-align: right;\">\n",
       "      <th></th>\n",
       "      <th>Date</th>\n",
       "      <th>moonPhase</th>\n",
       "      <th>humidity</th>\n",
       "      <th>windSpeed</th>\n",
       "      <th>windBearing</th>\n",
       "      <th>cloudCover</th>\n",
       "      <th>uvIndex</th>\n",
       "      <th>temperatureMin</th>\n",
       "      <th>temperatureMax</th>\n",
       "      <th>precipIntensity</th>\n",
       "      <th>...</th>\n",
       "      <th>winningTime</th>\n",
       "      <th>iceThickness</th>\n",
       "      <th>flowVolume</th>\n",
       "      <th>dayOfYear</th>\n",
       "      <th>winningDate</th>\n",
       "      <th>daylightHours</th>\n",
       "      <th>past</th>\n",
       "      <th>future</th>\n",
       "      <th>precip_rain</th>\n",
       "      <th>precip_snow</th>\n",
       "    </tr>\n",
       "  </thead>\n",
       "  <tbody>\n",
       "    <tr>\n",
       "      <th>0</th>\n",
       "      <td>1989-01-01</td>\n",
       "      <td>0.81</td>\n",
       "      <td>0.83</td>\n",
       "      <td>4.67</td>\n",
       "      <td>148.0</td>\n",
       "      <td>0.18</td>\n",
       "      <td>0.0</td>\n",
       "      <td>3.68</td>\n",
       "      <td>25.80</td>\n",
       "      <td>0.0</td>\n",
       "      <td>...</td>\n",
       "      <td>0</td>\n",
       "      <td>42.0</td>\n",
       "      <td>7600</td>\n",
       "      <td>1</td>\n",
       "      <td>0</td>\n",
       "      <td>0.174306</td>\n",
       "      <td>1</td>\n",
       "      <td>0</td>\n",
       "      <td>0</td>\n",
       "      <td>0</td>\n",
       "    </tr>\n",
       "    <tr>\n",
       "      <th>1</th>\n",
       "      <td>1989-01-02</td>\n",
       "      <td>0.84</td>\n",
       "      <td>0.80</td>\n",
       "      <td>4.30</td>\n",
       "      <td>131.0</td>\n",
       "      <td>0.16</td>\n",
       "      <td>0.0</td>\n",
       "      <td>-8.27</td>\n",
       "      <td>24.93</td>\n",
       "      <td>0.0</td>\n",
       "      <td>...</td>\n",
       "      <td>0</td>\n",
       "      <td>42.0</td>\n",
       "      <td>7600</td>\n",
       "      <td>2</td>\n",
       "      <td>0</td>\n",
       "      <td>0.177083</td>\n",
       "      <td>1</td>\n",
       "      <td>0</td>\n",
       "      <td>0</td>\n",
       "      <td>0</td>\n",
       "    </tr>\n",
       "    <tr>\n",
       "      <th>2</th>\n",
       "      <td>1989-01-03</td>\n",
       "      <td>0.88</td>\n",
       "      <td>0.69</td>\n",
       "      <td>2.26</td>\n",
       "      <td>104.0</td>\n",
       "      <td>0.22</td>\n",
       "      <td>0.0</td>\n",
       "      <td>-10.28</td>\n",
       "      <td>4.69</td>\n",
       "      <td>0.0</td>\n",
       "      <td>...</td>\n",
       "      <td>0</td>\n",
       "      <td>42.0</td>\n",
       "      <td>7600</td>\n",
       "      <td>3</td>\n",
       "      <td>0</td>\n",
       "      <td>0.179861</td>\n",
       "      <td>1</td>\n",
       "      <td>0</td>\n",
       "      <td>0</td>\n",
       "      <td>0</td>\n",
       "    </tr>\n",
       "    <tr>\n",
       "      <th>3</th>\n",
       "      <td>1989-01-04</td>\n",
       "      <td>0.91</td>\n",
       "      <td>0.60</td>\n",
       "      <td>7.51</td>\n",
       "      <td>69.0</td>\n",
       "      <td>0.17</td>\n",
       "      <td>0.0</td>\n",
       "      <td>-16.58</td>\n",
       "      <td>7.67</td>\n",
       "      <td>0.0</td>\n",
       "      <td>...</td>\n",
       "      <td>0</td>\n",
       "      <td>42.0</td>\n",
       "      <td>7600</td>\n",
       "      <td>4</td>\n",
       "      <td>0</td>\n",
       "      <td>0.181944</td>\n",
       "      <td>1</td>\n",
       "      <td>0</td>\n",
       "      <td>0</td>\n",
       "      <td>0</td>\n",
       "    </tr>\n",
       "    <tr>\n",
       "      <th>4</th>\n",
       "      <td>1989-01-05</td>\n",
       "      <td>0.94</td>\n",
       "      <td>0.71</td>\n",
       "      <td>7.30</td>\n",
       "      <td>78.0</td>\n",
       "      <td>0.13</td>\n",
       "      <td>0.0</td>\n",
       "      <td>2.57</td>\n",
       "      <td>14.70</td>\n",
       "      <td>0.0</td>\n",
       "      <td>...</td>\n",
       "      <td>0</td>\n",
       "      <td>42.0</td>\n",
       "      <td>7600</td>\n",
       "      <td>5</td>\n",
       "      <td>0</td>\n",
       "      <td>0.184722</td>\n",
       "      <td>1</td>\n",
       "      <td>0</td>\n",
       "      <td>0</td>\n",
       "      <td>0</td>\n",
       "    </tr>\n",
       "  </tbody>\n",
       "</table>\n",
       "<p>5 rows × 21 columns</p>\n",
       "</div>"
      ],
      "text/plain": [
       "        Date  moonPhase  humidity  windSpeed  windBearing  cloudCover  \\\n",
       "0 1989-01-01       0.81      0.83       4.67        148.0        0.18   \n",
       "1 1989-01-02       0.84      0.80       4.30        131.0        0.16   \n",
       "2 1989-01-03       0.88      0.69       2.26        104.0        0.22   \n",
       "3 1989-01-04       0.91      0.60       7.51         69.0        0.17   \n",
       "4 1989-01-05       0.94      0.71       7.30         78.0        0.13   \n",
       "\n",
       "   uvIndex  temperatureMin  temperatureMax  precipIntensity  ...  winningTime  \\\n",
       "0      0.0            3.68           25.80              0.0  ...            0   \n",
       "1      0.0           -8.27           24.93              0.0  ...            0   \n",
       "2      0.0          -10.28            4.69              0.0  ...            0   \n",
       "3      0.0          -16.58            7.67              0.0  ...            0   \n",
       "4      0.0            2.57           14.70              0.0  ...            0   \n",
       "\n",
       "  iceThickness  flowVolume  dayOfYear  winningDate  daylightHours  past  \\\n",
       "0         42.0        7600          1            0       0.174306     1   \n",
       "1         42.0        7600          2            0       0.177083     1   \n",
       "2         42.0        7600          3            0       0.179861     1   \n",
       "3         42.0        7600          4            0       0.181944     1   \n",
       "4         42.0        7600          5            0       0.184722     1   \n",
       "\n",
       "   future  precip_rain  precip_snow  \n",
       "0       0            0            0  \n",
       "1       0            0            0  \n",
       "2       0            0            0  \n",
       "3       0            0            0  \n",
       "4       0            0            0  \n",
       "\n",
       "[5 rows x 21 columns]"
      ]
     },
     "execution_count": 40,
     "metadata": {},
     "output_type": "execute_result"
    }
   ],
   "source": [
    "df.head()"
   ]
  },
  {
   "cell_type": "markdown",
   "metadata": {},
   "source": [
    "Create column for daily average temperature"
   ]
  },
  {
   "cell_type": "code",
   "execution_count": 41,
   "metadata": {},
   "outputs": [],
   "source": [
    "df['temperatureAvg'] = (df['temperatureMin'] + df['temperatureMax']) / 2"
   ]
  },
  {
   "cell_type": "markdown",
   "metadata": {},
   "source": [
    "Create columns for number of \"hot days,\" \"cold days,\" and snow accumulated since Apr 1 in a given year.\n",
    "\n",
    "I defined a \"hot day\" as a day where: day_average_temp > median(year_avg_temp) + std_dev(year_avg_temp)\n",
    "\n",
    "A \"cold day\" is a day where: day_average_temp < median(year_avg_temp) - std_dev(year_avg_temp)"
   ]
  },
  {
   "cell_type": "code",
   "execution_count": 42,
   "metadata": {},
   "outputs": [],
   "source": [
    "hot_count = []\n",
    "cold_count = []\n",
    "daily_accumulation = []\n",
    "for year in year_list:\n",
    "    hot_temp_count = 0\n",
    "    cold_temp_count = 0\n",
    "    daily_accum = 0\n",
    "    temp_df = df.loc[df['Date'].dt.year == year]\n",
    "    hot_threshold = temp_df['temperatureAvg'].median() + temp_df['temperatureAvg'].std()\n",
    "    cold_threshold = temp_df['temperatureAvg'].median() - temp_df['temperatureAvg'].std()\n",
    "    for idx in temp_df.index:\n",
    "        current_temp = temp_df['temperatureAvg'].loc[idx]\n",
    "        if temp_df['precip_snow'].loc[idx] == 1:\n",
    "            daily_accum += temp_df['precipAccumulation'].loc[idx]\n",
    "        else:\n",
    "            pass\n",
    "        if current_temp >= hot_threshold:\n",
    "            hot_temp_count += 1\n",
    "        elif current_temp <= cold_threshold:\n",
    "            cold_temp_count += 1\n",
    "        else:\n",
    "            pass\n",
    "        hot_count.append(hot_temp_count)\n",
    "        cold_count.append(cold_temp_count)\n",
    "        daily_accumulation.append(daily_accum)"
   ]
  },
  {
   "cell_type": "code",
   "execution_count": 43,
   "metadata": {},
   "outputs": [],
   "source": [
    "df['numHotDays'] = hot_count\n",
    "df['numColdDays'] = cold_count\n",
    "df['accumulatedSnow'] = daily_accumulation"
   ]
  },
  {
   "cell_type": "markdown",
   "metadata": {},
   "source": [
    "#### Save data before adding rolling average features."
   ]
  },
  {
   "cell_type": "code",
   "execution_count": null,
   "metadata": {},
   "outputs": [],
   "source": [
    "df.to_csv('../data/pre-moving-average_data.csv', index = False)"
   ]
  },
  {
   "cell_type": "markdown",
   "metadata": {},
   "source": [
    "Create columns for moving average features."
   ]
  },
  {
   "cell_type": "code",
   "execution_count": 44,
   "metadata": {},
   "outputs": [],
   "source": [
    "ma_cols = ['humidity', 'windSpeed', 'windBearing', 'cloudCover','uvIndex', 'precipIntensity',\n",
    "           'iceThickness', 'temperatureAvg', 'numHotDays', 'numColdDays', 'flowVolume']\n",
    "windows = [3, 5, 7, 10]"
   ]
  },
  {
   "cell_type": "code",
   "execution_count": 45,
   "metadata": {},
   "outputs": [],
   "source": [
    "# # first add new columns with dummy info\n",
    "for col in ma_cols:\n",
    "    for window in windows:\n",
    "        label_ma = col + '_MA_' + str(window)\n",
    "        df[label_ma] = 0\n",
    "        \n",
    "        label_slope = col + '_MA-slope_' + str(window)\n",
    "        df[label_slope] = 0\n",
    "        \n",
    "        label_accel = col + '_MA-accel_' + str(window)\n",
    "        df[label_accel] = 0\n",
    "        \n",
    "        label_std = col + '_MA-std_dev_' + str(window)\n",
    "        df[label_std] = 0"
   ]
  },
  {
   "cell_type": "code",
   "execution_count": 46,
   "metadata": {},
   "outputs": [
    {
     "data": {
      "text/plain": [
       "(3336, 201)"
      ]
     },
     "execution_count": 46,
     "metadata": {},
     "output_type": "execute_result"
    }
   ],
   "source": [
    "df.shape"
   ]
  },
  {
   "cell_type": "code",
   "execution_count": 47,
   "metadata": {},
   "outputs": [],
   "source": [
    "# Update each year with its rolling averages\n",
    "# this takes ~2.5 hours to run on my laptop\n",
    "for year in year_list:\n",
    "    temp_df = df.loc[df['Date'].dt.year == year]\n",
    "    for col in ma_cols:\n",
    "        for window in windows:\n",
    "            # assign labels\n",
    "            label_ma = col + '_MA_' + str(window)\n",
    "            label_slope = col + '_MA-slope_' + str(window)\n",
    "            label_accel = col + '_MA-accel_' + str(window)\n",
    "            label_std = col + '_MA-std_dev_' + str(window)\n",
    "            # for each year, update row values in new columns\n",
    "            for idx in temp_df.index:\n",
    "                df[label_ma].loc[idx] = temp_df[col].rolling(window).mean().loc[idx]\n",
    "                df[label_slope].loc[idx] = temp_df[col].rolling(window).apply(lambda x: slope(x)).loc[idx]\n",
    "                df[label_accel].loc[idx] = temp_df[col].rolling(window).apply(lambda x: accel(x)).loc[idx]\n",
    "                df[label_std].loc[idx] = temp_df[col].rolling(window).std().loc[idx]"
   ]
  },
  {
   "cell_type": "code",
   "execution_count": 48,
   "metadata": {},
   "outputs": [
    {
     "data": {
      "text/html": [
       "<div>\n",
       "<style scoped>\n",
       "    .dataframe tbody tr th:only-of-type {\n",
       "        vertical-align: middle;\n",
       "    }\n",
       "\n",
       "    .dataframe tbody tr th {\n",
       "        vertical-align: top;\n",
       "    }\n",
       "\n",
       "    .dataframe thead th {\n",
       "        text-align: right;\n",
       "    }\n",
       "</style>\n",
       "<table border=\"1\" class=\"dataframe\">\n",
       "  <thead>\n",
       "    <tr style=\"text-align: right;\">\n",
       "      <th></th>\n",
       "      <th>Date</th>\n",
       "      <th>moonPhase</th>\n",
       "      <th>humidity</th>\n",
       "      <th>windSpeed</th>\n",
       "      <th>windBearing</th>\n",
       "      <th>cloudCover</th>\n",
       "      <th>uvIndex</th>\n",
       "      <th>temperatureMin</th>\n",
       "      <th>temperatureMax</th>\n",
       "      <th>precipIntensity</th>\n",
       "      <th>...</th>\n",
       "      <th>flowVolume_MA-accel_5</th>\n",
       "      <th>flowVolume_MA-std_dev_5</th>\n",
       "      <th>flowVolume_MA_7</th>\n",
       "      <th>flowVolume_MA-slope_7</th>\n",
       "      <th>flowVolume_MA-accel_7</th>\n",
       "      <th>flowVolume_MA-std_dev_7</th>\n",
       "      <th>flowVolume_MA_10</th>\n",
       "      <th>flowVolume_MA-slope_10</th>\n",
       "      <th>flowVolume_MA-accel_10</th>\n",
       "      <th>flowVolume_MA-std_dev_10</th>\n",
       "    </tr>\n",
       "  </thead>\n",
       "  <tbody>\n",
       "    <tr>\n",
       "      <th>3737</th>\n",
       "      <td>2015-02-07</td>\n",
       "      <td>0.63</td>\n",
       "      <td>0.69</td>\n",
       "      <td>1.07</td>\n",
       "      <td>48.0</td>\n",
       "      <td>0.010</td>\n",
       "      <td>0.0</td>\n",
       "      <td>-41.40</td>\n",
       "      <td>-9.47</td>\n",
       "      <td>0.0000</td>\n",
       "      <td>...</td>\n",
       "      <td>7.142857e+01</td>\n",
       "      <td>44.721360</td>\n",
       "      <td>7142.857143</td>\n",
       "      <td>-2.142857e+01</td>\n",
       "      <td>1.190476e+01</td>\n",
       "      <td>53.452248</td>\n",
       "      <td>7179.0</td>\n",
       "      <td>-2.393939e+01</td>\n",
       "      <td>7.765152e+00</td>\n",
       "      <td>78.662429</td>\n",
       "    </tr>\n",
       "    <tr>\n",
       "      <th>578</th>\n",
       "      <td>1993-01-05</td>\n",
       "      <td>0.42</td>\n",
       "      <td>0.87</td>\n",
       "      <td>6.50</td>\n",
       "      <td>135.0</td>\n",
       "      <td>0.370</td>\n",
       "      <td>0.0</td>\n",
       "      <td>17.50</td>\n",
       "      <td>34.57</td>\n",
       "      <td>0.0000</td>\n",
       "      <td>...</td>\n",
       "      <td>-1.605685e-12</td>\n",
       "      <td>0.000000</td>\n",
       "      <td>NaN</td>\n",
       "      <td>NaN</td>\n",
       "      <td>NaN</td>\n",
       "      <td>NaN</td>\n",
       "      <td>NaN</td>\n",
       "      <td>NaN</td>\n",
       "      <td>NaN</td>\n",
       "      <td>NaN</td>\n",
       "    </tr>\n",
       "    <tr>\n",
       "      <th>1096</th>\n",
       "      <td>1997-03-04</td>\n",
       "      <td>0.85</td>\n",
       "      <td>0.23</td>\n",
       "      <td>9.85</td>\n",
       "      <td>87.0</td>\n",
       "      <td>0.565</td>\n",
       "      <td>0.0</td>\n",
       "      <td>12.38</td>\n",
       "      <td>30.55</td>\n",
       "      <td>0.0000</td>\n",
       "      <td>...</td>\n",
       "      <td>3.010660e-12</td>\n",
       "      <td>0.000000</td>\n",
       "      <td>5800.000000</td>\n",
       "      <td>-4.767048e-13</td>\n",
       "      <td>-7.102865e-13</td>\n",
       "      <td>0.000028</td>\n",
       "      <td>5800.0</td>\n",
       "      <td>5.387382e-13</td>\n",
       "      <td>-1.515466e-13</td>\n",
       "      <td>0.000000</td>\n",
       "    </tr>\n",
       "    <tr>\n",
       "      <th>3649</th>\n",
       "      <td>2014-04-11</td>\n",
       "      <td>0.40</td>\n",
       "      <td>0.50</td>\n",
       "      <td>1.94</td>\n",
       "      <td>109.0</td>\n",
       "      <td>0.000</td>\n",
       "      <td>3.0</td>\n",
       "      <td>-4.61</td>\n",
       "      <td>33.89</td>\n",
       "      <td>0.0000</td>\n",
       "      <td>...</td>\n",
       "      <td>2.207817e-12</td>\n",
       "      <td>0.000000</td>\n",
       "      <td>7200.000000</td>\n",
       "      <td>-7.627276e-13</td>\n",
       "      <td>-1.657335e-12</td>\n",
       "      <td>0.000000</td>\n",
       "      <td>7180.0</td>\n",
       "      <td>9.696970e+00</td>\n",
       "      <td>-1.515152e+01</td>\n",
       "      <td>42.163702</td>\n",
       "    </tr>\n",
       "    <tr>\n",
       "      <th>597</th>\n",
       "      <td>1993-01-24</td>\n",
       "      <td>0.08</td>\n",
       "      <td>0.58</td>\n",
       "      <td>1.70</td>\n",
       "      <td>28.0</td>\n",
       "      <td>0.000</td>\n",
       "      <td>0.0</td>\n",
       "      <td>-56.68</td>\n",
       "      <td>-45.53</td>\n",
       "      <td>0.0000</td>\n",
       "      <td>...</td>\n",
       "      <td>-1.605685e-12</td>\n",
       "      <td>0.000000</td>\n",
       "      <td>7400.000000</td>\n",
       "      <td>-9.534095e-13</td>\n",
       "      <td>-1.736256e-12</td>\n",
       "      <td>0.000000</td>\n",
       "      <td>7400.0</td>\n",
       "      <td>4.309905e-13</td>\n",
       "      <td>-4.849490e-13</td>\n",
       "      <td>0.000000</td>\n",
       "    </tr>\n",
       "    <tr>\n",
       "      <th>1939</th>\n",
       "      <td>2003-02-09</td>\n",
       "      <td>0.27</td>\n",
       "      <td>0.87</td>\n",
       "      <td>6.46</td>\n",
       "      <td>79.0</td>\n",
       "      <td>0.780</td>\n",
       "      <td>0.0</td>\n",
       "      <td>31.58</td>\n",
       "      <td>39.76</td>\n",
       "      <td>0.0000</td>\n",
       "      <td>...</td>\n",
       "      <td>7.142857e+01</td>\n",
       "      <td>109.544512</td>\n",
       "      <td>7857.142857</td>\n",
       "      <td>3.571429e+01</td>\n",
       "      <td>5.952381e+01</td>\n",
       "      <td>97.590007</td>\n",
       "      <td>7840.0</td>\n",
       "      <td>1.939394e+01</td>\n",
       "      <td>3.030303e+01</td>\n",
       "      <td>84.327404</td>\n",
       "    </tr>\n",
       "    <tr>\n",
       "      <th>4348</th>\n",
       "      <td>2019-02-13</td>\n",
       "      <td>0.30</td>\n",
       "      <td>0.76</td>\n",
       "      <td>5.69</td>\n",
       "      <td>271.0</td>\n",
       "      <td>0.990</td>\n",
       "      <td>0.0</td>\n",
       "      <td>5.69</td>\n",
       "      <td>23.01</td>\n",
       "      <td>0.0029</td>\n",
       "      <td>...</td>\n",
       "      <td>3.571429e+00</td>\n",
       "      <td>5.477226</td>\n",
       "      <td>7157.142857</td>\n",
       "      <td>-3.214286e+00</td>\n",
       "      <td>1.785714e+00</td>\n",
       "      <td>7.559289</td>\n",
       "      <td>7168.0</td>\n",
       "      <td>-6.303030e+00</td>\n",
       "      <td>5.871212e+00</td>\n",
       "      <td>22.010099</td>\n",
       "    </tr>\n",
       "  </tbody>\n",
       "</table>\n",
       "<p>7 rows × 201 columns</p>\n",
       "</div>"
      ],
      "text/plain": [
       "           Date  moonPhase  humidity  windSpeed  windBearing  cloudCover  \\\n",
       "3737 2015-02-07       0.63      0.69       1.07         48.0       0.010   \n",
       "578  1993-01-05       0.42      0.87       6.50        135.0       0.370   \n",
       "1096 1997-03-04       0.85      0.23       9.85         87.0       0.565   \n",
       "3649 2014-04-11       0.40      0.50       1.94        109.0       0.000   \n",
       "597  1993-01-24       0.08      0.58       1.70         28.0       0.000   \n",
       "1939 2003-02-09       0.27      0.87       6.46         79.0       0.780   \n",
       "4348 2019-02-13       0.30      0.76       5.69        271.0       0.990   \n",
       "\n",
       "      uvIndex  temperatureMin  temperatureMax  precipIntensity  ...  \\\n",
       "3737      0.0          -41.40           -9.47           0.0000  ...   \n",
       "578       0.0           17.50           34.57           0.0000  ...   \n",
       "1096      0.0           12.38           30.55           0.0000  ...   \n",
       "3649      3.0           -4.61           33.89           0.0000  ...   \n",
       "597       0.0          -56.68          -45.53           0.0000  ...   \n",
       "1939      0.0           31.58           39.76           0.0000  ...   \n",
       "4348      0.0            5.69           23.01           0.0029  ...   \n",
       "\n",
       "      flowVolume_MA-accel_5 flowVolume_MA-std_dev_5  flowVolume_MA_7  \\\n",
       "3737           7.142857e+01               44.721360      7142.857143   \n",
       "578           -1.605685e-12                0.000000              NaN   \n",
       "1096           3.010660e-12                0.000000      5800.000000   \n",
       "3649           2.207817e-12                0.000000      7200.000000   \n",
       "597           -1.605685e-12                0.000000      7400.000000   \n",
       "1939           7.142857e+01              109.544512      7857.142857   \n",
       "4348           3.571429e+00                5.477226      7157.142857   \n",
       "\n",
       "      flowVolume_MA-slope_7  flowVolume_MA-accel_7  flowVolume_MA-std_dev_7  \\\n",
       "3737          -2.142857e+01           1.190476e+01                53.452248   \n",
       "578                     NaN                    NaN                      NaN   \n",
       "1096          -4.767048e-13          -7.102865e-13                 0.000028   \n",
       "3649          -7.627276e-13          -1.657335e-12                 0.000000   \n",
       "597           -9.534095e-13          -1.736256e-12                 0.000000   \n",
       "1939           3.571429e+01           5.952381e+01                97.590007   \n",
       "4348          -3.214286e+00           1.785714e+00                 7.559289   \n",
       "\n",
       "      flowVolume_MA_10  flowVolume_MA-slope_10  flowVolume_MA-accel_10  \\\n",
       "3737            7179.0           -2.393939e+01            7.765152e+00   \n",
       "578                NaN                     NaN                     NaN   \n",
       "1096            5800.0            5.387382e-13           -1.515466e-13   \n",
       "3649            7180.0            9.696970e+00           -1.515152e+01   \n",
       "597             7400.0            4.309905e-13           -4.849490e-13   \n",
       "1939            7840.0            1.939394e+01            3.030303e+01   \n",
       "4348            7168.0           -6.303030e+00            5.871212e+00   \n",
       "\n",
       "      flowVolume_MA-std_dev_10  \n",
       "3737                 78.662429  \n",
       "578                        NaN  \n",
       "1096                  0.000000  \n",
       "3649                 42.163702  \n",
       "597                   0.000000  \n",
       "1939                 84.327404  \n",
       "4348                 22.010099  \n",
       "\n",
       "[7 rows x 201 columns]"
      ]
     },
     "execution_count": 48,
     "metadata": {},
     "output_type": "execute_result"
    }
   ],
   "source": [
    "df.sample(7)"
   ]
  },
  {
   "cell_type": "code",
   "execution_count": 49,
   "metadata": {},
   "outputs": [
    {
     "data": {
      "text/plain": [
       "(3336, 201)"
      ]
     },
     "execution_count": 49,
     "metadata": {},
     "output_type": "execute_result"
    }
   ],
   "source": [
    "df.shape"
   ]
  },
  {
   "cell_type": "markdown",
   "metadata": {},
   "source": [
    "#### Save results to file"
   ]
  },
  {
   "cell_type": "code",
   "execution_count": 50,
   "metadata": {},
   "outputs": [],
   "source": [
    "df.to_csv('../data/ma_features_added.csv', index = False)"
   ]
  },
  {
   "cell_type": "markdown",
   "metadata": {},
   "source": [
    "#### Read data from file"
   ]
  },
  {
   "cell_type": "code",
   "execution_count": null,
   "metadata": {},
   "outputs": [],
   "source": [
    "df = pd.read_csv('../data/ma_features_added.csv')"
   ]
  },
  {
   "cell_type": "code",
   "execution_count": null,
   "metadata": {},
   "outputs": [],
   "source": [
    "df.head()"
   ]
  },
  {
   "cell_type": "markdown",
   "metadata": {},
   "source": [
    "### Drop columns that are highly correlated\n",
    "* temperatureMin and temperatureMax information was captured in temperatureAvg\n",
    "* precipAccumulation information was captured in accumulatedSnow"
   ]
  },
  {
   "cell_type": "code",
   "execution_count": 51,
   "metadata": {},
   "outputs": [],
   "source": [
    "df.drop(columns = ['temperatureMin', 'temperatureMax', 'precipAccumulation'],\n",
    "        inplace = True)"
   ]
  },
  {
   "cell_type": "code",
   "execution_count": 52,
   "metadata": {},
   "outputs": [
    {
     "data": {
      "text/plain": [
       "21"
      ]
     },
     "execution_count": 52,
     "metadata": {},
     "output_type": "execute_result"
    }
   ],
   "source": [
    "gc.collect()"
   ]
  },
  {
   "cell_type": "markdown",
   "metadata": {},
   "source": [
    "### Create training and testing DataFrames"
   ]
  },
  {
   "cell_type": "code",
   "execution_count": 53,
   "metadata": {},
   "outputs": [],
   "source": [
    "train = df.loc[df['past'] == 1]\n",
    "train.drop(columns = ['past', 'future'], inplace = True)"
   ]
  },
  {
   "cell_type": "code",
   "execution_count": 54,
   "metadata": {},
   "outputs": [
    {
     "name": "stdout",
     "output_type": "stream",
     "text": [
      "<class 'pandas.core.frame.DataFrame'>\n",
      "Int64Index: 2762 entries, 0 to 3663\n",
      "Columns: 196 entries, Date to flowVolume_MA-std_dev_10\n",
      "dtypes: Sparse[int64, 0](2), datetime64[ns](1), float64(187), int64(5), object(1)\n",
      "memory usage: 4.1+ MB\n"
     ]
    }
   ],
   "source": [
    "train.info()"
   ]
  },
  {
   "cell_type": "code",
   "execution_count": 55,
   "metadata": {},
   "outputs": [],
   "source": [
    "test = df.loc[df['future'] == 1]\n",
    "test.drop(columns = ['past', 'future'], inplace = True)"
   ]
  },
  {
   "cell_type": "code",
   "execution_count": 56,
   "metadata": {},
   "outputs": [
    {
     "name": "stdout",
     "output_type": "stream",
     "text": [
      "<class 'pandas.core.frame.DataFrame'>\n",
      "Int64Index: 574 entries, 3700 to 4408\n",
      "Columns: 196 entries, Date to flowVolume_MA-std_dev_10\n",
      "dtypes: Sparse[int64, 0](2), datetime64[ns](1), float64(187), int64(5), object(1)\n",
      "memory usage: 876.4+ KB\n"
     ]
    }
   ],
   "source": [
    "test.info()"
   ]
  },
  {
   "cell_type": "code",
   "execution_count": 57,
   "metadata": {},
   "outputs": [],
   "source": [
    "train.dropna(inplace = True)"
   ]
  },
  {
   "cell_type": "code",
   "execution_count": 58,
   "metadata": {},
   "outputs": [],
   "source": [
    "test.dropna(inplace = True)"
   ]
  },
  {
   "cell_type": "code",
   "execution_count": 59,
   "metadata": {},
   "outputs": [
    {
     "data": {
      "text/plain": [
       "0"
      ]
     },
     "execution_count": 59,
     "metadata": {},
     "output_type": "execute_result"
    }
   ],
   "source": [
    "df.drop(columns = ['past', 'future'], inplace = True)\n",
    "gc.collect()"
   ]
  },
  {
   "cell_type": "markdown",
   "metadata": {},
   "source": [
    "#### Save training and testing DataFrames to file"
   ]
  },
  {
   "cell_type": "code",
   "execution_count": 60,
   "metadata": {},
   "outputs": [],
   "source": [
    "train.to_csv('../data/model_training_data.csv', index = False)"
   ]
  },
  {
   "cell_type": "code",
   "execution_count": 61,
   "metadata": {},
   "outputs": [],
   "source": [
    "test.to_csv('../data/model_testing_data.csv', index = False)"
   ]
  },
  {
   "cell_type": "code",
   "execution_count": null,
   "metadata": {},
   "outputs": [],
   "source": []
  }
 ],
 "metadata": {
  "kernelspec": {
   "display_name": "Python 3",
   "language": "python",
   "name": "python3"
  },
  "language_info": {
   "codemirror_mode": {
    "name": "ipython",
    "version": 3
   },
   "file_extension": ".py",
   "mimetype": "text/x-python",
   "name": "python",
   "nbconvert_exporter": "python",
   "pygments_lexer": "ipython3",
   "version": "3.6.9"
  }
 },
 "nbformat": 4,
 "nbformat_minor": 4
}
