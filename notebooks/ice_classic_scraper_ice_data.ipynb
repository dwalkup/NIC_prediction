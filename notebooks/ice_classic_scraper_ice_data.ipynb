{
 "cells": [
  {
   "cell_type": "markdown",
   "metadata": {},
   "source": [
    "# Nenana Ice Classic Data Gathering - Ice Measurements\n",
    "This notebook was used for gathering the ice measurement data used for this project.\n",
    "## Data Source\n",
    "* Nenana Ice Classic's website was scraped for ice thickness data (https://www.nenanaakiceclassic.com/ice.htm)."
   ]
  },
  {
   "cell_type": "code",
   "execution_count": 1,
   "metadata": {},
   "outputs": [],
   "source": [
    "# imports\n",
    "import numpy as np\n",
    "import pandas as pd\n",
    "import requests\n",
    "import json\n",
    "import datetime as dt\n",
    "from bs4 import BeautifulSoup\n",
    "from selenium import webdriver\n",
    "from selenium.webdriver.chrome.options import Options\n",
    "import gc"
   ]
  },
  {
   "cell_type": "markdown",
   "metadata": {},
   "source": [
    "## Getting info from NIC website"
   ]
  },
  {
   "cell_type": "code",
   "execution_count": 2,
   "metadata": {},
   "outputs": [],
   "source": [
    "url = 'https://www.nenanaakiceclassic.com/ice.htm'"
   ]
  },
  {
   "cell_type": "code",
   "execution_count": 3,
   "metadata": {},
   "outputs": [],
   "source": [
    "response = requests.get(url)"
   ]
  },
  {
   "cell_type": "code",
   "execution_count": 4,
   "metadata": {},
   "outputs": [
    {
     "name": "stdout",
     "output_type": "stream",
     "text": [
      "None\n",
      "<!DOCTYPE html>\n",
      "<html>\n",
      " <head>\n",
      "  <meta charset=\"utf-8\"/>\n",
      "  <title>\n",
      "   Nenana Ice Classic\n",
      "  </title>\n",
      "  <style type=\"text/css\">\n",
      "   h4 {\n",
      "\t\t\ttext-align:center;\n",
      "\t\t\tWidth: 900px;\n",
      "\t\t\t\n",
      "\t\t}\n",
      "  </style>\n",
      " </head>\n",
      " <body>\n",
      "  <header>\n",
      "   <img alt=\"\" height=\"400\" src=\"banner.jpg\" width=\"960\"/>\n",
      "  </header>\n",
      "  <h4>\n",
      "   <bold>\n",
      "    <a href=\"index.htm\" title=\"Nenana Ice Classic \">\n",
      "     Home/\n",
      "    </a>\n",
      "    <a href=\"tickets.htm\" title=\"Tickets\">\n",
      "     Tickets/\n",
      "    </a>\n",
      "    <a href=\"brochures.htm\" title=\"Brochures\">\n",
      "     Brochures/\n",
      "    </a>\n",
      "    <a href=\"poolrules.htm\" title=\"Pool Rules\">\n",
      "     Pool Rules/\n",
      "    </a>\n",
      "    <a href=\"ice.htm\" title=\"Ice Page\">\n",
      "     Ice/\n",
      "    </a>\n",
      "    <a href=\"postercontest.htm\" title=\"Poster Contest\">\n",
      "     Poster Contest/\n",
      "    </a>\n",
      "    <a href=\"souvenirs.htm\" title=\"Souvenir Page\">\n",
      "     Souvenirs/\n",
      "    </a>\n",
      "    <a href=\"contact.htm\" title=\"Contact Nenana Ice Classic\">\n",
      "     Contact/\n",
      "    </a>\n",
      "    <a href=\"organization.htm\" title=\"Organization\">\n",
      "     Organization/\n",
      "    </a>\n",
      "    <a href=\"FAQ.htm\" title=\"Frequently Asked Questions\">\n",
      "     FAQ\n",
      "    </a>\n",
      "   </bold>\n",
      "  </h4>\n",
      "  <table border=\"1\" height=\"1257.2\" width=\"960\">\n",
      "   <tbody>\n",
      "    <tr>\n",
      "     <td>\n",
      "      <table bgcolor=\"#FFFFFF\" border=\"0\" bordercolor=\"#FFFFFF\" height=\"850\" width=\"960\">\n",
      "       <tr>\n",
      "        <td align=\"center\" bgcolor=\"#FFFFFF\" height=\"960\" valign=\"middle\">\n",
      "         <div align=\"center\">\n",
      "          <p>\n",
      "           <font size=\"6\">\n",
      "           </font>\n",
      "          </p>\n",
      "          <p>\n",
      "           <font size=\"6\">\n",
      "           </font>\n",
      "          </p>\n",
      "          <p>\n",
      "           <font size=\"6\">\n",
      "           </font>\n",
      "          </p>\n",
      "          <p>\n",
      "           <font size=\"6\">\n",
      "           </font>\n",
      "          </p>\n",
      "          <p>\n",
      "           <font size=\"6\">\n",
      "           </font>\n",
      "          </p>\n",
      "          <p>\n",
      "           <font size=\"6\">\n",
      "           </font>\n",
      "          </p>\n",
      "         </div>\n",
      "         <div id=\"Layer3\" style=\"position:absolute; width:200px; height:800px; z-index:3; left: 468px; top: 607px; background-color: #FFFFFF; layer-background-color: #FFFFFF; border: 1px none #000000\">\n",
      "          <div align=\"center\">\n",
      "           <font size=\"6\">\n",
      "            <p>\n",
      "             <font size=\"6\">\n",
      "              <a href=\"2019.html\">\n",
      "               2019\n",
      "              </a>\n",
      "             </font>\n",
      "            </p>\n",
      "            <p>\n",
      "             <font size=\"6\">\n",
      "              <a href=\"2018.html\">\n",
      "               2018\n",
      "              </a>\n",
      "             </font>\n",
      "            </p>\n",
      "            <p>\n",
      "             <font size=\"6\">\n",
      "              <a href=\"2017.htm\">\n",
      "               2017\n",
      "              </a>\n",
      "             </font>\n",
      "            </p>\n",
      "            <p>\n",
      "             <font size=\"6\">\n",
      "              <a href=\"2016.htm\">\n",
      "               2016\n",
      "              </a>\n",
      "             </font>\n",
      "            </p>\n",
      "            <p>\n",
      "             <font size=\"6\">\n",
      "              <a href=\"2015%20Ice.htm\">\n",
      "               2015\n",
      "              </a>\n",
      "             </font>\n",
      "            </p>\n",
      "            <p>\n",
      "             <font size=\"6\">\n",
      "              <a href=\"2014.htm\">\n",
      "               2014\n",
      "              </a>\n",
      "             </font>\n",
      "            </p>\n",
      "            <p>\n",
      "             <font size=\"6\">\n",
      "              <a href=\"2013.htm\">\n",
      "               2013\n",
      "              </a>\n",
      "             </font>\n",
      "            </p>\n",
      "            <p>\n",
      "             <font size=\"6\">\n",
      "              <a href=\"2012.htm\">\n",
      "               2012\n",
      "              </a>\n",
      "             </font>\n",
      "            </p>\n",
      "            <p>\n",
      "             <font size=\"6\">\n",
      "              <a href=\"2011.htm\">\n",
      "               2011\n",
      "              </a>\n",
      "             </font>\n",
      "            </p>\n",
      "            <p>\n",
      "             <font size=\"6\">\n",
      "              <a href=\"2010.htm\">\n",
      "               2010\n",
      "              </a>\n",
      "             </font>\n",
      "            </p>\n",
      "            <p>\n",
      "             <font size=\"6\">\n",
      "              <a href=\"2009.htm\">\n",
      "               2009\n",
      "              </a>\n",
      "             </font>\n",
      "            </p>\n",
      "            <p>\n",
      "             <font size=\"6\">\n",
      "              <a href=\"2008.htm\">\n",
      "               2008\n",
      "              </a>\n",
      "             </font>\n",
      "            </p>\n",
      "            <p>\n",
      "             <font size=\"6\">\n",
      "              <a href=\"2007.htm\">\n",
      "               2007\n",
      "              </a>\n",
      "             </font>\n",
      "            </p>\n",
      "            <p>\n",
      "             <font size=\"6\">\n",
      "              <a href=\"2006.htm\">\n",
      "               2006\n",
      "              </a>\n",
      "             </font>\n",
      "            </p>\n",
      "            <p>\n",
      "             <font size=\"6\">\n",
      "              <a href=\"2005.htm\">\n",
      "               2005\n",
      "              </a>\n",
      "             </font>\n",
      "            </p>\n",
      "            <p>\n",
      "             <font size=\"6\">\n",
      "              <a href=\"2004.htm\">\n",
      "               2004\n",
      "              </a>\n",
      "             </font>\n",
      "            </p>\n",
      "            <p>\n",
      "            </p>\n",
      "            <p>\n",
      "             <font size=\"6\">\n",
      "             </font>\n",
      "            </p>\n",
      "            <p>\n",
      "            </p>\n",
      "            <p>\n",
      "            </p>\n",
      "           </font>\n",
      "          </div>\n",
      "         </div>\n",
      "         <div id=\"Layer3\" style=\"position:absolute; width:200px; height:800px; z-index:3; left: 668px; top: 606px; background-color: #FFFFFF; layer-background-color: #FFFFFF; border: 1px none #000000\">\n",
      "          <div align=\"center\">\n",
      "           <p>\n",
      "            <font size=\"6\">\n",
      "             <a href=\"2003.htm\">\n",
      "              2003\n",
      "             </a>\n",
      "            </font>\n",
      "           </p>\n",
      "           <p>\n",
      "            <font size=\"6\">\n",
      "             <a href=\"2002.htm\">\n",
      "              2002\n",
      "             </a>\n",
      "            </font>\n",
      "           </p>\n",
      "           <p>\n",
      "            <font size=\"6\">\n",
      "             <a href=\"2001.htm\">\n",
      "              2001\n",
      "             </a>\n",
      "            </font>\n",
      "           </p>\n",
      "           <p>\n",
      "            <font size=\"6\">\n",
      "             <a href=\"2000.htm\">\n",
      "              2000\n",
      "             </a>\n",
      "            </font>\n",
      "           </p>\n",
      "           <p>\n",
      "            <font size=\"6\">\n",
      "             <a href=\"1999.htm\">\n",
      "              1999\n",
      "             </a>\n",
      "            </font>\n",
      "           </p>\n",
      "           <p>\n",
      "            <font size=\"6\">\n",
      "             <a href=\"1998.htm\">\n",
      "              1998\n",
      "             </a>\n",
      "            </font>\n",
      "           </p>\n",
      "           <p>\n",
      "            <font size=\"6\">\n",
      "             <a href=\"1997.htm\">\n",
      "              1997\n",
      "             </a>\n",
      "            </font>\n",
      "           </p>\n",
      "           <p>\n",
      "            <font size=\"6\">\n",
      "             <a href=\"1996.htm\">\n",
      "              1996\n",
      "             </a>\n",
      "            </font>\n",
      "           </p>\n",
      "           <p>\n",
      "            <font size=\"6\">\n",
      "             <a href=\"1995.htm\">\n",
      "              1995\n",
      "             </a>\n",
      "            </font>\n",
      "           </p>\n",
      "           <p>\n",
      "            <font size=\"6\">\n",
      "             <a href=\"1994.htm\">\n",
      "              1994\n",
      "             </a>\n",
      "            </font>\n",
      "           </p>\n",
      "           <p>\n",
      "            <font size=\"6\">\n",
      "             <a href=\"1993.htm\">\n",
      "              1993\n",
      "             </a>\n",
      "            </font>\n",
      "           </p>\n",
      "           <p>\n",
      "            <font size=\"6\">\n",
      "             <a href=\"1992.htm\">\n",
      "              1992\n",
      "             </a>\n",
      "            </font>\n",
      "           </p>\n",
      "           <p>\n",
      "            <font size=\"6\">\n",
      "             <a href=\"1991.htm\">\n",
      "              1991\n",
      "             </a>\n",
      "            </font>\n",
      "           </p>\n",
      "           <p>\n",
      "            <font size=\"6\">\n",
      "             <a href=\"1990.htm\">\n",
      "              1990\n",
      "             </a>\n",
      "            </font>\n",
      "           </p>\n",
      "           <p>\n",
      "            <font size=\"6\">\n",
      "             <a href=\"1989.htm\">\n",
      "              1989\n",
      "             </a>\n",
      "            </font>\n",
      "           </p>\n",
      "          </div>\n",
      "         </div>\n",
      "         <div id=\"Layer5\" style=\"position:absolute; width:440px; height:825px; z-index:5; left: 25px; top: 513px; background-color: #FFFFFF; layer-background-color: #FFFFFF; border: 1px none #000000\">\n",
      "          <p>\n",
      "           <font size=\"5\">\n",
      "            <a href=\"conditions.htm\">\n",
      "             ICE CONDITIONS\n",
      "            </a>\n",
      "            <br/>\n",
      "            <br/>\n",
      "            <br/>\n",
      "            <strong>\n",
      "             Jan 13 - 24.5 Inches\n",
      "             <br/>\n",
      "             Jan 31 - 29 Inches\n",
      "             <br/>\n",
      "             Feb 17 - 31.5 Inches\n",
      "             <br/>\n",
      "            </strong>\n",
      "           </font>\n",
      "          </p>\n",
      "          <p>\n",
      "          </p>\n",
      "          <p>\n",
      "          </p>\n",
      "          <p>\n",
      "          </p>\n",
      "          <p>\n",
      "          </p>\n",
      "          <p>\n",
      "          </p>\n",
      "          <p>\n",
      "          </p>\n",
      "         </div>\n",
      "        </td>\n",
      "       </tr>\n",
      "      </table>\n",
      "     </td>\n",
      "    </tr>\n",
      "   </tbody>\n",
      "  </table>\n",
      " </body>\n",
      "</html>\n",
      "\n"
     ]
    }
   ],
   "source": [
    "print(response.raise_for_status())\n",
    "soup = BeautifulSoup(response.text)\n",
    "print(soup.prettify())"
   ]
  },
  {
   "cell_type": "code",
   "execution_count": 5,
   "metadata": {},
   "outputs": [],
   "source": [
    "link_list = soup.findAll('a')"
   ]
  },
  {
   "cell_type": "code",
   "execution_count": 6,
   "metadata": {},
   "outputs": [
    {
     "data": {
      "text/plain": [
       "[<a href=\"2019.html\">2019</a>,\n",
       " <a href=\"2018.html\">2018</a>,\n",
       " <a href=\"2017.htm\">2017</a>,\n",
       " <a href=\"2016.htm\">2016</a>,\n",
       " <a href=\"2015%20Ice.htm\">2015</a>,\n",
       " <a href=\"2014.htm\">2014</a>,\n",
       " <a href=\"2013.htm\">2013</a>,\n",
       " <a href=\"2012.htm\">2012</a>,\n",
       " <a href=\"2011.htm\">2011</a>,\n",
       " <a href=\"2010.htm\">2010</a>,\n",
       " <a href=\"2009.htm\">2009</a>,\n",
       " <a href=\"2008.htm\">2008</a>,\n",
       " <a href=\"2007.htm\">2007</a>,\n",
       " <a href=\"2006.htm\">2006</a>,\n",
       " <a href=\"2005.htm\">2005</a>,\n",
       " <a href=\"2004.htm\">2004</a>,\n",
       " <a href=\"2003.htm\">2003</a>,\n",
       " <a href=\"2002.htm\">2002</a>,\n",
       " <a href=\"2001.htm\">2001</a>,\n",
       " <a href=\"2000.htm\">2000</a>,\n",
       " <a href=\"1999.htm\">1999</a>,\n",
       " <a href=\"1998.htm\">1998</a>,\n",
       " <a href=\"1997.htm\">1997</a>,\n",
       " <a href=\"1996.htm\">1996</a>,\n",
       " <a href=\"1995.htm\">1995</a>,\n",
       " <a href=\"1994.htm\">1994</a>,\n",
       " <a href=\"1993.htm\">1993</a>,\n",
       " <a href=\"1992.htm\">1992</a>,\n",
       " <a href=\"1991.htm\">1991</a>,\n",
       " <a href=\"1990.htm\">1990</a>,\n",
       " <a href=\"1989.htm\">1989</a>]"
      ]
     },
     "execution_count": 6,
     "metadata": {},
     "output_type": "execute_result"
    }
   ],
   "source": [
    "link_list[10:-1]"
   ]
  },
  {
   "cell_type": "code",
   "execution_count": 7,
   "metadata": {},
   "outputs": [],
   "source": [
    "base_url = 'https://www.nenanaakiceclassic.com/'"
   ]
  },
  {
   "cell_type": "code",
   "execution_count": 8,
   "metadata": {},
   "outputs": [
    {
     "data": {
      "text/plain": [
       "'2019.html'"
      ]
     },
     "execution_count": 8,
     "metadata": {},
     "output_type": "execute_result"
    }
   ],
   "source": [
    "link_list[10]['href']"
   ]
  },
  {
   "cell_type": "code",
   "execution_count": 9,
   "metadata": {},
   "outputs": [
    {
     "data": {
      "text/plain": [
       "'https://www.nenanaakiceclassic.com/2016.htm'"
      ]
     },
     "execution_count": 9,
     "metadata": {},
     "output_type": "execute_result"
    }
   ],
   "source": [
    "target_url = base_url + link_list[13]['href']\n",
    "target_url"
   ]
  },
  {
   "cell_type": "code",
   "execution_count": 10,
   "metadata": {},
   "outputs": [],
   "source": [
    "chrome_path = '/Users/davidwalkup/Downloads/chromedriver-2'\n",
    "options = Options()\n",
    "driver = webdriver.Chrome(chrome_path, \n",
    "                          options=options)\n",
    "driver.set_window_size(1400,1000)\n",
    "driver.get(target_url)"
   ]
  },
  {
   "cell_type": "code",
   "execution_count": 11,
   "metadata": {},
   "outputs": [],
   "source": [
    "page_source = driver.page_source\n",
    "soup = BeautifulSoup(page_source)\n",
    "tables = soup.findAll('table')\n",
    "table = tables[0].prettify()"
   ]
  },
  {
   "cell_type": "code",
   "execution_count": 12,
   "metadata": {},
   "outputs": [
    {
     "data": {
      "text/plain": [
       "'2016 Ice Measurements  Jan 13-25 Inches  Feb 8-33.5 Inches  Feb 22-33 Inches  Mar 01-40 Inches  Mar 06 - 40 Inches  Mar 10 - 36 Inches  March 16 - 37.2 Inches  March 21 - 35.3 Inches  March 24 - 38 Inches  March 28 - 36.7 Inches  March 31 - 35.7 Inches  April 4 - 36 Inches  April 7 - 34.8 Inches  April 11 - 34.7 Inches  April 14 - 32.3 Inches'"
      ]
     },
     "execution_count": 12,
     "metadata": {},
     "output_type": "execute_result"
    }
   ],
   "source": [
    "table_text = pd.read_html(table)[0][0][0]\n",
    "table_text"
   ]
  },
  {
   "cell_type": "code",
   "execution_count": 13,
   "metadata": {},
   "outputs": [
    {
     "data": {
      "text/plain": [
       "'2016'"
      ]
     },
     "execution_count": 13,
     "metadata": {},
     "output_type": "execute_result"
    }
   ],
   "source": [
    "table_year = table_text[:4]\n",
    "table_year"
   ]
  },
  {
   "cell_type": "code",
   "execution_count": 14,
   "metadata": {},
   "outputs": [
    {
     "data": {
      "text/plain": [
       "'Jan 13-25 Inches  Feb 8-33.5 Inches  Feb 22-33 Inches  Mar 01-40 Inches  Mar 06 - 40 Inches  Mar 10 - 36 Inches  March 16 - 37.2 Inches  March 21 - 35.3 Inches  March 24 - 38 Inches  March 28 - 36.7 Inches  March 31 - 35.7 Inches  April 4 - 36 Inches  April 7 - 34.8 Inches  April 11 - 34.7 Inches  April 14 - 32.3 Inches'"
      ]
     },
     "execution_count": 14,
     "metadata": {},
     "output_type": "execute_result"
    }
   ],
   "source": [
    "table_detail = table_text[21:].strip()\n",
    "table_detail"
   ]
  },
  {
   "cell_type": "code",
   "execution_count": 15,
   "metadata": {},
   "outputs": [],
   "source": [
    "driver.quit()"
   ]
  },
  {
   "cell_type": "code",
   "execution_count": 16,
   "metadata": {},
   "outputs": [
    {
     "data": {
      "text/plain": [
       "['Jan 13-25 Inches',\n",
       " 'Feb 8-33.5 Inches',\n",
       " 'Feb 22-33 Inches',\n",
       " 'Mar 01-40 Inches',\n",
       " 'Mar 06 - 40 Inches',\n",
       " 'Mar 10 - 36 Inches',\n",
       " 'March 16 - 37.2 Inches',\n",
       " 'March 21 - 35.3 Inches',\n",
       " 'March 24 - 38 Inches',\n",
       " 'March 28 - 36.7 Inches',\n",
       " 'March 31 - 35.7 Inches',\n",
       " 'April 4 - 36 Inches',\n",
       " 'April 7 - 34.8 Inches',\n",
       " 'April 11 - 34.7 Inches',\n",
       " 'April 14 - 32.3 Inches']"
      ]
     },
     "execution_count": 16,
     "metadata": {},
     "output_type": "execute_result"
    }
   ],
   "source": [
    "line_split = table_detail.split('  ')\n",
    "line_split"
   ]
  },
  {
   "cell_type": "code",
   "execution_count": 17,
   "metadata": {},
   "outputs": [
    {
     "data": {
      "text/plain": [
       "'1989.htm'"
      ]
     },
     "execution_count": 17,
     "metadata": {},
     "output_type": "execute_result"
    }
   ],
   "source": [
    "link_list[-2]['href']"
   ]
  },
  {
   "cell_type": "code",
   "execution_count": 18,
   "metadata": {},
   "outputs": [],
   "source": [
    "target_url = base_url + link_list[-2]['href']"
   ]
  },
  {
   "cell_type": "code",
   "execution_count": 19,
   "metadata": {},
   "outputs": [],
   "source": [
    "driver = webdriver.Chrome(chrome_path, \n",
    "                          options=options)\n",
    "driver.set_window_size(1400,1000)\n",
    "driver.get(target_url)\n",
    "page_source = driver.page_source\n",
    "soup = BeautifulSoup(page_source)\n",
    "tables = soup.findAll('table')\n",
    "table = tables[0].prettify()"
   ]
  },
  {
   "cell_type": "code",
   "execution_count": 20,
   "metadata": {},
   "outputs": [
    {
     "data": {
      "text/plain": [
       "'1989 Ice Measurements  26-Feb 42 Inches  16-Mar 37.5 Inches  21-Mar 37.5 Inches  25-Mar 40.5 Inches  28-Mar 41.5 Inches  4-Apr 42 Inches  10-Apr 43 Inches  12-Apr 40 Inches'"
      ]
     },
     "execution_count": 20,
     "metadata": {},
     "output_type": "execute_result"
    }
   ],
   "source": [
    "table_text = pd.read_html(table)[0][0][0]\n",
    "driver.quit()\n",
    "table_text"
   ]
  },
  {
   "cell_type": "code",
   "execution_count": 21,
   "metadata": {},
   "outputs": [
    {
     "data": {
      "text/plain": [
       "'1989'"
      ]
     },
     "execution_count": 21,
     "metadata": {},
     "output_type": "execute_result"
    }
   ],
   "source": [
    "table_year = table_text[:4]\n",
    "table_year"
   ]
  },
  {
   "cell_type": "code",
   "execution_count": 22,
   "metadata": {},
   "outputs": [
    {
     "data": {
      "text/plain": [
       "'26-Feb 42 Inches  16-Mar 37.5 Inches  21-Mar 37.5 Inches  25-Mar 40.5 Inches  28-Mar 41.5 Inches  4-Apr 42 Inches  10-Apr 43 Inches  12-Apr 40 Inches'"
      ]
     },
     "execution_count": 22,
     "metadata": {},
     "output_type": "execute_result"
    }
   ],
   "source": [
    "table_detail = table_text[21:].strip()\n",
    "table_detail"
   ]
  },
  {
   "cell_type": "code",
   "execution_count": 23,
   "metadata": {},
   "outputs": [
    {
     "data": {
      "text/plain": [
       "['26-Feb 42 Inches',\n",
       " '16-Mar 37.5 Inches',\n",
       " '21-Mar 37.5 Inches',\n",
       " '25-Mar 40.5 Inches',\n",
       " '28-Mar 41.5 Inches',\n",
       " '4-Apr 42 Inches',\n",
       " '10-Apr 43 Inches',\n",
       " '12-Apr 40 Inches']"
      ]
     },
     "execution_count": 23,
     "metadata": {},
     "output_type": "execute_result"
    }
   ],
   "source": [
    "line_split = table_detail.split('  ')\n",
    "line_split"
   ]
  },
  {
   "cell_type": "code",
   "execution_count": 24,
   "metadata": {},
   "outputs": [],
   "source": [
    "month_fix = {'Jan' : '01',\n",
    "             'Feb' : '02',\n",
    "             'Mar' : '03',\n",
    "             'Apr' : '04',\n",
    "             'May' : '05',\n",
    "             'Jun' : '06',\n",
    "             'Jul' : '07',\n",
    "             'Aug' : '08',\n",
    "             'Sep' : '09',\n",
    "             'Oct' : '10',\n",
    "             'Nov' : '11',\n",
    "             'Dec' : '12',\n",
    "             'March' : '03',\n",
    "             'April' : '04'}"
   ]
  },
  {
   "cell_type": "code",
   "execution_count": 25,
   "metadata": {},
   "outputs": [
    {
     "name": "stdout",
     "output_type": "stream",
     "text": [
      "1989-Feb-26 : 42 Inches\n",
      "1989-Mar-16 : 37.5 Inches\n",
      "1989-Mar-21 : 37.5 Inches\n",
      "1989-Mar-25 : 40.5 Inches\n",
      "1989-Mar-28 : 41.5 Inches\n",
      "1989-Apr-4 : 42 Inches\n",
      "1989-Apr-10 : 43 Inches\n",
      "1989-Apr-12 : 40 Inches\n"
     ]
    }
   ],
   "source": [
    "for item in line_split:\n",
    "    item_split = item.split(' ')\n",
    "    date_split = item_split[0].split('-')\n",
    "    item_date = table_year + '-' + date_split[1] + '-' + date_split[0]\n",
    "    item_data = item_split[1] + ' ' + item_split[2]\n",
    "    print(item_date , ':', item_data)"
   ]
  },
  {
   "cell_type": "code",
   "execution_count": 26,
   "metadata": {},
   "outputs": [
    {
     "name": "stdout",
     "output_type": "stream",
     "text": [
      "['12', 'Apr']\n",
      "['40']\n",
      "['Inches']\n"
     ]
    }
   ],
   "source": [
    "for item in item_split:\n",
    "    date_split = item.split('-')\n",
    "    print(date_split)"
   ]
  },
  {
   "cell_type": "code",
   "execution_count": 27,
   "metadata": {},
   "outputs": [],
   "source": [
    "ice_thickness_df = pd.DataFrame(columns = ['Date', 'Thickness'])"
   ]
  },
  {
   "cell_type": "code",
   "execution_count": 29,
   "metadata": {},
   "outputs": [
    {
     "name": "stdout",
     "output_type": "stream",
     "text": [
      "<a href=\"index.htm\" title=\"Nenana Ice Classic \">Home/</a>\n",
      "<a href=\"tickets.htm\" title=\"Tickets\">Tickets/</a>\n",
      "<a href=\"brochures.htm\" title=\"Brochures\">Brochures/ </a>\n",
      "<a href=\"poolrules.htm\" title=\"Pool Rules\">Pool Rules/ </a>\n",
      "<a href=\"ice.htm\" title=\"Ice Page\">Ice/</a>\n",
      "<a href=\"postercontest.htm\" title=\"Poster Contest\">Poster Contest/ </a>\n",
      "<a href=\"souvenirs.htm\" title=\"Souvenir Page\">Souvenirs/ </a>\n",
      "<a href=\"contact.htm\" title=\"Contact Nenana Ice Classic\">Contact/ </a>\n",
      "<a href=\"organization.htm\" title=\"Organization\">Organization/ </a>\n",
      "<a href=\"FAQ.htm\" title=\"Frequently Asked Questions\">FAQ</a>\n",
      "<a href=\"2019.html\">2019</a>\n",
      "<a href=\"2018.html\">2018</a>\n",
      "<a href=\"2017.htm\">2017</a>\n",
      "<a href=\"2016.htm\">2016</a>\n",
      "<a href=\"2015%20Ice.htm\">2015</a>\n",
      "<a href=\"2014.htm\">2014</a>\n",
      "<a href=\"2013.htm\">2013</a>\n",
      "<a href=\"2012.htm\">2012</a>\n",
      "<a href=\"2011.htm\">2011</a>\n",
      "<a href=\"2010.htm\">2010</a>\n",
      "<a href=\"2009.htm\">2009</a>\n",
      "<a href=\"2008.htm\">2008</a>\n",
      "<a href=\"2007.htm\">2007</a>\n",
      "<a href=\"2006.htm\">2006</a>\n",
      "<a href=\"2005.htm\">2005</a>\n",
      "<a href=\"2004.htm\">2004</a>\n",
      "<a href=\"2003.htm\">2003</a>\n",
      "<a href=\"2002.htm\">2002</a>\n",
      "<a href=\"2001.htm\">2001</a>\n",
      "<a href=\"2000.htm\">2000</a>\n",
      "<a href=\"1999.htm\">1999</a>\n",
      "<a href=\"1998.htm\">1998</a>\n",
      "<a href=\"1997.htm\">1997</a>\n",
      "<a href=\"1996.htm\">1996</a>\n",
      "<a href=\"1995.htm\">1995</a>\n",
      "<a href=\"1994.htm\">1994</a>\n",
      "<a href=\"1993.htm\">1993</a>\n",
      "<a href=\"1992.htm\">1992</a>\n",
      "<a href=\"1991.htm\">1991</a>\n",
      "<a href=\"1990.htm\">1990</a>\n",
      "<a href=\"1989.htm\">1989</a>\n",
      "<a href=\"conditions.htm\">ICE CONDITIONS</a>\n"
     ]
    }
   ],
   "source": [
    "for suffix in link_list:\n",
    "    print(suffix)"
   ]
  },
  {
   "cell_type": "code",
   "execution_count": 32,
   "metadata": {},
   "outputs": [
    {
     "name": "stdout",
     "output_type": "stream",
     "text": [
      "CPU times: user 3 µs, sys: 0 ns, total: 3 µs\n",
      "Wall time: 5.96 µs\n"
     ]
    }
   ],
   "source": [
    "%time\n",
    "# options.add_argument('--headless')\n",
    "options = Options()\n",
    "driver = webdriver.Chrome(chrome_path, \n",
    "                      options=options)\n",
    "driver.set_window_size(500,300)\n",
    "# for suffix in link_list[15:19]:\n",
    "for suffix in link_list[10:-1]:\n",
    "    target_url = base_url + suffix['href']\n",
    "    driver.get(target_url)\n",
    "    page_source = driver.page_source\n",
    "    soup = BeautifulSoup(page_source)\n",
    "    tables = soup.findAll('table')\n",
    "    if tables:\n",
    "        row_dict = {}\n",
    "        table = tables[0].prettify()\n",
    "        table_text = pd.read_html(table)[0][0][0]\n",
    "        table_year = table_text[:4]\n",
    "        table_detail = table_text[21:].strip()\n",
    "        line_split = table_detail.split('  ')\n",
    "        for item in line_split:\n",
    "            item_split = item.split(' ')\n",
    "            if item_split[-1] in ['Inches', 'inches']:\n",
    "                ice_depth = item_split[-2]\n",
    "            else:\n",
    "                ice_depth = item_split[-1]\n",
    "            if '-' in item_split[0]:\n",
    "                for item in item_split:\n",
    "                    date_split = item.split('-')\n",
    "                    if len(date_split) > 1:\n",
    "                        if date_split[1] in month_fix:\n",
    "                            item_month = month_fix[date_split[1]]\n",
    "                            item_day = date_split[0]\n",
    "                            if len(item_day) < 2:\n",
    "                                item_day = '0' + item_day\n",
    "                        else:\n",
    "                            print('check: ', date_split)\n",
    "            else:\n",
    "                if item_split[0] in month_fix:\n",
    "                    item_month = month_fix[item_split[0]]\n",
    "                    item_day = item_split[1]\n",
    "                    if len(item_day) < 2:\n",
    "                        item_day = '0' + item_day\n",
    "                    elif len(item_day) > 2:\n",
    "                        dash_split = item_day.split('-')\n",
    "                        item_day = dash_split[0]\n",
    "            ymd = table_year + '-' + item_month + '-' + item_day\n",
    "            row_dict = {'Date' : [ymd], 'Thickness' : [ice_depth]}\n",
    "            ice_thickness_df = ice_thickness_df.append(pd.DataFrame.from_dict(row_dict,\n",
    "                                                                                orient = 'columns'),\n",
    "                                                         ignore_index = True)\n",
    "        pass\n",
    "    else:\n",
    "        row_dict = {}\n",
    "        p_data = soup.findAll('p')\n",
    "        table_year = p_data[0].text\n",
    "        for datum in p_data[1:]:\n",
    "            line_split = datum.text.split('\\n')\n",
    "            for line in line_split:\n",
    "                line = line.strip()\n",
    "                item_split = line.split(' ')\n",
    "                if item_split[0].strip() in month_fix:\n",
    "                    item_month = month_fix[item_split[0].strip()]\n",
    "                    item_day = item_split[1].strip()\n",
    "                    if len(item_day) < 2:\n",
    "                        item_day = '0' + item_day\n",
    "                    elif len(item_day) > 2:\n",
    "                        dash_split = item_day.split('-')\n",
    "                        item_day = dash_split[0]\n",
    "                ymd = table_year.strip() + '-' + item_month + '-' + item_day\n",
    "                if item_split[-1] in ['Inches', 'inches']:\n",
    "                    ice_depth = item_split[-2]\n",
    "                else:\n",
    "                    ice_depth = item_split[-1]\n",
    "                if ymd == '' or ice_depth == '':\n",
    "                    pass\n",
    "                else:\n",
    "                    row_dict = {'Date' : [ymd], 'Thickness' : [ice_depth]}\n",
    "                    ice_thickness_df = ice_thickness_df.append(pd.DataFrame.from_dict(row_dict,\n",
    "                                                                                        orient = 'columns'),\n",
    "                                                                 ignore_index = True)\n",
    "driver.quit()\n",
    "# list for special treatment: 2015, 2013, \n",
    "# 2012 is end of early regime; 2013 starts new regime"
   ]
  },
  {
   "cell_type": "code",
   "execution_count": 33,
   "metadata": {},
   "outputs": [
    {
     "data": {
      "text/html": [
       "<div>\n",
       "<style scoped>\n",
       "    .dataframe tbody tr th:only-of-type {\n",
       "        vertical-align: middle;\n",
       "    }\n",
       "\n",
       "    .dataframe tbody tr th {\n",
       "        vertical-align: top;\n",
       "    }\n",
       "\n",
       "    .dataframe thead th {\n",
       "        text-align: right;\n",
       "    }\n",
       "</style>\n",
       "<table border=\"1\" class=\"dataframe\">\n",
       "  <thead>\n",
       "    <tr style=\"text-align: right;\">\n",
       "      <th></th>\n",
       "      <th>Date</th>\n",
       "      <th>Thickness</th>\n",
       "    </tr>\n",
       "  </thead>\n",
       "  <tbody>\n",
       "    <tr>\n",
       "      <th>0</th>\n",
       "      <td>2019-01-16</td>\n",
       "      <td>16</td>\n",
       "    </tr>\n",
       "    <tr>\n",
       "      <th>1</th>\n",
       "      <td>2019-02-07</td>\n",
       "      <td>16</td>\n",
       "    </tr>\n",
       "    <tr>\n",
       "      <th>2</th>\n",
       "      <td>2019-02-26</td>\n",
       "      <td>23.5</td>\n",
       "    </tr>\n",
       "    <tr>\n",
       "      <th>3</th>\n",
       "      <td>2019-03-04</td>\n",
       "      <td>32.5</td>\n",
       "    </tr>\n",
       "    <tr>\n",
       "      <th>4</th>\n",
       "      <td>2019-03-13</td>\n",
       "      <td>25.7</td>\n",
       "    </tr>\n",
       "    <tr>\n",
       "      <th>958</th>\n",
       "      <td>1989-03-25</td>\n",
       "      <td>40.5</td>\n",
       "    </tr>\n",
       "    <tr>\n",
       "      <th>959</th>\n",
       "      <td>1989-03-28</td>\n",
       "      <td>41.5</td>\n",
       "    </tr>\n",
       "    <tr>\n",
       "      <th>960</th>\n",
       "      <td>1989-04-04</td>\n",
       "      <td>42</td>\n",
       "    </tr>\n",
       "    <tr>\n",
       "      <th>961</th>\n",
       "      <td>1989-04-10</td>\n",
       "      <td>43</td>\n",
       "    </tr>\n",
       "    <tr>\n",
       "      <th>962</th>\n",
       "      <td>1989-04-12</td>\n",
       "      <td>40</td>\n",
       "    </tr>\n",
       "  </tbody>\n",
       "</table>\n",
       "</div>"
      ],
      "text/plain": [
       "           Date Thickness\n",
       "0    2019-01-16        16\n",
       "1    2019-02-07        16\n",
       "2    2019-02-26      23.5\n",
       "3    2019-03-04      32.5\n",
       "4    2019-03-13      25.7\n",
       "958  1989-03-25      40.5\n",
       "959  1989-03-28      41.5\n",
       "960  1989-04-04        42\n",
       "961  1989-04-10        43\n",
       "962  1989-04-12        40"
      ]
     },
     "execution_count": 33,
     "metadata": {},
     "output_type": "execute_result"
    }
   ],
   "source": [
    "ice_thickness_df.head().append(ice_thickness_df.tail())"
   ]
  },
  {
   "cell_type": "code",
   "execution_count": 35,
   "metadata": {},
   "outputs": [],
   "source": [
    "ice_thickness_df.to_csv('../data/raw_ice_thickness_1989-2019.csv', index_label = 'Date')"
   ]
  },
  {
   "cell_type": "code",
   "execution_count": null,
   "metadata": {},
   "outputs": [],
   "source": []
  }
 ],
 "metadata": {
  "kernelspec": {
   "display_name": "Python 3",
   "language": "python",
   "name": "python3"
  },
  "language_info": {
   "codemirror_mode": {
    "name": "ipython",
    "version": 3
   },
   "file_extension": ".py",
   "mimetype": "text/x-python",
   "name": "python",
   "nbconvert_exporter": "python",
   "pygments_lexer": "ipython3",
   "version": "3.6.9"
  }
 },
 "nbformat": 4,
 "nbformat_minor": 4
}
